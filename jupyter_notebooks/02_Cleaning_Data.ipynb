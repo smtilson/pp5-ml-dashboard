{
  "cells": [
    {
      "cell_type": "markdown",
      "metadata": {
        "id": "0aStgWSO0E0E"
      },
      "source": [
        "# **Cleaning the Data**"
      ]
    },
    {
      "cell_type": "markdown",
      "metadata": {
        "id": "1eLEkw5O0ECa"
      },
      "source": [
        "## Objectives\n",
        "\n",
        "* Do initial exploration of data and clean it. There may be some preparation of the data as well.\n",
        "\n",
        "## Inputs\n",
        "\n",
        "* We will require the CSV files obtained in the Data Collection notebook.\n",
        "\n",
        "## Outputs\n",
        "\n",
        "* We will have cleaned versions of several of our CSV files.\n",
        "\n",
        "## Additional Comments\n",
        "\n",
        "* Remember to use Python 3.8.18.\n"
      ]
    },
    {
      "cell_type": "markdown",
      "metadata": {
        "id": "9uWZXH9LwoQg"
      },
      "source": [
        "---"
      ]
    },
    {
      "cell_type": "markdown",
      "metadata": {
        "id": "cqP-UeN-z3i2"
      },
      "source": [
        "# Change working directory"
      ]
    },
    {
      "cell_type": "markdown",
      "metadata": {
        "id": "aOGIGS-uz3i2"
      },
      "source": [
        "We need to change the working directory to the one containing the raw form of the CSV files."
      ]
    },
    {
      "cell_type": "code",
      "execution_count": 1,
      "metadata": {
        "id": "wZfF_j-Bz3i4",
        "outputId": "66943449-1436-4c3d-85c7-b85f9f78349b"
      },
      "outputs": [
        {
          "name": "stdout",
          "output_type": "stream",
          "text": [
            "/workspace/pp5-ml-dashboard\n"
          ]
        }
      ],
      "source": [
        "import os\n",
        "home_dir = '/workspace/pp5-ml-dashboard'\n",
        "csv_dir ='/workspace/pp5-ml-dashboard/outputs/datasets/raw/csv' \n",
        "os.chdir(home_dir)\n",
        "current_dir = os.getcwd()\n",
        "print(current_dir)"
      ]
    },
    {
      "cell_type": "markdown",
      "metadata": {
        "id": "-mavJ8DibrcQ"
      },
      "source": [
        "# Section 1: Initial Exploration"
      ]
    },
    {
      "cell_type": "markdown",
      "metadata": {},
      "source": [
        "We have the following CSV files."
      ]
    },
    {
      "cell_type": "code",
      "execution_count": 2,
      "metadata": {},
      "outputs": [
        {
          "name": "stdout",
          "output_type": "stream",
          "text": [
            "--game.csv\n",
            "--line_score.csv\n",
            "--other_stats.csv\n",
            "--team_history.csv\n",
            "/workspace/pp5-ml-dashboard\n"
          ]
        }
      ],
      "source": [
        "files = os.listdir(csv_dir)\n",
        "for file in files:\n",
        "    print(f\"--{file}\")\n",
        "print(current_dir)"
      ]
    },
    {
      "cell_type": "markdown",
      "metadata": {},
      "source": [
        "In the future, we may perform more extensive analysis which takes into account some of the data in the other CSV files. For the time being, these 4 files will be more than enough. (Probably too much even.)\n",
        "\n",
        "First, let's look at what columns we have in `games.csv`. \n",
        "\n",
        "Note: The utility function `get_df` doesn't require the file extension and the default directory is the one containing the csv files."
      ]
    },
    {
      "cell_type": "code",
      "execution_count": 3,
      "metadata": {},
      "outputs": [
        {
          "name": "stdout",
          "output_type": "stream",
          "text": [
            "(65698, 55)\n"
          ]
        },
        {
          "data": {
            "text/html": [
              "<div>\n",
              "<style scoped>\n",
              "    .dataframe tbody tr th:only-of-type {\n",
              "        vertical-align: middle;\n",
              "    }\n",
              "\n",
              "    .dataframe tbody tr th {\n",
              "        vertical-align: top;\n",
              "    }\n",
              "\n",
              "    .dataframe thead th {\n",
              "        text-align: right;\n",
              "    }\n",
              "</style>\n",
              "<table border=\"1\" class=\"dataframe\">\n",
              "  <thead>\n",
              "    <tr style=\"text-align: right;\">\n",
              "      <th></th>\n",
              "      <th>season_id</th>\n",
              "      <th>team_id_home</th>\n",
              "      <th>team_abbreviation_home</th>\n",
              "      <th>team_name_home</th>\n",
              "      <th>game_id</th>\n",
              "      <th>game_date</th>\n",
              "      <th>matchup_home</th>\n",
              "      <th>wl_home</th>\n",
              "      <th>min</th>\n",
              "      <th>fgm_home</th>\n",
              "      <th>...</th>\n",
              "      <th>reb_away</th>\n",
              "      <th>ast_away</th>\n",
              "      <th>stl_away</th>\n",
              "      <th>blk_away</th>\n",
              "      <th>tov_away</th>\n",
              "      <th>pf_away</th>\n",
              "      <th>pts_away</th>\n",
              "      <th>plus_minus_away</th>\n",
              "      <th>video_available_away</th>\n",
              "      <th>season_type</th>\n",
              "    </tr>\n",
              "  </thead>\n",
              "  <tbody>\n",
              "    <tr>\n",
              "      <th>0</th>\n",
              "      <td>21946</td>\n",
              "      <td>1610610035</td>\n",
              "      <td>HUS</td>\n",
              "      <td>Toronto Huskies</td>\n",
              "      <td>24600001</td>\n",
              "      <td>1946-11-01 00:00:00</td>\n",
              "      <td>HUS vs. NYK</td>\n",
              "      <td>L</td>\n",
              "      <td>0</td>\n",
              "      <td>25.0</td>\n",
              "      <td>...</td>\n",
              "      <td>NaN</td>\n",
              "      <td>NaN</td>\n",
              "      <td>NaN</td>\n",
              "      <td>NaN</td>\n",
              "      <td>NaN</td>\n",
              "      <td>NaN</td>\n",
              "      <td>68.0</td>\n",
              "      <td>2</td>\n",
              "      <td>0</td>\n",
              "      <td>Regular Season</td>\n",
              "    </tr>\n",
              "    <tr>\n",
              "      <th>1</th>\n",
              "      <td>21946</td>\n",
              "      <td>1610610034</td>\n",
              "      <td>BOM</td>\n",
              "      <td>St. Louis Bombers</td>\n",
              "      <td>24600003</td>\n",
              "      <td>1946-11-02 00:00:00</td>\n",
              "      <td>BOM vs. PIT</td>\n",
              "      <td>W</td>\n",
              "      <td>0</td>\n",
              "      <td>20.0</td>\n",
              "      <td>...</td>\n",
              "      <td>NaN</td>\n",
              "      <td>NaN</td>\n",
              "      <td>NaN</td>\n",
              "      <td>NaN</td>\n",
              "      <td>NaN</td>\n",
              "      <td>25.0</td>\n",
              "      <td>51.0</td>\n",
              "      <td>-5</td>\n",
              "      <td>0</td>\n",
              "      <td>Regular Season</td>\n",
              "    </tr>\n",
              "    <tr>\n",
              "      <th>2</th>\n",
              "      <td>21946</td>\n",
              "      <td>1610610032</td>\n",
              "      <td>PRO</td>\n",
              "      <td>Providence Steamrollers</td>\n",
              "      <td>24600002</td>\n",
              "      <td>1946-11-02 00:00:00</td>\n",
              "      <td>PRO vs. BOS</td>\n",
              "      <td>W</td>\n",
              "      <td>0</td>\n",
              "      <td>21.0</td>\n",
              "      <td>...</td>\n",
              "      <td>NaN</td>\n",
              "      <td>NaN</td>\n",
              "      <td>NaN</td>\n",
              "      <td>NaN</td>\n",
              "      <td>NaN</td>\n",
              "      <td>NaN</td>\n",
              "      <td>53.0</td>\n",
              "      <td>-6</td>\n",
              "      <td>0</td>\n",
              "      <td>Regular Season</td>\n",
              "    </tr>\n",
              "    <tr>\n",
              "      <th>3</th>\n",
              "      <td>21946</td>\n",
              "      <td>1610610025</td>\n",
              "      <td>CHS</td>\n",
              "      <td>Chicago Stags</td>\n",
              "      <td>24600004</td>\n",
              "      <td>1946-11-02 00:00:00</td>\n",
              "      <td>CHS vs. NYK</td>\n",
              "      <td>W</td>\n",
              "      <td>0</td>\n",
              "      <td>21.0</td>\n",
              "      <td>...</td>\n",
              "      <td>NaN</td>\n",
              "      <td>NaN</td>\n",
              "      <td>NaN</td>\n",
              "      <td>NaN</td>\n",
              "      <td>NaN</td>\n",
              "      <td>22.0</td>\n",
              "      <td>47.0</td>\n",
              "      <td>-16</td>\n",
              "      <td>0</td>\n",
              "      <td>Regular Season</td>\n",
              "    </tr>\n",
              "    <tr>\n",
              "      <th>4</th>\n",
              "      <td>21946</td>\n",
              "      <td>1610610028</td>\n",
              "      <td>DEF</td>\n",
              "      <td>Detroit Falcons</td>\n",
              "      <td>24600005</td>\n",
              "      <td>1946-11-02 00:00:00</td>\n",
              "      <td>DEF vs. WAS</td>\n",
              "      <td>L</td>\n",
              "      <td>0</td>\n",
              "      <td>10.0</td>\n",
              "      <td>...</td>\n",
              "      <td>NaN</td>\n",
              "      <td>NaN</td>\n",
              "      <td>NaN</td>\n",
              "      <td>NaN</td>\n",
              "      <td>NaN</td>\n",
              "      <td>NaN</td>\n",
              "      <td>50.0</td>\n",
              "      <td>17</td>\n",
              "      <td>0</td>\n",
              "      <td>Regular Season</td>\n",
              "    </tr>\n",
              "  </tbody>\n",
              "</table>\n",
              "<p>5 rows × 55 columns</p>\n",
              "</div>"
            ],
            "text/plain": [
              "   season_id  team_id_home team_abbreviation_home           team_name_home  \\\n",
              "0      21946    1610610035                    HUS          Toronto Huskies   \n",
              "1      21946    1610610034                    BOM        St. Louis Bombers   \n",
              "2      21946    1610610032                    PRO  Providence Steamrollers   \n",
              "3      21946    1610610025                    CHS            Chicago Stags   \n",
              "4      21946    1610610028                    DEF          Detroit Falcons   \n",
              "\n",
              "    game_id            game_date matchup_home wl_home  min  fgm_home  ...  \\\n",
              "0  24600001  1946-11-01 00:00:00  HUS vs. NYK       L    0      25.0  ...   \n",
              "1  24600003  1946-11-02 00:00:00  BOM vs. PIT       W    0      20.0  ...   \n",
              "2  24600002  1946-11-02 00:00:00  PRO vs. BOS       W    0      21.0  ...   \n",
              "3  24600004  1946-11-02 00:00:00  CHS vs. NYK       W    0      21.0  ...   \n",
              "4  24600005  1946-11-02 00:00:00  DEF vs. WAS       L    0      10.0  ...   \n",
              "\n",
              "   reb_away  ast_away  stl_away  blk_away  tov_away  pf_away  pts_away  \\\n",
              "0       NaN       NaN       NaN       NaN       NaN      NaN      68.0   \n",
              "1       NaN       NaN       NaN       NaN       NaN     25.0      51.0   \n",
              "2       NaN       NaN       NaN       NaN       NaN      NaN      53.0   \n",
              "3       NaN       NaN       NaN       NaN       NaN     22.0      47.0   \n",
              "4       NaN       NaN       NaN       NaN       NaN      NaN      50.0   \n",
              "\n",
              "   plus_minus_away  video_available_away     season_type  \n",
              "0                2                     0  Regular Season  \n",
              "1               -5                     0  Regular Season  \n",
              "2               -6                     0  Regular Season  \n",
              "3              -16                     0  Regular Season  \n",
              "4               17                     0  Regular Season  \n",
              "\n",
              "[5 rows x 55 columns]"
            ]
          },
          "execution_count": 3,
          "metadata": {},
          "output_type": "execute_result"
        }
      ],
      "source": [
        "import pandas as pd\n",
        "from src.utils import get_df, get_info_df, info_dtype_dict\n",
        "\n",
        "game_df = get_df('game')\n",
        "print(game_df.shape)\n",
        "game_df.head()"
      ]
    },
    {
      "cell_type": "markdown",
      "metadata": {},
      "source": [
        "These games in the first few rows are very old. One consequence of this is that many of the common statistics of today were not tracked. One way to address this would be to impute the values, but the game of basketball evolved dramatically and so using the mean would not be very reflective of the actual game. We are missing a lot of data in these rows and so we will drop them. After all, the data frame contains data for approximately 65 thousand games.\n",
        "\n",
        "Let's look at what columns are present."
      ]
    },
    {
      "cell_type": "code",
      "execution_count": 4,
      "metadata": {},
      "outputs": [
        {
          "data": {
            "text/plain": [
              "Index(['season_id', 'team_id_home', 'team_abbreviation_home', 'team_name_home',\n",
              "       'game_id', 'game_date', 'matchup_home', 'wl_home', 'min', 'fgm_home',\n",
              "       'fga_home', 'fg_pct_home', 'fg3m_home', 'fg3a_home', 'fg3_pct_home',\n",
              "       'ftm_home', 'fta_home', 'ft_pct_home', 'oreb_home', 'dreb_home',\n",
              "       'reb_home', 'ast_home', 'stl_home', 'blk_home', 'tov_home', 'pf_home',\n",
              "       'pts_home', 'plus_minus_home', 'video_available_home', 'team_id_away',\n",
              "       'team_abbreviation_away', 'team_name_away', 'matchup_away', 'wl_away',\n",
              "       'fgm_away', 'fga_away', 'fg_pct_away', 'fg3m_away', 'fg3a_away',\n",
              "       'fg3_pct_away', 'ftm_away', 'fta_away', 'ft_pct_away', 'oreb_away',\n",
              "       'dreb_away', 'reb_away', 'ast_away', 'stl_away', 'blk_away', 'tov_away',\n",
              "       'pf_away', 'pts_away', 'plus_minus_away', 'video_available_away',\n",
              "       'season_type'],\n",
              "      dtype='object')"
            ]
          },
          "execution_count": 4,
          "metadata": {},
          "output_type": "execute_result"
        }
      ],
      "source": [
        "game_df.columns"
      ]
    },
    {
      "cell_type": "markdown",
      "metadata": {},
      "source": [
        "Many of these columns are redundant categorical data. For example:\n",
        "- team_abbreviation_home\n",
        "- team_name_home\n",
        "- matchup_home\n",
        "- video_available_home\n",
        "\n",
        "as well as the away team versions, are not statistics that are relevant to what happened during the game. The team name even provides less information than expected as the name has changed over time, but the team_id does not.\n",
        "# Attention\n",
        "To Sean: did I actually do the below? or am I doing this? Edit this section appropriately nearer to the end of the project.\n",
        "This is why we have kept the `team_history.csv` file, so that we can see what the team name is at various points in history. We could also keep the name columns and drop them at the last moment.\n",
        "\n",
        "Also, we can drop any percentage based statistic as it will be completely determined by other features. For example, the columns `fg3m_home` and `fg3a_home` completely determine `fg3_pct_home`. So we will also remove any column containing the string `'_pct_'` in it."
      ]
    },
    {
      "cell_type": "code",
      "execution_count": 5,
      "metadata": {},
      "outputs": [],
      "source": [
        "game_drop_features = ['team_name_home','team_abbreviation_home','team_abbreviation_away','team_name_away','video_available_home','video_available_away', 'matchup_home','matchup_away']\n",
        "pct_columns = [col for col in game_df.columns if '_pct_' in col]\n",
        "game_drop_features.extend(pct_columns)"
      ]
    },
    {
      "cell_type": "markdown",
      "metadata": {},
      "source": [
        "Consider the column `season_type`. It has the following unique values."
      ]
    },
    {
      "cell_type": "code",
      "execution_count": 6,
      "metadata": {},
      "outputs": [
        {
          "data": {
            "text/plain": [
              "array(['Regular Season', 'Playoffs', 'All-Star', 'All Star', 'Pre Season'],\n",
              "      dtype=object)"
            ]
          },
          "execution_count": 6,
          "metadata": {},
          "output_type": "execute_result"
        }
      ],
      "source": [
        "game_df['season_type'].unique()"
      ]
    },
    {
      "cell_type": "markdown",
      "metadata": {},
      "source": [
        "Clearly, the All-Star games are out of place and don't represent a standard competition. Furthermore, the respective teams only play one game a season. Statistically, the number of games is negligible when compared to our the 1230 games played during the regular season."
      ]
    },
    {
      "cell_type": "code",
      "execution_count": 7,
      "metadata": {},
      "outputs": [
        {
          "name": "stdout",
          "output_type": "stream",
          "text": [
            "128\n"
          ]
        }
      ],
      "source": [
        "all_star_games = game_df.query('season_type in [\"All-Star\", \"All Star\"]')\n",
        "print(all_star_games.shape[0])\n",
        "game_df = game_df.query('season_type != \"All-Star\"')\n",
        "game_df = game_df.query('season_type != \"All Star\"')\n"
      ]
    },
    {
      "cell_type": "markdown",
      "metadata": {},
      "source": [
        "There are also preseason games. These are sometimes played with teams outside of the league. Many veterans don't take the games seriously. It is also the case that there are exhibition matches with non-NBA teams that take place. So we remove these games from the dataset as well."
      ]
    },
    {
      "cell_type": "code",
      "execution_count": 8,
      "metadata": {},
      "outputs": [
        {
          "name": "stdout",
          "output_type": "stream",
          "text": [
            "1536\n"
          ]
        }
      ],
      "source": [
        "preseason = game_df.query('season_type == \"Pre Season\"')\n",
        "print(preseason.shape[0])\n",
        "preseason.team_name_away.unique()\n",
        "game_df = game_df.query('season_type != \"Pre Season\"')"
      ]
    },
    {
      "cell_type": "markdown",
      "metadata": {},
      "source": [
        "We are primarily interested in Regular Season games, but we will leave the Play off games in for the time being."
      ]
    },
    {
      "cell_type": "markdown",
      "metadata": {},
      "source": [
        "Let's look back at the head of `game_df`."
      ]
    },
    {
      "cell_type": "code",
      "execution_count": 9,
      "metadata": {},
      "outputs": [
        {
          "data": {
            "text/html": [
              "<div>\n",
              "<style scoped>\n",
              "    .dataframe tbody tr th:only-of-type {\n",
              "        vertical-align: middle;\n",
              "    }\n",
              "\n",
              "    .dataframe tbody tr th {\n",
              "        vertical-align: top;\n",
              "    }\n",
              "\n",
              "    .dataframe thead th {\n",
              "        text-align: right;\n",
              "    }\n",
              "</style>\n",
              "<table border=\"1\" class=\"dataframe\">\n",
              "  <thead>\n",
              "    <tr style=\"text-align: right;\">\n",
              "      <th></th>\n",
              "      <th>season_id</th>\n",
              "      <th>team_id_home</th>\n",
              "      <th>team_abbreviation_home</th>\n",
              "      <th>team_name_home</th>\n",
              "      <th>game_id</th>\n",
              "      <th>game_date</th>\n",
              "      <th>matchup_home</th>\n",
              "      <th>wl_home</th>\n",
              "      <th>min</th>\n",
              "      <th>fgm_home</th>\n",
              "      <th>...</th>\n",
              "      <th>reb_away</th>\n",
              "      <th>ast_away</th>\n",
              "      <th>stl_away</th>\n",
              "      <th>blk_away</th>\n",
              "      <th>tov_away</th>\n",
              "      <th>pf_away</th>\n",
              "      <th>pts_away</th>\n",
              "      <th>plus_minus_away</th>\n",
              "      <th>video_available_away</th>\n",
              "      <th>season_type</th>\n",
              "    </tr>\n",
              "  </thead>\n",
              "  <tbody>\n",
              "    <tr>\n",
              "      <th>0</th>\n",
              "      <td>21946</td>\n",
              "      <td>1610610035</td>\n",
              "      <td>HUS</td>\n",
              "      <td>Toronto Huskies</td>\n",
              "      <td>24600001</td>\n",
              "      <td>1946-11-01 00:00:00</td>\n",
              "      <td>HUS vs. NYK</td>\n",
              "      <td>L</td>\n",
              "      <td>0</td>\n",
              "      <td>25.0</td>\n",
              "      <td>...</td>\n",
              "      <td>NaN</td>\n",
              "      <td>NaN</td>\n",
              "      <td>NaN</td>\n",
              "      <td>NaN</td>\n",
              "      <td>NaN</td>\n",
              "      <td>NaN</td>\n",
              "      <td>68.0</td>\n",
              "      <td>2</td>\n",
              "      <td>0</td>\n",
              "      <td>Regular Season</td>\n",
              "    </tr>\n",
              "    <tr>\n",
              "      <th>1</th>\n",
              "      <td>21946</td>\n",
              "      <td>1610610034</td>\n",
              "      <td>BOM</td>\n",
              "      <td>St. Louis Bombers</td>\n",
              "      <td>24600003</td>\n",
              "      <td>1946-11-02 00:00:00</td>\n",
              "      <td>BOM vs. PIT</td>\n",
              "      <td>W</td>\n",
              "      <td>0</td>\n",
              "      <td>20.0</td>\n",
              "      <td>...</td>\n",
              "      <td>NaN</td>\n",
              "      <td>NaN</td>\n",
              "      <td>NaN</td>\n",
              "      <td>NaN</td>\n",
              "      <td>NaN</td>\n",
              "      <td>25.0</td>\n",
              "      <td>51.0</td>\n",
              "      <td>-5</td>\n",
              "      <td>0</td>\n",
              "      <td>Regular Season</td>\n",
              "    </tr>\n",
              "    <tr>\n",
              "      <th>2</th>\n",
              "      <td>21946</td>\n",
              "      <td>1610610032</td>\n",
              "      <td>PRO</td>\n",
              "      <td>Providence Steamrollers</td>\n",
              "      <td>24600002</td>\n",
              "      <td>1946-11-02 00:00:00</td>\n",
              "      <td>PRO vs. BOS</td>\n",
              "      <td>W</td>\n",
              "      <td>0</td>\n",
              "      <td>21.0</td>\n",
              "      <td>...</td>\n",
              "      <td>NaN</td>\n",
              "      <td>NaN</td>\n",
              "      <td>NaN</td>\n",
              "      <td>NaN</td>\n",
              "      <td>NaN</td>\n",
              "      <td>NaN</td>\n",
              "      <td>53.0</td>\n",
              "      <td>-6</td>\n",
              "      <td>0</td>\n",
              "      <td>Regular Season</td>\n",
              "    </tr>\n",
              "    <tr>\n",
              "      <th>3</th>\n",
              "      <td>21946</td>\n",
              "      <td>1610610025</td>\n",
              "      <td>CHS</td>\n",
              "      <td>Chicago Stags</td>\n",
              "      <td>24600004</td>\n",
              "      <td>1946-11-02 00:00:00</td>\n",
              "      <td>CHS vs. NYK</td>\n",
              "      <td>W</td>\n",
              "      <td>0</td>\n",
              "      <td>21.0</td>\n",
              "      <td>...</td>\n",
              "      <td>NaN</td>\n",
              "      <td>NaN</td>\n",
              "      <td>NaN</td>\n",
              "      <td>NaN</td>\n",
              "      <td>NaN</td>\n",
              "      <td>22.0</td>\n",
              "      <td>47.0</td>\n",
              "      <td>-16</td>\n",
              "      <td>0</td>\n",
              "      <td>Regular Season</td>\n",
              "    </tr>\n",
              "    <tr>\n",
              "      <th>4</th>\n",
              "      <td>21946</td>\n",
              "      <td>1610610028</td>\n",
              "      <td>DEF</td>\n",
              "      <td>Detroit Falcons</td>\n",
              "      <td>24600005</td>\n",
              "      <td>1946-11-02 00:00:00</td>\n",
              "      <td>DEF vs. WAS</td>\n",
              "      <td>L</td>\n",
              "      <td>0</td>\n",
              "      <td>10.0</td>\n",
              "      <td>...</td>\n",
              "      <td>NaN</td>\n",
              "      <td>NaN</td>\n",
              "      <td>NaN</td>\n",
              "      <td>NaN</td>\n",
              "      <td>NaN</td>\n",
              "      <td>NaN</td>\n",
              "      <td>50.0</td>\n",
              "      <td>17</td>\n",
              "      <td>0</td>\n",
              "      <td>Regular Season</td>\n",
              "    </tr>\n",
              "  </tbody>\n",
              "</table>\n",
              "<p>5 rows × 55 columns</p>\n",
              "</div>"
            ],
            "text/plain": [
              "   season_id  team_id_home team_abbreviation_home           team_name_home  \\\n",
              "0      21946    1610610035                    HUS          Toronto Huskies   \n",
              "1      21946    1610610034                    BOM        St. Louis Bombers   \n",
              "2      21946    1610610032                    PRO  Providence Steamrollers   \n",
              "3      21946    1610610025                    CHS            Chicago Stags   \n",
              "4      21946    1610610028                    DEF          Detroit Falcons   \n",
              "\n",
              "    game_id            game_date matchup_home wl_home  min  fgm_home  ...  \\\n",
              "0  24600001  1946-11-01 00:00:00  HUS vs. NYK       L    0      25.0  ...   \n",
              "1  24600003  1946-11-02 00:00:00  BOM vs. PIT       W    0      20.0  ...   \n",
              "2  24600002  1946-11-02 00:00:00  PRO vs. BOS       W    0      21.0  ...   \n",
              "3  24600004  1946-11-02 00:00:00  CHS vs. NYK       W    0      21.0  ...   \n",
              "4  24600005  1946-11-02 00:00:00  DEF vs. WAS       L    0      10.0  ...   \n",
              "\n",
              "   reb_away  ast_away  stl_away  blk_away  tov_away  pf_away  pts_away  \\\n",
              "0       NaN       NaN       NaN       NaN       NaN      NaN      68.0   \n",
              "1       NaN       NaN       NaN       NaN       NaN     25.0      51.0   \n",
              "2       NaN       NaN       NaN       NaN       NaN      NaN      53.0   \n",
              "3       NaN       NaN       NaN       NaN       NaN     22.0      47.0   \n",
              "4       NaN       NaN       NaN       NaN       NaN      NaN      50.0   \n",
              "\n",
              "   plus_minus_away  video_available_away     season_type  \n",
              "0                2                     0  Regular Season  \n",
              "1               -5                     0  Regular Season  \n",
              "2               -6                     0  Regular Season  \n",
              "3              -16                     0  Regular Season  \n",
              "4               17                     0  Regular Season  \n",
              "\n",
              "[5 rows x 55 columns]"
            ]
          },
          "execution_count": 9,
          "metadata": {},
          "output_type": "execute_result"
        }
      ],
      "source": [
        "game_df.head()"
      ]
    },
    {
      "cell_type": "markdown",
      "metadata": {},
      "source": [
        "A lot of basic statistics, such as rebounds, are missing. Recall that the 3-point line wasn't introduced until 1979. The game of basketball has changed over the years. However, it probably changed most dramatically when it absorbed the ABA. Therefore, we will only consider games after the merger. \n",
        "# Attention\n",
        "Or will I also get rid of games before the 3-point line. I don't think it is so crazy. It could be interesting to consider both. Then imputation will be slightly interesting as well."
      ]
    },
    {
      "cell_type": "code",
      "execution_count": 10,
      "metadata": {},
      "outputs": [
        {
          "name": "stdout",
          "output_type": "stream",
          "text": [
            "(64034, 58)\n",
            "(64034, 58)\n",
            "<class 'pandas.core.frame.DataFrame'>\n",
            "Int64Index: 64034 entries, 0 to 65695\n",
            "Data columns (total 58 columns):\n",
            " #   Column                  Non-Null Count  Dtype  \n",
            "---  ------                  --------------  -----  \n",
            " 0   season_id               64034 non-null  int64  \n",
            " 1   team_id_home            64034 non-null  int64  \n",
            " 2   team_abbreviation_home  64034 non-null  object \n",
            " 3   team_name_home          64034 non-null  object \n",
            " 4   game_id                 64034 non-null  int64  \n",
            " 5   game_date               64034 non-null  object \n",
            " 6   matchup_home            64034 non-null  object \n",
            " 7   wl_home                 64034 non-null  object \n",
            " 8   min                     64034 non-null  int64  \n",
            " 9   fgm_home                64021 non-null  float64\n",
            " 10  fga_home                48587 non-null  float64\n",
            " 11  fg_pct_home             48544 non-null  float64\n",
            " 12  fg3m_home               50867 non-null  float64\n",
            " 13  fg3a_home               45402 non-null  float64\n",
            " 14  fg3_pct_home            45013 non-null  float64\n",
            " 15  ftm_home                64018 non-null  float64\n",
            " 16  fta_home                61030 non-null  float64\n",
            " 17  ft_pct_home             61027 non-null  float64\n",
            " 18  oreb_home               45140 non-null  float64\n",
            " 19  dreb_home               45077 non-null  float64\n",
            " 20  reb_home                48305 non-null  float64\n",
            " 21  ast_home                48229 non-null  float64\n",
            " 22  stl_home                45227 non-null  float64\n",
            " 23  blk_home                45450 non-null  float64\n",
            " 24  tov_home                45398 non-null  float64\n",
            " 25  pf_home                 61178 non-null  float64\n",
            " 26  pts_home                64034 non-null  float64\n",
            " 27  plus_minus_home         64034 non-null  int64  \n",
            " 28  video_available_home    64034 non-null  int64  \n",
            " 29  team_id_away            64034 non-null  int64  \n",
            " 30  team_abbreviation_away  64034 non-null  object \n",
            " 31  team_name_away          64034 non-null  object \n",
            " 32  matchup_away            64034 non-null  object \n",
            " 33  wl_away                 64034 non-null  object \n",
            " 34  fgm_away                64021 non-null  float64\n",
            " 35  fga_away                48587 non-null  float64\n",
            " 36  fg_pct_away             48545 non-null  float64\n",
            " 37  fg3m_away               50867 non-null  float64\n",
            " 38  fg3a_away               45402 non-null  float64\n",
            " 39  fg3_pct_away            45124 non-null  float64\n",
            " 40  ftm_away                64021 non-null  float64\n",
            " 41  fta_away                61030 non-null  float64\n",
            " 42  ft_pct_away             61029 non-null  float64\n",
            " 43  oreb_away               45140 non-null  float64\n",
            " 44  dreb_away               45078 non-null  float64\n",
            " 45  reb_away                48309 non-null  float64\n",
            " 46  ast_away                48233 non-null  float64\n",
            " 47  stl_away                45227 non-null  float64\n",
            " 48  blk_away                45451 non-null  float64\n",
            " 49  tov_away                45397 non-null  float64\n",
            " 50  pf_away                 61183 non-null  float64\n",
            " 51  pts_away                64034 non-null  float64\n",
            " 52  plus_minus_away         64034 non-null  int64  \n",
            " 53  video_available_away    64034 non-null  int64  \n",
            " 54  season_type             64034 non-null  object \n",
            " 55  Day                     64034 non-null  int64  \n",
            " 56  Month                   64034 non-null  int64  \n",
            " 57  Year                    64034 non-null  int64  \n",
            "dtypes: float64(36), int64(12), object(10)\n",
            "memory usage: 28.8+ MB\n"
          ]
        }
      ],
      "source": [
        "from src.utils import add_cat_date\n",
        "\n",
        "game_df = add_cat_date(game_df,'game_date')\n",
        "print(game_df.shape)\n",
        "game_df_after_1975 = game_df.query('Year >= 1975')\n",
        "print(game_df.shape)\n",
        "game_df.info()"
      ]
    },
    {
      "cell_type": "code",
      "execution_count": 20,
      "metadata": {},
      "outputs": [
        {
          "name": "stdout",
          "output_type": "stream",
          "text": [
            "['Boston Celtics' 'Portland Trail Blazers' 'Golden State Warriors'\n",
            " 'Washington Bullets' 'Detroit Pistons' 'Chicago Bulls'\n",
            " 'San Antonio Spurs' 'Cleveland Cavaliers' 'Philadelphia 76ers'\n",
            " 'Houston Rockets' 'Los Angeles Lakers' 'Denver Nuggets' 'New York Knicks'\n",
            " 'Milwaukee Bucks' 'Phoenix Suns' 'Indiana Pacers' 'Buffalo Braves'\n",
            " 'New Orleans Jazz' 'New Jersey Nets' 'Kansas City Kings'\n",
            " 'Seattle SuperSonics' 'Atlanta Hawks']\n"
          ]
        }
      ],
      "source": [
        "test_for_aba = game_df.query('Year == 1977')\n",
        "teams = test_for_aba['team_name_home'].unique()\n",
        "print(teams)"
      ]
    },
    {
      "cell_type": "markdown",
      "metadata": {},
      "source": [
        "We are finally ready to remove the columns discussed above."
      ]
    },
    {
      "cell_type": "code",
      "execution_count": 12,
      "metadata": {},
      "outputs": [
        {
          "data": {
            "text/plain": [
              "'try:\\n    game_df.drop(labels=game_drop_features, axis=1, inplace=True)\\nexcept Exception as e:\\n    print(str(e))\\nelse:\\n    print(\"The columns have been successfully removed.\")\\n'"
            ]
          },
          "execution_count": 12,
          "metadata": {},
          "output_type": "execute_result"
        }
      ],
      "source": [
        "'''try:\n",
        "    game_df.drop(labels=game_drop_features, axis=1, inplace=True)\n",
        "except Exception as e:\n",
        "    print(str(e))\n",
        "else:\n",
        "    print(\"The columns have been successfully removed.\")\n",
        "'''"
      ]
    },
    {
      "cell_type": "markdown",
      "metadata": {
        "id": "ZY3l0-AxO93d"
      },
      "source": [
        "---"
      ]
    },
    {
      "cell_type": "markdown",
      "metadata": {
        "id": "uFQo3ycuO-v6"
      },
      "source": [
        "# Section 2"
      ]
    },
    {
      "cell_type": "markdown",
      "metadata": {},
      "source": [
        "Section 2 content"
      ]
    },
    {
      "cell_type": "code",
      "execution_count": null,
      "metadata": {},
      "outputs": [],
      "source": []
    },
    {
      "cell_type": "markdown",
      "metadata": {},
      "source": [
        "---"
      ]
    },
    {
      "cell_type": "markdown",
      "metadata": {},
      "source": [
        "NOTE"
      ]
    },
    {
      "cell_type": "markdown",
      "metadata": {},
      "source": [
        "* You may add as many sections as you want, as long as it supports your project workflow.\n",
        "* All notebook's cells should be run top-down (you can't create a dynamic wherein a given point you need to go back to a previous cell to execute some task, like go back to a previous cell and refresh a variable content)"
      ]
    },
    {
      "cell_type": "markdown",
      "metadata": {},
      "source": [
        "---"
      ]
    },
    {
      "cell_type": "markdown",
      "metadata": {
        "id": "ltNetd085qHf"
      },
      "source": [
        "# Push files to Repo"
      ]
    },
    {
      "cell_type": "markdown",
      "metadata": {},
      "source": [
        "* In case you don't need to push files to Repo, you may replace this section with \"Conclusions and Next Steps\" and state your conclusions and next steps."
      ]
    },
    {
      "cell_type": "code",
      "execution_count": 13,
      "metadata": {
        "id": "aKlnIozA4eQO",
        "outputId": "fd09bc1f-adb1-4511-f6ce-492a6af570c0"
      },
      "outputs": [
        {
          "ename": "IndentationError",
          "evalue": "expected an indented block (2852421808.py, line 5)",
          "output_type": "error",
          "traceback": [
            "\u001b[0;36m  Cell \u001b[0;32mIn[13], line 5\u001b[0;36m\u001b[0m\n\u001b[0;31m    except Exception as e:\u001b[0m\n\u001b[0m    ^\u001b[0m\n\u001b[0;31mIndentationError\u001b[0m\u001b[0;31m:\u001b[0m expected an indented block\n"
          ]
        }
      ],
      "source": [
        "import os\n",
        "try:\n",
        "  # create here your folder\n",
        "  # os.makedirs(name='')\n",
        "except Exception as e:\n",
        "  print(e)\n"
      ]
    }
  ],
  "metadata": {
    "accelerator": "GPU",
    "colab": {
      "name": "Data Practitioner Jupyter Notebook.ipynb",
      "provenance": [],
      "toc_visible": true
    },
    "interpreter": {
      "hash": "8b8334dab9339717f727a1deaf837b322d7a41c20d15cc86be99a8e69ceec8ce"
    },
    "kernelspec": {
      "display_name": "Python 3.8.12 64-bit ('3.8.12': pyenv)",
      "name": "python3"
    },
    "language_info": {
      "codemirror_mode": {
        "name": "ipython",
        "version": 3
      },
      "file_extension": ".py",
      "mimetype": "text/x-python",
      "name": "python",
      "nbconvert_exporter": "python",
      "pygments_lexer": "ipython3",
      "version": "3.8.18"
    },
    "orig_nbformat": 2
  },
  "nbformat": 4,
  "nbformat_minor": 2
}
