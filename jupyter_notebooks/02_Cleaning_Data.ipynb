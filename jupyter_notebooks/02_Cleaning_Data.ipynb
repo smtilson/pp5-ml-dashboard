{
  "cells": [
    {
      "cell_type": "markdown",
      "metadata": {
        "id": "0aStgWSO0E0E"
      },
      "source": [
        "# **Cleaning the Data**"
      ]
    },
    {
      "cell_type": "markdown",
      "metadata": {
        "id": "1eLEkw5O0ECa"
      },
      "source": [
        "## Objectives\n",
        "\n",
        "* Do initial exploration of data and clean it. There may be some preparation of the data as well.\n",
        "\n",
        "## Inputs\n",
        "\n",
        "* We will require the CSV files obtained in the Data Collection notebook.\n",
        "\n",
        "## Outputs\n",
        "\n",
        "* We will have cleaned versions of several of our CSV files.\n",
        "\n",
        "## Additional Comments\n",
        "\n",
        "* Remember to use Python 3.8.18.\n"
      ]
    },
    {
      "cell_type": "markdown",
      "metadata": {
        "id": "9uWZXH9LwoQg"
      },
      "source": [
        "---"
      ]
    },
    {
      "cell_type": "markdown",
      "metadata": {
        "id": "cqP-UeN-z3i2"
      },
      "source": [
        "# Change working directory"
      ]
    },
    {
      "cell_type": "markdown",
      "metadata": {
        "id": "aOGIGS-uz3i2"
      },
      "source": [
        "We need to change the working directory to the one containing the raw form of the CSV files."
      ]
    },
    {
      "cell_type": "code",
      "execution_count": 2,
      "metadata": {
        "id": "wZfF_j-Bz3i4",
        "outputId": "66943449-1436-4c3d-85c7-b85f9f78349b"
      },
      "outputs": [
        {
          "name": "stdout",
          "output_type": "stream",
          "text": [
            "/workspace/pp5-ml-dashboard\n"
          ]
        }
      ],
      "source": [
        "import os\n",
        "home_dir = '/workspace/pp5-ml-dashboard'\n",
        "csv_dir ='/workspace/pp5-ml-dashboard/outputs/datasets/raw/csv' \n",
        "os.chdir(home_dir)\n",
        "current_dir = os.getcwd()\n",
        "print(current_dir)"
      ]
    },
    {
      "cell_type": "markdown",
      "metadata": {
        "id": "-mavJ8DibrcQ"
      },
      "source": [
        "# Section 1: Exploring the columns of `game.csv`"
      ]
    },
    {
      "cell_type": "markdown",
      "metadata": {},
      "source": [
        "We have the following CSV files."
      ]
    },
    {
      "cell_type": "code",
      "execution_count": 3,
      "metadata": {},
      "outputs": [
        {
          "name": "stdout",
          "output_type": "stream",
          "text": [
            "--game.csv\n",
            "--line_score.csv\n",
            "--other_stats.csv\n",
            "--team_history.csv\n"
          ]
        }
      ],
      "source": [
        "files = os.listdir(csv_dir)\n",
        "for file in files:\n",
        "    print(f\"--{file}\")"
      ]
    },
    {
      "cell_type": "markdown",
      "metadata": {},
      "source": [
        "In the future, we may perform more extensive analysis which takes into account some of the data in the other CSV files. For the time being, these 4 files will be more than enough. (Probably too much even.)\n",
        "\n",
        "First, let's look at what columns we have in `game.csv`. \n",
        "\n",
        "Note: The utility function `get_df` doesn't require the file extension and the default directory is the one containing the csv files."
      ]
    },
    {
      "cell_type": "code",
      "execution_count": 4,
      "metadata": {},
      "outputs": [
        {
          "name": "stdout",
          "output_type": "stream",
          "text": [
            "(65698, 55)\n"
          ]
        },
        {
          "data": {
            "text/html": [
              "<div>\n",
              "<style scoped>\n",
              "    .dataframe tbody tr th:only-of-type {\n",
              "        vertical-align: middle;\n",
              "    }\n",
              "\n",
              "    .dataframe tbody tr th {\n",
              "        vertical-align: top;\n",
              "    }\n",
              "\n",
              "    .dataframe thead th {\n",
              "        text-align: right;\n",
              "    }\n",
              "</style>\n",
              "<table border=\"1\" class=\"dataframe\">\n",
              "  <thead>\n",
              "    <tr style=\"text-align: right;\">\n",
              "      <th></th>\n",
              "      <th>season_id</th>\n",
              "      <th>team_id_home</th>\n",
              "      <th>team_abbreviation_home</th>\n",
              "      <th>team_name_home</th>\n",
              "      <th>game_id</th>\n",
              "      <th>game_date</th>\n",
              "      <th>matchup_home</th>\n",
              "      <th>wl_home</th>\n",
              "      <th>min</th>\n",
              "      <th>fgm_home</th>\n",
              "      <th>...</th>\n",
              "      <th>reb_away</th>\n",
              "      <th>ast_away</th>\n",
              "      <th>stl_away</th>\n",
              "      <th>blk_away</th>\n",
              "      <th>tov_away</th>\n",
              "      <th>pf_away</th>\n",
              "      <th>pts_away</th>\n",
              "      <th>plus_minus_away</th>\n",
              "      <th>video_available_away</th>\n",
              "      <th>season_type</th>\n",
              "    </tr>\n",
              "  </thead>\n",
              "  <tbody>\n",
              "    <tr>\n",
              "      <th>0</th>\n",
              "      <td>21946</td>\n",
              "      <td>1610610035</td>\n",
              "      <td>HUS</td>\n",
              "      <td>Toronto Huskies</td>\n",
              "      <td>24600001</td>\n",
              "      <td>1946-11-01 00:00:00</td>\n",
              "      <td>HUS vs. NYK</td>\n",
              "      <td>L</td>\n",
              "      <td>0</td>\n",
              "      <td>25.0</td>\n",
              "      <td>...</td>\n",
              "      <td>NaN</td>\n",
              "      <td>NaN</td>\n",
              "      <td>NaN</td>\n",
              "      <td>NaN</td>\n",
              "      <td>NaN</td>\n",
              "      <td>NaN</td>\n",
              "      <td>68.0</td>\n",
              "      <td>2</td>\n",
              "      <td>0</td>\n",
              "      <td>Regular Season</td>\n",
              "    </tr>\n",
              "    <tr>\n",
              "      <th>1</th>\n",
              "      <td>21946</td>\n",
              "      <td>1610610034</td>\n",
              "      <td>BOM</td>\n",
              "      <td>St. Louis Bombers</td>\n",
              "      <td>24600003</td>\n",
              "      <td>1946-11-02 00:00:00</td>\n",
              "      <td>BOM vs. PIT</td>\n",
              "      <td>W</td>\n",
              "      <td>0</td>\n",
              "      <td>20.0</td>\n",
              "      <td>...</td>\n",
              "      <td>NaN</td>\n",
              "      <td>NaN</td>\n",
              "      <td>NaN</td>\n",
              "      <td>NaN</td>\n",
              "      <td>NaN</td>\n",
              "      <td>25.0</td>\n",
              "      <td>51.0</td>\n",
              "      <td>-5</td>\n",
              "      <td>0</td>\n",
              "      <td>Regular Season</td>\n",
              "    </tr>\n",
              "    <tr>\n",
              "      <th>2</th>\n",
              "      <td>21946</td>\n",
              "      <td>1610610032</td>\n",
              "      <td>PRO</td>\n",
              "      <td>Providence Steamrollers</td>\n",
              "      <td>24600002</td>\n",
              "      <td>1946-11-02 00:00:00</td>\n",
              "      <td>PRO vs. BOS</td>\n",
              "      <td>W</td>\n",
              "      <td>0</td>\n",
              "      <td>21.0</td>\n",
              "      <td>...</td>\n",
              "      <td>NaN</td>\n",
              "      <td>NaN</td>\n",
              "      <td>NaN</td>\n",
              "      <td>NaN</td>\n",
              "      <td>NaN</td>\n",
              "      <td>NaN</td>\n",
              "      <td>53.0</td>\n",
              "      <td>-6</td>\n",
              "      <td>0</td>\n",
              "      <td>Regular Season</td>\n",
              "    </tr>\n",
              "    <tr>\n",
              "      <th>3</th>\n",
              "      <td>21946</td>\n",
              "      <td>1610610025</td>\n",
              "      <td>CHS</td>\n",
              "      <td>Chicago Stags</td>\n",
              "      <td>24600004</td>\n",
              "      <td>1946-11-02 00:00:00</td>\n",
              "      <td>CHS vs. NYK</td>\n",
              "      <td>W</td>\n",
              "      <td>0</td>\n",
              "      <td>21.0</td>\n",
              "      <td>...</td>\n",
              "      <td>NaN</td>\n",
              "      <td>NaN</td>\n",
              "      <td>NaN</td>\n",
              "      <td>NaN</td>\n",
              "      <td>NaN</td>\n",
              "      <td>22.0</td>\n",
              "      <td>47.0</td>\n",
              "      <td>-16</td>\n",
              "      <td>0</td>\n",
              "      <td>Regular Season</td>\n",
              "    </tr>\n",
              "    <tr>\n",
              "      <th>4</th>\n",
              "      <td>21946</td>\n",
              "      <td>1610610028</td>\n",
              "      <td>DEF</td>\n",
              "      <td>Detroit Falcons</td>\n",
              "      <td>24600005</td>\n",
              "      <td>1946-11-02 00:00:00</td>\n",
              "      <td>DEF vs. WAS</td>\n",
              "      <td>L</td>\n",
              "      <td>0</td>\n",
              "      <td>10.0</td>\n",
              "      <td>...</td>\n",
              "      <td>NaN</td>\n",
              "      <td>NaN</td>\n",
              "      <td>NaN</td>\n",
              "      <td>NaN</td>\n",
              "      <td>NaN</td>\n",
              "      <td>NaN</td>\n",
              "      <td>50.0</td>\n",
              "      <td>17</td>\n",
              "      <td>0</td>\n",
              "      <td>Regular Season</td>\n",
              "    </tr>\n",
              "  </tbody>\n",
              "</table>\n",
              "<p>5 rows × 55 columns</p>\n",
              "</div>"
            ],
            "text/plain": [
              "   season_id  team_id_home team_abbreviation_home           team_name_home  \\\n",
              "0      21946    1610610035                    HUS          Toronto Huskies   \n",
              "1      21946    1610610034                    BOM        St. Louis Bombers   \n",
              "2      21946    1610610032                    PRO  Providence Steamrollers   \n",
              "3      21946    1610610025                    CHS            Chicago Stags   \n",
              "4      21946    1610610028                    DEF          Detroit Falcons   \n",
              "\n",
              "    game_id            game_date matchup_home wl_home  min  fgm_home  ...  \\\n",
              "0  24600001  1946-11-01 00:00:00  HUS vs. NYK       L    0      25.0  ...   \n",
              "1  24600003  1946-11-02 00:00:00  BOM vs. PIT       W    0      20.0  ...   \n",
              "2  24600002  1946-11-02 00:00:00  PRO vs. BOS       W    0      21.0  ...   \n",
              "3  24600004  1946-11-02 00:00:00  CHS vs. NYK       W    0      21.0  ...   \n",
              "4  24600005  1946-11-02 00:00:00  DEF vs. WAS       L    0      10.0  ...   \n",
              "\n",
              "   reb_away  ast_away  stl_away  blk_away  tov_away  pf_away  pts_away  \\\n",
              "0       NaN       NaN       NaN       NaN       NaN      NaN      68.0   \n",
              "1       NaN       NaN       NaN       NaN       NaN     25.0      51.0   \n",
              "2       NaN       NaN       NaN       NaN       NaN      NaN      53.0   \n",
              "3       NaN       NaN       NaN       NaN       NaN     22.0      47.0   \n",
              "4       NaN       NaN       NaN       NaN       NaN      NaN      50.0   \n",
              "\n",
              "   plus_minus_away  video_available_away     season_type  \n",
              "0                2                     0  Regular Season  \n",
              "1               -5                     0  Regular Season  \n",
              "2               -6                     0  Regular Season  \n",
              "3              -16                     0  Regular Season  \n",
              "4               17                     0  Regular Season  \n",
              "\n",
              "[5 rows x 55 columns]"
            ]
          },
          "execution_count": 4,
          "metadata": {},
          "output_type": "execute_result"
        }
      ],
      "source": [
        "import pandas as pd\n",
        "from src.utils import get_df\n",
        "from src.inspection_tools import get_info_df, info_dtype_dict\n",
        "\n",
        "game_df = get_df('game')\n",
        "print(game_df.shape)\n",
        "game_df.head()"
      ]
    },
    {
      "cell_type": "markdown",
      "metadata": {},
      "source": [
        "These games in the first few rows are very old. One consequence of this is that many of the common statistics of today were not tracked. One way to address this would be to impute the values, but the game of basketball evolved dramatically and so using the mean would not be very reflective of the actual game. We are missing a lot of data in these rows and so we will drop them. After all, the data frame contains data for approximately 65 thousand games.\n",
        "\n",
        "Let's look at what columns are present."
      ]
    },
    {
      "cell_type": "code",
      "execution_count": 5,
      "metadata": {},
      "outputs": [
        {
          "data": {
            "text/plain": [
              "Index(['season_id', 'team_id_home', 'team_abbreviation_home', 'team_name_home',\n",
              "       'game_id', 'game_date', 'matchup_home', 'wl_home', 'min', 'fgm_home',\n",
              "       'fga_home', 'fg_pct_home', 'fg3m_home', 'fg3a_home', 'fg3_pct_home',\n",
              "       'ftm_home', 'fta_home', 'ft_pct_home', 'oreb_home', 'dreb_home',\n",
              "       'reb_home', 'ast_home', 'stl_home', 'blk_home', 'tov_home', 'pf_home',\n",
              "       'pts_home', 'plus_minus_home', 'video_available_home', 'team_id_away',\n",
              "       'team_abbreviation_away', 'team_name_away', 'matchup_away', 'wl_away',\n",
              "       'fgm_away', 'fga_away', 'fg_pct_away', 'fg3m_away', 'fg3a_away',\n",
              "       'fg3_pct_away', 'ftm_away', 'fta_away', 'ft_pct_away', 'oreb_away',\n",
              "       'dreb_away', 'reb_away', 'ast_away', 'stl_away', 'blk_away', 'tov_away',\n",
              "       'pf_away', 'pts_away', 'plus_minus_away', 'video_available_away',\n",
              "       'season_type'],\n",
              "      dtype='object')"
            ]
          },
          "execution_count": 5,
          "metadata": {},
          "output_type": "execute_result"
        }
      ],
      "source": [
        "game_df.columns"
      ]
    },
    {
      "cell_type": "markdown",
      "metadata": {},
      "source": [
        "Many of these columns are redundant categorical data. For example:\n",
        "- team_abbreviation_home\n",
        "- team_name_home\n",
        "- matchup_home\n",
        "- video_available_home\n",
        "\n",
        "as well as the away team versions, are not statistics that are relevant to what happened during the game. The team name even provides less information than expected as the name has changed over time, but the team_id does not.\n",
        "# Attention\n",
        "To Sean: did I actually do the below? or am I doing this? Edit this section appropriately nearer to the end of the project.\n",
        "This is why we have kept the `team_history.csv` file, so that we can see what the team name is at various points in history. We could also keep the name columns and drop them at the last moment.\n",
        "\n",
        "Also, we can drop any percentage based statistic as it will be completely determined by other features. For example, the columns `fg3m_home` and `fg3a_home` completely determine `fg3_pct_home`. So we will also remove any column containing the string `'_pct_'` in it."
      ]
    },
    {
      "cell_type": "code",
      "execution_count": 6,
      "metadata": {},
      "outputs": [],
      "source": [
        "game_drop_features = ['team_name_home','team_abbreviation_home','team_abbreviation_away','team_name_away','video_available_home','video_available_away', 'matchup_home','matchup_away']\n",
        "pct_columns = [col for col in game_df.columns if '_pct_' in col]\n",
        "game_drop_features.extend(pct_columns)"
      ]
    },
    {
      "cell_type": "markdown",
      "metadata": {},
      "source": [
        "We will drop these features later in the notebook. We may still want to look at the data they contain in order to measure the quality of the data."
      ]
    },
    {
      "cell_type": "markdown",
      "metadata": {},
      "source": [
        "# Section 2: Exploring of rows of `game.csv`\n",
        "Consider the column `season_type`. It has the following unique values."
      ]
    },
    {
      "cell_type": "code",
      "execution_count": 7,
      "metadata": {},
      "outputs": [
        {
          "data": {
            "text/plain": [
              "array(['Regular Season', 'Playoffs', 'All-Star', 'All Star', 'Pre Season'],\n",
              "      dtype=object)"
            ]
          },
          "execution_count": 7,
          "metadata": {},
          "output_type": "execute_result"
        }
      ],
      "source": [
        "game_df['season_type'].unique()"
      ]
    },
    {
      "cell_type": "markdown",
      "metadata": {},
      "source": [
        "Clearly, the All-Star games are out of place and don't represent a standard competition. Furthermore, the respective teams only play one game a season. Statistically, the number of games is negligible when compared to our the 1230 games played during the regular season."
      ]
    },
    {
      "cell_type": "code",
      "execution_count": 8,
      "metadata": {},
      "outputs": [
        {
          "name": "stdout",
          "output_type": "stream",
          "text": [
            "128\n"
          ]
        }
      ],
      "source": [
        "all_star_games = game_df.query('season_type in [\"All-Star\", \"All Star\"]')\n",
        "print(all_star_games.shape[0])\n",
        "game_df = game_df.query('season_type != \"All-Star\"')\n",
        "game_df = game_df.query('season_type != \"All Star\"')\n"
      ]
    },
    {
      "cell_type": "markdown",
      "metadata": {},
      "source": [
        "There are also preseason games. These are sometimes played with teams outside of the league. Many veterans don't take the games seriously. It is also the case that there are exhibition matches with non-NBA teams that take place. So we remove these games from the dataset as well."
      ]
    },
    {
      "cell_type": "code",
      "execution_count": 9,
      "metadata": {},
      "outputs": [
        {
          "name": "stdout",
          "output_type": "stream",
          "text": [
            "1536\n"
          ]
        }
      ],
      "source": [
        "preseason = game_df.query('season_type == \"Pre Season\"')\n",
        "print(preseason.shape[0])\n",
        "preseason.team_name_away.unique()\n",
        "game_df = game_df.query('season_type != \"Pre Season\"')"
      ]
    },
    {
      "cell_type": "markdown",
      "metadata": {},
      "source": [
        "We are primarily interested in Regular Season games, but we will leave the Play off games in for the time being."
      ]
    },
    {
      "cell_type": "markdown",
      "metadata": {},
      "source": [
        "Let's look back at the head of `game_df`."
      ]
    },
    {
      "cell_type": "code",
      "execution_count": 10,
      "metadata": {},
      "outputs": [
        {
          "data": {
            "text/html": [
              "<div>\n",
              "<style scoped>\n",
              "    .dataframe tbody tr th:only-of-type {\n",
              "        vertical-align: middle;\n",
              "    }\n",
              "\n",
              "    .dataframe tbody tr th {\n",
              "        vertical-align: top;\n",
              "    }\n",
              "\n",
              "    .dataframe thead th {\n",
              "        text-align: right;\n",
              "    }\n",
              "</style>\n",
              "<table border=\"1\" class=\"dataframe\">\n",
              "  <thead>\n",
              "    <tr style=\"text-align: right;\">\n",
              "      <th></th>\n",
              "      <th>season_id</th>\n",
              "      <th>team_id_home</th>\n",
              "      <th>team_abbreviation_home</th>\n",
              "      <th>team_name_home</th>\n",
              "      <th>game_id</th>\n",
              "      <th>game_date</th>\n",
              "      <th>matchup_home</th>\n",
              "      <th>wl_home</th>\n",
              "      <th>min</th>\n",
              "      <th>fgm_home</th>\n",
              "      <th>...</th>\n",
              "      <th>reb_away</th>\n",
              "      <th>ast_away</th>\n",
              "      <th>stl_away</th>\n",
              "      <th>blk_away</th>\n",
              "      <th>tov_away</th>\n",
              "      <th>pf_away</th>\n",
              "      <th>pts_away</th>\n",
              "      <th>plus_minus_away</th>\n",
              "      <th>video_available_away</th>\n",
              "      <th>season_type</th>\n",
              "    </tr>\n",
              "  </thead>\n",
              "  <tbody>\n",
              "    <tr>\n",
              "      <th>0</th>\n",
              "      <td>21946</td>\n",
              "      <td>1610610035</td>\n",
              "      <td>HUS</td>\n",
              "      <td>Toronto Huskies</td>\n",
              "      <td>24600001</td>\n",
              "      <td>1946-11-01 00:00:00</td>\n",
              "      <td>HUS vs. NYK</td>\n",
              "      <td>L</td>\n",
              "      <td>0</td>\n",
              "      <td>25.0</td>\n",
              "      <td>...</td>\n",
              "      <td>NaN</td>\n",
              "      <td>NaN</td>\n",
              "      <td>NaN</td>\n",
              "      <td>NaN</td>\n",
              "      <td>NaN</td>\n",
              "      <td>NaN</td>\n",
              "      <td>68.0</td>\n",
              "      <td>2</td>\n",
              "      <td>0</td>\n",
              "      <td>Regular Season</td>\n",
              "    </tr>\n",
              "    <tr>\n",
              "      <th>1</th>\n",
              "      <td>21946</td>\n",
              "      <td>1610610034</td>\n",
              "      <td>BOM</td>\n",
              "      <td>St. Louis Bombers</td>\n",
              "      <td>24600003</td>\n",
              "      <td>1946-11-02 00:00:00</td>\n",
              "      <td>BOM vs. PIT</td>\n",
              "      <td>W</td>\n",
              "      <td>0</td>\n",
              "      <td>20.0</td>\n",
              "      <td>...</td>\n",
              "      <td>NaN</td>\n",
              "      <td>NaN</td>\n",
              "      <td>NaN</td>\n",
              "      <td>NaN</td>\n",
              "      <td>NaN</td>\n",
              "      <td>25.0</td>\n",
              "      <td>51.0</td>\n",
              "      <td>-5</td>\n",
              "      <td>0</td>\n",
              "      <td>Regular Season</td>\n",
              "    </tr>\n",
              "    <tr>\n",
              "      <th>2</th>\n",
              "      <td>21946</td>\n",
              "      <td>1610610032</td>\n",
              "      <td>PRO</td>\n",
              "      <td>Providence Steamrollers</td>\n",
              "      <td>24600002</td>\n",
              "      <td>1946-11-02 00:00:00</td>\n",
              "      <td>PRO vs. BOS</td>\n",
              "      <td>W</td>\n",
              "      <td>0</td>\n",
              "      <td>21.0</td>\n",
              "      <td>...</td>\n",
              "      <td>NaN</td>\n",
              "      <td>NaN</td>\n",
              "      <td>NaN</td>\n",
              "      <td>NaN</td>\n",
              "      <td>NaN</td>\n",
              "      <td>NaN</td>\n",
              "      <td>53.0</td>\n",
              "      <td>-6</td>\n",
              "      <td>0</td>\n",
              "      <td>Regular Season</td>\n",
              "    </tr>\n",
              "    <tr>\n",
              "      <th>3</th>\n",
              "      <td>21946</td>\n",
              "      <td>1610610025</td>\n",
              "      <td>CHS</td>\n",
              "      <td>Chicago Stags</td>\n",
              "      <td>24600004</td>\n",
              "      <td>1946-11-02 00:00:00</td>\n",
              "      <td>CHS vs. NYK</td>\n",
              "      <td>W</td>\n",
              "      <td>0</td>\n",
              "      <td>21.0</td>\n",
              "      <td>...</td>\n",
              "      <td>NaN</td>\n",
              "      <td>NaN</td>\n",
              "      <td>NaN</td>\n",
              "      <td>NaN</td>\n",
              "      <td>NaN</td>\n",
              "      <td>22.0</td>\n",
              "      <td>47.0</td>\n",
              "      <td>-16</td>\n",
              "      <td>0</td>\n",
              "      <td>Regular Season</td>\n",
              "    </tr>\n",
              "    <tr>\n",
              "      <th>4</th>\n",
              "      <td>21946</td>\n",
              "      <td>1610610028</td>\n",
              "      <td>DEF</td>\n",
              "      <td>Detroit Falcons</td>\n",
              "      <td>24600005</td>\n",
              "      <td>1946-11-02 00:00:00</td>\n",
              "      <td>DEF vs. WAS</td>\n",
              "      <td>L</td>\n",
              "      <td>0</td>\n",
              "      <td>10.0</td>\n",
              "      <td>...</td>\n",
              "      <td>NaN</td>\n",
              "      <td>NaN</td>\n",
              "      <td>NaN</td>\n",
              "      <td>NaN</td>\n",
              "      <td>NaN</td>\n",
              "      <td>NaN</td>\n",
              "      <td>50.0</td>\n",
              "      <td>17</td>\n",
              "      <td>0</td>\n",
              "      <td>Regular Season</td>\n",
              "    </tr>\n",
              "  </tbody>\n",
              "</table>\n",
              "<p>5 rows × 55 columns</p>\n",
              "</div>"
            ],
            "text/plain": [
              "   season_id  team_id_home team_abbreviation_home           team_name_home  \\\n",
              "0      21946    1610610035                    HUS          Toronto Huskies   \n",
              "1      21946    1610610034                    BOM        St. Louis Bombers   \n",
              "2      21946    1610610032                    PRO  Providence Steamrollers   \n",
              "3      21946    1610610025                    CHS            Chicago Stags   \n",
              "4      21946    1610610028                    DEF          Detroit Falcons   \n",
              "\n",
              "    game_id            game_date matchup_home wl_home  min  fgm_home  ...  \\\n",
              "0  24600001  1946-11-01 00:00:00  HUS vs. NYK       L    0      25.0  ...   \n",
              "1  24600003  1946-11-02 00:00:00  BOM vs. PIT       W    0      20.0  ...   \n",
              "2  24600002  1946-11-02 00:00:00  PRO vs. BOS       W    0      21.0  ...   \n",
              "3  24600004  1946-11-02 00:00:00  CHS vs. NYK       W    0      21.0  ...   \n",
              "4  24600005  1946-11-02 00:00:00  DEF vs. WAS       L    0      10.0  ...   \n",
              "\n",
              "   reb_away  ast_away  stl_away  blk_away  tov_away  pf_away  pts_away  \\\n",
              "0       NaN       NaN       NaN       NaN       NaN      NaN      68.0   \n",
              "1       NaN       NaN       NaN       NaN       NaN     25.0      51.0   \n",
              "2       NaN       NaN       NaN       NaN       NaN      NaN      53.0   \n",
              "3       NaN       NaN       NaN       NaN       NaN     22.0      47.0   \n",
              "4       NaN       NaN       NaN       NaN       NaN      NaN      50.0   \n",
              "\n",
              "   plus_minus_away  video_available_away     season_type  \n",
              "0                2                     0  Regular Season  \n",
              "1               -5                     0  Regular Season  \n",
              "2               -6                     0  Regular Season  \n",
              "3              -16                     0  Regular Season  \n",
              "4               17                     0  Regular Season  \n",
              "\n",
              "[5 rows x 55 columns]"
            ]
          },
          "execution_count": 10,
          "metadata": {},
          "output_type": "execute_result"
        }
      ],
      "source": [
        "game_df.head()"
      ]
    },
    {
      "cell_type": "markdown",
      "metadata": {},
      "source": [
        "A lot of basic statistics, such as rebounds, are missing. Recall that the 3-point line wasn't introduced until 1979. The game of basketball has changed over the years. However, it probably changed most dramatically when it absorbed the ABA. Therefore, we will only consider games after the merger. \n",
        "# Attention\n",
        "Or will I also get rid of games before the 3-point line. I don't think it is so crazy. It could be interesting to consider both. Then imputation will be slightly interesting as well. However, there may be other factors that impact our decision as to where to truncate our dataset."
      ]
    },
    {
      "cell_type": "code",
      "execution_count": 11,
      "metadata": {},
      "outputs": [
        {
          "name": "stdout",
          "output_type": "stream",
          "text": [
            "(64034, 58)\n",
            "(53349, 58)\n"
          ]
        }
      ],
      "source": [
        "from src.utils import add_cat_date\n",
        "\n",
        "game_df = add_cat_date(game_df,'game_date')\n",
        "print(game_df.shape)\n",
        "game_df_after_1975 = game_df.query('Year >= 1975')\n",
        "print(game_df_after_1975.shape)"
      ]
    },
    {
      "cell_type": "markdown",
      "metadata": {},
      "source": [
        "There are many missing values, as mentioned above. We would like to remove seasons to minimize the amount of missing data. To figure out an appropriate range, we will look at how the amount of missing data changes over time. We believe that the amount of missing data will decrease as the NBA got better at keeping records. Notice that there is a pattern for the season_id column. If it is a regular season game in the 1948-1949 season, then the season_id is 21948. If it is a playoff game from that season then the season_id is 41948. This also means that the `'season_type'` column is redundant, we will add it to the list of columns to be removed."
      ]
    },
    {
      "cell_type": "code",
      "execution_count": 12,
      "metadata": {},
      "outputs": [
        {
          "name": "stdout",
          "output_type": "stream",
          "text": [
            "      season_id         years        game_types\n",
            "0         21946  [1946, 1947]  [Regular Season]\n",
            "331       41946        [1947]        [Playoffs]\n",
            "350       21947  [1947, 1948]  [Regular Season]\n",
            "544       41947        [1948]        [Playoffs]\n",
            "565       21948  [1948, 1949]  [Regular Season]\n",
            "925       41948        [1949]        [Playoffs]\n",
            "945       21949  [1949, 1950]  [Regular Season]\n",
            "1508      41949        [1950]        [Playoffs]\n",
            "1538      21950  [1950, 1951]  [Regular Season]\n",
            "1892      41950        [1951]        [Playoffs]\n",
            "       season_id         years        game_types\n",
            "62841      42020        [2021]        [Playoffs]\n",
            "62928      22021  [2021, 2022]  [Regular Season]\n",
            "64224      42021        [2022]        [Playoffs]\n",
            "64312      22022  [2022, 2023]  [Regular Season]\n",
            "65612      42022        [2023]        [Playoffs]\n"
          ]
        }
      ],
      "source": [
        "from src.inspection_tools import single_season, compute_years, season_data\n",
        "\n",
        "season_data = season_data(game_df)\n",
        "print(season_data.head(10))\n",
        "print(season_data.iloc[-5:])"
      ]
    },
    {
      "cell_type": "markdown",
      "metadata": {},
      "source": [
        "We want to see how much each season contributes to the amount of missing data. We will make a dataframe consisting only of the number of missing values for each statistic. We then remove all of the 'good columns,' those where no data is missing."
      ]
    },
    {
      "cell_type": "code",
      "execution_count": 13,
      "metadata": {},
      "outputs": [
        {
          "name": "stdout",
          "output_type": "stream",
          "text": [
            "['season_id', 'team_id_home', 'team_abbreviation_home', 'team_name_home', 'game_id', 'game_date', 'matchup_home', 'wl_home', 'min', 'fg_pct_home', 'fg3_pct_home', 'ft_pct_home', 'pts_home', 'plus_minus_home', 'video_available_home', 'team_id_away', 'team_abbreviation_away', 'team_name_away', 'matchup_away', 'wl_away', 'fg_pct_away', 'fg3_pct_away', 'ft_pct_away', 'pts_away', 'plus_minus_away', 'video_available_away', 'season_type', 'Day', 'Month', 'Year', 'years']\n"
          ]
        }
      ],
      "source": [
        "game_df.isna().sum()\n",
        "missing_season_data = game_df.isna().groupby(game_df['season_id']).sum()\n",
        "missing_season_data.head(10)\n",
        "\n",
        "good_cols = []\n",
        "for col in missing_season_data.columns:\n",
        "    unique_vals = missing_season_data[col].unique()\n",
        "    # print(col, len(unique_vals))\n",
        "    if len(unique_vals) == 1 and 0 in unique_vals:\n",
        "        if col not in good_cols:\n",
        "            good_cols.append(col)\n",
        "    elif '_pct_' in col:\n",
        "        good_cols.append(col)\n",
        "\n",
        "print(good_cols)\n",
        "missing_season_data.drop(labels=good_cols, inplace=True, axis=1)"
      ]
    },
    {
      "cell_type": "code",
      "execution_count": 14,
      "metadata": {},
      "outputs": [
        {
          "data": {
            "text/html": [
              "<div>\n",
              "<style scoped>\n",
              "    .dataframe tbody tr th:only-of-type {\n",
              "        vertical-align: middle;\n",
              "    }\n",
              "\n",
              "    .dataframe tbody tr th {\n",
              "        vertical-align: top;\n",
              "    }\n",
              "\n",
              "    .dataframe thead th {\n",
              "        text-align: right;\n",
              "    }\n",
              "</style>\n",
              "<table border=\"1\" class=\"dataframe\">\n",
              "  <thead>\n",
              "    <tr style=\"text-align: right;\">\n",
              "      <th></th>\n",
              "      <th>fgm_home</th>\n",
              "      <th>fgm_away</th>\n",
              "      <th>ftm_home</th>\n",
              "      <th>ftm_away</th>\n",
              "    </tr>\n",
              "    <tr>\n",
              "      <th>season_id</th>\n",
              "      <th></th>\n",
              "      <th></th>\n",
              "      <th></th>\n",
              "      <th></th>\n",
              "    </tr>\n",
              "  </thead>\n",
              "  <tbody>\n",
              "    <tr>\n",
              "      <th>21946</th>\n",
              "      <td>0</td>\n",
              "      <td>0</td>\n",
              "      <td>0</td>\n",
              "      <td>0</td>\n",
              "    </tr>\n",
              "    <tr>\n",
              "      <th>21947</th>\n",
              "      <td>5</td>\n",
              "      <td>5</td>\n",
              "      <td>6</td>\n",
              "      <td>5</td>\n",
              "    </tr>\n",
              "    <tr>\n",
              "      <th>21948</th>\n",
              "      <td>0</td>\n",
              "      <td>0</td>\n",
              "      <td>0</td>\n",
              "      <td>0</td>\n",
              "    </tr>\n",
              "    <tr>\n",
              "      <th>21949</th>\n",
              "      <td>3</td>\n",
              "      <td>3</td>\n",
              "      <td>3</td>\n",
              "      <td>3</td>\n",
              "    </tr>\n",
              "    <tr>\n",
              "      <th>21950</th>\n",
              "      <td>4</td>\n",
              "      <td>3</td>\n",
              "      <td>4</td>\n",
              "      <td>3</td>\n",
              "    </tr>\n",
              "  </tbody>\n",
              "</table>\n",
              "</div>"
            ],
            "text/plain": [
              "           fgm_home  fgm_away  ftm_home  ftm_away\n",
              "season_id                                        \n",
              "21946             0         0         0         0\n",
              "21947             5         5         6         5\n",
              "21948             0         0         0         0\n",
              "21949             3         3         3         3\n",
              "21950             4         3         4         3"
            ]
          },
          "execution_count": 14,
          "metadata": {},
          "output_type": "execute_result"
        }
      ],
      "source": [
        "missing_season_data.filter(['fgm_home','fgm_away','ftm_home','ftm_away']).head()"
      ]
    },
    {
      "cell_type": "markdown",
      "metadata": {},
      "source": [
        "What do we have left now? Both `'fgm'` and `'fgt'` have missing values, but there are very few and can likely be imputed somehow or the rows can be dropped all together."
      ]
    },
    {
      "cell_type": "code",
      "execution_count": 15,
      "metadata": {},
      "outputs": [],
      "source": [
        "#missing_season_data.drop(labels=['fgm_home','fgm_away','ftm_home','ftm_away'], inplace=True, axis=1)\n"
      ]
    },
    {
      "cell_type": "markdown",
      "metadata": {},
      "source": [
        "Through inspection, we find that there is a dramatic change in record keeping at the beginning of the 1985-1986 season. This seems like a good place to cut things off."
      ]
    },
    {
      "cell_type": "code",
      "execution_count": 16,
      "metadata": {},
      "outputs": [
        {
          "name": "stdout",
          "output_type": "stream",
          "text": [
            "season_id\n",
            "21982    10960\n",
            "21983    10804\n",
            "21984    10746\n",
            "21985        0\n",
            "21986        0\n",
            "21987        0\n",
            "dtype: int64\n"
          ]
        },
        {
          "data": {
            "text/html": [
              "<div>\n",
              "<style scoped>\n",
              "    .dataframe tbody tr th:only-of-type {\n",
              "        vertical-align: middle;\n",
              "    }\n",
              "\n",
              "    .dataframe tbody tr th {\n",
              "        vertical-align: top;\n",
              "    }\n",
              "\n",
              "    .dataframe thead th {\n",
              "        text-align: right;\n",
              "    }\n",
              "</style>\n",
              "<table border=\"1\" class=\"dataframe\">\n",
              "  <thead>\n",
              "    <tr style=\"text-align: right;\">\n",
              "      <th></th>\n",
              "      <th>fgm_home</th>\n",
              "      <th>fga_home</th>\n",
              "      <th>fg3m_home</th>\n",
              "      <th>fg3a_home</th>\n",
              "      <th>ftm_home</th>\n",
              "      <th>fta_home</th>\n",
              "      <th>oreb_home</th>\n",
              "      <th>dreb_home</th>\n",
              "      <th>reb_home</th>\n",
              "      <th>ast_home</th>\n",
              "      <th>...</th>\n",
              "      <th>ftm_away</th>\n",
              "      <th>fta_away</th>\n",
              "      <th>oreb_away</th>\n",
              "      <th>dreb_away</th>\n",
              "      <th>reb_away</th>\n",
              "      <th>ast_away</th>\n",
              "      <th>stl_away</th>\n",
              "      <th>blk_away</th>\n",
              "      <th>tov_away</th>\n",
              "      <th>pf_away</th>\n",
              "    </tr>\n",
              "    <tr>\n",
              "      <th>season_id</th>\n",
              "      <th></th>\n",
              "      <th></th>\n",
              "      <th></th>\n",
              "      <th></th>\n",
              "      <th></th>\n",
              "      <th></th>\n",
              "      <th></th>\n",
              "      <th></th>\n",
              "      <th></th>\n",
              "      <th></th>\n",
              "      <th></th>\n",
              "      <th></th>\n",
              "      <th></th>\n",
              "      <th></th>\n",
              "      <th></th>\n",
              "      <th></th>\n",
              "      <th></th>\n",
              "      <th></th>\n",
              "      <th></th>\n",
              "      <th></th>\n",
              "      <th></th>\n",
              "    </tr>\n",
              "  </thead>\n",
              "  <tbody>\n",
              "    <tr>\n",
              "      <th>21982</th>\n",
              "      <td>0</td>\n",
              "      <td>25</td>\n",
              "      <td>0</td>\n",
              "      <td>862</td>\n",
              "      <td>0</td>\n",
              "      <td>0</td>\n",
              "      <td>927</td>\n",
              "      <td>943</td>\n",
              "      <td>23</td>\n",
              "      <td>29</td>\n",
              "      <td>...</td>\n",
              "      <td>0</td>\n",
              "      <td>0</td>\n",
              "      <td>927</td>\n",
              "      <td>943</td>\n",
              "      <td>23</td>\n",
              "      <td>26</td>\n",
              "      <td>919</td>\n",
              "      <td>862</td>\n",
              "      <td>867</td>\n",
              "      <td>24</td>\n",
              "    </tr>\n",
              "    <tr>\n",
              "      <th>21983</th>\n",
              "      <td>0</td>\n",
              "      <td>0</td>\n",
              "      <td>0</td>\n",
              "      <td>862</td>\n",
              "      <td>0</td>\n",
              "      <td>0</td>\n",
              "      <td>920</td>\n",
              "      <td>936</td>\n",
              "      <td>19</td>\n",
              "      <td>21</td>\n",
              "      <td>...</td>\n",
              "      <td>0</td>\n",
              "      <td>0</td>\n",
              "      <td>920</td>\n",
              "      <td>936</td>\n",
              "      <td>17</td>\n",
              "      <td>21</td>\n",
              "      <td>908</td>\n",
              "      <td>862</td>\n",
              "      <td>865</td>\n",
              "      <td>10</td>\n",
              "    </tr>\n",
              "    <tr>\n",
              "      <th>21984</th>\n",
              "      <td>0</td>\n",
              "      <td>0</td>\n",
              "      <td>0</td>\n",
              "      <td>864</td>\n",
              "      <td>0</td>\n",
              "      <td>0</td>\n",
              "      <td>934</td>\n",
              "      <td>942</td>\n",
              "      <td>7</td>\n",
              "      <td>4</td>\n",
              "      <td>...</td>\n",
              "      <td>0</td>\n",
              "      <td>0</td>\n",
              "      <td>934</td>\n",
              "      <td>942</td>\n",
              "      <td>5</td>\n",
              "      <td>4</td>\n",
              "      <td>890</td>\n",
              "      <td>864</td>\n",
              "      <td>867</td>\n",
              "      <td>2</td>\n",
              "    </tr>\n",
              "    <tr>\n",
              "      <th>21985</th>\n",
              "      <td>0</td>\n",
              "      <td>0</td>\n",
              "      <td>0</td>\n",
              "      <td>0</td>\n",
              "      <td>0</td>\n",
              "      <td>0</td>\n",
              "      <td>0</td>\n",
              "      <td>0</td>\n",
              "      <td>0</td>\n",
              "      <td>0</td>\n",
              "      <td>...</td>\n",
              "      <td>0</td>\n",
              "      <td>0</td>\n",
              "      <td>0</td>\n",
              "      <td>0</td>\n",
              "      <td>0</td>\n",
              "      <td>0</td>\n",
              "      <td>0</td>\n",
              "      <td>0</td>\n",
              "      <td>0</td>\n",
              "      <td>0</td>\n",
              "    </tr>\n",
              "    <tr>\n",
              "      <th>21986</th>\n",
              "      <td>0</td>\n",
              "      <td>0</td>\n",
              "      <td>0</td>\n",
              "      <td>0</td>\n",
              "      <td>0</td>\n",
              "      <td>0</td>\n",
              "      <td>0</td>\n",
              "      <td>0</td>\n",
              "      <td>0</td>\n",
              "      <td>0</td>\n",
              "      <td>...</td>\n",
              "      <td>0</td>\n",
              "      <td>0</td>\n",
              "      <td>0</td>\n",
              "      <td>0</td>\n",
              "      <td>0</td>\n",
              "      <td>0</td>\n",
              "      <td>0</td>\n",
              "      <td>0</td>\n",
              "      <td>0</td>\n",
              "      <td>0</td>\n",
              "    </tr>\n",
              "    <tr>\n",
              "      <th>21987</th>\n",
              "      <td>0</td>\n",
              "      <td>0</td>\n",
              "      <td>0</td>\n",
              "      <td>0</td>\n",
              "      <td>0</td>\n",
              "      <td>0</td>\n",
              "      <td>0</td>\n",
              "      <td>0</td>\n",
              "      <td>0</td>\n",
              "      <td>0</td>\n",
              "      <td>...</td>\n",
              "      <td>0</td>\n",
              "      <td>0</td>\n",
              "      <td>0</td>\n",
              "      <td>0</td>\n",
              "      <td>0</td>\n",
              "      <td>0</td>\n",
              "      <td>0</td>\n",
              "      <td>0</td>\n",
              "      <td>0</td>\n",
              "      <td>0</td>\n",
              "    </tr>\n",
              "  </tbody>\n",
              "</table>\n",
              "<p>6 rows × 28 columns</p>\n",
              "</div>"
            ],
            "text/plain": [
              "           fgm_home  fga_home  fg3m_home  fg3a_home  ftm_home  fta_home  \\\n",
              "season_id                                                                 \n",
              "21982             0        25          0        862         0         0   \n",
              "21983             0         0          0        862         0         0   \n",
              "21984             0         0          0        864         0         0   \n",
              "21985             0         0          0          0         0         0   \n",
              "21986             0         0          0          0         0         0   \n",
              "21987             0         0          0          0         0         0   \n",
              "\n",
              "           oreb_home  dreb_home  reb_home  ast_home  ...  ftm_away  fta_away  \\\n",
              "season_id                                            ...                       \n",
              "21982            927        943        23        29  ...         0         0   \n",
              "21983            920        936        19        21  ...         0         0   \n",
              "21984            934        942         7         4  ...         0         0   \n",
              "21985              0          0         0         0  ...         0         0   \n",
              "21986              0          0         0         0  ...         0         0   \n",
              "21987              0          0         0         0  ...         0         0   \n",
              "\n",
              "           oreb_away  dreb_away  reb_away  ast_away  stl_away  blk_away  \\\n",
              "season_id                                                                 \n",
              "21982            927        943        23        26       919       862   \n",
              "21983            920        936        17        21       908       862   \n",
              "21984            934        942         5         4       890       864   \n",
              "21985              0          0         0         0         0         0   \n",
              "21986              0          0         0         0         0         0   \n",
              "21987              0          0         0         0         0         0   \n",
              "\n",
              "           tov_away  pf_away  \n",
              "season_id                     \n",
              "21982           867       24  \n",
              "21983           865       10  \n",
              "21984           867        2  \n",
              "21985             0        0  \n",
              "21986             0        0  \n",
              "21987             0        0  \n",
              "\n",
              "[6 rows x 28 columns]"
            ]
          },
          "execution_count": 16,
          "metadata": {},
          "output_type": "execute_result"
        }
      ],
      "source": [
        "\n",
        "total_missing = missing_season_data.sum(axis=1)\n",
        "print(total_missing[30:36])\n",
        "missing_season_data[30:36]"
      ]
    },
    {
      "cell_type": "markdown",
      "metadata": {},
      "source": [
        "We will now check that something similar is true for the Play off games."
      ]
    },
    {
      "cell_type": "code",
      "execution_count": 17,
      "metadata": {},
      "outputs": [
        {
          "name": "stdout",
          "output_type": "stream",
          "text": [
            "['season_id', 'team_id_home', 'team_abbreviation_home', 'team_name_home', 'game_id', 'game_date', 'matchup_home', 'wl_home', 'min', 'fgm_home', 'fg_pct_home', 'fg3_pct_home', 'ftm_home', 'ft_pct_home', 'pts_home', 'plus_minus_home', 'video_available_home', 'team_id_away', 'team_abbreviation_away', 'team_name_away', 'matchup_away', 'wl_away', 'fgm_away', 'fg_pct_away', 'fg3_pct_away', 'ftm_away', 'ft_pct_away', 'pts_away', 'plus_minus_away', 'video_available_away', 'season_type', 'Day', 'Month', 'Year', 'years']\n"
          ]
        }
      ],
      "source": [
        "play_offs_df = game_df.query('season_type == \"Playoffs\"')\n",
        "missing_play_off_data = play_offs_df.isna().groupby(play_offs_df['season_id']).sum()\n",
        "missing_play_off_data.head(10)\n",
        "\n",
        "good_cols = []\n",
        "for col in missing_play_off_data.columns:\n",
        "    unique_vals = missing_play_off_data[col].unique()\n",
        "    if len(unique_vals) == 1 and 0 in unique_vals:\n",
        "        if col not in good_cols:\n",
        "            good_cols.append(col)\n",
        "    elif any([string in col for string in ['_pct_','fgm_','ftm_']]):\n",
        "        good_cols.append(col)\n",
        "\n",
        "print(good_cols)\n",
        "missing_play_off_data.drop(labels=good_cols, inplace=True, axis=1)"
      ]
    },
    {
      "cell_type": "code",
      "execution_count": 18,
      "metadata": {},
      "outputs": [
        {
          "name": "stdout",
          "output_type": "stream",
          "text": [
            "season_id\n",
            "41981    502\n",
            "41982    292\n",
            "41983    817\n",
            "41984      0\n",
            "41985      0\n",
            "41986      0\n",
            "dtype: int64\n"
          ]
        },
        {
          "data": {
            "text/html": [
              "<div>\n",
              "<style scoped>\n",
              "    .dataframe tbody tr th:only-of-type {\n",
              "        vertical-align: middle;\n",
              "    }\n",
              "\n",
              "    .dataframe tbody tr th {\n",
              "        vertical-align: top;\n",
              "    }\n",
              "\n",
              "    .dataframe thead th {\n",
              "        text-align: right;\n",
              "    }\n",
              "</style>\n",
              "<table border=\"1\" class=\"dataframe\">\n",
              "  <thead>\n",
              "    <tr style=\"text-align: right;\">\n",
              "      <th></th>\n",
              "      <th>fga_home</th>\n",
              "      <th>fg3m_home</th>\n",
              "      <th>fg3a_home</th>\n",
              "      <th>fta_home</th>\n",
              "      <th>oreb_home</th>\n",
              "      <th>dreb_home</th>\n",
              "      <th>reb_home</th>\n",
              "      <th>ast_home</th>\n",
              "      <th>stl_home</th>\n",
              "      <th>blk_home</th>\n",
              "      <th>...</th>\n",
              "      <th>fg3a_away</th>\n",
              "      <th>fta_away</th>\n",
              "      <th>oreb_away</th>\n",
              "      <th>dreb_away</th>\n",
              "      <th>reb_away</th>\n",
              "      <th>ast_away</th>\n",
              "      <th>stl_away</th>\n",
              "      <th>blk_away</th>\n",
              "      <th>tov_away</th>\n",
              "      <th>pf_away</th>\n",
              "    </tr>\n",
              "    <tr>\n",
              "      <th>season_id</th>\n",
              "      <th></th>\n",
              "      <th></th>\n",
              "      <th></th>\n",
              "      <th></th>\n",
              "      <th></th>\n",
              "      <th></th>\n",
              "      <th></th>\n",
              "      <th></th>\n",
              "      <th></th>\n",
              "      <th></th>\n",
              "      <th></th>\n",
              "      <th></th>\n",
              "      <th></th>\n",
              "      <th></th>\n",
              "      <th></th>\n",
              "      <th></th>\n",
              "      <th></th>\n",
              "      <th></th>\n",
              "      <th></th>\n",
              "      <th></th>\n",
              "      <th></th>\n",
              "    </tr>\n",
              "  </thead>\n",
              "  <tbody>\n",
              "    <tr>\n",
              "      <th>41981</th>\n",
              "      <td>20</td>\n",
              "      <td>0</td>\n",
              "      <td>24</td>\n",
              "      <td>0</td>\n",
              "      <td>36</td>\n",
              "      <td>40</td>\n",
              "      <td>20</td>\n",
              "      <td>21</td>\n",
              "      <td>36</td>\n",
              "      <td>26</td>\n",
              "      <td>...</td>\n",
              "      <td>24</td>\n",
              "      <td>0</td>\n",
              "      <td>36</td>\n",
              "      <td>40</td>\n",
              "      <td>20</td>\n",
              "      <td>21</td>\n",
              "      <td>36</td>\n",
              "      <td>26</td>\n",
              "      <td>25</td>\n",
              "      <td>3</td>\n",
              "    </tr>\n",
              "    <tr>\n",
              "      <th>41982</th>\n",
              "      <td>0</td>\n",
              "      <td>0</td>\n",
              "      <td>22</td>\n",
              "      <td>0</td>\n",
              "      <td>25</td>\n",
              "      <td>26</td>\n",
              "      <td>2</td>\n",
              "      <td>2</td>\n",
              "      <td>24</td>\n",
              "      <td>22</td>\n",
              "      <td>...</td>\n",
              "      <td>22</td>\n",
              "      <td>0</td>\n",
              "      <td>25</td>\n",
              "      <td>26</td>\n",
              "      <td>2</td>\n",
              "      <td>2</td>\n",
              "      <td>24</td>\n",
              "      <td>22</td>\n",
              "      <td>23</td>\n",
              "      <td>0</td>\n",
              "    </tr>\n",
              "    <tr>\n",
              "      <th>41983</th>\n",
              "      <td>0</td>\n",
              "      <td>0</td>\n",
              "      <td>66</td>\n",
              "      <td>0</td>\n",
              "      <td>71</td>\n",
              "      <td>71</td>\n",
              "      <td>0</td>\n",
              "      <td>1</td>\n",
              "      <td>68</td>\n",
              "      <td>66</td>\n",
              "      <td>...</td>\n",
              "      <td>66</td>\n",
              "      <td>0</td>\n",
              "      <td>71</td>\n",
              "      <td>71</td>\n",
              "      <td>0</td>\n",
              "      <td>0</td>\n",
              "      <td>68</td>\n",
              "      <td>66</td>\n",
              "      <td>66</td>\n",
              "      <td>0</td>\n",
              "    </tr>\n",
              "    <tr>\n",
              "      <th>41984</th>\n",
              "      <td>0</td>\n",
              "      <td>0</td>\n",
              "      <td>0</td>\n",
              "      <td>0</td>\n",
              "      <td>0</td>\n",
              "      <td>0</td>\n",
              "      <td>0</td>\n",
              "      <td>0</td>\n",
              "      <td>0</td>\n",
              "      <td>0</td>\n",
              "      <td>...</td>\n",
              "      <td>0</td>\n",
              "      <td>0</td>\n",
              "      <td>0</td>\n",
              "      <td>0</td>\n",
              "      <td>0</td>\n",
              "      <td>0</td>\n",
              "      <td>0</td>\n",
              "      <td>0</td>\n",
              "      <td>0</td>\n",
              "      <td>0</td>\n",
              "    </tr>\n",
              "    <tr>\n",
              "      <th>41985</th>\n",
              "      <td>0</td>\n",
              "      <td>0</td>\n",
              "      <td>0</td>\n",
              "      <td>0</td>\n",
              "      <td>0</td>\n",
              "      <td>0</td>\n",
              "      <td>0</td>\n",
              "      <td>0</td>\n",
              "      <td>0</td>\n",
              "      <td>0</td>\n",
              "      <td>...</td>\n",
              "      <td>0</td>\n",
              "      <td>0</td>\n",
              "      <td>0</td>\n",
              "      <td>0</td>\n",
              "      <td>0</td>\n",
              "      <td>0</td>\n",
              "      <td>0</td>\n",
              "      <td>0</td>\n",
              "      <td>0</td>\n",
              "      <td>0</td>\n",
              "    </tr>\n",
              "    <tr>\n",
              "      <th>41986</th>\n",
              "      <td>0</td>\n",
              "      <td>0</td>\n",
              "      <td>0</td>\n",
              "      <td>0</td>\n",
              "      <td>0</td>\n",
              "      <td>0</td>\n",
              "      <td>0</td>\n",
              "      <td>0</td>\n",
              "      <td>0</td>\n",
              "      <td>0</td>\n",
              "      <td>...</td>\n",
              "      <td>0</td>\n",
              "      <td>0</td>\n",
              "      <td>0</td>\n",
              "      <td>0</td>\n",
              "      <td>0</td>\n",
              "      <td>0</td>\n",
              "      <td>0</td>\n",
              "      <td>0</td>\n",
              "      <td>0</td>\n",
              "      <td>0</td>\n",
              "    </tr>\n",
              "  </tbody>\n",
              "</table>\n",
              "<p>6 rows × 24 columns</p>\n",
              "</div>"
            ],
            "text/plain": [
              "           fga_home  fg3m_home  fg3a_home  fta_home  oreb_home  dreb_home  \\\n",
              "season_id                                                                   \n",
              "41981            20          0         24         0         36         40   \n",
              "41982             0          0         22         0         25         26   \n",
              "41983             0          0         66         0         71         71   \n",
              "41984             0          0          0         0          0          0   \n",
              "41985             0          0          0         0          0          0   \n",
              "41986             0          0          0         0          0          0   \n",
              "\n",
              "           reb_home  ast_home  stl_home  blk_home  ...  fg3a_away  fta_away  \\\n",
              "season_id                                          ...                        \n",
              "41981            20        21        36        26  ...         24         0   \n",
              "41982             2         2        24        22  ...         22         0   \n",
              "41983             0         1        68        66  ...         66         0   \n",
              "41984             0         0         0         0  ...          0         0   \n",
              "41985             0         0         0         0  ...          0         0   \n",
              "41986             0         0         0         0  ...          0         0   \n",
              "\n",
              "           oreb_away  dreb_away  reb_away  ast_away  stl_away  blk_away  \\\n",
              "season_id                                                                 \n",
              "41981             36         40        20        21        36        26   \n",
              "41982             25         26         2         2        24        22   \n",
              "41983             71         71         0         0        68        66   \n",
              "41984              0          0         0         0         0         0   \n",
              "41985              0          0         0         0         0         0   \n",
              "41986              0          0         0         0         0         0   \n",
              "\n",
              "           tov_away  pf_away  \n",
              "season_id                     \n",
              "41981            25        3  \n",
              "41982            23        0  \n",
              "41983            66        0  \n",
              "41984             0        0  \n",
              "41985             0        0  \n",
              "41986             0        0  \n",
              "\n",
              "[6 rows x 24 columns]"
            ]
          },
          "execution_count": 18,
          "metadata": {},
          "output_type": "execute_result"
        }
      ],
      "source": [
        "total_missing_play_offs = missing_play_off_data.sum(axis=1)\n",
        "print(total_missing_play_offs[30:36])\n",
        "missing_play_off_data[30:36]"
      ]
    },
    {
      "cell_type": "markdown",
      "metadata": {},
      "source": [
        "In fact, it seems that the improvement in the record keeping began during the 1984-1985 Play offs. We will still exclude those post season games as they are \"missing the context\" of the season preceding them.\n",
        "\n",
        "Now we are tasked with removing games with `'season_id'` that ends in something smaller than 1985."
      ]
    },
    {
      "cell_type": "code",
      "execution_count": 19,
      "metadata": {},
      "outputs": [
        {
          "data": {
            "text/html": [
              "<div>\n",
              "<style scoped>\n",
              "    .dataframe tbody tr th:only-of-type {\n",
              "        vertical-align: middle;\n",
              "    }\n",
              "\n",
              "    .dataframe tbody tr th {\n",
              "        vertical-align: top;\n",
              "    }\n",
              "\n",
              "    .dataframe thead th {\n",
              "        text-align: right;\n",
              "    }\n",
              "</style>\n",
              "<table border=\"1\" class=\"dataframe\">\n",
              "  <thead>\n",
              "    <tr style=\"text-align: right;\">\n",
              "      <th></th>\n",
              "      <th>season_id</th>\n",
              "      <th>team_id_home</th>\n",
              "      <th>team_abbreviation_home</th>\n",
              "      <th>team_name_home</th>\n",
              "      <th>game_id</th>\n",
              "      <th>game_date</th>\n",
              "      <th>matchup_home</th>\n",
              "      <th>wl_home</th>\n",
              "      <th>min</th>\n",
              "      <th>fgm_home</th>\n",
              "      <th>...</th>\n",
              "      <th>pf_away</th>\n",
              "      <th>pts_away</th>\n",
              "      <th>plus_minus_away</th>\n",
              "      <th>video_available_away</th>\n",
              "      <th>season_type</th>\n",
              "      <th>Day</th>\n",
              "      <th>Month</th>\n",
              "      <th>Year</th>\n",
              "      <th>years</th>\n",
              "      <th>after_1985</th>\n",
              "    </tr>\n",
              "  </thead>\n",
              "  <tbody>\n",
              "    <tr>\n",
              "      <th>19186</th>\n",
              "      <td>21985</td>\n",
              "      <td>1610612737</td>\n",
              "      <td>ATL</td>\n",
              "      <td>Atlanta Hawks</td>\n",
              "      <td>28500005</td>\n",
              "      <td>1985-10-25 00:00:00</td>\n",
              "      <td>ATL vs. WAS</td>\n",
              "      <td>L</td>\n",
              "      <td>240</td>\n",
              "      <td>41.0</td>\n",
              "      <td>...</td>\n",
              "      <td>19.0</td>\n",
              "      <td>100.0</td>\n",
              "      <td>9</td>\n",
              "      <td>0</td>\n",
              "      <td>Regular Season</td>\n",
              "      <td>25</td>\n",
              "      <td>10</td>\n",
              "      <td>1985</td>\n",
              "      <td>[1985, 1986]</td>\n",
              "      <td>True</td>\n",
              "    </tr>\n",
              "    <tr>\n",
              "      <th>19187</th>\n",
              "      <td>21985</td>\n",
              "      <td>1610612758</td>\n",
              "      <td>SAC</td>\n",
              "      <td>Sacramento Kings</td>\n",
              "      <td>28500006</td>\n",
              "      <td>1985-10-25 00:00:00</td>\n",
              "      <td>SAC vs. LAC</td>\n",
              "      <td>L</td>\n",
              "      <td>240</td>\n",
              "      <td>39.0</td>\n",
              "      <td>...</td>\n",
              "      <td>32.0</td>\n",
              "      <td>108.0</td>\n",
              "      <td>4</td>\n",
              "      <td>0</td>\n",
              "      <td>Regular Season</td>\n",
              "      <td>25</td>\n",
              "      <td>10</td>\n",
              "      <td>1985</td>\n",
              "      <td>[1985, 1986]</td>\n",
              "      <td>True</td>\n",
              "    </tr>\n",
              "    <tr>\n",
              "      <th>19188</th>\n",
              "      <td>21985</td>\n",
              "      <td>1610612765</td>\n",
              "      <td>DET</td>\n",
              "      <td>Detroit Pistons</td>\n",
              "      <td>28500010</td>\n",
              "      <td>1985-10-25 00:00:00</td>\n",
              "      <td>DET vs. MIL</td>\n",
              "      <td>W</td>\n",
              "      <td>240</td>\n",
              "      <td>39.0</td>\n",
              "      <td>...</td>\n",
              "      <td>32.0</td>\n",
              "      <td>116.0</td>\n",
              "      <td>-2</td>\n",
              "      <td>0</td>\n",
              "      <td>Regular Season</td>\n",
              "      <td>25</td>\n",
              "      <td>10</td>\n",
              "      <td>1985</td>\n",
              "      <td>[1985, 1986]</td>\n",
              "      <td>True</td>\n",
              "    </tr>\n",
              "    <tr>\n",
              "      <th>19189</th>\n",
              "      <td>21985</td>\n",
              "      <td>1610612762</td>\n",
              "      <td>UTH</td>\n",
              "      <td>Utah Jazz</td>\n",
              "      <td>28500011</td>\n",
              "      <td>1985-10-25 00:00:00</td>\n",
              "      <td>UTH vs. HOU</td>\n",
              "      <td>L</td>\n",
              "      <td>240</td>\n",
              "      <td>42.0</td>\n",
              "      <td>...</td>\n",
              "      <td>28.0</td>\n",
              "      <td>112.0</td>\n",
              "      <td>4</td>\n",
              "      <td>0</td>\n",
              "      <td>Regular Season</td>\n",
              "      <td>25</td>\n",
              "      <td>10</td>\n",
              "      <td>1985</td>\n",
              "      <td>[1985, 1986]</td>\n",
              "      <td>True</td>\n",
              "    </tr>\n",
              "    <tr>\n",
              "      <th>19190</th>\n",
              "      <td>21985</td>\n",
              "      <td>1610612744</td>\n",
              "      <td>GOS</td>\n",
              "      <td>Golden State Warriors</td>\n",
              "      <td>28500008</td>\n",
              "      <td>1985-10-25 00:00:00</td>\n",
              "      <td>GOS vs. DEN</td>\n",
              "      <td>L</td>\n",
              "      <td>240</td>\n",
              "      <td>36.0</td>\n",
              "      <td>...</td>\n",
              "      <td>40.0</td>\n",
              "      <td>119.0</td>\n",
              "      <td>14</td>\n",
              "      <td>0</td>\n",
              "      <td>Regular Season</td>\n",
              "      <td>25</td>\n",
              "      <td>10</td>\n",
              "      <td>1985</td>\n",
              "      <td>[1985, 1986]</td>\n",
              "      <td>True</td>\n",
              "    </tr>\n",
              "  </tbody>\n",
              "</table>\n",
              "<p>5 rows × 60 columns</p>\n",
              "</div>"
            ],
            "text/plain": [
              "       season_id  team_id_home team_abbreviation_home         team_name_home  \\\n",
              "19186      21985    1610612737                    ATL          Atlanta Hawks   \n",
              "19187      21985    1610612758                    SAC       Sacramento Kings   \n",
              "19188      21985    1610612765                    DET        Detroit Pistons   \n",
              "19189      21985    1610612762                    UTH              Utah Jazz   \n",
              "19190      21985    1610612744                    GOS  Golden State Warriors   \n",
              "\n",
              "        game_id            game_date matchup_home wl_home  min  fgm_home  ...  \\\n",
              "19186  28500005  1985-10-25 00:00:00  ATL vs. WAS       L  240      41.0  ...   \n",
              "19187  28500006  1985-10-25 00:00:00  SAC vs. LAC       L  240      39.0  ...   \n",
              "19188  28500010  1985-10-25 00:00:00  DET vs. MIL       W  240      39.0  ...   \n",
              "19189  28500011  1985-10-25 00:00:00  UTH vs. HOU       L  240      42.0  ...   \n",
              "19190  28500008  1985-10-25 00:00:00  GOS vs. DEN       L  240      36.0  ...   \n",
              "\n",
              "       pf_away  pts_away  plus_minus_away  video_available_away  \\\n",
              "19186     19.0     100.0                9                     0   \n",
              "19187     32.0     108.0                4                     0   \n",
              "19188     32.0     116.0               -2                     0   \n",
              "19189     28.0     112.0                4                     0   \n",
              "19190     40.0     119.0               14                     0   \n",
              "\n",
              "          season_type  Day  Month  Year         years  after_1985  \n",
              "19186  Regular Season   25     10  1985  [1985, 1986]        True  \n",
              "19187  Regular Season   25     10  1985  [1985, 1986]        True  \n",
              "19188  Regular Season   25     10  1985  [1985, 1986]        True  \n",
              "19189  Regular Season   25     10  1985  [1985, 1986]        True  \n",
              "19190  Regular Season   25     10  1985  [1985, 1986]        True  \n",
              "\n",
              "[5 rows x 60 columns]"
            ]
          },
          "execution_count": 19,
          "metadata": {},
          "output_type": "execute_result"
        }
      ],
      "source": [
        "from src.inspection_tools import cutoff_year\n",
        "\n",
        "game_df['after_1985'] = game_df.apply(lambda x: cutoff_year(x['season_id'], 1985), axis=1)\n",
        "game_df_after_1985 = game_df.query('after_1985 == True')\n",
        "\n",
        "game_df_after_1985.head()"
      ]
    },
    {
      "cell_type": "markdown",
      "metadata": {},
      "source": [
        "Let's briefly check to see how much missing data there is."
      ]
    },
    {
      "cell_type": "code",
      "execution_count": 20,
      "metadata": {},
      "outputs": [
        {
          "data": {
            "text/plain": [
              "484"
            ]
          },
          "execution_count": 20,
          "metadata": {},
          "output_type": "execute_result"
        }
      ],
      "source": [
        "game_df_after_1985.isna().sum(axis=1).sum()"
      ]
    },
    {
      "cell_type": "markdown",
      "metadata": {},
      "source": [
        "We will just double check that our function worked properly and that we haven't missed any games from the 1985-1986 regular season or play offs. This is probably overkill."
      ]
    },
    {
      "cell_type": "code",
      "execution_count": 21,
      "metadata": {},
      "outputs": [
        {
          "name": "stdout",
          "output_type": "stream",
          "text": [
            "21984 41984\n",
            "True\n",
            "True\n"
          ]
        }
      ],
      "source": [
        "all_season_ids = game_df['season_id'].unique()\n",
        "after_1985_ids = game_df_after_1985['season_id'].unique()\n",
        "missing_season_ids = []\n",
        "for id in all_season_ids:\n",
        "    if id in after_1985_ids:\n",
        "        actual = game_df.query(f'season_id == {id}')\n",
        "        computed = game_df_after_1985.query(f'season_id == {id}')\n",
        "        if not actual.equals(computed):\n",
        "            raise ValueError(f'{id} is not equal')\n",
        "    else:\n",
        "        missing_season_ids.append(id)\n",
        "\n",
        "regular_season_misses = [id for id in missing_season_ids if str(id)[0]=='2']\n",
        "play_offs_misses = [id for id in missing_season_ids if str(id)[0]=='4']\n",
        "last_regular_season = max(regular_season_misses)\n",
        "last_play_offs = max(play_offs_misses)\n",
        "print(last_regular_season, last_play_offs)\n",
        "\n",
        "regular_season_1985 = game_df.query('season_id == 21985')\n",
        "play_offs_1985 = game_df.query('season_id == 41985')\n",
        "computed_regular_season_1985 = game_df_after_1985.query('season_id == 21985')\n",
        "computed_play_offs_1985 = game_df_after_1985.query('season_id == 41985')\n",
        "\n",
        "print(regular_season_1985.equals(computed_regular_season_1985))\n",
        "print(play_offs_1985.equals(computed_play_offs_1985))\n"
      ]
    },
    {
      "cell_type": "markdown",
      "metadata": {},
      "source": [
        "We are finally ready to remove the columns discussed above. We should also remove some of the columns we added to aid with our analysis. We will remove `'season_type'` since that data is contained in the `'season_id'` and we will remove `'game_date'` since that column is now superfluous."
      ]
    },
    {
      "cell_type": "code",
      "execution_count": 22,
      "metadata": {},
      "outputs": [
        {
          "name": "stdout",
          "output_type": "stream",
          "text": [
            "(64034, 60)\n",
            "The columns have been successfully removed.\n",
            "(44909, 42)\n"
          ]
        }
      ],
      "source": [
        "print(game_df.shape)\n",
        "game_drop_features.extend(['after_1985','years','season_type','game_date'])\n",
        "try:\n",
        "    game_df_after_1985_cleaned = game_df_after_1985.drop(labels=game_drop_features, axis=1)\n",
        "except Exception as e:\n",
        "    print(str(e))\n",
        "else:\n",
        "    print(\"The columns have been successfully removed.\")\n",
        "\n",
        "print(game_df_after_1985_cleaned.shape)\n"
      ]
    },
    {
      "cell_type": "markdown",
      "metadata": {},
      "source": [
        "We have removed a lot of data. We got rid of 18 columns, which contained irrelevant or redundant data. Despite getting rid of approximately 30 years worth of games, we still have the data from almost 45 thousand games. There are also no missing values to impute. Some might argue that we were too hasty, but in the 1984-1985 regular season there were 10746 missing records and only 943 games played. This means that at least 11 records were missing from each game. None of these missing records were in the columns that we remove."
      ]
    },
    {
      "cell_type": "code",
      "execution_count": 23,
      "metadata": {},
      "outputs": [
        {
          "name": "stdout",
          "output_type": "stream",
          "text": [
            "(943, 60)\n",
            "12489\n",
            "10746\n"
          ]
        }
      ],
      "source": [
        "print(game_df.query('season_id == 21984').shape)\n",
        "print(game_df.query('season_id == 21984').isna().sum(axis=1).sum())\n",
        "for col in game_drop_features:\n",
        "    game_df.drop(labels=col, axis=1, inplace=True)\n",
        "print(game_df.query('season_id == 21984').isna().sum(axis=1).sum())"
      ]
    },
    {
      "cell_type": "markdown",
      "metadata": {
        "id": "ZY3l0-AxO93d"
      },
      "source": [
        "---"
      ]
    },
    {
      "cell_type": "markdown",
      "metadata": {},
      "source": [
        "Finally, we save our cleaned game statistics."
      ]
    },
    {
      "cell_type": "code",
      "execution_count": 24,
      "metadata": {},
      "outputs": [],
      "source": [
        "target_dir = '/workspace/pp5-ml-dashboard/outputs/datasets/clean/csv'\n",
        "if not os.path.exists(target_dir):\n",
        "    os.makedirs(target_dir)\n",
        "os.chdir(target_dir)\n",
        "game_df_after_1985_cleaned.to_csv('game_data_clean.csv', index=False)\n"
      ]
    },
    {
      "cell_type": "markdown",
      "metadata": {},
      "source": [
        "# Attention\n",
        "Do I want to clean the other statistics? Do I want to save them? I think it is simple enough to truncate them. I can also do that later I guess. I need to also add sections to the above appropriately as well as what comes next.\n",
        "\n",
        "I could do a correlation study for each season, that would be interesting."
      ]
    },
    {
      "cell_type": "markdown",
      "metadata": {
        "id": "uFQo3ycuO-v6"
      },
      "source": [
        "# Section 3: Exploring the columns of `line_score.csv` and `other_stats.csv`\n",
        "\n",
        "There are two other datasets that we would like to use. We will need to truncate and clean them as well. But first, let's change the directory back and look at the `'other_stats.csv'` and `'line_score.csv'`.\n",
        "\n",
        "This is a section I will only look at after the preliminary work is done. I would have to cut 17k games to include other stats, I would have to cut only 4k to include line_score. Or I could try to impute, but that seems like imputing a lot."
      ]
    },
    {
      "cell_type": "code",
      "execution_count": 48,
      "metadata": {},
      "outputs": [
        {
          "name": "stdout",
          "output_type": "stream",
          "text": [
            "/workspace/pp5-ml-dashboard\n",
            "Index(['game_date_est', 'game_sequence', 'game_id', 'team_id_home',\n",
            "       'team_abbreviation_home', 'team_city_name_home', 'team_nickname_home',\n",
            "       'team_wins_losses_home', 'pts_qtr1_home', 'pts_qtr2_home',\n",
            "       'pts_qtr3_home', 'pts_qtr4_home', 'pts_ot1_home', 'pts_ot2_home',\n",
            "       'pts_ot3_home', 'pts_ot4_home', 'pts_ot5_home', 'pts_ot6_home',\n",
            "       'pts_ot7_home', 'pts_ot8_home', 'pts_ot9_home', 'pts_ot10_home',\n",
            "       'pts_home', 'team_id_away', 'team_abbreviation_away',\n",
            "       'team_city_name_away', 'team_nickname_away', 'team_wins_losses_away',\n",
            "       'pts_qtr1_away', 'pts_qtr2_away', 'pts_qtr3_away', 'pts_qtr4_away',\n",
            "       'pts_ot1_away', 'pts_ot2_away', 'pts_ot3_away', 'pts_ot4_away',\n",
            "       'pts_ot5_away', 'pts_ot6_away', 'pts_ot7_away', 'pts_ot8_away',\n",
            "       'pts_ot9_away', 'pts_ot10_away', 'pts_away'],\n",
            "      dtype='object')\n",
            "Index(['game_id', 'league_id', 'team_id_home', 'team_abbreviation_home',\n",
            "       'team_city_home', 'pts_paint_home', 'pts_2nd_chance_home',\n",
            "       'pts_fb_home', 'largest_lead_home', 'lead_changes', 'times_tied',\n",
            "       'team_turnovers_home', 'total_turnovers_home', 'team_rebounds_home',\n",
            "       'pts_off_to_home', 'team_id_away', 'team_abbreviation_away',\n",
            "       'team_city_away', 'pts_paint_away', 'pts_2nd_chance_away',\n",
            "       'pts_fb_away', 'largest_lead_away', 'team_turnovers_away',\n",
            "       'total_turnovers_away', 'team_rebounds_away', 'pts_off_to_away'],\n",
            "      dtype='object')\n",
            "(58053, 43)\n",
            "(28271, 26)\n"
          ]
        }
      ],
      "source": [
        "os.chdir(home_dir)\n",
        "print(os.getcwd())\n",
        "os.listdir(csv_dir)\n",
        "line_score_df = get_df('line_score')\n",
        "other_stats_df = get_df('other_stats')\n",
        "print(line_score_df.columns)\n",
        "print(other_stats_df.columns)\n",
        "print(line_score_df.shape)\n",
        "print(other_stats_df.shape)"
      ]
    },
    {
      "cell_type": "code",
      "execution_count": 50,
      "metadata": {},
      "outputs": [
        {
          "name": "stdout",
          "output_type": "stream",
          "text": [
            "58013 44909 28261\n",
            "853 17501\n",
            "17743 4639\n"
          ]
        }
      ],
      "source": [
        "line_score_game_ids = line_score_df['game_id'].unique()\n",
        "game_df_after_1985_cleaned_game_ids = game_df_after_1985_cleaned['game_id'].unique()\n",
        "other_stats_game_ids = other_stats_df['game_id'].unique()\n",
        "\n",
        "print(len(line_score_game_ids), len(game_df_after_1985_cleaned_game_ids), len(other_stats_game_ids))\n",
        "\n",
        "other_stats_missing_from_cleaned = []\n",
        "for id in other_stats_game_ids:\n",
        "    if id not in game_df_after_1985_cleaned_game_ids:\n",
        "        other_stats_missing_from_cleaned.append(id)\n",
        "\n",
        "cleaned_id_missing_from_other_stats = []\n",
        "for id in game_df_after_1985_cleaned_game_ids:\n",
        "    if id not in other_stats_game_ids:\n",
        "        cleaned_id_missing_from_other_stats.append(id)\n",
        "\n",
        "print(len(other_stats_missing_from_cleaned), len(cleaned_id_missing_from_other_stats))\n",
        "\n",
        "line_id_missing_from_cleaned = []\n",
        "for id in line_score_game_ids:\n",
        "    if id not in game_df_after_1985_cleaned_game_ids:\n",
        "        line_id_missing_from_cleaned.append(id)\n",
        "\n",
        "cleaned_id_missing_from_line = []\n",
        "for id in game_df_after_1985_cleaned_game_ids:\n",
        "    if id not in line_score_game_ids:\n",
        "        cleaned_id_missing_from_line.append(id)\n",
        "\n",
        "print(len(line_id_missing_from_cleaned), len(cleaned_id_missing_from_line))\n"
      ]
    },
    {
      "cell_type": "markdown",
      "metadata": {},
      "source": [
        "Many of these columns are redundant categorical information. Some are redundant when taken together with the data in `'game.csv'`. Let us "
      ]
    },
    {
      "cell_type": "code",
      "execution_count": 33,
      "metadata": {},
      "outputs": [
        {
          "data": {
            "text/html": [
              "<div>\n",
              "<style scoped>\n",
              "    .dataframe tbody tr th:only-of-type {\n",
              "        vertical-align: middle;\n",
              "    }\n",
              "\n",
              "    .dataframe tbody tr th {\n",
              "        vertical-align: top;\n",
              "    }\n",
              "\n",
              "    .dataframe thead th {\n",
              "        text-align: right;\n",
              "    }\n",
              "</style>\n",
              "<table border=\"1\" class=\"dataframe\">\n",
              "  <thead>\n",
              "    <tr style=\"text-align: right;\">\n",
              "      <th></th>\n",
              "      <th>season_id</th>\n",
              "      <th>team_id_home</th>\n",
              "      <th>game_id</th>\n",
              "      <th>wl_home</th>\n",
              "      <th>min</th>\n",
              "      <th>fgm_home</th>\n",
              "      <th>fga_home</th>\n",
              "      <th>fg3m_home</th>\n",
              "      <th>fg3a_home</th>\n",
              "      <th>ftm_home</th>\n",
              "      <th>...</th>\n",
              "      <th>ast_away</th>\n",
              "      <th>stl_away</th>\n",
              "      <th>blk_away</th>\n",
              "      <th>tov_away</th>\n",
              "      <th>pf_away</th>\n",
              "      <th>pts_away</th>\n",
              "      <th>plus_minus_away</th>\n",
              "      <th>Day</th>\n",
              "      <th>Month</th>\n",
              "      <th>Year</th>\n",
              "    </tr>\n",
              "  </thead>\n",
              "  <tbody>\n",
              "  </tbody>\n",
              "</table>\n",
              "<p>0 rows × 42 columns</p>\n",
              "</div>"
            ],
            "text/plain": [
              "Empty DataFrame\n",
              "Columns: [season_id, team_id_home, game_id, wl_home, min, fgm_home, fga_home, fg3m_home, fg3a_home, ftm_home, fta_home, oreb_home, dreb_home, reb_home, ast_home, stl_home, blk_home, tov_home, pf_home, pts_home, plus_minus_home, team_id_away, wl_away, fgm_away, fga_away, fg3m_away, fg3a_away, ftm_away, fta_away, oreb_away, dreb_away, reb_away, ast_away, stl_away, blk_away, tov_away, pf_away, pts_away, plus_minus_away, Day, Month, Year]\n",
              "Index: []\n",
              "\n",
              "[0 rows x 42 columns]"
            ]
          },
          "execution_count": 33,
          "metadata": {},
          "output_type": "execute_result"
        }
      ],
      "source": [
        "game_df.query('game_id == 32200001')"
      ]
    },
    {
      "cell_type": "markdown",
      "metadata": {},
      "source": [
        "---"
      ]
    },
    {
      "cell_type": "markdown",
      "metadata": {},
      "source": [
        "NOTE"
      ]
    },
    {
      "cell_type": "markdown",
      "metadata": {},
      "source": [
        "* You may add as many sections as you want, as long as it supports your project workflow.\n",
        "* All notebook's cells should be run top-down (you can't create a dynamic wherein a given point you need to go back to a previous cell to execute some task, like go back to a previous cell and refresh a variable content)"
      ]
    },
    {
      "cell_type": "markdown",
      "metadata": {},
      "source": [
        "---"
      ]
    },
    {
      "cell_type": "markdown",
      "metadata": {
        "id": "ltNetd085qHf"
      },
      "source": [
        "# Push files to Repo"
      ]
    },
    {
      "cell_type": "markdown",
      "metadata": {},
      "source": [
        "* In case you don't need to push files to Repo, you may replace this section with \"Conclusions and Next Steps\" and state your conclusions and next steps."
      ]
    },
    {
      "cell_type": "code",
      "execution_count": 26,
      "metadata": {
        "id": "aKlnIozA4eQO",
        "outputId": "fd09bc1f-adb1-4511-f6ce-492a6af570c0"
      },
      "outputs": [
        {
          "ename": "IndentationError",
          "evalue": "expected an indented block (2852421808.py, line 5)",
          "output_type": "error",
          "traceback": [
            "\u001b[0;36m  Cell \u001b[0;32mIn[26], line 5\u001b[0;36m\u001b[0m\n\u001b[0;31m    except Exception as e:\u001b[0m\n\u001b[0m    ^\u001b[0m\n\u001b[0;31mIndentationError\u001b[0m\u001b[0;31m:\u001b[0m expected an indented block\n"
          ]
        }
      ],
      "source": [
        "import os\n",
        "try:\n",
        "  # create here your folder\n",
        "  # os.makedirs(name='')\n",
        "except Exception as e:\n",
        "  print(e)\n"
      ]
    }
  ],
  "metadata": {
    "accelerator": "GPU",
    "colab": {
      "name": "Data Practitioner Jupyter Notebook.ipynb",
      "provenance": [],
      "toc_visible": true
    },
    "interpreter": {
      "hash": "8b8334dab9339717f727a1deaf837b322d7a41c20d15cc86be99a8e69ceec8ce"
    },
    "kernelspec": {
      "display_name": "Python 3.8.12 64-bit ('3.8.12': pyenv)",
      "name": "python3"
    },
    "language_info": {
      "codemirror_mode": {
        "name": "ipython",
        "version": 3
      },
      "file_extension": ".py",
      "mimetype": "text/x-python",
      "name": "python",
      "nbconvert_exporter": "python",
      "pygments_lexer": "ipython3",
      "version": "3.8.18"
    },
    "orig_nbformat": 2
  },
  "nbformat": 4,
  "nbformat_minor": 2
}
