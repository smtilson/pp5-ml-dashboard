{
 "cells": [
  {
   "cell_type": "markdown",
   "metadata": {},
   "source": [
    "# Cleaning\n",
    "In this notebook, we clean different sets of data and save the output in the outputs directory as csv files.\n",
    "\n",
    "## Section 1: Set up\n",
    "This is the standard set up at the beginning of each notebook. We change the working directory, import the relevant packages, and load the dataframes."
   ]
  },
  {
   "cell_type": "code",
   "execution_count": 1,
   "metadata": {},
   "outputs": [],
   "source": [
    "import os\n",
    "current_dir = os.getcwd()\n",
    "os.chdir(os.path.dirname(current_dir))\n",
    "\n",
    "import numpy as np\n",
    "import pandas as pd\n",
    "import seaborn as sns\n",
    "import matplotlib.pyplot as plt\n",
    "from feature_engine.selection import DropFeatures\n",
    "from utils import get_df, get_info_df, info_dtype_dict,add_cat_date\n",
    "\n",
    "\n",
    "games = get_df('game')\n",
    "line_scores = get_df('line_score')\n",
    "other_stats = get_df('other_stats')\n",
    "team_info_common = get_df('team_info_common')"
   ]
  },
  {
   "cell_type": "markdown",
   "metadata": {},
   "source": [
    "We will remove some of the categorical columns from the games data frame that are not pertinent to our investigation. Things like team abbreviations."
   ]
  },
  {
   "cell_type": "code",
   "execution_count": null,
   "metadata": {},
   "outputs": [],
   "source": [
    "#print(info_dtype_dict(games))\n",
    "#print(info_dtype_dict(other_stats))\n",
    "#print(info_dtype_dict(line_scores))\n",
    "#print(info_dtype_dict(team_info_common))"
   ]
  },
  {
   "cell_type": "code",
   "execution_count": 2,
   "metadata": {},
   "outputs": [],
   "source": [
    "games_drop_features =['team_name_home','team_abbreviation_home','team_abbreviation_away','team_name_away','video_available_home','video_available_away', 'matchup_home','matchup_away']\n",
    "other_stats_drop_features = ['team_abbreviation_home','team_city_home','team_abbreviation_away','team_city_away']\n",
    "# remove all percentages since the raw data is more informative\n",
    "percentage_stats = [key for key in games.keys() if '_pct_' in key]\n",
    "games_drop_features.extend(percentage_stats)\n",
    "percentage_stats = [key for key in other_stats.keys() if '_pct_' in key]\n",
    "other_stats_drop_features.extend(percentage_stats)\n",
    "\n"
   ]
  },
  {
   "cell_type": "markdown",
   "metadata": {},
   "source": [
    "Inspect the different types of games. Notice, there are all-star games included. The teams are completely different, so I should remove the all-star games. I should potentially remove the pre-season and playoff games as well, due to the stability of the results. But it would be interesting to leave these things in for clustering. Perhaps that is another project. I guess I also want to get rid of pre season games as they may involve non nba teams."
   ]
  },
  {
   "cell_type": "code",
   "execution_count": 3,
   "metadata": {},
   "outputs": [],
   "source": [
    "\n",
    "games = games[games['season_type']!='All-Star']\n",
    "games = games[games['season_type']!='All Star']\n",
    "games = games[games['season_type']!='Pre Season']\n",
    "games['season_type'].unique()\n",
    "regular_games = games[games['season_type']=='Regular Season']"
   ]
  },
  {
   "cell_type": "markdown",
   "metadata": {},
   "source": [
    "Now we want to consider in what range we have NaN values. I think that we should have complete data after a certain date. At the very least, we should not globally impute the data because there are long term trends and we want to view our data as evolving over time.\n",
    "I should probably also remvoe the covid games?\n",
    "\n",
    "We create a test df that has only columns that have na vvalues."
   ]
  },
  {
   "cell_type": "code",
   "execution_count": 4,
   "metadata": {},
   "outputs": [
    {
     "data": {
      "text/plain": [
       "Index(['season_id', 'team_id_home', 'team_abbreviation_home', 'team_name_home',\n",
       "       'game_id', 'game_date', 'matchup_home', 'wl_home', 'min', 'fgm_home',\n",
       "       'fga_home', 'fg_pct_home', 'fg3m_home', 'fg3a_home', 'fg3_pct_home',\n",
       "       'ftm_home', 'fta_home', 'ft_pct_home', 'oreb_home', 'dreb_home',\n",
       "       'reb_home', 'ast_home', 'stl_home', 'blk_home', 'tov_home', 'pf_home',\n",
       "       'pts_home', 'plus_minus_home', 'video_available_home', 'team_id_away',\n",
       "       'team_abbreviation_away', 'team_name_away', 'matchup_away', 'wl_away',\n",
       "       'fgm_away', 'fga_away', 'fg_pct_away', 'fg3m_away', 'fg3a_away',\n",
       "       'fg3_pct_away', 'ftm_away', 'fta_away', 'ft_pct_away', 'oreb_away',\n",
       "       'dreb_away', 'reb_away', 'ast_away', 'stl_away', 'blk_away', 'tov_away',\n",
       "       'pf_away', 'pts_away', 'plus_minus_away', 'video_available_away',\n",
       "       'season_type', 'Day', 'Month', 'Year'],\n",
       "      dtype='object')"
      ]
     },
     "execution_count": 4,
     "metadata": {},
     "output_type": "execute_result"
    }
   ],
   "source": [
    "\n",
    "games = add_cat_date(games,'game_date')\n",
    "games.game_date\n"
   ]
  },
  {
   "cell_type": "code",
   "execution_count": null,
   "metadata": {},
   "outputs": [],
   "source": [
    "null_cols = games.isnull().any()\n",
    "#print(null_cols)\n",
    "test_dict = null_cols.to_dict()\n",
    "null_cols = [key for key,value in test_dict.items() if value]\n",
    "#print(null_cols)\n",
    "test_games = games[null_cols]\n",
    "test_games.info()\n",
    "test_games.head()\n",
    "\n",
    "\n"
   ]
  },
  {
   "cell_type": "code",
   "execution_count": null,
   "metadata": {},
   "outputs": [],
   "source": []
  },
  {
   "cell_type": "markdown",
   "metadata": {},
   "source": [
    "At some point, I should transform the team_home_id and away_id into categorical variables and one hot encode them. I think I should chec if they are stable in a sense."
   ]
  }
 ],
 "metadata": {
  "kernelspec": {
   "display_name": "Python 3",
   "language": "python",
   "name": "python3"
  },
  "language_info": {
   "codemirror_mode": {
    "name": "ipython",
    "version": 3
   },
   "file_extension": ".py",
   "mimetype": "text/x-python",
   "name": "python",
   "nbconvert_exporter": "python",
   "pygments_lexer": "ipython3",
   "version": "3.8.18"
  }
 },
 "nbformat": 4,
 "nbformat_minor": 2
}
