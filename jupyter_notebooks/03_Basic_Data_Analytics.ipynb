{
  "cells": [
    {
      "cell_type": "markdown",
      "metadata": {
        "id": "0aStgWSO0E0E"
      },
      "source": [
        "# **Basic Data Analytics**"
      ]
    },
    {
      "cell_type": "markdown",
      "metadata": {
        "id": "1eLEkw5O0ECa"
      },
      "source": [
        "## Objectives\n",
        "\n",
        "* In this notebook, we will do some preliminary statistical analysis, such as a correlation study, as well as various visualizations.\n",
        "\n",
        "## Inputs\n",
        "\n",
        "* The input for this is the cleaned data from the last notebook, namely `'game_data_clean.csv'`.\n",
        "\n",
        "## Outputs\n",
        "\n",
        "* At the end, we will have various plots displaying the statistical relationship between different features of our dataset.\n",
        "\n",
        "## Additional Comments\n",
        "\n",
        "* In case you have any additional comments that don't fit in the previous bullets, please state them here. \n"
      ]
    },
    {
      "cell_type": "markdown",
      "metadata": {
        "id": "9uWZXH9LwoQg"
      },
      "source": [
        "---"
      ]
    },
    {
      "cell_type": "markdown",
      "metadata": {
        "id": "cqP-UeN-z3i2"
      },
      "source": [
        "# Change working directory"
      ]
    },
    {
      "cell_type": "markdown",
      "metadata": {},
      "source": [
        "* We are assuming you will store the notebooks in a subfolder, therefore when running the notebook in the editor, you will need to change the working directory"
      ]
    },
    {
      "cell_type": "markdown",
      "metadata": {
        "id": "aOGIGS-uz3i2"
      },
      "source": [
        "We need to change the working directory from its current folder to its parent folder\n",
        "* We access the current directory with os.getcwd()"
      ]
    },
    {
      "cell_type": "code",
      "execution_count": 2,
      "metadata": {
        "id": "wZfF_j-Bz3i4",
        "outputId": "66943449-1436-4c3d-85c7-b85f9f78349b"
      },
      "outputs": [
        {
          "name": "stdout",
          "output_type": "stream",
          "text": [
            "/workspace/pp5-ml-dashboard\n"
          ]
        }
      ],
      "source": [
        "import os\n",
        "home_dir = '/workspace/pp5-ml-dashboard'\n",
        "csv_dir ='/workspace/pp5-ml-dashboard/outputs/datasets/clean/csv' \n",
        "os.chdir(home_dir)\n",
        "current_dir = os.getcwd()\n",
        "print(current_dir)\n",
        "\n"
      ]
    },
    {
      "cell_type": "markdown",
      "metadata": {
        "id": "9MWW8E7lz3i7"
      },
      "source": [
        "We now load our cleaned dataset as well as some of the packages that we will be using."
      ]
    },
    {
      "cell_type": "code",
      "execution_count": 4,
      "metadata": {
        "id": "TwHsQRWjz3i9",
        "outputId": "86849db3-cd2f-4cc5-ebb8-2d0caafa1a2c"
      },
      "outputs": [
        {
          "data": {
            "text/html": [
              "<div>\n",
              "<style scoped>\n",
              "    .dataframe tbody tr th:only-of-type {\n",
              "        vertical-align: middle;\n",
              "    }\n",
              "\n",
              "    .dataframe tbody tr th {\n",
              "        vertical-align: top;\n",
              "    }\n",
              "\n",
              "    .dataframe thead th {\n",
              "        text-align: right;\n",
              "    }\n",
              "</style>\n",
              "<table border=\"1\" class=\"dataframe\">\n",
              "  <thead>\n",
              "    <tr style=\"text-align: right;\">\n",
              "      <th></th>\n",
              "      <th>season_id</th>\n",
              "      <th>team_id_home</th>\n",
              "      <th>game_id</th>\n",
              "      <th>wl_home</th>\n",
              "      <th>min</th>\n",
              "      <th>fgm_home</th>\n",
              "      <th>fga_home</th>\n",
              "      <th>fg3m_home</th>\n",
              "      <th>fg3a_home</th>\n",
              "      <th>ftm_home</th>\n",
              "      <th>...</th>\n",
              "      <th>ast_away</th>\n",
              "      <th>stl_away</th>\n",
              "      <th>blk_away</th>\n",
              "      <th>tov_away</th>\n",
              "      <th>pf_away</th>\n",
              "      <th>pts_away</th>\n",
              "      <th>plus_minus_away</th>\n",
              "      <th>Day</th>\n",
              "      <th>Month</th>\n",
              "      <th>Year</th>\n",
              "    </tr>\n",
              "  </thead>\n",
              "  <tbody>\n",
              "    <tr>\n",
              "      <th>0</th>\n",
              "      <td>21985</td>\n",
              "      <td>1610612737</td>\n",
              "      <td>28500005</td>\n",
              "      <td>L</td>\n",
              "      <td>240</td>\n",
              "      <td>41.0</td>\n",
              "      <td>92.0</td>\n",
              "      <td>0.0</td>\n",
              "      <td>3.0</td>\n",
              "      <td>9.0</td>\n",
              "      <td>...</td>\n",
              "      <td>21.0</td>\n",
              "      <td>11.0</td>\n",
              "      <td>7.0</td>\n",
              "      <td>17.0</td>\n",
              "      <td>19.0</td>\n",
              "      <td>100.0</td>\n",
              "      <td>9</td>\n",
              "      <td>25</td>\n",
              "      <td>10</td>\n",
              "      <td>1985</td>\n",
              "    </tr>\n",
              "    <tr>\n",
              "      <th>1</th>\n",
              "      <td>21985</td>\n",
              "      <td>1610612758</td>\n",
              "      <td>28500006</td>\n",
              "      <td>L</td>\n",
              "      <td>240</td>\n",
              "      <td>39.0</td>\n",
              "      <td>88.0</td>\n",
              "      <td>0.0</td>\n",
              "      <td>2.0</td>\n",
              "      <td>26.0</td>\n",
              "      <td>...</td>\n",
              "      <td>19.0</td>\n",
              "      <td>7.0</td>\n",
              "      <td>7.0</td>\n",
              "      <td>18.0</td>\n",
              "      <td>32.0</td>\n",
              "      <td>108.0</td>\n",
              "      <td>4</td>\n",
              "      <td>25</td>\n",
              "      <td>10</td>\n",
              "      <td>1985</td>\n",
              "    </tr>\n",
              "    <tr>\n",
              "      <th>2</th>\n",
              "      <td>21985</td>\n",
              "      <td>1610612765</td>\n",
              "      <td>28500010</td>\n",
              "      <td>W</td>\n",
              "      <td>240</td>\n",
              "      <td>39.0</td>\n",
              "      <td>88.0</td>\n",
              "      <td>0.0</td>\n",
              "      <td>1.0</td>\n",
              "      <td>40.0</td>\n",
              "      <td>...</td>\n",
              "      <td>27.0</td>\n",
              "      <td>10.0</td>\n",
              "      <td>7.0</td>\n",
              "      <td>20.0</td>\n",
              "      <td>32.0</td>\n",
              "      <td>116.0</td>\n",
              "      <td>-2</td>\n",
              "      <td>25</td>\n",
              "      <td>10</td>\n",
              "      <td>1985</td>\n",
              "    </tr>\n",
              "    <tr>\n",
              "      <th>3</th>\n",
              "      <td>21985</td>\n",
              "      <td>1610612762</td>\n",
              "      <td>28500011</td>\n",
              "      <td>L</td>\n",
              "      <td>240</td>\n",
              "      <td>42.0</td>\n",
              "      <td>82.0</td>\n",
              "      <td>0.0</td>\n",
              "      <td>2.0</td>\n",
              "      <td>24.0</td>\n",
              "      <td>...</td>\n",
              "      <td>23.0</td>\n",
              "      <td>10.0</td>\n",
              "      <td>7.0</td>\n",
              "      <td>19.0</td>\n",
              "      <td>28.0</td>\n",
              "      <td>112.0</td>\n",
              "      <td>4</td>\n",
              "      <td>25</td>\n",
              "      <td>10</td>\n",
              "      <td>1985</td>\n",
              "    </tr>\n",
              "    <tr>\n",
              "      <th>4</th>\n",
              "      <td>21985</td>\n",
              "      <td>1610612744</td>\n",
              "      <td>28500008</td>\n",
              "      <td>L</td>\n",
              "      <td>240</td>\n",
              "      <td>36.0</td>\n",
              "      <td>91.0</td>\n",
              "      <td>0.0</td>\n",
              "      <td>4.0</td>\n",
              "      <td>33.0</td>\n",
              "      <td>...</td>\n",
              "      <td>26.0</td>\n",
              "      <td>11.0</td>\n",
              "      <td>3.0</td>\n",
              "      <td>22.0</td>\n",
              "      <td>40.0</td>\n",
              "      <td>119.0</td>\n",
              "      <td>14</td>\n",
              "      <td>25</td>\n",
              "      <td>10</td>\n",
              "      <td>1985</td>\n",
              "    </tr>\n",
              "  </tbody>\n",
              "</table>\n",
              "<p>5 rows × 42 columns</p>\n",
              "</div>"
            ],
            "text/plain": [
              "   season_id  team_id_home   game_id wl_home  min  fgm_home  fga_home  \\\n",
              "0      21985    1610612737  28500005       L  240      41.0      92.0   \n",
              "1      21985    1610612758  28500006       L  240      39.0      88.0   \n",
              "2      21985    1610612765  28500010       W  240      39.0      88.0   \n",
              "3      21985    1610612762  28500011       L  240      42.0      82.0   \n",
              "4      21985    1610612744  28500008       L  240      36.0      91.0   \n",
              "\n",
              "   fg3m_home  fg3a_home  ftm_home  ...  ast_away  stl_away  blk_away  \\\n",
              "0        0.0        3.0       9.0  ...      21.0      11.0       7.0   \n",
              "1        0.0        2.0      26.0  ...      19.0       7.0       7.0   \n",
              "2        0.0        1.0      40.0  ...      27.0      10.0       7.0   \n",
              "3        0.0        2.0      24.0  ...      23.0      10.0       7.0   \n",
              "4        0.0        4.0      33.0  ...      26.0      11.0       3.0   \n",
              "\n",
              "   tov_away  pf_away  pts_away  plus_minus_away  Day  Month  Year  \n",
              "0      17.0     19.0     100.0                9   25     10  1985  \n",
              "1      18.0     32.0     108.0                4   25     10  1985  \n",
              "2      20.0     32.0     116.0               -2   25     10  1985  \n",
              "3      19.0     28.0     112.0                4   25     10  1985  \n",
              "4      22.0     40.0     119.0               14   25     10  1985  \n",
              "\n",
              "[5 rows x 42 columns]"
            ]
          },
          "execution_count": 4,
          "metadata": {},
          "output_type": "execute_result"
        }
      ],
      "source": [
        "import numpy as np\n",
        "import pandas as pd\n",
        "import seaborn as sns\n",
        "import matplotlib.pyplot as plt\n",
        "import plotly.express as px\n",
        "from ydata_profiling import ProfileReport\n",
        "from src.utils import get_df\n",
        "\n",
        "game_data = get_df('game_data_clean', csv_dir)\n",
        "game_data.head()"
      ]
    },
    {
      "cell_type": "markdown",
      "metadata": {
        "id": "-mavJ8DibrcQ"
      },
      "source": [
        "# Section 1: Correlation study and visualization\n",
        "We hypothesize that many of the statistics will be correlated with each other. After dropping certain categorical features, lets look the correlation dataframe.\n",
        "\n",
        "Note: add in playoff and regular season column to see if anything correlates there, and maybe leave year in, or add season in as an ordinal thing. maybe make team ordinal as well. drop day, maybe drop month as well."
      ]
    },
    {
      "cell_type": "code",
      "execution_count": 5,
      "metadata": {},
      "outputs": [
        {
          "data": {
            "text/plain": [
              "Index(['season_id', 'team_id_home', 'game_id', 'wl_home', 'min', 'fgm_home',\n",
              "       'fga_home', 'fg3m_home', 'fg3a_home', 'ftm_home', 'fta_home',\n",
              "       'oreb_home', 'dreb_home', 'reb_home', 'ast_home', 'stl_home',\n",
              "       'blk_home', 'tov_home', 'pf_home', 'pts_home', 'plus_minus_home',\n",
              "       'team_id_away', 'wl_away', 'fgm_away', 'fga_away', 'fg3m_away',\n",
              "       'fg3a_away', 'ftm_away', 'fta_away', 'oreb_away', 'dreb_away',\n",
              "       'reb_away', 'ast_away', 'stl_away', 'blk_away', 'tov_away', 'pf_away',\n",
              "       'pts_away', 'plus_minus_away', 'Day', 'Month', 'Year'],\n",
              "      dtype='object')"
            ]
          },
          "execution_count": 5,
          "metadata": {},
          "output_type": "execute_result"
        }
      ],
      "source": [
        "game_data.columns"
      ]
    },
    {
      "cell_type": "markdown",
      "metadata": {},
      "source": [
        "Section 1 content"
      ]
    },
    {
      "cell_type": "code",
      "execution_count": null,
      "metadata": {},
      "outputs": [],
      "source": []
    },
    {
      "cell_type": "markdown",
      "metadata": {
        "id": "ZY3l0-AxO93d"
      },
      "source": [
        "---"
      ]
    },
    {
      "cell_type": "markdown",
      "metadata": {
        "id": "uFQo3ycuO-v6"
      },
      "source": [
        "# Section 2"
      ]
    },
    {
      "cell_type": "markdown",
      "metadata": {},
      "source": [
        "Section 2 content"
      ]
    },
    {
      "cell_type": "code",
      "execution_count": null,
      "metadata": {},
      "outputs": [],
      "source": []
    },
    {
      "cell_type": "markdown",
      "metadata": {},
      "source": [
        "---"
      ]
    },
    {
      "cell_type": "markdown",
      "metadata": {},
      "source": [
        "NOTE"
      ]
    },
    {
      "cell_type": "markdown",
      "metadata": {},
      "source": [
        "* You may add as many sections as you want, as long as it supports your project workflow.\n",
        "* All notebook's cells should be run top-down (you can't create a dynamic wherein a given point you need to go back to a previous cell to execute some task, like go back to a previous cell and refresh a variable content)"
      ]
    },
    {
      "cell_type": "markdown",
      "metadata": {},
      "source": [
        "---"
      ]
    },
    {
      "cell_type": "markdown",
      "metadata": {
        "id": "ltNetd085qHf"
      },
      "source": [
        "# Push files to Repo"
      ]
    },
    {
      "cell_type": "markdown",
      "metadata": {},
      "source": [
        "* In case you don't need to push files to Repo, you may replace this section with \"Conclusions and Next Steps\" and state your conclusions and next steps."
      ]
    },
    {
      "cell_type": "code",
      "execution_count": null,
      "metadata": {
        "id": "aKlnIozA4eQO",
        "outputId": "fd09bc1f-adb1-4511-f6ce-492a6af570c0"
      },
      "outputs": [],
      "source": [
        "import os\n",
        "try:\n",
        "  # create here your folder\n",
        "  # os.makedirs(name='')\n",
        "except Exception as e:\n",
        "  print(e)\n"
      ]
    }
  ],
  "metadata": {
    "accelerator": "GPU",
    "colab": {
      "name": "Data Practitioner Jupyter Notebook.ipynb",
      "provenance": [],
      "toc_visible": true
    },
    "interpreter": {
      "hash": "8b8334dab9339717f727a1deaf837b322d7a41c20d15cc86be99a8e69ceec8ce"
    },
    "kernelspec": {
      "display_name": "Python 3.8.12 64-bit ('3.8.12': pyenv)",
      "name": "python3"
    },
    "language_info": {
      "codemirror_mode": {
        "name": "ipython",
        "version": 3
      },
      "file_extension": ".py",
      "mimetype": "text/x-python",
      "name": "python",
      "nbconvert_exporter": "python",
      "pygments_lexer": "ipython3",
      "version": "3.8.18"
    },
    "orig_nbformat": 2
  },
  "nbformat": 4,
  "nbformat_minor": 2
}
