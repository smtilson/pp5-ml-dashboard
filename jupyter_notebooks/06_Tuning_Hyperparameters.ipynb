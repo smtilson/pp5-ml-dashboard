{
  "cells": [
    {
      "cell_type": "markdown",
      "metadata": {
        "id": "0aStgWSO0E0E"
      },
      "source": [
        "# **Tuning Hyperparameters**"
      ]
    },
    {
      "cell_type": "markdown",
      "metadata": {
        "id": "1eLEkw5O0ECa"
      },
      "source": [
        "## Objectives\n",
        "\n",
        "* We will tune the hyperparameters of for Logistic Regression, Ada Boost, and Gradient Boosting models.\n",
        "\n",
        "## Inputs\n",
        "\n",
        "* Training and Testing data sets from notebook 04.\n",
        "* Insights developed in the previous notebook.\n",
        "\n",
        "## Outputs\n",
        "\n",
        "* We will have saved models with tuned hyper parameters at the end of this notebook.\n",
        "\n",
        "## Additional Comments\n",
        "\n",
        "* In case you have any additional comments that don't fit in the previous bullets, please state them here. \n"
      ]
    },
    {
      "cell_type": "markdown",
      "metadata": {
        "id": "9uWZXH9LwoQg"
      },
      "source": [
        "---"
      ]
    },
    {
      "cell_type": "markdown",
      "metadata": {},
      "source": [
        "# Change working directory\n",
        "We need to change the working directory from its current folder to its parent folder\n",
        "* We access the current directory with os.getcwd()"
      ]
    },
    {
      "cell_type": "code",
      "execution_count": 1,
      "metadata": {},
      "outputs": [
        {
          "name": "stdout",
          "output_type": "stream",
          "text": [
            "/workspace/pp5-ml-dashboard\n"
          ]
        }
      ],
      "source": [
        "import os\n",
        "\n",
        "home_dir = '/workspace/pp5-ml-dashboard'\n",
        "os.chdir(home_dir)\n",
        "current_dir = os.getcwd()\n",
        "print(current_dir)"
      ]
    },
    {
      "cell_type": "markdown",
      "metadata": {},
      "source": [
        "We now load our training and test sets, as well as some of the packages that we will be using."
      ]
    },
    {
      "cell_type": "code",
      "execution_count": 2,
      "metadata": {},
      "outputs": [],
      "source": [
        "import numpy as np\n",
        "import pandas as pd\n",
        "import seaborn as sns\n",
        "import matplotlib.pyplot as plt\n",
        "import plotly.express as px\n",
        "from src.utils import get_df, save_df\n",
        "\n",
        "train_dir = 'datasets/train/csv'\n",
        "X_TrainSet = get_df('X_TrainSet',train_dir)\n",
        "Y_TrainSet = get_df('Y_TrainSet',train_dir)\n",
        "\n",
        "test_dir = 'datasets/test/csv'\n",
        "X_TestSet = get_df('X_TestSet',test_dir)\n",
        "Y_TestSet = get_df('Y_TestSet',test_dir)"
      ]
    },
    {
      "cell_type": "markdown",
      "metadata": {},
      "source": [
        "## Section 1: Pipeline and Grid Search set up\n",
        "We recall the code for building our pipelines and the grid search that we performed in the last notebook. Note that some of the constants have changed. \n",
        "\n",
        "We have modified the pipeline to see how feateure selection impacts the performance. Note that setting `thresh=1` essentially removes the `'corr_selector'` step from the pipeline. We will eventually remove this step from the pipeline once we have selected a value for `thresh`."
      ]
    },
    {
      "cell_type": "code",
      "execution_count": 3,
      "metadata": {},
      "outputs": [],
      "source": [
        "from sklearn.preprocessing import StandardScaler\n",
        "from feature_engine import transformation as vt\n",
        "from feature_engine.selection import DropFeatures, SmartCorrelatedSelection\n",
        "from sklearn.pipeline import Pipeline\n",
        "\n",
        "\n",
        "# Constants needed for feature engineering\n",
        "TO_DROP = ['ftm_away', 'plus_minus_home', 'fg3m_away', 'pts_away', 'play_off',\n",
        "           'fgm_away', 'pts_home', 'fg3m_home', 'ftm_home', 'fgm_home',\n",
        "           'season']\n",
        "THRESH = 0.6\n",
        "TRANSFORMS = {'box_cox':(vt.BoxCoxTransformer,False),\n",
        "              'yeo_johnson':(vt.YeoJohnsonTransformer,False)}\n",
        "TRANSFORM_ASSIGNMENTS = {\n",
        "    'yeo_johnson': ['dreb_away', 'blk_home', 'oreb_away', 'fta_away',\n",
        "                    'dreb_home', 'ast_home', 'stl_away', 'stl_home',\n",
        "                    'reb_away', 'oreb_home', 'pf_away', 'pf_home'],\n",
        "    'box_cox': ['ast_away', 'fta_home']\n",
        "                            }\n",
        "\n",
        "\n",
        "def base_pipeline(thresh=THRESH):\n",
        "    pipeline = Pipeline([\n",
        "        ('dropper', DropFeatures(features_to_drop=TO_DROP)),\n",
        "        ('corr_selector', SmartCorrelatedSelection(method=\"pearson\",\n",
        "                                                   threshold=thresh,\n",
        "                                                   selection_method=\"variance\")\n",
        "                                                   )\n",
        "                        ])\n",
        "    return pipeline\n",
        "\n",
        "    \n",
        "def add_transformations(pipeline, transform_assignments):\n",
        "    # This needs to be called after the above is fit so that the correlation selector has that attr\n",
        "    dropping = pipeline['corr_selector'].features_to_drop_\n",
        "    \n",
        "    new_assignments = { key: [val for val in value if val not in dropping] \n",
        "                       for key,value in transform_assignments.items()}\n",
        "    for transform, targets in new_assignments.items():\n",
        "        if not targets:\n",
        "            continue\n",
        "        pipeline.steps.append(\n",
        "            (transform, TRANSFORMS[transform][0](variables=targets))\n",
        "            )\n",
        "    pipeline.steps.append(('scaler', StandardScaler()))\n",
        "    return pipeline"
      ]
    },
    {
      "cell_type": "code",
      "execution_count": 4,
      "metadata": {},
      "outputs": [],
      "source": [
        "from sklearn.feature_selection import SelectFromModel\n",
        "\n",
        "# ML algorithms\n",
        "from sklearn.linear_model import LogisticRegression\n",
        "from sklearn.ensemble import GradientBoostingClassifier,AdaBoostClassifier\n",
        "\n",
        "\n",
        "MODELS = {\n",
        "    'LogisticRegression': LogisticRegression,\n",
        "    'GradientBoosting': GradientBoostingClassifier,\n",
        "    'AdaBoost': AdaBoostClassifier,\n",
        "}\n",
        "\n",
        "def create_pipe(model_name, random_state=42, params={}):\n",
        "    model = MODELS[model_name](random_state=random_state,**params)\n",
        "    base_pipe = base_pipeline()\n",
        "    base_pipe.fit(X_TrainSet)\n",
        "    pipe= add_transformations(base_pipe,TRANSFORM_ASSIGNMENTS)\n",
        "    pipe.steps.append((\"feat_selection\", SelectFromModel(model)))\n",
        "    pipe.steps.append(('model',model))\n",
        "    pipe.model_type = model_name\n",
        "    pipe.name = model_name\n",
        "    return pipe\n"
      ]
    },
    {
      "cell_type": "markdown",
      "metadata": {},
      "source": [
        "Next, we have the code for our grid search. As we will be treating `thresh` as a hyperparameter, it will be slightly different."
      ]
    },
    {
      "cell_type": "code",
      "execution_count": 5,
      "metadata": {},
      "outputs": [],
      "source": [
        "from sklearn.model_selection import GridSearchCV\n",
        "# to suppress warnings, I think\n",
        "import warnings\n",
        "warnings.filterwarnings(\"ignore\", category=FutureWarning)\n",
        "import logging\n",
        "logging.captureWarnings(True)\n",
        "os.environ['PYTHONWARNINGS']='ignore'\n",
        "\n",
        "\n",
        "def grid_search(X_train, y_train,pipe,param_grid={},verbosity=1):\n",
        "    print(f\"### Beginning grid search for {pipe.name} ###\") \n",
        "    grid=GridSearchCV(estimator=pipe,\n",
        "                    param_grid=param_grid,\n",
        "                    cv=5,\n",
        "                    n_jobs=-2,\n",
        "                    verbose=verbosity,\n",
        "                    scoring=['accuracy','precision'],\n",
        "                    refit='precision')\n",
        "    grid.fit(X_train,y_train)\n",
        "    return grid\n"
      ]
    },
    {
      "cell_type": "markdown",
      "metadata": {},
      "source": [
        "## Section 2: Logistic Regression\n",
        "Logistic Regression models have many hyperparameters. We will focus on:\n",
        "* `penalty` is a regularization parameter.\n",
        "* `solver` specifies the type of algorithm used.\n",
        "* `C` controls the strength of the penalty.\n",
        "\n",
        "Not all penalties work for each solver.\n",
        "\n",
        "These will be our initial choice for hyperparameters. They will help us narrow down our search and find other ranges to test."
      ]
    },
    {
      "cell_type": "code",
      "execution_count": 6,
      "metadata": {},
      "outputs": [],
      "source": [
        "thresholds = [round(0.1*i,2) for i in range(5,11)]\n",
        "C = [10**(2*i+1) for i in range(-2,2)]\n",
        "solver = ['newton-cg', 'newton-cholesky', 'lbfgs', 'liblinear', 'sag', 'saga']\n",
        "penalty = ['none', 'l1', 'l2', 'elasticnet']\n",
        "param_grid = [\n",
        "            {'C':C,\n",
        "             'solver':['lbfgs','newton-cg','newton-cholesky','sag'],\n",
        "             'penalty':['l2',None]},\n",
        "            {'C':C,\n",
        "             'solver':['liblinear'],\n",
        "             'penalty':['l1','l2']},\n",
        "            {'C':C,\n",
        "             'solver':['saga'],\n",
        "             'penalty':['l1','l2',None,'elasticnet']}\n",
        "              ]\n",
        "logistic_param_grid = [{'model__'+key:value \n",
        "                                for key,value in param_dict.items()}\n",
        "                                for param_dict in param_grid]\n",
        "for params in logistic_param_grid:\n",
        "    params['corr_selector__threshold']=thresholds\n"
      ]
    },
    {
      "cell_type": "markdown",
      "metadata": {},
      "source": [
        "Now we are ready to do the grid search. We expect this to go well since Logistic Regression was our best performing model without any tuning. This initial training will help us establish a range to further tune the hyperparamters in."
      ]
    },
    {
      "cell_type": "code",
      "execution_count": 7,
      "metadata": {},
      "outputs": [],
      "source": [
        "from src.utils import save_df, get_df\n",
        "\n",
        "\n",
        "def get_grid_results_df(pipe, name, dir, param_grid={}, verbosity=2):\n",
        "    try:\n",
        "        results_df = get_df(name, dir)\n",
        "    except FileNotFoundError:\n",
        "        pipe_grid_search = grid_search(\n",
        "            X_TrainSet, Y_TrainSet, pipe, param_grid=param_grid, verbosity=verbosity\n",
        "        )\n",
        "        results_df = pd.DataFrame(pipe_grid_search.cv_results_)\n",
        "        save_df(results_df, name, dir)\n",
        "        # this normalizes the types\n",
        "        results_df = get_df(name, dir)\n",
        "    return results_df\n",
        "\n",
        "\n",
        "logistic_pipe = create_pipe(\"LogisticRegression\")\n",
        "results_name = \"logistic_grid_results_v1\"\n",
        "dir = \"experiment_results/tuning/grids\"\n",
        "\n",
        "logistic_results_df_v1 = get_grid_results_df(\n",
        "    logistic_pipe, results_name, dir, param_grid=logistic_param_grid\n",
        ")"
      ]
    },
    {
      "cell_type": "markdown",
      "metadata": {},
      "source": [
        "\n",
        "Let's look at what the best choices are at this stage."
      ]
    },
    {
      "cell_type": "code",
      "execution_count": 8,
      "metadata": {},
      "outputs": [
        {
          "name": "stdout",
          "output_type": "stream",
          "text": [
            "Best parameters for current model:\n",
            "threshold: 0.8\n",
            "C: 0.001\n",
            "penalty: None\n",
            "solver: lbfgs\n",
            "Avg. Precision: 88.70480236491775%.\n",
            "Avg. Accuracy: 87.18030112459309%.\n",
            "\n",
            "threshold: 0.8\n",
            "C: 0.001\n",
            "penalty: None\n",
            "solver: newton-cg\n",
            "Avg. Precision: 88.70480236491775%.\n",
            "Avg. Accuracy: 87.18030112459309%.\n",
            "\n",
            "threshold: 0.8\n",
            "C: 0.001\n",
            "penalty: None\n",
            "solver: newton-cholesky\n",
            "Avg. Precision: 88.70480236491775%.\n",
            "Avg. Accuracy: 87.18030112459309%.\n",
            "\n"
          ]
        }
      ],
      "source": [
        "from src.model_eval import get_best_params_df\n",
        "\n",
        "get_best_params_df(logistic_results_df_v1)"
      ]
    },
    {
      "cell_type": "markdown",
      "metadata": {},
      "source": [
        "Clearly, the best correlation threshold is 0.8. The models have the same scores. Lets collect all of the parameters that have the same scores. We order the scores not by count but by score."
      ]
    },
    {
      "cell_type": "code",
      "execution_count": 9,
      "metadata": {},
      "outputs": [
        {
          "name": "stdout",
          "output_type": "stream",
          "text": [
            "---  Score Counts  ---\n",
            "Precision: 0.8870480236491776, Accuracy: 0.8718030112459308\n",
            "Count: 34\n",
            "\n",
            "Precision: 0.887042467962182, Accuracy: 0.8717743374108053\n",
            "Count: 2\n",
            "\n",
            "Precision: 0.8870152603635608, Accuracy: 0.8718030194666403\n",
            "Count: 1\n",
            "\n",
            "Precision: 0.8869924718004393, Accuracy: 0.8718890245305975\n",
            "Count: 1\n",
            "\n",
            "---  Score Stats  ---\n",
            "Most Common: Precision: -1\n",
            "             Accuracy: -1\n",
            "             Count: 76\n",
            "Max Score: Precision: 0.8870480236491776\n",
            "           Accuracy: 0.8718030112459308\n",
            "           Count: 34\n",
            "Max Precision: 0.8870480236491776\n",
            "Max Accuracy: 0.871917694255368\n"
          ]
        }
      ],
      "source": [
        "from src.model_eval import present_score_counts, score_stats\n",
        "\n",
        "\n",
        "present_score_counts(logistic_results_df_v1)\n",
        "best_score = score_stats(logistic_results_df_v1)\n"
      ]
    },
    {
      "cell_type": "markdown",
      "metadata": {},
      "source": [
        "The most common scores are `nan` (we changed the score to be -1 if a `nan` value was showing up). This happens when a choice of parameters does not work well together. We won't worry about this as we are able to get quite good precision and accuracy with this first pass. Note that the best accuracy score is not far from the accuracy of the model with the best precision.\n",
        "\n",
        "34 different choices of parameters had the best performance. We would like to see what these estimators had in common and look at neighborhoods around these parameters to see if we can improve the performance before moving on to the next model."
      ]
    },
    {
      "cell_type": "code",
      "execution_count": 10,
      "metadata": {},
      "outputs": [
        {
          "name": "stdout",
          "output_type": "stream",
          "text": [
            "model__solver: saga, Count: 8\n",
            "model__solver: lbfgs, Count: 6\n",
            "model__solver: newton-cg, Count: 6\n",
            "model__solver: newton-cholesky, Count: 6\n",
            "model__solver: sag, Count: 5\n",
            "model__solver: liblinear, Count: 3\n",
            "model__penalty: None, Count: 20\n",
            "model__penalty: l2, Count: 10\n",
            "model__penalty: l1, Count: 4\n",
            "model__C: 1000, Count: 13\n",
            "model__C: 10, Count: 11\n",
            "model__C: 0.001, Count: 5\n",
            "model__C: 0.1, Count: 5\n",
            "corr_selector__threshold: 0.8, Count: 34\n"
          ]
        }
      ],
      "source": [
        "from src.model_eval import present_param_counts\n",
        "\n",
        "present_param_counts(logistic_results_df_v1, best_score)"
      ]
    },
    {
      "cell_type": "markdown",
      "metadata": {},
      "source": [
        "We will make the following modifications to `logistic_param_grid`:\n",
        "* remove `'liblinear'` and `'sag'` as they were used the least,\n",
        "* pick a neighborhood around 0.8 for correlation threshold,\n",
        "* focus on penalties `'l2'` and `'None'`\n",
        "* focus on the range 1 to 1000 for `C`\n",
        "\n",
        "We will see if focusing gives us any improvement in score."
      ]
    },
    {
      "cell_type": "code",
      "execution_count": 11,
      "metadata": {},
      "outputs": [],
      "source": [
        "from src.utils import divide_range\n",
        "\n",
        "thresholds = divide_range(0.75,0.85,5)\n",
        "C = divide_range(1,1000,6)\n",
        "logistic_param_grid_v2=[{'model__C': C,\n",
        "  'model__solver': ['lbfgs', 'newton-cg', 'newton-cholesky','saga'],\n",
        "  'model__penalty': ['l2', None],\n",
        "  'corr_selector__threshold': thresholds}]"
      ]
    },
    {
      "cell_type": "code",
      "execution_count": 12,
      "metadata": {},
      "outputs": [],
      "source": [
        "logistic_results_df_v2 = get_grid_results_df(logistic_pipe,\n",
        "                                             'logistic_results_df_v2', dir, \n",
        "                                             param_grid=logistic_param_grid_v2,\n",
        "                                             verbosity=3)"
      ]
    },
    {
      "cell_type": "markdown",
      "metadata": {},
      "source": [
        "Let's proceed by doing the analysis we did above of the results of this grid search."
      ]
    },
    {
      "cell_type": "code",
      "execution_count": 13,
      "metadata": {},
      "outputs": [
        {
          "name": "stdout",
          "output_type": "stream",
          "text": [
            "Best parameters for current model:\n",
            "threshold: 0.77\n",
            "C: 1.0\n",
            "penalty: None\n",
            "solver: lbfgs\n",
            "Avg. Precision: 88.70480236491775%.\n",
            "Avg. Accuracy: 87.18030112459309%.\n",
            "\n",
            "threshold: 0.77\n",
            "C: 1.0\n",
            "penalty: None\n",
            "solver: newton-cg\n",
            "Avg. Precision: 88.70480236491775%.\n",
            "Avg. Accuracy: 87.18030112459309%.\n",
            "\n",
            "threshold: 0.77\n",
            "C: 1.0\n",
            "penalty: None\n",
            "solver: newton-cholesky\n",
            "Avg. Precision: 88.70480236491775%.\n",
            "Avg. Accuracy: 87.18030112459309%.\n",
            "\n"
          ]
        }
      ],
      "source": [
        "get_best_params_df(logistic_results_df_v2)"
      ]
    },
    {
      "cell_type": "markdown",
      "metadata": {},
      "source": [
        "Again, very similar scores. So let's analyze the scores that showed up as we did before."
      ]
    },
    {
      "cell_type": "code",
      "execution_count": 14,
      "metadata": {},
      "outputs": [
        {
          "name": "stdout",
          "output_type": "stream",
          "text": [
            "---  Score Counts  ---\n",
            "Precision: 0.8870480236491776, Accuracy: 0.8718030112459308\n",
            "Count: 156\n",
            "\n",
            "Precision: 0.8868889708447109, Accuracy: 0.871716997961264\n",
            "Count: 3\n",
            "\n",
            "Precision: 0.8868481163465816, Accuracy: 0.8716883282364934\n",
            "Count: 9\n",
            "\n",
            "Precision: 0.8753149006289227, Accuracy: 0.8584414808786294\n",
            "Count: 78\n",
            "\n",
            "---  Score Stats  ---\n",
            "Most Common: Precision: 0.8870480236491776\n",
            "             Accuracy: 0.8718030112459308\n",
            "             Count: 156\n",
            "Max Score: Precision: 0.8870480236491776\n",
            "           Accuracy: 0.8718030112459308\n",
            "           Count: 156\n",
            "Max Precision: 0.8870480236491776\n",
            "Max Accuracy: 0.8718030112459308\n"
          ]
        }
      ],
      "source": [
        "present_score_counts(logistic_results_df_v2)\n",
        "best_score = score_stats(logistic_results_df_v2)"
      ]
    },
    {
      "cell_type": "markdown",
      "metadata": {},
      "source": [
        "Our most common score is our best score. It seems like we have chosen a good range of parameters since many of the combinations yield good results."
      ]
    },
    {
      "cell_type": "code",
      "execution_count": 15,
      "metadata": {},
      "outputs": [
        {
          "name": "stdout",
          "output_type": "stream",
          "text": [
            "model__solver: lbfgs, Count: 39\n",
            "model__solver: newton-cg, Count: 39\n",
            "model__solver: newton-cholesky, Count: 39\n",
            "model__solver: saga, Count: 39\n",
            "model__penalty: None, Count: 84\n",
            "model__penalty: l2, Count: 72\n",
            "model__C: 167.5, Count: 24\n",
            "model__C: 334.0, Count: 24\n",
            "model__C: 500.5, Count: 24\n",
            "model__C: 667.0, Count: 24\n",
            "model__C: 833.5, Count: 24\n",
            "model__C: 1000.0, Count: 24\n",
            "model__C: 1.0, Count: 12\n",
            "corr_selector__threshold: 0.77, Count: 52\n",
            "corr_selector__threshold: 0.79, Count: 52\n",
            "corr_selector__threshold: 0.8099999999999999, Count: 52\n"
          ]
        }
      ],
      "source": [
        "present_param_counts(logistic_results_df_v2, best_score)"
      ]
    },
    {
      "cell_type": "markdown",
      "metadata": {},
      "source": [
        "All of the choices of parameters seem to be performing equally well, with insignificant exceptions. We will have to look at other metrics to determine distinguish between these choices of parameters. Things such as training time statistics, and standard deviation of the scores."
      ]
    },
    {
      "cell_type": "code",
      "execution_count": 16,
      "metadata": {},
      "outputs": [
        {
          "name": "stdout",
          "output_type": "stream",
          "text": [
            "std_test_precision: 0.0054844417109899\n",
            "std_test_accuracy: 0.004118208175772\n",
            "count: 156\n"
          ]
        }
      ],
      "source": [
        "best_results = logistic_results_df_v2.query(f'mean_test_precision == {best_score[0]} and mean_test_accuracy == {best_score[1]}')\n",
        "std_score_counts = {}\n",
        "\n",
        "for _, row in best_results.iterrows():\n",
        "    std_score = (row['std_test_precision'], row['std_test_accuracy'])\n",
        "    if std_score in std_score_counts:\n",
        "        std_score_counts[std_score] += 1\n",
        "    else:\n",
        "        std_score_counts[std_score] = 1\n",
        "for key, value in std_score_counts.items():\n",
        "    print(f\"std_test_precision: {key[0]}\"\n",
        "          f\"\\nstd_test_accuracy: {key[1]}\"\n",
        "          f\"\\ncount: {value}\")"
      ]
    },
    {
      "cell_type": "markdown",
      "metadata": {},
      "source": [
        "So standard deviation will not help us distinguish either. This is annoying, but good. We will see how the models perform on the test data set."
      ]
    },
    {
      "cell_type": "code",
      "execution_count": 17,
      "metadata": {},
      "outputs": [
        {
          "name": "stdout",
          "output_type": "stream",
          "text": [
            "Pipe 0:\n",
            "corr_selector\n",
            "threshold: 0.77\n",
            "model\n",
            "solver: lbfgs\n",
            "\n",
            "Pipe 1:\n",
            "corr_selector\n",
            "threshold: 0.77\n",
            "model\n",
            "solver: newton-cg\n",
            "\n"
          ]
        }
      ],
      "source": [
        "import ast\n",
        "\n",
        "def parameter_dicts(results_df, best_score):\n",
        "    relevant = results_df.query(f'mean_test_precision == {best_score[0]} and mean_test_accuracy == {best_score[1]}')\n",
        "    param_dicts = [ast.literal_eval(param_dict) for param_dict in relevant['params'].values]\n",
        "    return param_dicts\n",
        "\n",
        "best_params = parameter_dicts(logistic_results_df_v2, best_score)\n",
        "\n",
        "best_pipes = []\n",
        "for param_dict in best_params:\n",
        "    base_pipe = create_pipe('LogisticRegression')\n",
        "    pipe = base_pipe.set_params(**param_dict)\n",
        "    pipe.param_dict = param_dict\n",
        "    best_pipes.append(pipe)\n",
        "\n",
        "model_params = {key.split('__')[0]:key.split('__')[1]\n",
        "                for key in best_params[0].keys()}\n",
        "count = 0\n",
        "for pipe in best_pipes:\n",
        "    print(f\"Pipe {count}:\")\n",
        "    for step in pipe.get_params()['steps']:\n",
        "        if step[0] in model_params:\n",
        "            param = model_params[step[0]]\n",
        "            value = step[1].get_params()[param]\n",
        "            print(f\"{step[0]}\"\n",
        "                  f\"\\n{param}: {value}\")\n",
        "    print()\n",
        "    count += 1\n",
        "    if count>=2:\n",
        "        break\n"
      ]
    },
    {
      "cell_type": "markdown",
      "metadata": {},
      "source": [
        "We will now train all of the above pipelines and evaluate them on the test dataset."
      ]
    },
    {
      "cell_type": "code",
      "execution_count": 18,
      "metadata": {},
      "outputs": [],
      "source": [
        "from sklearn.metrics import accuracy_score, precision_score, recall_score, f1_score"
      ]
    },
    {
      "cell_type": "code",
      "execution_count": 19,
      "metadata": {},
      "outputs": [
        {
          "data": {
            "text/plain": [
              "'count = 0\\nfor pipe in best_pipes:\\n    print(f\"Training pipe {count}:\")\\n    print(pipe.param_dict)\\n    pipe.fit(X_TrainSet, Y_TrainSet)\\n    count+=1\\n    '"
            ]
          },
          "execution_count": 19,
          "metadata": {},
          "output_type": "execute_result"
        }
      ],
      "source": [
        "'''count = 0\n",
        "for pipe in best_pipes:\n",
        "    print(f\"Training pipe {count}:\")\n",
        "    print(pipe.param_dict)\n",
        "    pipe.fit(X_TrainSet, Y_TrainSet)\n",
        "    count+=1\n",
        "    '''"
      ]
    },
    {
      "cell_type": "code",
      "execution_count": 20,
      "metadata": {},
      "outputs": [
        {
          "data": {
            "text/plain": [
              "'\\ndef evaluate_param_on_test_set(pipe,X_test, Y_test):\\n    y_pred = pipe.predict(X_test)\\n    accuracy = accuracy_score(Y_test, y_pred)\\n    precision = precision_score(Y_test, y_pred)\\n    recall = recall_score(Y_test, y_pred)\\n    f1 = f1_score(Y_test, y_pred)\\n    return ((precision, accuracy, recall, f1), pipe.param_dict)\\n\\n\\ndef evaluate_and_sort(fitted_pipes, X_test, Y_test):\\n    evaluations = [evaluate_param_on_test_set(pipe, X_test, Y_test)\\n               for pipe in fitted_pipes]\\n    evaluation_dict = {}\\n    for eval in evaluations:\\n        if eval[0] in evaluation_dict:\\n            evaluation_dict[eval[0]].append(eval[1])\\n        else:\\n            evaluation_dict[eval[0]] = [eval[1]]\\n    sorted_eval_dict = {k:v for k,v in sorted(evaluation_dict.items(),\\n                                         key=lambda item: item[0],\\n                                         reverse=True)}\\n    return sorted_eval_dict\\n\\nsorted_evals = evaluate_and_sort(best_pipes, X_TestSet, Y_TestSet)\\nprint(len(sorted_evals))\\n'"
            ]
          },
          "execution_count": 20,
          "metadata": {},
          "output_type": "execute_result"
        }
      ],
      "source": [
        "from sklearn.metrics import accuracy_score, precision_score, recall_score, f1_score\n",
        "\n",
        "'''\n",
        "def evaluate_param_on_test_set(pipe,X_test, Y_test):\n",
        "    y_pred = pipe.predict(X_test)\n",
        "    accuracy = accuracy_score(Y_test, y_pred)\n",
        "    precision = precision_score(Y_test, y_pred)\n",
        "    recall = recall_score(Y_test, y_pred)\n",
        "    f1 = f1_score(Y_test, y_pred)\n",
        "    return ((precision, accuracy, recall, f1), pipe.param_dict)\n",
        "\n",
        "\n",
        "def evaluate_and_sort(fitted_pipes, X_test, Y_test):\n",
        "    evaluations = [evaluate_param_on_test_set(pipe, X_test, Y_test)\n",
        "               for pipe in fitted_pipes]\n",
        "    evaluation_dict = {}\n",
        "    for eval in evaluations:\n",
        "        if eval[0] in evaluation_dict:\n",
        "            evaluation_dict[eval[0]].append(eval[1])\n",
        "        else:\n",
        "            evaluation_dict[eval[0]] = [eval[1]]\n",
        "    sorted_eval_dict = {k:v for k,v in sorted(evaluation_dict.items(),\n",
        "                                         key=lambda item: item[0],\n",
        "                                         reverse=True)}\n",
        "    return sorted_eval_dict\n",
        "\n",
        "sorted_evals = evaluate_and_sort(best_pipes, X_TestSet, Y_TestSet)\n",
        "print(len(sorted_evals))\n",
        "'''"
      ]
    },
    {
      "cell_type": "markdown",
      "metadata": {},
      "source": [
        "It turns out that all of these best sets of parameters produce models that perform equally well with respect to the standard meterics. We will have to pick one to deploy. We will look at the time it took to score each model during the grid search."
      ]
    },
    {
      "cell_type": "code",
      "execution_count": 21,
      "metadata": {},
      "outputs": [
        {
          "name": "stdout",
          "output_type": "stream",
          "text": [
            "     mean_score_time  std_score_time  \\\n",
            "81          0.322713        0.144490   \n",
            "108         0.377752        0.131118   \n",
            "135         0.378142        0.145327   \n",
            "65          0.383024        0.131624   \n",
            "184         0.399108        0.108866   \n",
            "\n",
            "                                                params  \n",
            "81   {'corr_selector__threshold': 0.77, 'model__C':...  \n",
            "108  {'corr_selector__threshold': 0.77, 'model__C':...  \n",
            "135  {'corr_selector__threshold': 0.79, 'model__C':...  \n",
            "65   {'corr_selector__threshold': 0.77, 'model__C':...  \n",
            "184  {'corr_selector__threshold': 0.809999999999999...  \n"
          ]
        }
      ],
      "source": [
        "time_results = best_results.filter(['mean_score_time','std_score_time','params'])\n",
        "\n",
        "time_results = time_results.sort_values(by=['mean_score_time','std_score_time'])\n",
        "print(time_results.head())\n",
        "params_choice = time_results.iloc[0]['params']\n"
      ]
    },
    {
      "cell_type": "markdown",
      "metadata": {},
      "source": [
        "Let's look at the classification report for this model."
      ]
    },
    {
      "cell_type": "markdown",
      "metadata": {},
      "source": [
        "### Section 3: AdaBoost\n",
        "We will now do a grid search with AdaBoost. After an initial search to determine a range, we will investigate more closely.\n",
        "\n",
        "With AdaBoost, there are two types of parameters. We have parameters for AdaBoost and parameters for the weak learner it is using as a base estimator. The default base estimator is a Decision tree.\n",
        "\n",
        "AdaBoost has the following hyperparameters.\n",
        "* `n_estimators` the max number of estimators\n",
        "* `learning_rate` which weights the estimators\n",
        "* `algorithm` of which there are two choices\n",
        "\n",
        "Decision trees classifiers have the following hyperparameters.\n",
        "* `max_depth`\n",
        "* `min_samples_split`\n",
        "* `min_leaf_split`\n",
        "\n",
        "In order to get some early results, we will break the hyperparameter grid into smaller pieces along certain axes. We will first investigate how the hyperparameters of AdaBoost impact the models and then we will tune the hyperparameters of the inner Decision tree."
      ]
    },
    {
      "cell_type": "code",
      "execution_count": 22,
      "metadata": {},
      "outputs": [],
      "source": [
        "thresholds = divide_range(0.55,0.95,5)\n",
        "\n",
        "base_ada_params = [{'corr_selector__threshold': thresholds,\n",
        "'model__n_estimators':[int(i) for i in divide_range(20,50,5)],\n",
        "'model__learning_rate': divide_range(0.5,2,5),\n",
        "'model__algorithm':['SAMME', 'SAMME.R']\n",
        "}]\n"
      ]
    },
    {
      "cell_type": "code",
      "execution_count": 23,
      "metadata": {},
      "outputs": [],
      "source": [
        "ada_pipe = create_pipe('AdaBoost')\n",
        "base_ada_results_df_v1 = get_grid_results_df(ada_pipe,\n",
        "                                             'base_ada_results_df_v1', dir, \n",
        "                                             param_grid=base_ada_params,\n",
        "                                             verbosity=3)\n"
      ]
    },
    {
      "cell_type": "markdown",
      "metadata": {},
      "source": [
        "Let's see what the top scores are."
      ]
    },
    {
      "cell_type": "code",
      "execution_count": 24,
      "metadata": {},
      "outputs": [
        {
          "name": "stdout",
          "output_type": "stream",
          "text": [
            "---  Score Counts  ---\n",
            "Precision: 0.8737315821516992, Accuracy: 0.8571224639110847\n",
            "Count: 1\n",
            "\n",
            "Precision: 0.8715598612273361, Accuracy: 0.8505849610338364\n",
            "Count: 1\n",
            "\n",
            "Precision: 0.871110904500443, Accuracy: 0.8542265339844135\n",
            "Count: 1\n",
            "\n",
            "Precision: 0.8702183448458646, Accuracy: 0.8482624954786097\n",
            "Count: 1\n",
            "\n",
            "---  Score Stats  ---\n",
            "Most Common: Precision: -1\n",
            "             Accuracy: -1\n",
            "             Count: 72\n",
            "Max Score: Precision: 0.8737315821516992\n",
            "           Accuracy: 0.8571224639110847\n",
            "           Count: 1\n",
            "Max Precision: 0.8737315821516992\n",
            "Max Accuracy: 0.8572946220117721\n"
          ]
        }
      ],
      "source": [
        "present_score_counts(base_ada_results_df_v1)\n",
        "best_score = score_stats(base_ada_results_df_v1)"
      ]
    },
    {
      "cell_type": "markdown",
      "metadata": {},
      "source": [
        "Let's look at the parameters associated with the top 5 scores."
      ]
    },
    {
      "cell_type": "code",
      "execution_count": 25,
      "metadata": {},
      "outputs": [
        {
          "name": "stdout",
          "output_type": "stream",
          "text": [
            "Score: (0.8737315821516992, 0.8571224639110847)\n",
            "model__n_estimators: 50, Count: 1\n",
            "model__learning_rate: 1.1, Count: 1\n",
            "model__algorithm: SAMME.R, Count: 1\n",
            "corr_selector__threshold: 0.79, Count: 1\n",
            "Score: (0.8715598612273361, 0.8505849610338364)\n"
          ]
        },
        {
          "name": "stdout",
          "output_type": "stream",
          "text": [
            "model__n_estimators: 50, Count: 1\n",
            "model__learning_rate: 1.4, Count: 1\n",
            "model__algorithm: SAMME.R, Count: 1\n",
            "corr_selector__threshold: 0.79, Count: 1\n",
            "Score: (0.871110904500443, 0.8542265339844135)\n",
            "model__n_estimators: 44, Count: 1\n",
            "model__learning_rate: 1.1, Count: 1\n",
            "model__algorithm: SAMME.R, Count: 1\n",
            "corr_selector__threshold: 0.79, Count: 1\n",
            "Score: (0.8702183448458646, 0.8482624954786097)\n",
            "model__n_estimators: 44, Count: 1\n",
            "model__learning_rate: 1.4, Count: 1\n",
            "model__algorithm: SAMME.R, Count: 1\n",
            "corr_selector__threshold: 0.79, Count: 1\n",
            "Score: (0.8697431824167033, 0.8511012133767387)\n",
            "model__n_estimators: 50, Count: 2\n",
            "model__learning_rate: 1.1, Count: 2\n",
            "model__algorithm: SAMME.R, Count: 2\n",
            "corr_selector__threshold: 0.87, Count: 1\n",
            "corr_selector__threshold: 0.95, Count: 1\n"
          ]
        }
      ],
      "source": [
        "from src.model_eval import collect_like_estimators\n",
        "\n",
        "def top_n(results_df,num=5):\n",
        "    estimators_by_score = collect_like_estimators(results_df)\n",
        "    scores = list(estimators_by_score.keys())\n",
        "    top = sorted(scores,reverse=True)[:num]\n",
        "    for score in top:\n",
        "        print(f\"Score: {score}\")\n",
        "        present_param_counts(results_df, score)\n",
        "\n",
        "top_n(base_ada_results_df_v1)"
      ]
    },
    {
      "cell_type": "markdown",
      "metadata": {},
      "source": [
        "This gives us an idea of how to narrow down our hyperparameters.\n",
        "* We will focus on a range estimators from 42-53\n",
        "* We will use the algorithm `'SAMME.R'`.\n",
        "* We will focus on a range of learning rate of 0.9 to 1.6\n",
        "* We will focus on a range of correlation threshold from 0.77 to 0.95"
      ]
    },
    {
      "cell_type": "code",
      "execution_count": 26,
      "metadata": {},
      "outputs": [],
      "source": [
        "thresholds = divide_range(0.77,0.95,5)\n",
        "\n",
        "base_ada_params_v2 = [{'corr_selector__threshold': thresholds,\n",
        "'model__n_estimators':[int(i) for i in divide_range(42,53,5)],\n",
        "'model__learning_rate': divide_range(0.9,1.6,5),\n",
        "'model__algorithm':['SAMME.R']\n",
        "}]"
      ]
    },
    {
      "cell_type": "code",
      "execution_count": 27,
      "metadata": {},
      "outputs": [],
      "source": [
        "base_ada_results_df_v2 = get_grid_results_df(ada_pipe,'base_ada_results_df_v2',\n",
        "                                             dir, param_grid=base_ada_params_v2,\n",
        "                                             verbosity=3)"
      ]
    },
    {
      "cell_type": "markdown",
      "metadata": {},
      "source": [
        "Let's see what the top scores are."
      ]
    },
    {
      "cell_type": "code",
      "execution_count": 28,
      "metadata": {},
      "outputs": [
        {
          "name": "stdout",
          "output_type": "stream",
          "text": [
            "---  Score Counts  ---\n",
            "Precision: 0.8740871643980797, Accuracy: 0.8533089630396896\n",
            "Count: 2\n",
            "\n",
            "Precision: 0.8740636696351014, Accuracy: 0.8561476562756898\n",
            "Count: 2\n",
            "\n",
            "Precision: 0.8733945549863253, Accuracy: 0.8556888338101345\n",
            "Count: 2\n",
            "\n",
            "Precision: 0.873384809314483, Accuracy: 0.8532515742658907\n",
            "Count: 2\n",
            "\n",
            "---  Score Stats  ---\n",
            "Most Common: Precision: 0.8603154402588608\n",
            "             Accuracy: 0.8471729431784553\n",
            "             Count: 4\n",
            "Max Score: Precision: 0.8740871643980797\n",
            "           Accuracy: 0.8533089630396896\n",
            "           Count: 2\n",
            "Max Precision: 0.8740871643980797\n",
            "Max Accuracy: 0.8570938928348294\n"
          ]
        }
      ],
      "source": [
        "present_score_counts(base_ada_results_df_v2)\n",
        "best_score = score_stats(base_ada_results_df_v2)"
      ]
    },
    {
      "cell_type": "markdown",
      "metadata": {},
      "source": [
        "Let's look at the parameters associated with the top 5 scores."
      ]
    },
    {
      "cell_type": "code",
      "execution_count": 29,
      "metadata": {},
      "outputs": [
        {
          "name": "stdout",
          "output_type": "stream",
          "text": [
            "Score: (0.8740871643980797, 0.8533089630396896)\n",
            "model__n_estimators: 48, Count: 2\n",
            "model__learning_rate: 1.32, Count: 2\n",
            "model__algorithm: SAMME.R, Count: 2\n",
            "corr_selector__threshold: 0.77, Count: 1\n",
            "corr_selector__threshold: 0.806, Count: 1\n",
            "Score: (0.8740636696351014, 0.8561476562756898)\n",
            "model__n_estimators: 53, Count: 2\n",
            "model__learning_rate: 1.18, Count: 2\n",
            "model__algorithm: SAMME.R, Count: 2\n",
            "corr_selector__threshold: 0.77, Count: 1\n",
            "corr_selector__threshold: 0.806, Count: 1\n",
            "Score: (0.8733945549863253, 0.8556888338101345)\n",
            "model__n_estimators: 50, Count: 2\n",
            "model__learning_rate: 1.18, Count: 2\n",
            "model__algorithm: SAMME.R, Count: 2\n",
            "corr_selector__threshold: 0.77, Count: 1\n",
            "corr_selector__threshold: 0.806, Count: 1\n",
            "Score: (0.873384809314483, 0.8532515742658907)\n",
            "model__n_estimators: 50, Count: 2\n",
            "model__learning_rate: 1.32, Count: 2\n",
            "model__algorithm: SAMME.R, Count: 2\n",
            "corr_selector__threshold: 0.77, Count: 1\n",
            "corr_selector__threshold: 0.806, Count: 1\n",
            "Score: (0.8733793850182583, 0.8531081639867153)\n",
            "model__n_estimators: 53, Count: 2\n",
            "model__learning_rate: 1.32, Count: 2\n",
            "model__algorithm: SAMME.R, Count: 2\n",
            "corr_selector__threshold: 0.77, Count: 1\n",
            "corr_selector__threshold: 0.806, Count: 1\n"
          ]
        }
      ],
      "source": [
        "top_n(base_ada_results_df_v2)"
      ]
    },
    {
      "cell_type": "markdown",
      "metadata": {},
      "source": [
        "We will take the average of some of the above and then seaerch again looking at only the number of estimators and the learning rate. We feel we didn't cast a wide enough net with respect to these parameters."
      ]
    },
    {
      "cell_type": "code",
      "execution_count": 30,
      "metadata": {},
      "outputs": [],
      "source": [
        "base_ada_params_v3 = [{'corr_selector__threshold': [0.785],\n",
        "'model__n_estimators':[int(i) for i in divide_range(40,70,5)],\n",
        "'model__learning_rate': divide_range(1.2,5,5),\n",
        "'model__algorithm':['SAMME.R']}]\n",
        "\n",
        "base_ada_results_df_v3 = get_grid_results_df(ada_pipe,'base_ada_results_df_v3',\n",
        "                                             dir, param_grid=base_ada_params_v3,\n",
        "                                             verbosity=3)"
      ]
    },
    {
      "cell_type": "code",
      "execution_count": 31,
      "metadata": {},
      "outputs": [
        {
          "name": "stdout",
          "output_type": "stream",
          "text": [
            "---  Score Counts  ---\n",
            "Precision: 0.8782214616422259, Accuracy: 0.8600471868731709\n",
            "Count: 1\n",
            "\n",
            "Precision: 0.8774926518476276, Accuracy: 0.8592443030482391\n",
            "Count: 1\n",
            "\n",
            "Precision: 0.8754282254137925, Accuracy: 0.8573519409095394\n",
            "Count: 1\n",
            "\n",
            "Precision: 0.8737115168166728, Accuracy: 0.8554595047844529\n",
            "Count: 1\n",
            "\n",
            "---  Score Stats  ---\n",
            "Most Common: Precision: 0.7236725844374918\n",
            "             Accuracy: 0.6599096050771103\n",
            "             Count: 23\n",
            "Max Score: Precision: 0.8782214616422259\n",
            "           Accuracy: 0.8600471868731709\n",
            "           Count: 1\n",
            "Max Precision: 0.8782214616422259\n",
            "Max Accuracy: 0.8600471868731709\n"
          ]
        }
      ],
      "source": [
        "present_score_counts(base_ada_results_df_v3)\n",
        "best_score = score_stats(base_ada_results_df_v3)"
      ]
    },
    {
      "cell_type": "markdown",
      "metadata": {},
      "source": [
        "The scores did improve, but not significantly. If the improvement is due to values for learning rate and estimators being outside of our earlier ranges, then we will have to continue searching."
      ]
    },
    {
      "cell_type": "code",
      "execution_count": 32,
      "metadata": {},
      "outputs": [
        {
          "name": "stdout",
          "output_type": "stream",
          "text": [
            "Score: (0.8782214616422259, 0.8600471868731709)\n",
            "model__n_estimators: 70, Count: 1\n",
            "model__learning_rate: 1.2, Count: 1\n",
            "model__algorithm: SAMME.R, Count: 1\n",
            "corr_selector__threshold: 0.785, Count: 1\n",
            "Score: (0.8774926518476276, 0.8592443030482391)\n",
            "model__n_estimators: 64, Count: 1\n",
            "model__learning_rate: 1.2, Count: 1\n",
            "model__algorithm: SAMME.R, Count: 1\n",
            "corr_selector__threshold: 0.785, Count: 1\n",
            "Score: (0.8754282254137925, 0.8573519409095394)\n",
            "model__n_estimators: 58, Count: 1\n",
            "model__learning_rate: 1.2, Count: 1\n",
            "model__algorithm: SAMME.R, Count: 1\n",
            "corr_selector__threshold: 0.785, Count: 1\n",
            "Score: (0.8737115168166728, 0.8554595047844529)\n",
            "model__n_estimators: 52, Count: 1\n",
            "model__learning_rate: 1.2, Count: 1\n",
            "model__algorithm: SAMME.R, Count: 1\n",
            "corr_selector__threshold: 0.785, Count: 1\n",
            "Score: (0.8720308867480462, 0.8536817598895137)\n",
            "model__n_estimators: 46, Count: 1\n",
            "model__learning_rate: 1.2, Count: 1\n",
            "model__algorithm: SAMME.R, Count: 1\n",
            "corr_selector__threshold: 0.785, Count: 1\n"
          ]
        }
      ],
      "source": [
        "top_n(base_ada_results_df_v3)"
      ]
    },
    {
      "cell_type": "markdown",
      "metadata": {},
      "source": [
        "So thee number of estimators jumped a fair bit. In the case of the Logistic Regression model, we got many many high performing sets of parameters. This made it difficult to focus on a few small neighborhoods (in the parameter space) of high performing sets of parameters. Our learning rate has stabilized, but we see that we should be casting a wider net."
      ]
    },
    {
      "cell_type": "code",
      "execution_count": 33,
      "metadata": {},
      "outputs": [],
      "source": [
        "base_ada_params_v4 = [{'corr_selector__threshold': [0.785],\n",
        "'model__n_estimators':[int(i) for i in divide_range(40,90,10)],\n",
        "'model__learning_rate': divide_range(1.1,1.4,5),\n",
        "'model__algorithm':['SAMME.R']}]\n",
        "\n",
        "base_ada_results_df_v4 = get_grid_results_df(ada_pipe,'base_ada_results_df_v4',\n",
        "                                             dir, param_grid=base_ada_params_v4,\n",
        "                                             verbosity=3)"
      ]
    },
    {
      "cell_type": "code",
      "execution_count": 34,
      "metadata": {},
      "outputs": [
        {
          "name": "stdout",
          "output_type": "stream",
          "text": [
            "---  Score Counts  ---\n",
            "Precision: 0.8806046253682138, Accuracy: 0.8635739863865048\n",
            "Count: 1\n",
            "\n",
            "Precision: 0.879820653213331, Accuracy: 0.8624557479201604\n",
            "Count: 1\n",
            "\n",
            "Precision: 0.8797249483916806, Accuracy: 0.8628284584525335\n",
            "Count: 1\n",
            "\n",
            "Precision: 0.879675169418023, Accuracy: 0.8623123910755977\n",
            "Count: 1\n",
            "\n",
            "---  Score Stats  ---\n",
            "Most Common: Precision: 0.8692879046528116\n",
            "             Accuracy: 0.8519900652724344\n",
            "             Count: 1\n",
            "Max Score: Precision: 0.8806046253682138\n",
            "           Accuracy: 0.8635739863865048\n",
            "           Count: 1\n",
            "Max Precision: 0.8806046253682138\n",
            "Max Accuracy: 0.8635739863865048\n"
          ]
        }
      ],
      "source": [
        "present_score_counts(base_ada_results_df_v4)\n",
        "best_score = score_stats(base_ada_results_df_v4)"
      ]
    },
    {
      "cell_type": "code",
      "execution_count": 35,
      "metadata": {},
      "outputs": [
        {
          "name": "stdout",
          "output_type": "stream",
          "text": [
            "Score: (0.8806046253682138, 0.8635739863865048)\n",
            "model__n_estimators: 90, Count: 1\n",
            "model__learning_rate: 1.16, Count: 1\n",
            "model__algorithm: SAMME.R, Count: 1\n",
            "corr_selector__threshold: 0.785, Count: 1\n",
            "Score: (0.879820653213331, 0.8624557479201604)\n",
            "model__n_estimators: 80, Count: 1\n",
            "model__learning_rate: 1.16, Count: 1\n",
            "model__algorithm: SAMME.R, Count: 1\n",
            "corr_selector__threshold: 0.785, Count: 1\n",
            "Score: (0.8797249483916806, 0.8628284584525335)\n",
            "model__n_estimators: 85, Count: 1\n",
            "model__learning_rate: 1.16, Count: 1\n",
            "model__algorithm: SAMME.R, Count: 1\n",
            "corr_selector__threshold: 0.785, Count: 1\n",
            "Score: (0.879675169418023, 0.8623123910755977)\n",
            "model__n_estimators: 70, Count: 1\n",
            "model__learning_rate: 1.16, Count: 1\n",
            "model__algorithm: SAMME.R, Count: 1\n",
            "corr_selector__threshold: 0.785, Count: 1\n",
            "Score: (0.8795258538414708, 0.8619969172338957)\n",
            "model__n_estimators: 80, Count: 1\n",
            "model__learning_rate: 1.1, Count: 1\n",
            "model__algorithm: SAMME.R, Count: 1\n",
            "corr_selector__threshold: 0.785, Count: 1\n"
          ]
        }
      ],
      "source": [
        "top_n(base_ada_results_df_v4)"
      ]
    },
    {
      "cell_type": "markdown",
      "metadata": {},
      "source": [
        "We have narrowed down a decent neighborhood for estimators and learning rate. We will now look at tuning the Decision tree hyperparameters."
      ]
    },
    {
      "cell_type": "code",
      "execution_count": 36,
      "metadata": {},
      "outputs": [],
      "source": [
        "ada_params = {'corr_selector__threshold':[0.785],\n",
        "            'model__n_estimators': [int(i) for i in divide_range(80,100,5)],\n",
        "            'model__learning_rate': divide_range(1.1,1.3,5), \n",
        "            'model__algorithm':['SAMME.R']}\n",
        "depths = [int(i) for i in divide_range(5,30)]+[None]\n",
        "dt_params = {'max_depth': depths,\n",
        "              'min_samples_split': [int(i) for i in divide_range(2,10)],\n",
        "              'min_samples_leaf': [int(i) for i in divide_range(1,5)]}\n",
        "new_dt_params = {\"model__base_estimator__\"+key:value \n",
        "                 for key,value in dt_params.items()}\n",
        "\n",
        "ada_params.update(new_dt_params)\n"
      ]
    },
    {
      "cell_type": "code",
      "execution_count": 37,
      "metadata": {},
      "outputs": [
        {
          "name": "stdout",
          "output_type": "stream",
          "text": [
            "### Beginning grid search for AdaBoost ###\n",
            "Fitting 5 folds for each of 5400 candidates, totalling 27000 fits\n"
          ]
        },
        {
          "ename": "AttributeError",
          "evalue": "'NoneType' object has no attribute 'set_params'",
          "output_type": "error",
          "traceback": [
            "\u001b[0;31m---------------------------------------------------------------------------\u001b[0m",
            "\u001b[0;31m_RemoteTraceback\u001b[0m                          Traceback (most recent call last)",
            "\u001b[0;31m_RemoteTraceback\u001b[0m: \n\"\"\"\nTraceback (most recent call last):\n  File \"/workspace/.pip-modules/lib/python3.8/site-packages/joblib/externals/loky/process_executor.py\", line 463, in _process_worker\n    r = call_item()\n  File \"/workspace/.pip-modules/lib/python3.8/site-packages/joblib/externals/loky/process_executor.py\", line 291, in __call__\n    return self.fn(*self.args, **self.kwargs)\n  File \"/workspace/.pip-modules/lib/python3.8/site-packages/joblib/parallel.py\", line 598, in __call__\n    return [func(*args, **kwargs)\n  File \"/workspace/.pip-modules/lib/python3.8/site-packages/joblib/parallel.py\", line 598, in <listcomp>\n    return [func(*args, **kwargs)\n  File \"/workspace/.pip-modules/lib/python3.8/site-packages/sklearn/utils/parallel.py\", line 127, in __call__\n    return self.function(*args, **kwargs)\n  File \"/workspace/.pip-modules/lib/python3.8/site-packages/sklearn/model_selection/_validation.py\", line 717, in _fit_and_score\n    estimator = estimator.set_params(**clone(parameters, safe=False))\n  File \"/workspace/.pip-modules/lib/python3.8/site-packages/sklearn/pipeline.py\", line 222, in set_params\n    self._set_params(\"steps\", **kwargs)\n  File \"/workspace/.pip-modules/lib/python3.8/site-packages/sklearn/utils/metaestimators.py\", line 68, in _set_params\n    super().set_params(**params)\n  File \"/workspace/.pip-modules/lib/python3.8/site-packages/sklearn/base.py\", line 263, in set_params\n    valid_params[key].set_params(**sub_params)\n  File \"/workspace/.pip-modules/lib/python3.8/site-packages/sklearn/base.py\", line 263, in set_params\n    valid_params[key].set_params(**sub_params)\nAttributeError: 'NoneType' object has no attribute 'set_params'\n\"\"\"",
            "\nThe above exception was the direct cause of the following exception:\n",
            "\u001b[0;31mAttributeError\u001b[0m                            Traceback (most recent call last)",
            "Cell \u001b[0;32mIn[37], line 1\u001b[0m\n\u001b[0;32m----> 1\u001b[0m ada_dt_results_df_v1 \u001b[38;5;241m=\u001b[39m \u001b[43mget_grid_results_df\u001b[49m\u001b[43m(\u001b[49m\u001b[43mada_pipe\u001b[49m\u001b[43m,\u001b[49m\u001b[38;5;124;43m'\u001b[39;49m\u001b[38;5;124;43mada_dt_results_df_v1\u001b[39;49m\u001b[38;5;124;43m'\u001b[39;49m\u001b[43m,\u001b[49m\n\u001b[1;32m      2\u001b[0m \u001b[43m                                             \u001b[49m\u001b[38;5;28;43mdir\u001b[39;49m\u001b[43m,\u001b[49m\u001b[43m \u001b[49m\u001b[43mparam_grid\u001b[49m\u001b[38;5;241;43m=\u001b[39;49m\u001b[43mada_params\u001b[49m\u001b[43m,\u001b[49m\n\u001b[1;32m      3\u001b[0m \u001b[43m                                             \u001b[49m\u001b[43mverbosity\u001b[49m\u001b[38;5;241;43m=\u001b[39;49m\u001b[38;5;241;43m3\u001b[39;49m\u001b[43m)\u001b[49m\n",
            "Cell \u001b[0;32mIn[7], line 8\u001b[0m, in \u001b[0;36mget_grid_results_df\u001b[0;34m(pipe, name, dir, param_grid, verbosity)\u001b[0m\n\u001b[1;32m      6\u001b[0m     results_df \u001b[38;5;241m=\u001b[39m get_df(name, \u001b[38;5;28mdir\u001b[39m)\n\u001b[1;32m      7\u001b[0m \u001b[38;5;28;01mexcept\u001b[39;00m \u001b[38;5;167;01mFileNotFoundError\u001b[39;00m:\n\u001b[0;32m----> 8\u001b[0m     pipe_grid_search \u001b[38;5;241m=\u001b[39m \u001b[43mgrid_search\u001b[49m\u001b[43m(\u001b[49m\n\u001b[1;32m      9\u001b[0m \u001b[43m        \u001b[49m\u001b[43mX_TrainSet\u001b[49m\u001b[43m,\u001b[49m\u001b[43m \u001b[49m\u001b[43mY_TrainSet\u001b[49m\u001b[43m,\u001b[49m\u001b[43m \u001b[49m\u001b[43mpipe\u001b[49m\u001b[43m,\u001b[49m\u001b[43m \u001b[49m\u001b[43mparam_grid\u001b[49m\u001b[38;5;241;43m=\u001b[39;49m\u001b[43mparam_grid\u001b[49m\u001b[43m,\u001b[49m\u001b[43m \u001b[49m\u001b[43mverbosity\u001b[49m\u001b[38;5;241;43m=\u001b[39;49m\u001b[43mverbosity\u001b[49m\n\u001b[1;32m     10\u001b[0m \u001b[43m    \u001b[49m\u001b[43m)\u001b[49m\n\u001b[1;32m     11\u001b[0m     results_df \u001b[38;5;241m=\u001b[39m pd\u001b[38;5;241m.\u001b[39mDataFrame(pipe_grid_search\u001b[38;5;241m.\u001b[39mcv_results_)\n\u001b[1;32m     12\u001b[0m     save_df(results_df, name, \u001b[38;5;28mdir\u001b[39m)\n",
            "Cell \u001b[0;32mIn[5], line 19\u001b[0m, in \u001b[0;36mgrid_search\u001b[0;34m(X_train, y_train, pipe, param_grid, verbosity)\u001b[0m\n\u001b[1;32m     11\u001b[0m \u001b[38;5;28mprint\u001b[39m(\u001b[38;5;124mf\u001b[39m\u001b[38;5;124m\"\u001b[39m\u001b[38;5;124m### Beginning grid search for \u001b[39m\u001b[38;5;132;01m{\u001b[39;00mpipe\u001b[38;5;241m.\u001b[39mname\u001b[38;5;132;01m}\u001b[39;00m\u001b[38;5;124m ###\u001b[39m\u001b[38;5;124m\"\u001b[39m) \n\u001b[1;32m     12\u001b[0m grid\u001b[38;5;241m=\u001b[39mGridSearchCV(estimator\u001b[38;5;241m=\u001b[39mpipe,\n\u001b[1;32m     13\u001b[0m                 param_grid\u001b[38;5;241m=\u001b[39mparam_grid,\n\u001b[1;32m     14\u001b[0m                 cv\u001b[38;5;241m=\u001b[39m\u001b[38;5;241m5\u001b[39m,\n\u001b[0;32m   (...)\u001b[0m\n\u001b[1;32m     17\u001b[0m                 scoring\u001b[38;5;241m=\u001b[39m[\u001b[38;5;124m'\u001b[39m\u001b[38;5;124maccuracy\u001b[39m\u001b[38;5;124m'\u001b[39m,\u001b[38;5;124m'\u001b[39m\u001b[38;5;124mprecision\u001b[39m\u001b[38;5;124m'\u001b[39m],\n\u001b[1;32m     18\u001b[0m                 refit\u001b[38;5;241m=\u001b[39m\u001b[38;5;124m'\u001b[39m\u001b[38;5;124mprecision\u001b[39m\u001b[38;5;124m'\u001b[39m)\n\u001b[0;32m---> 19\u001b[0m \u001b[43mgrid\u001b[49m\u001b[38;5;241;43m.\u001b[39;49m\u001b[43mfit\u001b[49m\u001b[43m(\u001b[49m\u001b[43mX_train\u001b[49m\u001b[43m,\u001b[49m\u001b[43my_train\u001b[49m\u001b[43m)\u001b[49m\n\u001b[1;32m     20\u001b[0m \u001b[38;5;28;01mreturn\u001b[39;00m grid\n",
            "File \u001b[0;32m/workspace/.pip-modules/lib/python3.8/site-packages/sklearn/base.py:1152\u001b[0m, in \u001b[0;36m_fit_context.<locals>.decorator.<locals>.wrapper\u001b[0;34m(estimator, *args, **kwargs)\u001b[0m\n\u001b[1;32m   1145\u001b[0m     estimator\u001b[38;5;241m.\u001b[39m_validate_params()\n\u001b[1;32m   1147\u001b[0m \u001b[38;5;28;01mwith\u001b[39;00m config_context(\n\u001b[1;32m   1148\u001b[0m     skip_parameter_validation\u001b[38;5;241m=\u001b[39m(\n\u001b[1;32m   1149\u001b[0m         prefer_skip_nested_validation \u001b[38;5;129;01mor\u001b[39;00m global_skip_validation\n\u001b[1;32m   1150\u001b[0m     )\n\u001b[1;32m   1151\u001b[0m ):\n\u001b[0;32m-> 1152\u001b[0m     \u001b[38;5;28;01mreturn\u001b[39;00m \u001b[43mfit_method\u001b[49m\u001b[43m(\u001b[49m\u001b[43mestimator\u001b[49m\u001b[43m,\u001b[49m\u001b[43m \u001b[49m\u001b[38;5;241;43m*\u001b[39;49m\u001b[43margs\u001b[49m\u001b[43m,\u001b[49m\u001b[43m \u001b[49m\u001b[38;5;241;43m*\u001b[39;49m\u001b[38;5;241;43m*\u001b[39;49m\u001b[43mkwargs\u001b[49m\u001b[43m)\u001b[49m\n",
            "File \u001b[0;32m/workspace/.pip-modules/lib/python3.8/site-packages/sklearn/model_selection/_search.py:898\u001b[0m, in \u001b[0;36mBaseSearchCV.fit\u001b[0;34m(self, X, y, groups, **fit_params)\u001b[0m\n\u001b[1;32m    892\u001b[0m     results \u001b[38;5;241m=\u001b[39m \u001b[38;5;28mself\u001b[39m\u001b[38;5;241m.\u001b[39m_format_results(\n\u001b[1;32m    893\u001b[0m         all_candidate_params, n_splits, all_out, all_more_results\n\u001b[1;32m    894\u001b[0m     )\n\u001b[1;32m    896\u001b[0m     \u001b[38;5;28;01mreturn\u001b[39;00m results\n\u001b[0;32m--> 898\u001b[0m \u001b[38;5;28;43mself\u001b[39;49m\u001b[38;5;241;43m.\u001b[39;49m\u001b[43m_run_search\u001b[49m\u001b[43m(\u001b[49m\u001b[43mevaluate_candidates\u001b[49m\u001b[43m)\u001b[49m\n\u001b[1;32m    900\u001b[0m \u001b[38;5;66;03m# multimetric is determined here because in the case of a callable\u001b[39;00m\n\u001b[1;32m    901\u001b[0m \u001b[38;5;66;03m# self.scoring the return type is only known after calling\u001b[39;00m\n\u001b[1;32m    902\u001b[0m first_test_score \u001b[38;5;241m=\u001b[39m all_out[\u001b[38;5;241m0\u001b[39m][\u001b[38;5;124m\"\u001b[39m\u001b[38;5;124mtest_scores\u001b[39m\u001b[38;5;124m\"\u001b[39m]\n",
            "File \u001b[0;32m/workspace/.pip-modules/lib/python3.8/site-packages/sklearn/model_selection/_search.py:1422\u001b[0m, in \u001b[0;36mGridSearchCV._run_search\u001b[0;34m(self, evaluate_candidates)\u001b[0m\n\u001b[1;32m   1420\u001b[0m \u001b[38;5;28;01mdef\u001b[39;00m \u001b[38;5;21m_run_search\u001b[39m(\u001b[38;5;28mself\u001b[39m, evaluate_candidates):\n\u001b[1;32m   1421\u001b[0m \u001b[38;5;250m    \u001b[39m\u001b[38;5;124;03m\"\"\"Search all candidates in param_grid\"\"\"\u001b[39;00m\n\u001b[0;32m-> 1422\u001b[0m     \u001b[43mevaluate_candidates\u001b[49m\u001b[43m(\u001b[49m\u001b[43mParameterGrid\u001b[49m\u001b[43m(\u001b[49m\u001b[38;5;28;43mself\u001b[39;49m\u001b[38;5;241;43m.\u001b[39;49m\u001b[43mparam_grid\u001b[49m\u001b[43m)\u001b[49m\u001b[43m)\u001b[49m\n",
            "File \u001b[0;32m/workspace/.pip-modules/lib/python3.8/site-packages/sklearn/model_selection/_search.py:845\u001b[0m, in \u001b[0;36mBaseSearchCV.fit.<locals>.evaluate_candidates\u001b[0;34m(candidate_params, cv, more_results)\u001b[0m\n\u001b[1;32m    837\u001b[0m \u001b[38;5;28;01mif\u001b[39;00m \u001b[38;5;28mself\u001b[39m\u001b[38;5;241m.\u001b[39mverbose \u001b[38;5;241m>\u001b[39m \u001b[38;5;241m0\u001b[39m:\n\u001b[1;32m    838\u001b[0m     \u001b[38;5;28mprint\u001b[39m(\n\u001b[1;32m    839\u001b[0m         \u001b[38;5;124m\"\u001b[39m\u001b[38;5;124mFitting \u001b[39m\u001b[38;5;132;01m{0}\u001b[39;00m\u001b[38;5;124m folds for each of \u001b[39m\u001b[38;5;132;01m{1}\u001b[39;00m\u001b[38;5;124m candidates,\u001b[39m\u001b[38;5;124m\"\u001b[39m\n\u001b[1;32m    840\u001b[0m         \u001b[38;5;124m\"\u001b[39m\u001b[38;5;124m totalling \u001b[39m\u001b[38;5;132;01m{2}\u001b[39;00m\u001b[38;5;124m fits\u001b[39m\u001b[38;5;124m\"\u001b[39m\u001b[38;5;241m.\u001b[39mformat(\n\u001b[1;32m    841\u001b[0m             n_splits, n_candidates, n_candidates \u001b[38;5;241m*\u001b[39m n_splits\n\u001b[1;32m    842\u001b[0m         )\n\u001b[1;32m    843\u001b[0m     )\n\u001b[0;32m--> 845\u001b[0m out \u001b[38;5;241m=\u001b[39m \u001b[43mparallel\u001b[49m\u001b[43m(\u001b[49m\n\u001b[1;32m    846\u001b[0m \u001b[43m    \u001b[49m\u001b[43mdelayed\u001b[49m\u001b[43m(\u001b[49m\u001b[43m_fit_and_score\u001b[49m\u001b[43m)\u001b[49m\u001b[43m(\u001b[49m\n\u001b[1;32m    847\u001b[0m \u001b[43m        \u001b[49m\u001b[43mclone\u001b[49m\u001b[43m(\u001b[49m\u001b[43mbase_estimator\u001b[49m\u001b[43m)\u001b[49m\u001b[43m,\u001b[49m\n\u001b[1;32m    848\u001b[0m \u001b[43m        \u001b[49m\u001b[43mX\u001b[49m\u001b[43m,\u001b[49m\n\u001b[1;32m    849\u001b[0m \u001b[43m        \u001b[49m\u001b[43my\u001b[49m\u001b[43m,\u001b[49m\n\u001b[1;32m    850\u001b[0m \u001b[43m        \u001b[49m\u001b[43mtrain\u001b[49m\u001b[38;5;241;43m=\u001b[39;49m\u001b[43mtrain\u001b[49m\u001b[43m,\u001b[49m\n\u001b[1;32m    851\u001b[0m \u001b[43m        \u001b[49m\u001b[43mtest\u001b[49m\u001b[38;5;241;43m=\u001b[39;49m\u001b[43mtest\u001b[49m\u001b[43m,\u001b[49m\n\u001b[1;32m    852\u001b[0m \u001b[43m        \u001b[49m\u001b[43mparameters\u001b[49m\u001b[38;5;241;43m=\u001b[39;49m\u001b[43mparameters\u001b[49m\u001b[43m,\u001b[49m\n\u001b[1;32m    853\u001b[0m \u001b[43m        \u001b[49m\u001b[43msplit_progress\u001b[49m\u001b[38;5;241;43m=\u001b[39;49m\u001b[43m(\u001b[49m\u001b[43msplit_idx\u001b[49m\u001b[43m,\u001b[49m\u001b[43m \u001b[49m\u001b[43mn_splits\u001b[49m\u001b[43m)\u001b[49m\u001b[43m,\u001b[49m\n\u001b[1;32m    854\u001b[0m \u001b[43m        \u001b[49m\u001b[43mcandidate_progress\u001b[49m\u001b[38;5;241;43m=\u001b[39;49m\u001b[43m(\u001b[49m\u001b[43mcand_idx\u001b[49m\u001b[43m,\u001b[49m\u001b[43m \u001b[49m\u001b[43mn_candidates\u001b[49m\u001b[43m)\u001b[49m\u001b[43m,\u001b[49m\n\u001b[1;32m    855\u001b[0m \u001b[43m        \u001b[49m\u001b[38;5;241;43m*\u001b[39;49m\u001b[38;5;241;43m*\u001b[39;49m\u001b[43mfit_and_score_kwargs\u001b[49m\u001b[43m,\u001b[49m\n\u001b[1;32m    856\u001b[0m \u001b[43m    \u001b[49m\u001b[43m)\u001b[49m\n\u001b[1;32m    857\u001b[0m \u001b[43m    \u001b[49m\u001b[38;5;28;43;01mfor\u001b[39;49;00m\u001b[43m \u001b[49m\u001b[43m(\u001b[49m\u001b[43mcand_idx\u001b[49m\u001b[43m,\u001b[49m\u001b[43m \u001b[49m\u001b[43mparameters\u001b[49m\u001b[43m)\u001b[49m\u001b[43m,\u001b[49m\u001b[43m \u001b[49m\u001b[43m(\u001b[49m\u001b[43msplit_idx\u001b[49m\u001b[43m,\u001b[49m\u001b[43m \u001b[49m\u001b[43m(\u001b[49m\u001b[43mtrain\u001b[49m\u001b[43m,\u001b[49m\u001b[43m \u001b[49m\u001b[43mtest\u001b[49m\u001b[43m)\u001b[49m\u001b[43m)\u001b[49m\u001b[43m \u001b[49m\u001b[38;5;129;43;01min\u001b[39;49;00m\u001b[43m \u001b[49m\u001b[43mproduct\u001b[49m\u001b[43m(\u001b[49m\n\u001b[1;32m    858\u001b[0m \u001b[43m        \u001b[49m\u001b[38;5;28;43menumerate\u001b[39;49m\u001b[43m(\u001b[49m\u001b[43mcandidate_params\u001b[49m\u001b[43m)\u001b[49m\u001b[43m,\u001b[49m\u001b[43m \u001b[49m\u001b[38;5;28;43menumerate\u001b[39;49m\u001b[43m(\u001b[49m\u001b[43mcv\u001b[49m\u001b[38;5;241;43m.\u001b[39;49m\u001b[43msplit\u001b[49m\u001b[43m(\u001b[49m\u001b[43mX\u001b[49m\u001b[43m,\u001b[49m\u001b[43m \u001b[49m\u001b[43my\u001b[49m\u001b[43m,\u001b[49m\u001b[43m \u001b[49m\u001b[43mgroups\u001b[49m\u001b[43m)\u001b[49m\u001b[43m)\u001b[49m\n\u001b[1;32m    859\u001b[0m \u001b[43m    \u001b[49m\u001b[43m)\u001b[49m\n\u001b[1;32m    860\u001b[0m \u001b[43m\u001b[49m\u001b[43m)\u001b[49m\n\u001b[1;32m    862\u001b[0m \u001b[38;5;28;01mif\u001b[39;00m \u001b[38;5;28mlen\u001b[39m(out) \u001b[38;5;241m<\u001b[39m \u001b[38;5;241m1\u001b[39m:\n\u001b[1;32m    863\u001b[0m     \u001b[38;5;28;01mraise\u001b[39;00m \u001b[38;5;167;01mValueError\u001b[39;00m(\n\u001b[1;32m    864\u001b[0m         \u001b[38;5;124m\"\u001b[39m\u001b[38;5;124mNo fits were performed. \u001b[39m\u001b[38;5;124m\"\u001b[39m\n\u001b[1;32m    865\u001b[0m         \u001b[38;5;124m\"\u001b[39m\u001b[38;5;124mWas the CV iterator empty? \u001b[39m\u001b[38;5;124m\"\u001b[39m\n\u001b[1;32m    866\u001b[0m         \u001b[38;5;124m\"\u001b[39m\u001b[38;5;124mWere there no candidates?\u001b[39m\u001b[38;5;124m\"\u001b[39m\n\u001b[1;32m    867\u001b[0m     )\n",
            "File \u001b[0;32m/workspace/.pip-modules/lib/python3.8/site-packages/sklearn/utils/parallel.py:65\u001b[0m, in \u001b[0;36mParallel.__call__\u001b[0;34m(self, iterable)\u001b[0m\n\u001b[1;32m     60\u001b[0m config \u001b[38;5;241m=\u001b[39m get_config()\n\u001b[1;32m     61\u001b[0m iterable_with_config \u001b[38;5;241m=\u001b[39m (\n\u001b[1;32m     62\u001b[0m     (_with_config(delayed_func, config), args, kwargs)\n\u001b[1;32m     63\u001b[0m     \u001b[38;5;28;01mfor\u001b[39;00m delayed_func, args, kwargs \u001b[38;5;129;01min\u001b[39;00m iterable\n\u001b[1;32m     64\u001b[0m )\n\u001b[0;32m---> 65\u001b[0m \u001b[38;5;28;01mreturn\u001b[39;00m \u001b[38;5;28;43msuper\u001b[39;49m\u001b[43m(\u001b[49m\u001b[43m)\u001b[49m\u001b[38;5;241;43m.\u001b[39;49m\u001b[38;5;21;43m__call__\u001b[39;49m\u001b[43m(\u001b[49m\u001b[43miterable_with_config\u001b[49m\u001b[43m)\u001b[49m\n",
            "File \u001b[0;32m/workspace/.pip-modules/lib/python3.8/site-packages/joblib/parallel.py:2007\u001b[0m, in \u001b[0;36mParallel.__call__\u001b[0;34m(self, iterable)\u001b[0m\n\u001b[1;32m   2001\u001b[0m \u001b[38;5;66;03m# The first item from the output is blank, but it makes the interpreter\u001b[39;00m\n\u001b[1;32m   2002\u001b[0m \u001b[38;5;66;03m# progress until it enters the Try/Except block of the generator and\u001b[39;00m\n\u001b[1;32m   2003\u001b[0m \u001b[38;5;66;03m# reaches the first `yield` statement. This starts the asynchronous\u001b[39;00m\n\u001b[1;32m   2004\u001b[0m \u001b[38;5;66;03m# dispatch of the tasks to the workers.\u001b[39;00m\n\u001b[1;32m   2005\u001b[0m \u001b[38;5;28mnext\u001b[39m(output)\n\u001b[0;32m-> 2007\u001b[0m \u001b[38;5;28;01mreturn\u001b[39;00m output \u001b[38;5;28;01mif\u001b[39;00m \u001b[38;5;28mself\u001b[39m\u001b[38;5;241m.\u001b[39mreturn_generator \u001b[38;5;28;01melse\u001b[39;00m \u001b[38;5;28;43mlist\u001b[39;49m\u001b[43m(\u001b[49m\u001b[43moutput\u001b[49m\u001b[43m)\u001b[49m\n",
            "File \u001b[0;32m/workspace/.pip-modules/lib/python3.8/site-packages/joblib/parallel.py:1650\u001b[0m, in \u001b[0;36mParallel._get_outputs\u001b[0;34m(self, iterator, pre_dispatch)\u001b[0m\n\u001b[1;32m   1647\u001b[0m     \u001b[38;5;28;01myield\u001b[39;00m\n\u001b[1;32m   1649\u001b[0m     \u001b[38;5;28;01mwith\u001b[39;00m \u001b[38;5;28mself\u001b[39m\u001b[38;5;241m.\u001b[39m_backend\u001b[38;5;241m.\u001b[39mretrieval_context():\n\u001b[0;32m-> 1650\u001b[0m         \u001b[38;5;28;01myield from\u001b[39;00m \u001b[38;5;28mself\u001b[39m\u001b[38;5;241m.\u001b[39m_retrieve()\n\u001b[1;32m   1652\u001b[0m \u001b[38;5;28;01mexcept\u001b[39;00m \u001b[38;5;167;01mGeneratorExit\u001b[39;00m:\n\u001b[1;32m   1653\u001b[0m     \u001b[38;5;66;03m# The generator has been garbage collected before being fully\u001b[39;00m\n\u001b[1;32m   1654\u001b[0m     \u001b[38;5;66;03m# consumed. This aborts the remaining tasks if possible and warn\u001b[39;00m\n\u001b[1;32m   1655\u001b[0m     \u001b[38;5;66;03m# the user if necessary.\u001b[39;00m\n\u001b[1;32m   1656\u001b[0m     \u001b[38;5;28mself\u001b[39m\u001b[38;5;241m.\u001b[39m_exception \u001b[38;5;241m=\u001b[39m \u001b[38;5;28;01mTrue\u001b[39;00m\n",
            "File \u001b[0;32m/workspace/.pip-modules/lib/python3.8/site-packages/joblib/parallel.py:1754\u001b[0m, in \u001b[0;36mParallel._retrieve\u001b[0;34m(self)\u001b[0m\n\u001b[1;32m   1747\u001b[0m \u001b[38;5;28;01mwhile\u001b[39;00m \u001b[38;5;28mself\u001b[39m\u001b[38;5;241m.\u001b[39m_wait_retrieval():\n\u001b[1;32m   1748\u001b[0m \n\u001b[1;32m   1749\u001b[0m     \u001b[38;5;66;03m# If the callback thread of a worker has signaled that its task\u001b[39;00m\n\u001b[1;32m   1750\u001b[0m     \u001b[38;5;66;03m# triggered an exception, or if the retrieval loop has raised an\u001b[39;00m\n\u001b[1;32m   1751\u001b[0m     \u001b[38;5;66;03m# exception (e.g. `GeneratorExit`), exit the loop and surface the\u001b[39;00m\n\u001b[1;32m   1752\u001b[0m     \u001b[38;5;66;03m# worker traceback.\u001b[39;00m\n\u001b[1;32m   1753\u001b[0m     \u001b[38;5;28;01mif\u001b[39;00m \u001b[38;5;28mself\u001b[39m\u001b[38;5;241m.\u001b[39m_aborting:\n\u001b[0;32m-> 1754\u001b[0m         \u001b[38;5;28;43mself\u001b[39;49m\u001b[38;5;241;43m.\u001b[39;49m\u001b[43m_raise_error_fast\u001b[49m\u001b[43m(\u001b[49m\u001b[43m)\u001b[49m\n\u001b[1;32m   1755\u001b[0m         \u001b[38;5;28;01mbreak\u001b[39;00m\n\u001b[1;32m   1757\u001b[0m     \u001b[38;5;66;03m# If the next job is not ready for retrieval yet, we just wait for\u001b[39;00m\n\u001b[1;32m   1758\u001b[0m     \u001b[38;5;66;03m# async callbacks to progress.\u001b[39;00m\n",
            "File \u001b[0;32m/workspace/.pip-modules/lib/python3.8/site-packages/joblib/parallel.py:1789\u001b[0m, in \u001b[0;36mParallel._raise_error_fast\u001b[0;34m(self)\u001b[0m\n\u001b[1;32m   1785\u001b[0m \u001b[38;5;66;03m# If this error job exists, immediately raise the error by\u001b[39;00m\n\u001b[1;32m   1786\u001b[0m \u001b[38;5;66;03m# calling get_result. This job might not exists if abort has been\u001b[39;00m\n\u001b[1;32m   1787\u001b[0m \u001b[38;5;66;03m# called directly or if the generator is gc'ed.\u001b[39;00m\n\u001b[1;32m   1788\u001b[0m \u001b[38;5;28;01mif\u001b[39;00m error_job \u001b[38;5;129;01mis\u001b[39;00m \u001b[38;5;129;01mnot\u001b[39;00m \u001b[38;5;28;01mNone\u001b[39;00m:\n\u001b[0;32m-> 1789\u001b[0m     \u001b[43merror_job\u001b[49m\u001b[38;5;241;43m.\u001b[39;49m\u001b[43mget_result\u001b[49m\u001b[43m(\u001b[49m\u001b[38;5;28;43mself\u001b[39;49m\u001b[38;5;241;43m.\u001b[39;49m\u001b[43mtimeout\u001b[49m\u001b[43m)\u001b[49m\n",
            "File \u001b[0;32m/workspace/.pip-modules/lib/python3.8/site-packages/joblib/parallel.py:745\u001b[0m, in \u001b[0;36mBatchCompletionCallBack.get_result\u001b[0;34m(self, timeout)\u001b[0m\n\u001b[1;32m    739\u001b[0m backend \u001b[38;5;241m=\u001b[39m \u001b[38;5;28mself\u001b[39m\u001b[38;5;241m.\u001b[39mparallel\u001b[38;5;241m.\u001b[39m_backend\n\u001b[1;32m    741\u001b[0m \u001b[38;5;28;01mif\u001b[39;00m backend\u001b[38;5;241m.\u001b[39msupports_retrieve_callback:\n\u001b[1;32m    742\u001b[0m     \u001b[38;5;66;03m# We assume that the result has already been retrieved by the\u001b[39;00m\n\u001b[1;32m    743\u001b[0m     \u001b[38;5;66;03m# callback thread, and is stored internally. It's just waiting to\u001b[39;00m\n\u001b[1;32m    744\u001b[0m     \u001b[38;5;66;03m# be returned.\u001b[39;00m\n\u001b[0;32m--> 745\u001b[0m     \u001b[38;5;28;01mreturn\u001b[39;00m \u001b[38;5;28;43mself\u001b[39;49m\u001b[38;5;241;43m.\u001b[39;49m\u001b[43m_return_or_raise\u001b[49m\u001b[43m(\u001b[49m\u001b[43m)\u001b[49m\n\u001b[1;32m    747\u001b[0m \u001b[38;5;66;03m# For other backends, the main thread needs to run the retrieval step.\u001b[39;00m\n\u001b[1;32m    748\u001b[0m \u001b[38;5;28;01mtry\u001b[39;00m:\n",
            "File \u001b[0;32m/workspace/.pip-modules/lib/python3.8/site-packages/joblib/parallel.py:763\u001b[0m, in \u001b[0;36mBatchCompletionCallBack._return_or_raise\u001b[0;34m(self)\u001b[0m\n\u001b[1;32m    761\u001b[0m \u001b[38;5;28;01mtry\u001b[39;00m:\n\u001b[1;32m    762\u001b[0m     \u001b[38;5;28;01mif\u001b[39;00m \u001b[38;5;28mself\u001b[39m\u001b[38;5;241m.\u001b[39mstatus \u001b[38;5;241m==\u001b[39m TASK_ERROR:\n\u001b[0;32m--> 763\u001b[0m         \u001b[38;5;28;01mraise\u001b[39;00m \u001b[38;5;28mself\u001b[39m\u001b[38;5;241m.\u001b[39m_result\n\u001b[1;32m    764\u001b[0m     \u001b[38;5;28;01mreturn\u001b[39;00m \u001b[38;5;28mself\u001b[39m\u001b[38;5;241m.\u001b[39m_result\n\u001b[1;32m    765\u001b[0m \u001b[38;5;28;01mfinally\u001b[39;00m:\n",
            "\u001b[0;31mAttributeError\u001b[0m: 'NoneType' object has no attribute 'set_params'"
          ]
        }
      ],
      "source": [
        "ada_dt_results_df_v1 = get_grid_results_df(ada_pipe,'ada_dt_results_df_v1',\n",
        "                                             dir, param_grid=ada_params,\n",
        "                                             verbosity=3)"
      ]
    },
    {
      "cell_type": "markdown",
      "metadata": {},
      "source": [
        "In order to get intermediate results, we will train the AdaBoost model with different base estimators separately."
      ]
    }
  ],
  "metadata": {
    "accelerator": "GPU",
    "colab": {
      "name": "Data Practitioner Jupyter Notebook.ipynb",
      "provenance": [],
      "toc_visible": true
    },
    "interpreter": {
      "hash": "8b8334dab9339717f727a1deaf837b322d7a41c20d15cc86be99a8e69ceec8ce"
    },
    "kernelspec": {
      "display_name": "Python 3.8.12 64-bit ('3.8.12': pyenv)",
      "name": "python3"
    },
    "language_info": {
      "codemirror_mode": {
        "name": "ipython",
        "version": 3
      },
      "file_extension": ".py",
      "mimetype": "text/x-python",
      "name": "python",
      "nbconvert_exporter": "python",
      "pygments_lexer": "ipython3",
      "version": "3.8.18"
    },
    "orig_nbformat": 2
  },
  "nbformat": 4,
  "nbformat_minor": 2
}
