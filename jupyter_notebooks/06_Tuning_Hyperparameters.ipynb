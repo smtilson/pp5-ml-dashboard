{
  "cells": [
    {
      "cell_type": "markdown",
      "metadata": {
        "id": "0aStgWSO0E0E"
      },
      "source": [
        "# **Tuning Hyperparameters**"
      ]
    },
    {
      "cell_type": "markdown",
      "metadata": {
        "id": "1eLEkw5O0ECa"
      },
      "source": [
        "## Objectives\n",
        "\n",
        "* We will tune the hyperparameters of for Logistic Regression and an Adaptive Boost model.\n",
        "\n",
        "## Inputs\n",
        "\n",
        "* Training and Testing data sets from notebook 04.\n",
        "* Insights developed in the previous notebook.\n",
        "\n",
        "## Outputs\n",
        "\n",
        "* We will have saved models with tuned hyper parameters at the end of this notebook.\n",
        "\n",
        "## Additional Comments\n",
        "\n",
        "* We are making some philosophical assumptions about the nature of hyperparameters. The basic assumption is that the performance of a model trained with hyperparameters that are \"near enough\" to each other will perform \"similarly enough.\" This is the idea that the performance of the model depends _continuously_ on the hyperparameters. We in fact assume a certain amount of regularity of this dependence. In partial differential equations (pdes), the kind of behavior we are assuming is characteristic of elliptic pdes. We do not have a technical reason for believing this. We assume this is an active area of research for various models, but in general it is outside the scope of this project. It does influence our decision in how we go about searching for good hyperparameters.\n"
      ]
    },
    {
      "cell_type": "markdown",
      "metadata": {
        "id": "9uWZXH9LwoQg"
      },
      "source": [
        "---"
      ]
    },
    {
      "cell_type": "markdown",
      "metadata": {},
      "source": [
        "# Change working directory\n",
        "We need to change the working directory from its current folder to its parent folder\n",
        "* We access the current directory with os.getcwd()"
      ]
    },
    {
      "cell_type": "code",
      "execution_count": null,
      "metadata": {},
      "outputs": [
        {
          "name": "stdout",
          "output_type": "stream",
          "text": [
            "/workspace/pp5-ml-dashboard\n"
          ]
        }
      ],
      "source": [
        "import os\n",
        "\n",
        "home_dir = '/workspace/pp5-ml-dashboard'\n",
        "os.chdir(home_dir)\n",
        "current_dir = os.getcwd()\n",
        "print(current_dir)"
      ]
    },
    {
      "cell_type": "markdown",
      "metadata": {},
      "source": [
        "We now load our training and test sets, as well as some of the packages that we will be using."
      ]
    },
    {
      "cell_type": "code",
      "execution_count": null,
      "metadata": {},
      "outputs": [],
      "source": [
        "import numpy as np\n",
        "import pandas as pd\n",
        "import seaborn as sns\n",
        "import matplotlib.pyplot as plt\n",
        "import plotly.express as px\n",
        "from src.utils import get_df, save_df\n",
        "\n",
        "train_dir = 'datasets/train/csv'\n",
        "X_TrainSet = get_df('X_TrainSet',train_dir)\n",
        "Y_TrainSet = get_df('Y_TrainSet',train_dir)\n",
        "\n",
        "test_dir = 'datasets/test/csv'\n",
        "X_TestSet = get_df('X_TestSet',test_dir)\n",
        "Y_TestSet = get_df('Y_TestSet',test_dir)"
      ]
    },
    {
      "cell_type": "markdown",
      "metadata": {},
      "source": [
        "## Section 1: Pipeline and Grid Search set up\n",
        "We recall the code for building our pipelines and the grid search that we performed in the last notebook. Note that some of the constants have changed. \n",
        "\n",
        "We have modified the pipeline to see how feateure selection impacts the performance. Note that setting `thresh=1` essentially removes the `'corr_selector'` step from the pipeline. We will eventually remove this step from the pipeline once we have selected a value for `thresh`."
      ]
    },
    {
      "cell_type": "code",
      "execution_count": null,
      "metadata": {},
      "outputs": [],
      "source": [
        "from sklearn.preprocessing import StandardScaler\n",
        "from feature_engine import transformation as vt\n",
        "from feature_engine.selection import DropFeatures, SmartCorrelatedSelection\n",
        "from sklearn.pipeline import Pipeline\n",
        "\n",
        "\n",
        "# Constants needed for feature engineering\n",
        "TO_DROP = ['ftm_away', 'plus_minus_home', 'fg3m_away', 'pts_away', 'play_off',\n",
        "           'fgm_away', 'pts_home', 'fg3m_home', 'ftm_home', 'fgm_home',\n",
        "           'season']\n",
        "THRESH = 0.6\n",
        "TRANSFORMS = {'box_cox':(vt.BoxCoxTransformer,False),\n",
        "              'yeo_johnson':(vt.YeoJohnsonTransformer,False)}\n",
        "TRANSFORM_ASSIGNMENTS = {\n",
        "    'yeo_johnson': ['dreb_away', 'blk_home', 'oreb_away', 'fta_away',\n",
        "                    'dreb_home', 'ast_home', 'stl_away', 'stl_home',\n",
        "                    'reb_away', 'oreb_home', 'pf_away', 'pf_home'],\n",
        "    'box_cox': ['ast_away', 'fta_home']\n",
        "                            }\n",
        "\n",
        "\n",
        "def base_pipeline(thresh=THRESH):\n",
        "    pipeline = Pipeline([\n",
        "        ('dropper', DropFeatures(features_to_drop=TO_DROP)),\n",
        "        ('corr_selector', SmartCorrelatedSelection(method=\"pearson\",\n",
        "                                                   threshold=thresh,\n",
        "                                                   selection_method=\"variance\")\n",
        "                                                   )\n",
        "                        ])\n",
        "    return pipeline\n",
        "\n",
        "    \n",
        "def add_transformations(pipeline, transform_assignments):\n",
        "    # This needs to be called after the above is fit so that the correlation selector has that attr\n",
        "    dropping = pipeline['corr_selector'].features_to_drop_\n",
        "    \n",
        "    new_assignments = { key: [val for val in value if val not in dropping] \n",
        "                       for key,value in transform_assignments.items()}\n",
        "    for transform, targets in new_assignments.items():\n",
        "        if not targets:\n",
        "            continue\n",
        "        pipeline.steps.append(\n",
        "            (transform, TRANSFORMS[transform][0](variables=targets))\n",
        "            )\n",
        "    pipeline.steps.append(('scaler', StandardScaler()))\n",
        "    return pipeline"
      ]
    },
    {
      "cell_type": "code",
      "execution_count": null,
      "metadata": {},
      "outputs": [],
      "source": [
        "from sklearn.feature_selection import SelectFromModel\n",
        "\n",
        "# ML algorithms\n",
        "from sklearn.linear_model import LogisticRegression\n",
        "from sklearn.ensemble import GradientBoostingClassifier,AdaBoostClassifier\n",
        "\n",
        "\n",
        "MODELS = {\n",
        "    'LogisticRegression': LogisticRegression,\n",
        "    'GradientBoosting': GradientBoostingClassifier,\n",
        "    'AdaBoost': AdaBoostClassifier,\n",
        "}\n",
        "\n",
        "def create_pipe(model_name, random_state=42, params={}):\n",
        "    model = MODELS[model_name](random_state=random_state,**params)\n",
        "    base_pipe = base_pipeline()\n",
        "    base_pipe.fit(X_TrainSet)\n",
        "    pipe= add_transformations(base_pipe,TRANSFORM_ASSIGNMENTS)\n",
        "    pipe.steps.append((\"feat_selection\", SelectFromModel(model)))\n",
        "    pipe.steps.append(('model',model))\n",
        "    pipe.model_type = model_name\n",
        "    pipe.name = model_name\n",
        "    return pipe\n"
      ]
    },
    {
      "cell_type": "markdown",
      "metadata": {},
      "source": [
        "Next, we have the code for our grid search. As we will be treating `thresh` as a hyperparameter, it will be slightly different."
      ]
    },
    {
      "cell_type": "code",
      "execution_count": null,
      "metadata": {},
      "outputs": [],
      "source": [
        "from sklearn.model_selection import GridSearchCV\n",
        "# to suppress warnings\n",
        "import warnings\n",
        "warnings.filterwarnings(\"ignore\", category=FutureWarning)\n",
        "import logging\n",
        "logging.captureWarnings(True)\n",
        "os.environ['PYTHONWARNINGS']='ignore'\n",
        "\n",
        "\n",
        "def grid_search(X_train, y_train,pipe,param_grid={},verbosity=1):\n",
        "    print(f\"### Beginning grid search for {pipe.name} ###\") \n",
        "    grid=GridSearchCV(estimator=pipe,\n",
        "                    param_grid=param_grid,\n",
        "                    cv=5,\n",
        "                    n_jobs=-2,\n",
        "                    verbose=verbosity,\n",
        "                    scoring=['accuracy','precision'],\n",
        "                    refit='precision')\n",
        "    grid.fit(X_train,y_train)\n",
        "    return grid\n"
      ]
    },
    {
      "cell_type": "markdown",
      "metadata": {},
      "source": [
        "## Section 2: Logistic Regression\n",
        "Logistic Regression models have many hyperparameters. We will focus on:\n",
        "* `penalty` is a regularization parameter.\n",
        "* `solver` specifies the type of algorithm used.\n",
        "* `C` controls the strength of the penalty.\n",
        "\n",
        "Not all penalties work for each solver.\n",
        "\n",
        "These will be our initial choice for hyperparameters. They will help us narrow down our search and find other ranges to test."
      ]
    },
    {
      "cell_type": "code",
      "execution_count": null,
      "metadata": {},
      "outputs": [],
      "source": [
        "thresholds = [round(0.1*i,2) for i in range(5,11)]\n",
        "C = [10**(2*i+1) for i in range(-2,2)]\n",
        "solver = ['newton-cg', 'newton-cholesky', 'lbfgs', 'liblinear', 'sag', 'saga']\n",
        "penalty = ['none', 'l1', 'l2', 'elasticnet']\n",
        "param_grid = [\n",
        "            {'C':C,\n",
        "             'solver':['lbfgs','newton-cg','newton-cholesky','sag'],\n",
        "             'penalty':['l2',None]},\n",
        "            {'C':C,\n",
        "             'solver':['liblinear'],\n",
        "             'penalty':['l1','l2']},\n",
        "            {'C':C,\n",
        "             'solver':['saga'],\n",
        "             'penalty':['l1','l2',None,'elasticnet']}\n",
        "              ]\n",
        "logistic_param_grid = [{'model__'+key:value \n",
        "                                for key,value in param_dict.items()}\n",
        "                                for param_dict in param_grid]\n",
        "for params in logistic_param_grid:\n",
        "    params['corr_selector__threshold']=thresholds\n"
      ]
    },
    {
      "cell_type": "markdown",
      "metadata": {},
      "source": [
        "Now we are ready to do the grid search. We expect this to go well since Logistic Regression was our best performing model without any tuning. This initial training will help us establish a range to further tune the hyperparamters in."
      ]
    },
    {
      "cell_type": "code",
      "execution_count": null,
      "metadata": {},
      "outputs": [],
      "source": [
        "from src.utils import save_df, get_df\n",
        "\n",
        "\n",
        "def get_grid_results_df(pipe, name, dir, param_grid={}, verbosity=2):\n",
        "    try:\n",
        "        results_df = get_df(name, dir)\n",
        "    except FileNotFoundError:\n",
        "        pipe_grid_search = grid_search(\n",
        "            X_TrainSet, Y_TrainSet, pipe, param_grid=param_grid, verbosity=verbosity\n",
        "        )\n",
        "        results_df = pd.DataFrame(pipe_grid_search.cv_results_)\n",
        "        save_df(results_df, name, dir)\n",
        "        # this normalizes the types\n",
        "        results_df = get_df(name, dir)\n",
        "    return results_df\n",
        "\n",
        "\n",
        "logistic_pipe = create_pipe(\"LogisticRegression\")\n",
        "results_name = \"logistic_grid_results_v1\"\n",
        "dir = \"experiment_results/tuning/grids\"\n",
        "\n",
        "logistic_results_df_v1 = get_grid_results_df(\n",
        "    logistic_pipe, results_name, dir, param_grid=logistic_param_grid\n",
        ")"
      ]
    },
    {
      "cell_type": "markdown",
      "metadata": {},
      "source": [
        "\n",
        "Let's look at what the best choices are at this stage."
      ]
    },
    {
      "cell_type": "code",
      "execution_count": null,
      "metadata": {},
      "outputs": [
        {
          "name": "stdout",
          "output_type": "stream",
          "text": [
            "Best parameters for current model:\n",
            "threshold: 0.8\n",
            "C: 0.001\n",
            "penalty: None\n",
            "solver: lbfgs\n",
            "Avg. Precision: 88.70480236491775%.\n",
            "Avg. Accuracy: 87.18030112459309%.\n",
            "\n",
            "threshold: 0.8\n",
            "C: 0.001\n",
            "penalty: None\n",
            "solver: newton-cg\n",
            "Avg. Precision: 88.70480236491775%.\n",
            "Avg. Accuracy: 87.18030112459309%.\n",
            "\n",
            "threshold: 0.8\n",
            "C: 0.001\n",
            "penalty: None\n",
            "solver: newton-cholesky\n",
            "Avg. Precision: 88.70480236491775%.\n",
            "Avg. Accuracy: 87.18030112459309%.\n",
            "\n"
          ]
        }
      ],
      "source": [
        "from src.model_eval import get_best_params_df\n",
        "\n",
        "get_best_params_df(logistic_results_df_v1)"
      ]
    },
    {
      "cell_type": "markdown",
      "metadata": {},
      "source": [
        "Clearly, the best correlation threshold is 0.8. The models have the same scores. Lets collect all of the parameters that have the same scores. We order the scores not by count but by score."
      ]
    },
    {
      "cell_type": "code",
      "execution_count": null,
      "metadata": {},
      "outputs": [
        {
          "name": "stdout",
          "output_type": "stream",
          "text": [
            "---  Score Counts  ---\n",
            "Precision: 0.8870480236491776, Accuracy: 0.8718030112459308\n",
            "Count: 34\n",
            "\n",
            "Precision: 0.887042467962182, Accuracy: 0.8717743374108053\n",
            "Count: 2\n",
            "\n",
            "Precision: 0.8870152603635608, Accuracy: 0.8718030194666403\n",
            "Count: 1\n",
            "\n",
            "Precision: 0.8869924718004393, Accuracy: 0.8718890245305975\n",
            "Count: 1\n",
            "\n",
            "---  Score Stats  ---\n",
            "Most Common: Precision: -1\n",
            "             Accuracy: -1\n",
            "             Count: 76\n",
            "Max Score: Precision: 0.8870480236491776\n",
            "           Accuracy: 0.8718030112459308\n",
            "           Count: 34\n",
            "Max Precision: 0.8870480236491776\n",
            "Max Accuracy: 0.871917694255368\n"
          ]
        }
      ],
      "source": [
        "from src.model_eval import present_score_counts, score_stats\n",
        "\n",
        "\n",
        "present_score_counts(logistic_results_df_v1)\n",
        "best_score = score_stats(logistic_results_df_v1)\n"
      ]
    },
    {
      "cell_type": "markdown",
      "metadata": {},
      "source": [
        "The most common scores are `nan` (we changed the score to be -1 if a `nan` value was showing up). This happens when a choice of parameters does not work well together. We won't worry about this as we are able to get quite good precision and accuracy with this first pass. Note that the best accuracy score is not far from the accuracy of the model with the best precision.\n",
        "\n",
        "34 different choices of parameters had the best performance. We would like to see what these estimators had in common and look at neighborhoods around these parameters to see if we can improve the performance before moving on to the next model."
      ]
    },
    {
      "cell_type": "code",
      "execution_count": null,
      "metadata": {},
      "outputs": [
        {
          "name": "stdout",
          "output_type": "stream",
          "text": [
            "model__solver: saga, Count: 8\n",
            "model__solver: lbfgs, Count: 6\n",
            "model__solver: newton-cg, Count: 6\n",
            "model__solver: newton-cholesky, Count: 6\n",
            "model__solver: sag, Count: 5\n",
            "model__solver: liblinear, Count: 3\n",
            "model__penalty: None, Count: 20\n",
            "model__penalty: l2, Count: 10\n",
            "model__penalty: l1, Count: 4\n",
            "model__C: 1000, Count: 13\n",
            "model__C: 10, Count: 11\n",
            "model__C: 0.001, Count: 5\n",
            "model__C: 0.1, Count: 5\n",
            "corr_selector__threshold: 0.8, Count: 34\n"
          ]
        }
      ],
      "source": [
        "from src.model_eval import present_param_counts\n",
        "\n",
        "present_param_counts(logistic_results_df_v1, best_score)"
      ]
    },
    {
      "cell_type": "markdown",
      "metadata": {},
      "source": [
        "We will make the following modifications to `logistic_param_grid`:\n",
        "* remove `'liblinear'` and `'sag'` as they were used the least,\n",
        "* pick a neighborhood around 0.8 for correlation threshold,\n",
        "* focus on penalties `'l2'` and `'None'`\n",
        "* focus on the range 1 to 1000 for `C`\n",
        "\n",
        "We will see if focusing gives us any improvement in score."
      ]
    },
    {
      "cell_type": "code",
      "execution_count": null,
      "metadata": {},
      "outputs": [],
      "source": [
        "from src.utils import divide_range\n",
        "\n",
        "thresholds = divide_range(0.75,0.85,5)\n",
        "C = divide_range(1,1000,6)\n",
        "logistic_param_grid_v2=[{'model__C': C,\n",
        "  'model__solver': ['lbfgs', 'newton-cg', 'newton-cholesky','saga'],\n",
        "  'model__penalty': ['l2', None],\n",
        "  'corr_selector__threshold': thresholds}]"
      ]
    },
    {
      "cell_type": "code",
      "execution_count": null,
      "metadata": {},
      "outputs": [],
      "source": [
        "logistic_results_df_v2 = get_grid_results_df(logistic_pipe,\n",
        "                                             'logistic_results_df_v2', dir, \n",
        "                                             param_grid=logistic_param_grid_v2,\n",
        "                                             verbosity=3)"
      ]
    },
    {
      "cell_type": "markdown",
      "metadata": {},
      "source": [
        "Let's proceed by doing the analysis we did above of the results of this grid search."
      ]
    },
    {
      "cell_type": "code",
      "execution_count": null,
      "metadata": {},
      "outputs": [
        {
          "name": "stdout",
          "output_type": "stream",
          "text": [
            "Best parameters for current model:\n",
            "threshold: 0.77\n",
            "C: 1.0\n",
            "penalty: None\n",
            "solver: lbfgs\n",
            "Avg. Precision: 88.70480236491775%.\n",
            "Avg. Accuracy: 87.18030112459309%.\n",
            "\n",
            "threshold: 0.77\n",
            "C: 1.0\n",
            "penalty: None\n",
            "solver: newton-cg\n",
            "Avg. Precision: 88.70480236491775%.\n",
            "Avg. Accuracy: 87.18030112459309%.\n",
            "\n",
            "threshold: 0.77\n",
            "C: 1.0\n",
            "penalty: None\n",
            "solver: newton-cholesky\n",
            "Avg. Precision: 88.70480236491775%.\n",
            "Avg. Accuracy: 87.18030112459309%.\n",
            "\n"
          ]
        }
      ],
      "source": [
        "get_best_params_df(logistic_results_df_v2)"
      ]
    },
    {
      "cell_type": "markdown",
      "metadata": {},
      "source": [
        "Again, very similar scores. So let's analyze the scores that showed up as we did before."
      ]
    },
    {
      "cell_type": "code",
      "execution_count": null,
      "metadata": {},
      "outputs": [
        {
          "name": "stdout",
          "output_type": "stream",
          "text": [
            "---  Score Counts  ---\n",
            "Precision: 0.8870480236491776, Accuracy: 0.8718030112459308\n",
            "Count: 156\n",
            "\n",
            "Precision: 0.8868889708447109, Accuracy: 0.871716997961264\n",
            "Count: 3\n",
            "\n",
            "Precision: 0.8868481163465816, Accuracy: 0.8716883282364934\n",
            "Count: 9\n",
            "\n",
            "Precision: 0.8753149006289227, Accuracy: 0.8584414808786294\n",
            "Count: 78\n",
            "\n",
            "---  Score Stats  ---\n",
            "Most Common: Precision: 0.8870480236491776\n",
            "             Accuracy: 0.8718030112459308\n",
            "             Count: 156\n",
            "Max Score: Precision: 0.8870480236491776\n",
            "           Accuracy: 0.8718030112459308\n",
            "           Count: 156\n",
            "Max Precision: 0.8870480236491776\n",
            "Max Accuracy: 0.8718030112459308\n"
          ]
        }
      ],
      "source": [
        "present_score_counts(logistic_results_df_v2)\n",
        "best_score = score_stats(logistic_results_df_v2)"
      ]
    },
    {
      "cell_type": "markdown",
      "metadata": {},
      "source": [
        "Our most common score is our best score. It seems like we have chosen a good range of parameters since many of the combinations yield good results."
      ]
    },
    {
      "cell_type": "code",
      "execution_count": null,
      "metadata": {},
      "outputs": [
        {
          "name": "stdout",
          "output_type": "stream",
          "text": [
            "model__solver: lbfgs, Count: 39\n",
            "model__solver: newton-cg, Count: 39\n",
            "model__solver: newton-cholesky, Count: 39\n",
            "model__solver: saga, Count: 39\n",
            "model__penalty: None, Count: 84\n",
            "model__penalty: l2, Count: 72\n",
            "model__C: 167.5, Count: 24\n",
            "model__C: 334.0, Count: 24\n",
            "model__C: 500.5, Count: 24\n",
            "model__C: 667.0, Count: 24\n",
            "model__C: 833.5, Count: 24\n",
            "model__C: 1000.0, Count: 24\n",
            "model__C: 1.0, Count: 12\n",
            "corr_selector__threshold: 0.77, Count: 52\n",
            "corr_selector__threshold: 0.79, Count: 52\n",
            "corr_selector__threshold: 0.8099999999999999, Count: 52\n"
          ]
        }
      ],
      "source": [
        "present_param_counts(logistic_results_df_v2, best_score)"
      ]
    },
    {
      "cell_type": "markdown",
      "metadata": {},
      "source": [
        "All of the choices of parameters seem to be performing equally well, with insignificant exceptions. We will have to look at other metrics to determine distinguish between these choices of parameters. Things such as training time statistics, and standard deviation of the scores."
      ]
    },
    {
      "cell_type": "code",
      "execution_count": null,
      "metadata": {},
      "outputs": [
        {
          "name": "stdout",
          "output_type": "stream",
          "text": [
            "std_test_precision: 0.0054844417109899\n",
            "std_test_accuracy: 0.004118208175772\n",
            "count: 156\n"
          ]
        }
      ],
      "source": [
        "best_results = logistic_results_df_v2.query(f'mean_test_precision == {best_score[0]} and mean_test_accuracy == {best_score[1]}')\n",
        "std_score_counts = {}\n",
        "\n",
        "for _, row in best_results.iterrows():\n",
        "    std_score = (row['std_test_precision'], row['std_test_accuracy'])\n",
        "    if std_score in std_score_counts:\n",
        "        std_score_counts[std_score] += 1\n",
        "    else:\n",
        "        std_score_counts[std_score] = 1\n",
        "for key, value in std_score_counts.items():\n",
        "    print(f\"std_test_precision: {key[0]}\"\n",
        "          f\"\\nstd_test_accuracy: {key[1]}\"\n",
        "          f\"\\ncount: {value}\")"
      ]
    },
    {
      "cell_type": "markdown",
      "metadata": {},
      "source": [
        "So standard deviation will not help us distinguish either. This is annoying, but good. We will see how the models perform on the test data set.\n",
        "\n",
        "Note: If you are tinkering and running cells multiple times, we recommend commenting out the code in the following three cells. They take a bit even after they have already been run the first time since we aren't saving the large number of pipelines and models."
      ]
    },
    {
      "cell_type": "code",
      "execution_count": null,
      "metadata": {},
      "outputs": [
        {
          "data": {
            "text/plain": [
              "'\\nbest_pipes = []\\nfor param_dict in best_params:\\n    base_pipe = create_pipe(\\'LogisticRegression\\')\\n    pipe = base_pipe.set_params(**param_dict)\\n    pipe.param_dict = param_dict\\n    best_pipes.append(pipe)\\n\\nmodel_params = {key.split(\\'__\\')[0]:key.split(\\'__\\')[1]\\n                for key in best_params[0].keys()}\\ncount = 0\\nfor pipe in best_pipes:\\n    print(f\"Pipe {count}:\")\\n    for step in pipe.get_params()[\\'steps\\']:\\n        if step[0] in model_params:\\n            param = model_params[step[0]]\\n            value = step[1].get_params()[param]\\n            print(f\"{step[0]}\"\\n                  f\"\\n{param}: {value}\")\\n    print()\\n    count += 1\\n    if count>=2:\\n        break\\n'"
            ]
          },
          "execution_count": 17,
          "metadata": {},
          "output_type": "execute_result"
        }
      ],
      "source": [
        "import ast\n",
        "\n",
        "def parameter_dicts(results_df, best_score):\n",
        "    relevant = results_df.query(f'mean_test_precision == {best_score[0]} and mean_test_accuracy == {best_score[1]}')\n",
        "    param_dicts = [ast.literal_eval(param_dict) for param_dict in relevant['params'].values]\n",
        "    return param_dicts\n",
        "\n",
        "best_params = parameter_dicts(logistic_results_df_v2, best_score)\n",
        "'''\n",
        "best_pipes = []\n",
        "for param_dict in best_params:\n",
        "    base_pipe = create_pipe('LogisticRegression')\n",
        "    pipe = base_pipe.set_params(**param_dict)\n",
        "    pipe.param_dict = param_dict\n",
        "    best_pipes.append(pipe)\n",
        "\n",
        "model_params = {key.split('__')[0]:key.split('__')[1]\n",
        "                for key in best_params[0].keys()}\n",
        "count = 0\n",
        "for pipe in best_pipes:\n",
        "    print(f\"Pipe {count}:\")\n",
        "    for step in pipe.get_params()['steps']:\n",
        "        if step[0] in model_params:\n",
        "            param = model_params[step[0]]\n",
        "            value = step[1].get_params()[param]\n",
        "            print(f\"{step[0]}\"\n",
        "                  f\"\\n{param}: {value}\")\n",
        "    print()\n",
        "    count += 1\n",
        "    if count>=2:\n",
        "        break\n",
        "'''"
      ]
    },
    {
      "cell_type": "markdown",
      "metadata": {},
      "source": [
        "We will now train all of the above pipelines and evaluate them on the test dataset."
      ]
    },
    {
      "cell_type": "code",
      "execution_count": null,
      "metadata": {},
      "outputs": [
        {
          "data": {
            "text/plain": [
              "'count = 0\\nfor pipe in best_pipes:\\n    print(f\"Training pipe {count}:\")\\n    print(pipe.param_dict)\\n    pipe.fit(X_TrainSet, Y_TrainSet)\\n    count+=1\\n    '"
            ]
          },
          "execution_count": 18,
          "metadata": {},
          "output_type": "execute_result"
        }
      ],
      "source": [
        "'''count = 0\n",
        "for pipe in best_pipes:\n",
        "    print(f\"Training pipe {count}:\")\n",
        "    print(pipe.param_dict)\n",
        "    pipe.fit(X_TrainSet, Y_TrainSet)\n",
        "    count+=1\n",
        "    '''"
      ]
    },
    {
      "cell_type": "code",
      "execution_count": null,
      "metadata": {},
      "outputs": [
        {
          "data": {
            "text/plain": [
              "'\\ndef evaluate_param_on_test_set(pipe,X_test, Y_test):\\n    y_pred = pipe.predict(X_test)\\n    accuracy = accuracy_score(Y_test, y_pred)\\n    precision = precision_score(Y_test, y_pred)\\n    recall = recall_score(Y_test, y_pred)\\n    f1 = f1_score(Y_test, y_pred)\\n    return ((precision, accuracy, recall, f1), pipe.param_dict)\\n\\n\\ndef evaluate_and_sort(fitted_pipes, X_test, Y_test):\\n    evaluations = [evaluate_param_on_test_set(pipe, X_test, Y_test)\\n               for pipe in fitted_pipes]\\n    evaluation_dict = {}\\n    for eval in evaluations:\\n        if eval[0] in evaluation_dict:\\n            evaluation_dict[eval[0]].append(eval[1])\\n        else:\\n            evaluation_dict[eval[0]] = [eval[1]]\\n    sorted_eval_dict = {k:v for k,v in sorted(evaluation_dict.items(),\\n                                         key=lambda item: item[0],\\n                                         reverse=True)}\\n    return sorted_eval_dict\\n\\nsorted_evals = evaluate_and_sort(best_pipes, X_TestSet, Y_TestSet)\\nprint(len(sorted_evals))\\n'"
            ]
          },
          "execution_count": 19,
          "metadata": {},
          "output_type": "execute_result"
        }
      ],
      "source": [
        "from sklearn.metrics import accuracy_score, precision_score, recall_score, f1_score\n",
        "\n",
        "'''\n",
        "def evaluate_param_on_test_set(pipe,X_test, Y_test):\n",
        "    y_pred = pipe.predict(X_test)\n",
        "    accuracy = accuracy_score(Y_test, y_pred)\n",
        "    precision = precision_score(Y_test, y_pred)\n",
        "    recall = recall_score(Y_test, y_pred)\n",
        "    f1 = f1_score(Y_test, y_pred)\n",
        "    return ((precision, accuracy, recall, f1), pipe.param_dict)\n",
        "\n",
        "\n",
        "def evaluate_and_sort(fitted_pipes, X_test, Y_test):\n",
        "    evaluations = [evaluate_param_on_test_set(pipe, X_test, Y_test)\n",
        "               for pipe in fitted_pipes]\n",
        "    evaluation_dict = {}\n",
        "    for eval in evaluations:\n",
        "        if eval[0] in evaluation_dict:\n",
        "            evaluation_dict[eval[0]].append(eval[1])\n",
        "        else:\n",
        "            evaluation_dict[eval[0]] = [eval[1]]\n",
        "    sorted_eval_dict = {k:v for k,v in sorted(evaluation_dict.items(),\n",
        "                                         key=lambda item: item[0],\n",
        "                                         reverse=True)}\n",
        "    return sorted_eval_dict\n",
        "\n",
        "sorted_evals = evaluate_and_sort(best_pipes, X_TestSet, Y_TestSet)\n",
        "print(len(sorted_evals))\n",
        "'''"
      ]
    },
    {
      "cell_type": "markdown",
      "metadata": {},
      "source": [
        "It turns out that all of these best sets of parameters produce models that perform equally well with respect to the standard meterics. We will have to pick one to deploy. We will look at the time it took to score each model during the grid search."
      ]
    },
    {
      "cell_type": "code",
      "execution_count": null,
      "metadata": {},
      "outputs": [
        {
          "name": "stdout",
          "output_type": "stream",
          "text": [
            "     mean_score_time  std_score_time  \\\n",
            "81          0.322713        0.144490   \n",
            "108         0.377752        0.131118   \n",
            "135         0.378142        0.145327   \n",
            "65          0.383024        0.131624   \n",
            "184         0.399108        0.108866   \n",
            "\n",
            "                                                params  \n",
            "81   {'corr_selector__threshold': 0.77, 'model__C':...  \n",
            "108  {'corr_selector__threshold': 0.77, 'model__C':...  \n",
            "135  {'corr_selector__threshold': 0.79, 'model__C':...  \n",
            "65   {'corr_selector__threshold': 0.77, 'model__C':...  \n",
            "184  {'corr_selector__threshold': 0.809999999999999...  \n",
            "{'corr_selector__threshold': 0.77, 'model__C': 500.5, 'model__penalty': 'l2', 'model__solver': 'newton-cg'}\n"
          ]
        }
      ],
      "source": [
        "time_results = best_results.filter(['mean_score_time','std_score_time','params'])\n",
        "\n",
        "time_results = time_results.sort_values(by=['mean_score_time','std_score_time'])\n",
        "print(time_results.head())\n",
        "params_choice = time_results.iloc[0]['params']\n",
        "print(params_choice)\n"
      ]
    },
    {
      "cell_type": "markdown",
      "metadata": {},
      "source": [
        "We have the following choice of hyperparameters:\n",
        "* correlation threshold: 0.77\n",
        "* `C`: 500.5\n",
        "* solver method: newton-cg\n",
        "* penalty function: l2\n",
        "\n",
        "Let's train the model and then look at the classification report. We don't need to list the penalty function since l2 is the default penalty function."
      ]
    },
    {
      "cell_type": "code",
      "execution_count": null,
      "metadata": {},
      "outputs": [
        {
          "data": {
            "text/plain": [
              "Pipeline(steps=[('dropper',\n",
              "                 DropFeatures(features_to_drop=['ftm_away', 'plus_minus_home',\n",
              "                                                'fg3m_away', 'pts_away',\n",
              "                                                'play_off', 'fgm_away',\n",
              "                                                'pts_home', 'fg3m_home',\n",
              "                                                'ftm_home', 'fgm_home',\n",
              "                                                'season'])),\n",
              "                ('corr_selector',\n",
              "                 SmartCorrelatedSelection(selection_method='variance',\n",
              "                                          threshold=0.77,\n",
              "                                          variables=['fga_home', 'fg3a_home',\n",
              "                                                     'fta_home', 'oreb_home',\n",
              "                                                     'dreb_home', 'reb_ho...\n",
              "                 YeoJohnsonTransformer(variables=['blk_home', 'oreb_away',\n",
              "                                                  'fta_away', 'ast_home',\n",
              "                                                  'reb_away', 'oreb_home'])),\n",
              "                ('box_cox',\n",
              "                 BoxCoxTransformer(variables=['ast_away', 'fta_home'])),\n",
              "                ('scaler', StandardScaler()),\n",
              "                ('feat_selection',\n",
              "                 SelectFromModel(estimator=LogisticRegression(C=500.5,\n",
              "                                                              random_state=42,\n",
              "                                                              solver='newton-cg'))),\n",
              "                ('model',\n",
              "                 LogisticRegression(C=500.5, random_state=42,\n",
              "                                    solver='newton-cg'))])"
            ]
          },
          "execution_count": 21,
          "metadata": {},
          "output_type": "execute_result"
        }
      ],
      "source": [
        "model_params = {'C':500.5, 'solver': 'newton-cg'}\n",
        "\n",
        "final_logistic_pipe = create_pipe(model_name='LogisticRegression', params=model_params)\n",
        "final_logistic_pipe.set_params(corr_selector__threshold=0.77)\n",
        "final_logistic_pipe"
      ]
    },
    {
      "cell_type": "markdown",
      "metadata": {},
      "source": [
        "Let's now see the importance of the different features according to our final model."
      ]
    },
    {
      "cell_type": "markdown",
      "metadata": {},
      "source": [
        "### Section 3: AdaBoost\n",
        "We will now do a grid search with AdaBoost. After an initial search to determine a range, we will investigate more closely.\n",
        "\n",
        "With AdaBoost, there are two types of parameters. We have parameters for AdaBoost.\n",
        "\n",
        "AdaBoost has the following hyperparameters.\n",
        "* `n_estimators` the max number of estimators\n",
        "* `learning_rate` which weights the estimators\n",
        "* `algorithm` of which there are two choices"
      ]
    },
    {
      "cell_type": "code",
      "execution_count": null,
      "metadata": {},
      "outputs": [],
      "source": [
        "from src.utils import divide_range\n",
        "\n",
        "\n",
        "ada_params = [{'corr_selector__threshold': divide_range(0.55,0.95),\n",
        "'model__n_estimators':[int(i) for i in divide_range(20,50)],\n",
        "'model__learning_rate': divide_range(0.5,2),\n",
        "'model__algorithm':['SAMME', 'SAMME.R']\n",
        "}]\n"
      ]
    },
    {
      "cell_type": "code",
      "execution_count": 23,
      "metadata": {},
      "outputs": [
        {
          "name": "stdout",
          "output_type": "stream",
          "text": [
            "### Beginning grid search for AdaBoost ###\n",
            "Fitting 5 folds for each of 250 candidates, totalling 1250 fits\n",
            "[CV 5/5] END corr_selector__threshold=0.55, model__algorithm=SAMME, model__learning_rate=0.5, model__n_estimators=27; accuracy: (test=nan) precision: (test=nan) total time=   2.3s\n",
            "[CV 1/5] END corr_selector__threshold=0.55, model__algorithm=SAMME, model__learning_rate=0.5, model__n_estimators=20; accuracy: (test=nan) precision: (test=nan) total time=   2.4s\n",
            "[CV 4/5] END corr_selector__threshold=0.55, model__algorithm=SAMME, model__learning_rate=0.5, model__n_estimators=20; accuracy: (test=nan) precision: (test=nan) total time=   2.6s\n",
            "[CV 2/5] END corr_selector__threshold=0.55, model__algorithm=SAMME, model__learning_rate=0.5, model__n_estimators=42; accuracy: (test=nan) precision: (test=nan) total time=   2.8s\n",
            "[CV 5/5] END corr_selector__threshold=0.55, model__algorithm=SAMME, model__learning_rate=0.5, model__n_estimators=35; accuracy: (test=nan) precision: (test=nan) total time=   2.4s\n",
            "[CV 1/5] END corr_selector__threshold=0.55, model__algorithm=SAMME, model__learning_rate=0.5, model__n_estimators=27; accuracy: (test=nan) precision: (test=nan) total time=   2.8s\n",
            "[CV 5/5] END corr_selector__threshold=0.55, model__algorithm=SAMME, model__learning_rate=0.5, model__n_estimators=42; accuracy: (test=nan) precision: (test=nan) total time=   2.9s\n",
            "[CV 4/5] END corr_selector__threshold=0.55, model__algorithm=SAMME, model__learning_rate=0.875, model__n_estimators=20; accuracy: (test=nan) precision: (test=nan) total time=   2.7s\n",
            "[CV 4/5] END corr_selector__threshold=0.55, model__algorithm=SAMME, model__learning_rate=0.5, model__n_estimators=35; accuracy: (test=nan) precision: (test=nan) total time=   2.9s\n",
            "[CV 1/5] END corr_selector__threshold=0.55, model__algorithm=SAMME, model__learning_rate=0.875, model__n_estimators=20; accuracy: (test=nan) precision: (test=nan) total time=   2.9s\n",
            "[CV 2/5] END corr_selector__threshold=0.55, model__algorithm=SAMME, model__learning_rate=0.875, model__n_estimators=27; accuracy: (test=nan) precision: (test=nan) total time=   0.6s\n",
            "[CV 5/5] END corr_selector__threshold=0.55, model__algorithm=SAMME, model__learning_rate=0.875, model__n_estimators=20; accuracy: (test=nan) precision: (test=nan) total time=   1.7s\n",
            "[CV 2/5] END corr_selector__threshold=0.55, model__algorithm=SAMME, model__learning_rate=0.875, model__n_estimators=35; accuracy: (test=nan) precision: (test=nan) total time=   1.2s\n",
            "[CV 3/5] END corr_selector__threshold=0.55, model__algorithm=SAMME, model__learning_rate=0.875, model__n_estimators=27; accuracy: (test=nan) precision: (test=nan) total time=   2.1s\n",
            "[CV 3/5] END corr_selector__threshold=0.55, model__algorithm=SAMME, model__learning_rate=0.875, model__n_estimators=35; accuracy: (test=nan) precision: (test=nan) total time=   1.8s\n",
            "[CV 4/5] END corr_selector__threshold=0.55, model__algorithm=SAMME, model__learning_rate=0.875, model__n_estimators=27; accuracy: (test=nan) precision: (test=nan) total time=   2.0s\n",
            "[CV 5/5] END corr_selector__threshold=0.55, model__algorithm=SAMME, model__learning_rate=0.875, model__n_estimators=35; accuracy: (test=nan) precision: (test=nan) total time=   1.7s\n",
            "[CV 4/5] END corr_selector__threshold=0.55, model__algorithm=SAMME, model__learning_rate=0.875, model__n_estimators=35; accuracy: (test=nan) precision: (test=nan) total time=   1.9s\n",
            "[CV 1/5] END corr_selector__threshold=0.55, model__algorithm=SAMME, model__learning_rate=0.875, model__n_estimators=35; accuracy: (test=nan) precision: (test=nan) total time=   2.4s\n",
            "[CV 3/5] END corr_selector__threshold=0.55, model__algorithm=SAMME, model__learning_rate=0.875, model__n_estimators=42; accuracy: (test=nan) precision: (test=nan) total time=   1.8s\n",
            "[CV 1/5] END corr_selector__threshold=0.55, model__algorithm=SAMME, model__learning_rate=0.875, model__n_estimators=42; accuracy: (test=nan) precision: (test=nan) total time=   2.6s\n",
            "[CV 5/5] END corr_selector__threshold=0.55, model__algorithm=SAMME, model__learning_rate=0.875, model__n_estimators=27; accuracy: (test=nan) precision: (test=nan) total time=   3.2s\n",
            "[CV 5/5] END corr_selector__threshold=0.55, model__algorithm=SAMME, model__learning_rate=0.875, model__n_estimators=42; accuracy: (test=nan) precision: (test=nan) total time=   1.3s\n",
            "[CV 5/5] END corr_selector__threshold=0.55, model__algorithm=SAMME, model__learning_rate=0.5, model__n_estimators=50; accuracy: (test=nan) precision: (test=nan) total time=   4.2s\n",
            "[CV 4/5] END corr_selector__threshold=0.55, model__algorithm=SAMME, model__learning_rate=0.875, model__n_estimators=42; accuracy: (test=nan) precision: (test=nan) total time=   2.2s\n",
            "[CV 3/5] END corr_selector__threshold=0.55, model__algorithm=SAMME, model__learning_rate=0.5, model__n_estimators=50; accuracy: (test=nan) precision: (test=nan) total time=   4.6s\n",
            "[CV 4/5] END corr_selector__threshold=0.55, model__algorithm=SAMME, model__learning_rate=0.875, model__n_estimators=50; accuracy: (test=nan) precision: (test=nan) total time=   1.9s\n",
            "[CV 1/5] END corr_selector__threshold=0.55, model__algorithm=SAMME, model__learning_rate=0.875, model__n_estimators=50; accuracy: (test=nan) precision: (test=nan) total time=   2.5s\n",
            "[CV 4/5] END corr_selector__threshold=0.55, model__algorithm=SAMME, model__learning_rate=0.5, model__n_estimators=50; accuracy: (test=nan) precision: (test=nan) total time=   3.3s\n",
            "[CV 3/5] END corr_selector__threshold=0.55, model__algorithm=SAMME, model__learning_rate=0.875, model__n_estimators=50; accuracy: (test=nan) precision: (test=nan) total time=   2.7s\n",
            "[CV 2/5] END corr_selector__threshold=0.55, model__algorithm=SAMME, model__learning_rate=1.25, model__n_estimators=20; accuracy: (test=nan) precision: (test=nan) total time=   2.1s\n",
            "[CV 2/5] END corr_selector__threshold=0.55, model__algorithm=SAMME, model__learning_rate=0.875, model__n_estimators=42; accuracy: (test=nan) precision: (test=nan) total time=   4.8s\n",
            "[CV 2/5] END corr_selector__threshold=0.55, model__algorithm=SAMME, model__learning_rate=0.875, model__n_estimators=50; accuracy: (test=nan) precision: (test=nan) total time=   3.1s\n",
            "[CV 5/5] END corr_selector__threshold=0.55, model__algorithm=SAMME, model__learning_rate=0.875, model__n_estimators=50; accuracy: (test=nan) precision: (test=nan) total time=   2.9s\n",
            "[CV 2/5] END corr_selector__threshold=0.55, model__algorithm=SAMME, model__learning_rate=0.875, model__n_estimators=20; accuracy: (test=nan) precision: (test=nan) total time=   4.5s\n",
            "[CV 1/5] END corr_selector__threshold=0.55, model__algorithm=SAMME, model__learning_rate=0.875, model__n_estimators=27; accuracy: (test=nan) precision: (test=nan) total time=   5.0s\n",
            "[CV 2/5] END corr_selector__threshold=0.55, model__algorithm=SAMME, model__learning_rate=0.5, model__n_estimators=50; accuracy: (test=nan) precision: (test=nan) total time=   4.8s\n",
            "[CV 5/5] END corr_selector__threshold=0.55, model__algorithm=SAMME, model__learning_rate=1.25, model__n_estimators=20; accuracy: (test=nan) precision: (test=nan) total time=   2.0s\n",
            "[CV 1/5] END corr_selector__threshold=0.55, model__algorithm=SAMME, model__learning_rate=1.25, model__n_estimators=20; accuracy: (test=nan) precision: (test=nan) total time=   3.3s\n",
            "[CV 2/5] END corr_selector__threshold=0.55, model__algorithm=SAMME, model__learning_rate=1.25, model__n_estimators=27; accuracy: (test=nan) precision: (test=nan) total time=   1.5s\n",
            "[CV 1/5] END corr_selector__threshold=0.55, model__algorithm=SAMME, model__learning_rate=0.5, model__n_estimators=35; accuracy: (test=nan) precision: (test=nan) total time=   4.7s\n",
            "[CV 1/5] END corr_selector__threshold=0.55, model__algorithm=SAMME, model__learning_rate=1.25, model__n_estimators=27; accuracy: (test=nan) precision: (test=nan) total time=   1.8s\n",
            "[CV 3/5] END corr_selector__threshold=0.55, model__algorithm=SAMME, model__learning_rate=0.5, model__n_estimators=20; accuracy: (test=nan) precision: (test=nan) total time=   4.6s\n",
            "[CV 3/5] END corr_selector__threshold=0.55, model__algorithm=SAMME, model__learning_rate=1.25, model__n_estimators=20; accuracy: (test=nan) precision: (test=nan) total time=   2.9s\n",
            "[CV 4/5] END corr_selector__threshold=0.55, model__algorithm=SAMME, model__learning_rate=1.25, model__n_estimators=20; accuracy: (test=nan) precision: (test=nan) total time=   2.8s\n",
            "[CV 4/5] END corr_selector__threshold=0.55, model__algorithm=SAMME, model__learning_rate=1.25, model__n_estimators=27; accuracy: (test=nan) precision: (test=nan) total time=   1.7s\n",
            "[CV 3/5] END corr_selector__threshold=0.55, model__algorithm=SAMME, model__learning_rate=1.25, model__n_estimators=27; accuracy: (test=nan) precision: (test=nan) total time=   1.8s\n",
            "[CV 3/5] END corr_selector__threshold=0.55, model__algorithm=SAMME, model__learning_rate=0.5, model__n_estimators=42; accuracy: (test=nan) precision: (test=nan) total time=   5.7s\n",
            "[CV 2/5] END corr_selector__threshold=0.55, model__algorithm=SAMME, model__learning_rate=1.25, model__n_estimators=35; accuracy: (test=nan) precision: (test=nan) total time=   1.5s\n",
            "[CV 3/5] END corr_selector__threshold=0.55, model__algorithm=SAMME, model__learning_rate=0.5, model__n_estimators=35; accuracy: (test=nan) precision: (test=nan) total time=   5.1s\n",
            "[CV 3/5] END corr_selector__threshold=0.55, model__algorithm=SAMME, model__learning_rate=1.25, model__n_estimators=35; accuracy: (test=nan) precision: (test=nan) total time=   1.3s\n",
            "[CV 5/5] END corr_selector__threshold=0.55, model__algorithm=SAMME, model__learning_rate=1.25, model__n_estimators=27; accuracy: (test=nan) precision: (test=nan) total time=   2.1s\n",
            "[CV 1/5] END corr_selector__threshold=0.55, model__algorithm=SAMME, model__learning_rate=1.25, model__n_estimators=35; accuracy: (test=nan) precision: (test=nan) total time=   1.8s\n",
            "[CV 5/5] END corr_selector__threshold=0.55, model__algorithm=SAMME, model__learning_rate=0.5, model__n_estimators=20; accuracy: (test=nan) precision: (test=nan) total time=   5.8s\n",
            "[CV 3/5] END corr_selector__threshold=0.55, model__algorithm=SAMME, model__learning_rate=0.875, model__n_estimators=20; accuracy: (test=nan) precision: (test=nan) total time=   5.4s\n",
            "[CV 4/5] END corr_selector__threshold=0.55, model__algorithm=SAMME, model__learning_rate=1.25, model__n_estimators=35; accuracy: (test=nan) precision: (test=nan) total time=   1.7s\n",
            "[CV 2/5] END corr_selector__threshold=0.55, model__algorithm=SAMME, model__learning_rate=0.5, model__n_estimators=27; accuracy: (test=nan) precision: (test=nan) total time=   5.3s\n",
            "[CV 2/5] END corr_selector__threshold=0.55, model__algorithm=SAMME, model__learning_rate=0.5, model__n_estimators=35; accuracy: (test=nan) precision: (test=nan) total time=   5.1s\n",
            "[CV 1/5] END corr_selector__threshold=0.55, model__algorithm=SAMME, model__learning_rate=1.25, model__n_estimators=42; accuracy: (test=nan) precision: (test=nan) total time=   1.3s\n",
            "[CV 5/5] END corr_selector__threshold=0.55, model__algorithm=SAMME, model__learning_rate=1.25, model__n_estimators=35; accuracy: (test=nan) precision: (test=nan) total time=   1.6s\n",
            "[CV 1/5] END corr_selector__threshold=0.55, model__algorithm=SAMME, model__learning_rate=0.5, model__n_estimators=42; accuracy: (test=nan) precision: (test=nan) total time=   6.2s\n",
            "[CV 1/5] END corr_selector__threshold=0.55, model__algorithm=SAMME, model__learning_rate=1.25, model__n_estimators=50; accuracy: (test=nan) precision: (test=nan) total time=   1.2s\n",
            "[CV 2/5] END corr_selector__threshold=0.55, model__algorithm=SAMME, model__learning_rate=1.25, model__n_estimators=42; accuracy: (test=nan) precision: (test=nan) total time=   1.6s\n",
            "[CV 5/5] END corr_selector__threshold=0.55, model__algorithm=SAMME, model__learning_rate=1.25, model__n_estimators=42; accuracy: (test=nan) precision: (test=nan) total time=   1.6s\n",
            "[CV 4/5] END corr_selector__threshold=0.55, model__algorithm=SAMME, model__learning_rate=1.25, model__n_estimators=50; accuracy: (test=nan) precision: (test=nan) total time=   1.2s\n",
            "[CV 3/5] END corr_selector__threshold=0.55, model__algorithm=SAMME, model__learning_rate=1.25, model__n_estimators=42; accuracy: (test=nan) precision: (test=nan) total time=   1.9s\n",
            "[CV 4/5] END corr_selector__threshold=0.55, model__algorithm=SAMME, model__learning_rate=0.5, model__n_estimators=42; accuracy: (test=nan) precision: (test=nan) total time=   6.8s\n",
            "[CV 4/5] END corr_selector__threshold=0.55, model__algorithm=SAMME, model__learning_rate=1.25, model__n_estimators=42; accuracy: (test=nan) precision: (test=nan) total time=   2.0s\n",
            "[CV 4/5] END corr_selector__threshold=0.55, model__algorithm=SAMME, model__learning_rate=1.625, model__n_estimators=20; accuracy: (test=nan) precision: (test=nan) total time=   0.9s\n",
            "[CV 1/5] END corr_selector__threshold=0.55, model__algorithm=SAMME, model__learning_rate=0.5, model__n_estimators=50; accuracy: (test=nan) precision: (test=nan) total time=   7.1s\n",
            "[CV 3/5] END corr_selector__threshold=0.55, model__algorithm=SAMME, model__learning_rate=1.25, model__n_estimators=50; accuracy: (test=nan) precision: (test=nan) total time=   1.7s\n",
            "[CV 4/5] END corr_selector__threshold=0.55, model__algorithm=SAMME, model__learning_rate=0.5, model__n_estimators=27; accuracy: (test=nan) precision: (test=nan) total time=   5.7s\n",
            "[CV 3/5] END corr_selector__threshold=0.55, model__algorithm=SAMME, model__learning_rate=1.625, model__n_estimators=20; accuracy: (test=nan) precision: (test=nan) total time=   1.1s\n",
            "[CV 1/5] END corr_selector__threshold=0.55, model__algorithm=SAMME, model__learning_rate=1.625, model__n_estimators=20; accuracy: (test=nan) precision: (test=nan) total time=   1.6s\n",
            "[CV 1/5] END corr_selector__threshold=0.55, model__algorithm=SAMME, model__learning_rate=1.625, model__n_estimators=27; accuracy: (test=nan) precision: (test=nan) total time=   0.9s\n",
            "[CV 5/5] END corr_selector__threshold=0.55, model__algorithm=SAMME, model__learning_rate=1.25, model__n_estimators=50; accuracy: (test=nan) precision: (test=nan) total time=   1.8s\n",
            "[CV 2/5] END corr_selector__threshold=0.55, model__algorithm=SAMME, model__learning_rate=1.25, model__n_estimators=50; accuracy: (test=nan) precision: (test=nan) total time=   2.3s\n",
            "[CV 3/5] END corr_selector__threshold=0.55, model__algorithm=SAMME, model__learning_rate=1.625, model__n_estimators=27; accuracy: (test=nan) precision: (test=nan) total time=   0.8s\n",
            "[CV 5/5] END corr_selector__threshold=0.55, model__algorithm=SAMME, model__learning_rate=1.625, model__n_estimators=20; accuracy: (test=nan) precision: (test=nan) total time=   1.4s\n",
            "[CV 2/5] END corr_selector__threshold=0.55, model__algorithm=SAMME, model__learning_rate=1.625, model__n_estimators=20; accuracy: (test=nan) precision: (test=nan) total time=   1.8s\n",
            "[CV 2/5] END corr_selector__threshold=0.55, model__algorithm=SAMME, model__learning_rate=1.625, model__n_estimators=27; accuracy: (test=nan) precision: (test=nan) total time=   1.2s\n",
            "[CV 4/5] END corr_selector__threshold=0.55, model__algorithm=SAMME, model__learning_rate=1.625, model__n_estimators=27; accuracy: (test=nan) precision: (test=nan) total time=   0.7s\n",
            "[CV 4/5] END corr_selector__threshold=0.55, model__algorithm=SAMME, model__learning_rate=1.625, model__n_estimators=35; accuracy: (test=nan) precision: (test=nan) total time=   0.7s\n",
            "[CV 1/5] END corr_selector__threshold=0.55, model__algorithm=SAMME, model__learning_rate=1.625, model__n_estimators=35; accuracy: (test=nan) precision: (test=nan) total time=   0.9s\n",
            "[CV 3/5] END corr_selector__threshold=0.55, model__algorithm=SAMME, model__learning_rate=1.625, model__n_estimators=35; accuracy: (test=nan) precision: (test=nan) total time=   0.9s\n",
            "[CV 5/5] END corr_selector__threshold=0.55, model__algorithm=SAMME, model__learning_rate=1.625, model__n_estimators=35; accuracy: (test=nan) precision: (test=nan) total time=   0.8s\n",
            "[CV 2/5] END corr_selector__threshold=0.55, model__algorithm=SAMME, model__learning_rate=1.625, model__n_estimators=35; accuracy: (test=nan) precision: (test=nan) total time=   1.2s\n",
            "[CV 5/5] END corr_selector__threshold=0.55, model__algorithm=SAMME, model__learning_rate=1.625, model__n_estimators=42; accuracy: (test=nan) precision: (test=nan) total time=   0.6s\n",
            "[CV 3/5] END corr_selector__threshold=0.55, model__algorithm=SAMME, model__learning_rate=1.625, model__n_estimators=42; accuracy: (test=nan) precision: (test=nan) total time=   0.7s\n",
            "[CV 2/5] END corr_selector__threshold=0.55, model__algorithm=SAMME, model__learning_rate=1.625, model__n_estimators=50; accuracy: (test=nan) precision: (test=nan) total time=   0.6s\n",
            "[CV 4/5] END corr_selector__threshold=0.55, model__algorithm=SAMME, model__learning_rate=1.625, model__n_estimators=42; accuracy: (test=nan) precision: (test=nan) total time=   0.6s\n",
            "[CV 1/5] END corr_selector__threshold=0.55, model__algorithm=SAMME, model__learning_rate=1.625, model__n_estimators=42; accuracy: (test=nan) precision: (test=nan) total time=   0.9s\n",
            "[CV 5/5] END corr_selector__threshold=0.55, model__algorithm=SAMME, model__learning_rate=1.625, model__n_estimators=27; accuracy: (test=nan) precision: (test=nan) total time=   1.5s\n",
            "[CV 1/5] END corr_selector__threshold=0.55, model__algorithm=SAMME, model__learning_rate=1.625, model__n_estimators=50; accuracy: (test=nan) precision: (test=nan) total time=   0.8s\n",
            "[CV 3/5] END corr_selector__threshold=0.55, model__algorithm=SAMME, model__learning_rate=1.625, model__n_estimators=50; accuracy: (test=nan) precision: (test=nan) total time=   0.9s\n",
            "[CV 2/5] END corr_selector__threshold=0.55, model__algorithm=SAMME, model__learning_rate=1.625, model__n_estimators=42; accuracy: (test=nan) precision: (test=nan) total time=   1.3s\n",
            "[CV 3/5] END corr_selector__threshold=0.55, model__algorithm=SAMME, model__learning_rate=2.0, model__n_estimators=20; accuracy: (test=nan) precision: (test=nan) total time=   0.6s\n",
            "[CV 2/5] END corr_selector__threshold=0.55, model__algorithm=SAMME, model__learning_rate=0.5, model__n_estimators=20; accuracy: (test=nan) precision: (test=nan) total time=   6.1s\n",
            "[CV 1/5] END corr_selector__threshold=0.55, model__algorithm=SAMME, model__learning_rate=2.0, model__n_estimators=20; accuracy: (test=nan) precision: (test=nan) total time=   0.9s\n",
            "[CV 3/5] END corr_selector__threshold=0.55, model__algorithm=SAMME, model__learning_rate=2.0, model__n_estimators=27; accuracy: (test=nan) precision: (test=nan) total time=   0.6s\n",
            "[CV 5/5] END corr_selector__threshold=0.55, model__algorithm=SAMME, model__learning_rate=2.0, model__n_estimators=20; accuracy: (test=nan) precision: (test=nan) total time=   0.8s\n",
            "[CV 3/5] END corr_selector__threshold=0.55, model__algorithm=SAMME, model__learning_rate=0.5, model__n_estimators=27; accuracy: (test=nan) precision: (test=nan) total time=   8.7s\n",
            "[CV 4/5] END corr_selector__threshold=0.55, model__algorithm=SAMME, model__learning_rate=1.625, model__n_estimators=50; accuracy: (test=nan) precision: (test=nan) total time=   1.4s\n",
            "[CV 5/5] END corr_selector__threshold=0.55, model__algorithm=SAMME, model__learning_rate=1.625, model__n_estimators=50; accuracy: (test=nan) precision: (test=nan) total time=   1.3s\n",
            "[CV 1/5] END corr_selector__threshold=0.55, model__algorithm=SAMME, model__learning_rate=2.0, model__n_estimators=35; accuracy: (test=nan) precision: (test=nan) total time=   0.6s\n",
            "[CV 3/5] END corr_selector__threshold=0.55, model__algorithm=SAMME, model__learning_rate=2.0, model__n_estimators=35; accuracy: (test=nan) precision: (test=nan) total time=   0.5s\n",
            "[CV 4/5] END corr_selector__threshold=0.55, model__algorithm=SAMME, model__learning_rate=2.0, model__n_estimators=20; accuracy: (test=nan) precision: (test=nan) total time=   1.3s\n",
            "[CV 2/5] END corr_selector__threshold=0.55, model__algorithm=SAMME, model__learning_rate=2.0, model__n_estimators=20; accuracy: (test=nan) precision: (test=nan) total time=   1.4s\n",
            "[CV 5/5] END corr_selector__threshold=0.55, model__algorithm=SAMME, model__learning_rate=2.0, model__n_estimators=27; accuracy: (test=nan) precision: (test=nan) total time=   1.0s\n",
            "[CV 2/5] END corr_selector__threshold=0.55, model__algorithm=SAMME, model__learning_rate=2.0, model__n_estimators=27; accuracy: (test=nan) precision: (test=nan) total time=   1.3s\n",
            "[CV 1/5] END corr_selector__threshold=0.55, model__algorithm=SAMME, model__learning_rate=2.0, model__n_estimators=27; accuracy: (test=nan) precision: (test=nan) total time=   1.5s\n",
            "[CV 4/5] END corr_selector__threshold=0.55, model__algorithm=SAMME, model__learning_rate=2.0, model__n_estimators=27; accuracy: (test=nan) precision: (test=nan) total time=   1.2s\n",
            "[CV 1/5] END corr_selector__threshold=0.55, model__algorithm=SAMME, model__learning_rate=2.0, model__n_estimators=42; accuracy: (test=nan) precision: (test=nan) total time=   0.7s\n",
            "[CV 4/5] END corr_selector__threshold=0.55, model__algorithm=SAMME, model__learning_rate=2.0, model__n_estimators=35; accuracy: (test=nan) precision: (test=nan) total time=   0.8s\n",
            "[CV 2/5] END corr_selector__threshold=0.55, model__algorithm=SAMME, model__learning_rate=2.0, model__n_estimators=35; accuracy: (test=nan) precision: (test=nan) total time=   1.0s\n",
            "[CV 2/5] END corr_selector__threshold=0.55, model__algorithm=SAMME, model__learning_rate=2.0, model__n_estimators=42; accuracy: (test=nan) precision: (test=nan) total time=   0.6s\n",
            "[CV 4/5] END corr_selector__threshold=0.55, model__algorithm=SAMME, model__learning_rate=2.0, model__n_estimators=42; accuracy: (test=nan) precision: (test=nan) total time=   0.6s\n",
            "[CV 3/5] END corr_selector__threshold=0.55, model__algorithm=SAMME, model__learning_rate=2.0, model__n_estimators=42; accuracy: (test=nan) precision: (test=nan) total time=   0.6s\n",
            "[CV 1/5] END corr_selector__threshold=0.55, model__algorithm=SAMME, model__learning_rate=2.0, model__n_estimators=50; accuracy: (test=nan) precision: (test=nan) total time=   0.5s\n",
            "[CV 5/5] END corr_selector__threshold=0.55, model__algorithm=SAMME, model__learning_rate=2.0, model__n_estimators=35; accuracy: (test=nan) precision: (test=nan) total time=   1.0s\n",
            "[CV 2/5] END corr_selector__threshold=0.55, model__algorithm=SAMME, model__learning_rate=2.0, model__n_estimators=50; accuracy: (test=nan) precision: (test=nan) total time=   0.5s\n",
            "[CV 3/5] END corr_selector__threshold=0.55, model__algorithm=SAMME, model__learning_rate=2.0, model__n_estimators=50; accuracy: (test=nan) precision: (test=nan) total time=   0.6s\n",
            "[CV 4/5] END corr_selector__threshold=0.55, model__algorithm=SAMME, model__learning_rate=2.0, model__n_estimators=50; accuracy: (test=nan) precision: (test=nan) total time=   0.5s\n",
            "[CV 5/5] END corr_selector__threshold=0.55, model__algorithm=SAMME, model__learning_rate=2.0, model__n_estimators=50; accuracy: (test=nan) precision: (test=nan) total time=   0.6s\n",
            "[CV 1/5] END corr_selector__threshold=0.55, model__algorithm=SAMME.R, model__learning_rate=0.5, model__n_estimators=20; accuracy: (test=nan) precision: (test=nan) total time=   0.6s\n",
            "[CV 5/5] END corr_selector__threshold=0.55, model__algorithm=SAMME, model__learning_rate=2.0, model__n_estimators=42; accuracy: (test=nan) precision: (test=nan) total time=   1.1s\n",
            "[CV 4/5] END corr_selector__threshold=0.55, model__algorithm=SAMME.R, model__learning_rate=0.5, model__n_estimators=20; accuracy: (test=nan) precision: (test=nan) total time=   0.7s\n",
            "[CV 5/5] END corr_selector__threshold=0.55, model__algorithm=SAMME.R, model__learning_rate=0.5, model__n_estimators=20; accuracy: (test=nan) precision: (test=nan) total time=   0.7s\n",
            "[CV 2/5] END corr_selector__threshold=0.55, model__algorithm=SAMME.R, model__learning_rate=0.5, model__n_estimators=20; accuracy: (test=nan) precision: (test=nan) total time=   0.8s\n",
            "[CV 3/5] END corr_selector__threshold=0.55, model__algorithm=SAMME.R, model__learning_rate=0.5, model__n_estimators=20; accuracy: (test=nan) precision: (test=nan) total time=   0.8s\n",
            "[CV 1/5] END corr_selector__threshold=0.55, model__algorithm=SAMME.R, model__learning_rate=0.5, model__n_estimators=27; accuracy: (test=nan) precision: (test=nan) total time=   0.6s\n",
            "[CV 3/5] END corr_selector__threshold=0.55, model__algorithm=SAMME.R, model__learning_rate=0.5, model__n_estimators=27; accuracy: (test=nan) precision: (test=nan) total time=   0.7s\n",
            "[CV 5/5] END corr_selector__threshold=0.55, model__algorithm=SAMME.R, model__learning_rate=0.5, model__n_estimators=27; accuracy: (test=nan) precision: (test=nan) total time=   0.7s\n",
            "[CV 3/5] END corr_selector__threshold=0.55, model__algorithm=SAMME.R, model__learning_rate=0.5, model__n_estimators=35; accuracy: (test=nan) precision: (test=nan) total time=   0.6s\n",
            "[CV 1/5] END corr_selector__threshold=0.55, model__algorithm=SAMME.R, model__learning_rate=0.5, model__n_estimators=35; accuracy: (test=nan) precision: (test=nan) total time=   0.7s\n",
            "[CV 4/5] END corr_selector__threshold=0.55, model__algorithm=SAMME.R, model__learning_rate=0.5, model__n_estimators=35; accuracy: (test=nan) precision: (test=nan) total time=   0.5s\n",
            "[CV 5/5] END corr_selector__threshold=0.55, model__algorithm=SAMME.R, model__learning_rate=0.5, model__n_estimators=35; accuracy: (test=nan) precision: (test=nan) total time=   0.6s\n",
            "[CV 4/5] END corr_selector__threshold=0.55, model__algorithm=SAMME.R, model__learning_rate=0.5, model__n_estimators=27; accuracy: (test=nan) precision: (test=nan) total time=   0.8s\n",
            "[CV 2/5] END corr_selector__threshold=0.55, model__algorithm=SAMME.R, model__learning_rate=0.5, model__n_estimators=27; accuracy: (test=nan) precision: (test=nan) total time=   0.9s\n",
            "[CV 1/5] END corr_selector__threshold=0.55, model__algorithm=SAMME.R, model__learning_rate=0.5, model__n_estimators=42; accuracy: (test=nan) precision: (test=nan) total time=   0.7s\n",
            "[CV 2/5] END corr_selector__threshold=0.55, model__algorithm=SAMME.R, model__learning_rate=0.5, model__n_estimators=35; accuracy: (test=nan) precision: (test=nan) total time=   0.9s\n",
            "[CV 2/5] END corr_selector__threshold=0.55, model__algorithm=SAMME.R, model__learning_rate=0.5, model__n_estimators=42; accuracy: (test=nan) precision: (test=nan) total time=   0.5s\n",
            "[CV 5/5] END corr_selector__threshold=0.55, model__algorithm=SAMME.R, model__learning_rate=0.5, model__n_estimators=42; accuracy: (test=nan) precision: (test=nan) total time=   0.6s\n",
            "[CV 4/5] END corr_selector__threshold=0.55, model__algorithm=SAMME.R, model__learning_rate=0.5, model__n_estimators=42; accuracy: (test=nan) precision: (test=nan) total time=   0.8s\n",
            "[CV 3/5] END corr_selector__threshold=0.55, model__algorithm=SAMME.R, model__learning_rate=0.5, model__n_estimators=42; accuracy: (test=nan) precision: (test=nan) total time=   0.8s\n",
            "[CV 5/5] END corr_selector__threshold=0.55, model__algorithm=SAMME.R, model__learning_rate=0.5, model__n_estimators=50; accuracy: (test=nan) precision: (test=nan) total time=   0.8s\n",
            "[CV 2/5] END corr_selector__threshold=0.55, model__algorithm=SAMME.R, model__learning_rate=0.5, model__n_estimators=50; accuracy: (test=nan) precision: (test=nan) total time=   0.9s\n",
            "[CV 1/5] END corr_selector__threshold=0.55, model__algorithm=SAMME.R, model__learning_rate=0.5, model__n_estimators=50; accuracy: (test=nan) precision: (test=nan) total time=   0.9s\n",
            "[CV 2/5] END corr_selector__threshold=0.55, model__algorithm=SAMME.R, model__learning_rate=0.875, model__n_estimators=20; accuracy: (test=nan) precision: (test=nan) total time=   0.8s\n",
            "[CV 1/5] END corr_selector__threshold=0.55, model__algorithm=SAMME.R, model__learning_rate=0.875, model__n_estimators=27; accuracy: (test=nan) precision: (test=nan) total time=   0.7s\n",
            "[CV 3/5] END corr_selector__threshold=0.55, model__algorithm=SAMME.R, model__learning_rate=0.875, model__n_estimators=27; accuracy: (test=nan) precision: (test=nan) total time=   0.7s\n",
            "[CV 5/5] END corr_selector__threshold=0.55, model__algorithm=SAMME.R, model__learning_rate=0.875, model__n_estimators=20; accuracy: (test=nan) precision: (test=nan) total time=   1.0s\n",
            "[CV 2/5] END corr_selector__threshold=0.55, model__algorithm=SAMME.R, model__learning_rate=0.875, model__n_estimators=27; accuracy: (test=nan) precision: (test=nan) total time=   0.8s\n",
            "[CV 4/5] END corr_selector__threshold=0.55, model__algorithm=SAMME.R, model__learning_rate=0.875, model__n_estimators=20; accuracy: (test=nan) precision: (test=nan) total time=   1.1s\n",
            "[CV 3/5] END corr_selector__threshold=0.55, model__algorithm=SAMME.R, model__learning_rate=0.875, model__n_estimators=20; accuracy: (test=nan) precision: (test=nan) total time=   1.1s\n",
            "[CV 4/5] END corr_selector__threshold=0.55, model__algorithm=SAMME.R, model__learning_rate=0.5, model__n_estimators=50; accuracy: (test=nan) precision: (test=nan) total time=   1.2s\n",
            "[CV 1/5] END corr_selector__threshold=0.55, model__algorithm=SAMME.R, model__learning_rate=0.875, model__n_estimators=20; accuracy: (test=nan) precision: (test=nan) total time=   1.2s\n",
            "[CV 2/5] END corr_selector__threshold=0.55, model__algorithm=SAMME.R, model__learning_rate=0.875, model__n_estimators=35; accuracy: (test=nan) precision: (test=nan) total time=   0.6s\n",
            "[CV 4/5] END corr_selector__threshold=0.55, model__algorithm=SAMME.R, model__learning_rate=0.875, model__n_estimators=27; accuracy: (test=nan) precision: (test=nan) total time=   0.8s\n",
            "[CV 3/5] END corr_selector__threshold=0.55, model__algorithm=SAMME.R, model__learning_rate=0.5, model__n_estimators=50; accuracy: (test=nan) precision: (test=nan) total time=   1.3s\n",
            "[CV 1/5] END corr_selector__threshold=0.55, model__algorithm=SAMME.R, model__learning_rate=0.875, model__n_estimators=35; accuracy: (test=nan) precision: (test=nan) total time=   0.9s\n",
            "[CV 5/5] END corr_selector__threshold=0.55, model__algorithm=SAMME.R, model__learning_rate=0.875, model__n_estimators=27; accuracy: (test=nan) precision: (test=nan) total time=   1.0s\n",
            "[CV 5/5] END corr_selector__threshold=0.55, model__algorithm=SAMME.R, model__learning_rate=0.875, model__n_estimators=42; accuracy: (test=nan) precision: (test=nan) total time=   0.5s\n",
            "[CV 4/5] END corr_selector__threshold=0.55, model__algorithm=SAMME.R, model__learning_rate=0.875, model__n_estimators=35; accuracy: (test=nan) precision: (test=nan) total time=   0.6s\n",
            "[CV 5/5] END corr_selector__threshold=0.55, model__algorithm=SAMME.R, model__learning_rate=0.875, model__n_estimators=35; accuracy: (test=nan) precision: (test=nan) total time=   0.7s\n",
            "[CV 1/5] END corr_selector__threshold=0.55, model__algorithm=SAMME.R, model__learning_rate=0.875, model__n_estimators=50; accuracy: (test=nan) precision: (test=nan) total time=   0.6s\n",
            "[CV 1/5] END corr_selector__threshold=0.55, model__algorithm=SAMME.R, model__learning_rate=0.875, model__n_estimators=42; accuracy: (test=nan) precision: (test=nan) total time=   0.9s\n",
            "[CV 4/5] END corr_selector__threshold=0.55, model__algorithm=SAMME.R, model__learning_rate=0.875, model__n_estimators=42; accuracy: (test=nan) precision: (test=nan) total time=   0.9s\n",
            "[CV 2/5] END corr_selector__threshold=0.55, model__algorithm=SAMME.R, model__learning_rate=0.875, model__n_estimators=42; accuracy: (test=nan) precision: (test=nan) total time=   1.0s\n",
            "[CV 3/5] END corr_selector__threshold=0.55, model__algorithm=SAMME.R, model__learning_rate=0.875, model__n_estimators=35; accuracy: (test=nan) precision: (test=nan) total time=   1.1s\n",
            "[CV 2/5] END corr_selector__threshold=0.55, model__algorithm=SAMME.R, model__learning_rate=0.875, model__n_estimators=50; accuracy: (test=nan) precision: (test=nan) total time=   1.0s\n",
            "[CV 3/5] END corr_selector__threshold=0.55, model__algorithm=SAMME.R, model__learning_rate=0.875, model__n_estimators=42; accuracy: (test=nan) precision: (test=nan) total time=   1.3s\n",
            "[CV 3/5] END corr_selector__threshold=0.55, model__algorithm=SAMME.R, model__learning_rate=0.875, model__n_estimators=50; accuracy: (test=nan) precision: (test=nan) total time=   1.0s\n",
            "[CV 3/5] END corr_selector__threshold=0.55, model__algorithm=SAMME.R, model__learning_rate=1.25, model__n_estimators=20; accuracy: (test=nan) precision: (test=nan) total time=   0.9s\n",
            "[CV 4/5] END corr_selector__threshold=0.55, model__algorithm=SAMME.R, model__learning_rate=1.25, model__n_estimators=20; accuracy: (test=nan) precision: (test=nan) total time=   1.0s\n",
            "[CV 2/5] END corr_selector__threshold=0.55, model__algorithm=SAMME.R, model__learning_rate=1.25, model__n_estimators=27; accuracy: (test=nan) precision: (test=nan) total time=   1.0s\n",
            "[CV 3/5] END corr_selector__threshold=0.55, model__algorithm=SAMME.R, model__learning_rate=1.25, model__n_estimators=27; accuracy: (test=nan) precision: (test=nan) total time=   1.2s\n",
            "[CV 3/5] END corr_selector__threshold=0.55, model__algorithm=SAMME.R, model__learning_rate=1.25, model__n_estimators=35; accuracy: (test=nan) precision: (test=nan) total time=   1.1s\n",
            "[CV 4/5] END corr_selector__threshold=0.55, model__algorithm=SAMME.R, model__learning_rate=1.25, model__n_estimators=35; accuracy: (test=nan) precision: (test=nan) total time=   1.1s\n",
            "[CV 4/5] END corr_selector__threshold=0.55, model__algorithm=SAMME.R, model__learning_rate=0.875, model__n_estimators=50; accuracy: (test=nan) precision: (test=nan) total time=   1.6s\n",
            "[CV 2/5] END corr_selector__threshold=0.55, model__algorithm=SAMME.R, model__learning_rate=1.25, model__n_estimators=20; accuracy: (test=nan) precision: (test=nan) total time=   1.5s\n",
            "[CV 5/5] END corr_selector__threshold=0.55, model__algorithm=SAMME.R, model__learning_rate=1.25, model__n_estimators=20; accuracy: (test=nan) precision: (test=nan) total time=   1.7s\n",
            "[CV 4/5] END corr_selector__threshold=0.55, model__algorithm=SAMME.R, model__learning_rate=1.25, model__n_estimators=42; accuracy: (test=nan) precision: (test=nan) total time=   1.1s\n",
            "[CV 4/5] END corr_selector__threshold=0.55, model__algorithm=SAMME.R, model__learning_rate=1.25, model__n_estimators=27; accuracy: (test=nan) precision: (test=nan) total time=   1.6s\n",
            "[CV 5/5] END corr_selector__threshold=0.55, model__algorithm=SAMME.R, model__learning_rate=1.25, model__n_estimators=35; accuracy: (test=nan) precision: (test=nan) total time=   1.3s\n",
            "[CV 2/5] END corr_selector__threshold=0.55, model__algorithm=SAMME.R, model__learning_rate=1.25, model__n_estimators=35; accuracy: (test=nan) precision: (test=nan) total time=   1.6s\n",
            "[CV 1/5] END corr_selector__threshold=0.55, model__algorithm=SAMME.R, model__learning_rate=1.25, model__n_estimators=42; accuracy: (test=nan) precision: (test=nan) total time=   1.3s\n",
            "[CV 3/5] END corr_selector__threshold=0.55, model__algorithm=SAMME.R, model__learning_rate=1.25, model__n_estimators=50; accuracy: (test=nan) precision: (test=nan) total time=   1.3s\n",
            "[CV 5/5] END corr_selector__threshold=0.55, model__algorithm=SAMME.R, model__learning_rate=1.25, model__n_estimators=50; accuracy: (test=nan) precision: (test=nan) total time=   1.1s\n",
            "[CV 2/5] END corr_selector__threshold=0.55, model__algorithm=SAMME.R, model__learning_rate=1.625, model__n_estimators=20; accuracy: (test=nan) precision: (test=nan) total time=   1.0s\n",
            "[CV 2/5] END corr_selector__threshold=0.55, model__algorithm=SAMME.R, model__learning_rate=1.25, model__n_estimators=50; accuracy: (test=nan) precision: (test=nan) total time=   1.7s\n",
            "[CV 5/5] END corr_selector__threshold=0.55, model__algorithm=SAMME.R, model__learning_rate=1.25, model__n_estimators=27; accuracy: (test=nan) precision: (test=nan) total time=   2.2s\n",
            "[CV 2/5] END corr_selector__threshold=0.55, model__algorithm=SAMME.R, model__learning_rate=1.25, model__n_estimators=42; accuracy: (test=nan) precision: (test=nan) total time=   2.1s\n",
            "[CV 5/5] END corr_selector__threshold=0.55, model__algorithm=SAMME.R, model__learning_rate=0.875, model__n_estimators=50; accuracy: (test=nan) precision: (test=nan) total time=   2.6s\n",
            "[CV 3/5] END corr_selector__threshold=0.55, model__algorithm=SAMME.R, model__learning_rate=1.25, model__n_estimators=42; accuracy: (test=nan) precision: (test=nan) total time=   2.1s\n",
            "[CV 1/5] END corr_selector__threshold=0.55, model__algorithm=SAMME.R, model__learning_rate=1.25, model__n_estimators=20; accuracy: (test=nan) precision: (test=nan) total time=   2.6s\n",
            "[CV 1/5] END corr_selector__threshold=0.55, model__algorithm=SAMME.R, model__learning_rate=1.25, model__n_estimators=35; accuracy: (test=nan) precision: (test=nan) total time=   2.3s\n",
            "[CV 1/5] END corr_selector__threshold=0.55, model__algorithm=SAMME.R, model__learning_rate=1.25, model__n_estimators=27; accuracy: (test=nan) precision: (test=nan) total time=   2.6s\n",
            "[CV 3/5] END corr_selector__threshold=0.55, model__algorithm=SAMME.R, model__learning_rate=1.625, model__n_estimators=20; accuracy: (test=nan) precision: (test=nan) total time=   1.3s\n",
            "[CV 4/5] END corr_selector__threshold=0.55, model__algorithm=SAMME.R, model__learning_rate=1.625, model__n_estimators=20; accuracy: (test=nan) precision: (test=nan) total time=   1.2s\n",
            "[CV 1/5] END corr_selector__threshold=0.55, model__algorithm=SAMME.R, model__learning_rate=1.25, model__n_estimators=50; accuracy: (test=nan) precision: (test=nan) total time=   2.3s\n",
            "[CV 1/5] END corr_selector__threshold=0.55, model__algorithm=SAMME.R, model__learning_rate=1.625, model__n_estimators=20; accuracy: (test=nan) precision: (test=nan) total time=   1.6s\n",
            "[CV 5/5] END corr_selector__threshold=0.55, model__algorithm=SAMME.R, model__learning_rate=1.625, model__n_estimators=27; accuracy: (test=nan) precision: (test=nan) total time=   1.0s\n",
            "[CV 4/5] END corr_selector__threshold=0.55, model__algorithm=SAMME.R, model__learning_rate=1.625, model__n_estimators=27; accuracy: (test=nan) precision: (test=nan) total time=   1.3s\n",
            "[CV 3/5] END corr_selector__threshold=0.55, model__algorithm=SAMME.R, model__learning_rate=1.625, model__n_estimators=27; accuracy: (test=nan) precision: (test=nan) total time=   1.4s\n",
            "[CV 1/5] END corr_selector__threshold=0.55, model__algorithm=SAMME.R, model__learning_rate=1.625, model__n_estimators=27; accuracy: (test=nan) precision: (test=nan) total time=   1.5s\n",
            "[CV 2/5] END corr_selector__threshold=0.55, model__algorithm=SAMME.R, model__learning_rate=1.625, model__n_estimators=35; accuracy: (test=nan) precision: (test=nan) total time=   1.3s\n",
            "[CV 5/5] END corr_selector__threshold=0.55, model__algorithm=SAMME.R, model__learning_rate=1.25, model__n_estimators=42; accuracy: (test=nan) precision: (test=nan) total time=   2.6s\n",
            "[CV 2/5] END corr_selector__threshold=0.55, model__algorithm=SAMME.R, model__learning_rate=1.625, model__n_estimators=27; accuracy: (test=nan) precision: (test=nan) total time=   1.4s\n",
            "[CV 4/5] END corr_selector__threshold=0.55, model__algorithm=SAMME.R, model__learning_rate=1.25, model__n_estimators=50; accuracy: (test=nan) precision: (test=nan) total time=   2.1s\n",
            "[CV 4/5] END corr_selector__threshold=0.55, model__algorithm=SAMME.R, model__learning_rate=1.625, model__n_estimators=35; accuracy: (test=nan) precision: (test=nan) total time=   0.8s\n",
            "[CV 5/5] END corr_selector__threshold=0.55, model__algorithm=SAMME.R, model__learning_rate=1.625, model__n_estimators=35; accuracy: (test=nan) precision: (test=nan) total time=   0.8s\n",
            "[CV 5/5] END corr_selector__threshold=0.55, model__algorithm=SAMME.R, model__learning_rate=1.625, model__n_estimators=20; accuracy: (test=nan) precision: (test=nan) total time=   1.8s\n",
            "[CV 2/5] END corr_selector__threshold=0.55, model__algorithm=SAMME.R, model__learning_rate=1.625, model__n_estimators=42; accuracy: (test=nan) precision: (test=nan) total time=   0.7s\n",
            "[CV 1/5] END corr_selector__threshold=0.55, model__algorithm=SAMME.R, model__learning_rate=1.625, model__n_estimators=42; accuracy: (test=nan) precision: (test=nan) total time=   0.7s\n",
            "[CV 3/5] END corr_selector__threshold=0.55, model__algorithm=SAMME.R, model__learning_rate=1.625, model__n_estimators=35; accuracy: (test=nan) precision: (test=nan) total time=   1.5s\n",
            "[CV 1/5] END corr_selector__threshold=0.55, model__algorithm=SAMME.R, model__learning_rate=1.625, model__n_estimators=35; accuracy: (test=nan) precision: (test=nan) total time=   1.7s\n",
            "[CV 3/5] END corr_selector__threshold=0.55, model__algorithm=SAMME.R, model__learning_rate=1.625, model__n_estimators=42; accuracy: (test=nan) precision: (test=nan) total time=   0.9s\n",
            "[CV 4/5] END corr_selector__threshold=0.55, model__algorithm=SAMME.R, model__learning_rate=1.625, model__n_estimators=42; accuracy: (test=nan) precision: (test=nan) total time=   0.8s\n",
            "[CV 5/5] END corr_selector__threshold=0.55, model__algorithm=SAMME.R, model__learning_rate=1.625, model__n_estimators=42; accuracy: (test=nan) precision: (test=nan) total time=   0.9s\n",
            "[CV 1/5] END corr_selector__threshold=0.55, model__algorithm=SAMME.R, model__learning_rate=2.0, model__n_estimators=20; accuracy: (test=nan) precision: (test=nan) total time=   0.7s\n",
            "[CV 3/5] END corr_selector__threshold=0.55, model__algorithm=SAMME.R, model__learning_rate=2.0, model__n_estimators=20; accuracy: (test=nan) precision: (test=nan) total time=   0.9s\n",
            "[CV 4/5] END corr_selector__threshold=0.55, model__algorithm=SAMME.R, model__learning_rate=2.0, model__n_estimators=20; accuracy: (test=nan) precision: (test=nan) total time=   0.9s\n",
            "[CV 1/5] END corr_selector__threshold=0.55, model__algorithm=SAMME.R, model__learning_rate=2.0, model__n_estimators=27; accuracy: (test=nan) precision: (test=nan) total time=   1.2s\n",
            "[CV 1/5] END corr_selector__threshold=0.55, model__algorithm=SAMME.R, model__learning_rate=2.0, model__n_estimators=42; accuracy: (test=nan) precision: (test=nan) total time=   0.8s\n",
            "[CV 5/5] END corr_selector__threshold=0.55, model__algorithm=SAMME.R, model__learning_rate=2.0, model__n_estimators=35; accuracy: (test=nan) precision: (test=nan) total time=   0.9s\n",
            "[CV 1/5] END corr_selector__threshold=0.55, model__algorithm=SAMME.R, model__learning_rate=1.625, model__n_estimators=50; accuracy: (test=nan) precision: (test=nan) total time=   2.1s\n",
            "[CV 4/5] END corr_selector__threshold=0.55, model__algorithm=SAMME.R, model__learning_rate=2.0, model__n_estimators=42; accuracy: (test=nan) precision: (test=nan) total time=   1.1s\n",
            "[CV 3/5] END corr_selector__threshold=0.55, model__algorithm=SAMME.R, model__learning_rate=2.0, model__n_estimators=42; accuracy: (test=nan) precision: (test=nan) total time=   1.3s\n",
            "[CV 3/5] END corr_selector__threshold=0.55, model__algorithm=SAMME.R, model__learning_rate=1.625, model__n_estimators=50; accuracy: (test=nan) precision: (test=nan) total time=   2.6s\n",
            "[CV 5/5] END corr_selector__threshold=0.55, model__algorithm=SAMME.R, model__learning_rate=2.0, model__n_estimators=42; accuracy: (test=nan) precision: (test=nan) total time=   1.3s\n",
            "[CV 3/5] END corr_selector__threshold=0.55, model__algorithm=SAMME.R, model__learning_rate=2.0, model__n_estimators=50; accuracy: (test=nan) precision: (test=nan) total time=   1.6s\n",
            "[CV 2/5] END corr_selector__threshold=0.55, model__algorithm=SAMME.R, model__learning_rate=2.0, model__n_estimators=20; accuracy: (test=nan) precision: (test=nan) total time=   2.9s\n",
            "[CV 2/5] END corr_selector__threshold=0.55, model__algorithm=SAMME.R, model__learning_rate=2.0, model__n_estimators=50; accuracy: (test=nan) precision: (test=nan) total time=   2.6s\n",
            "[CV 3/5] END corr_selector__threshold=0.55, model__algorithm=SAMME.R, model__learning_rate=2.0, model__n_estimators=27; accuracy: (test=nan) precision: (test=nan) total time=   4.0s\n",
            "[CV 5/5] END corr_selector__threshold=0.55, model__algorithm=SAMME.R, model__learning_rate=2.0, model__n_estimators=50; accuracy: (test=nan) precision: (test=nan) total time=   3.1s\n",
            "[CV 4/5] END corr_selector__threshold=0.55, model__algorithm=SAMME.R, model__learning_rate=2.0, model__n_estimators=50; accuracy: (test=nan) precision: (test=nan) total time=   3.2s\n",
            "[CV 5/5] END corr_selector__threshold=0.55, model__algorithm=SAMME.R, model__learning_rate=1.625, model__n_estimators=50; accuracy: (test=nan) precision: (test=nan) total time=   4.8s\n",
            "[CV 1/5] END corr_selector__threshold=0.55, model__algorithm=SAMME.R, model__learning_rate=2.0, model__n_estimators=35; accuracy: (test=nan) precision: (test=nan) total time=   4.4s\n",
            "[CV 2/5] END corr_selector__threshold=0.55, model__algorithm=SAMME.R, model__learning_rate=1.625, model__n_estimators=50; accuracy: (test=nan) precision: (test=nan) total time=   5.0s\n",
            "[CV 2/5] END corr_selector__threshold=0.55, model__algorithm=SAMME.R, model__learning_rate=2.0, model__n_estimators=27; accuracy: (test=nan) precision: (test=nan) total time=   4.8s\n",
            "[CV 5/5] END corr_selector__threshold=0.55, model__algorithm=SAMME.R, model__learning_rate=2.0, model__n_estimators=27; accuracy: (test=nan) precision: (test=nan) total time=   4.8s\n",
            "[CV 2/5] END corr_selector__threshold=0.55, model__algorithm=SAMME.R, model__learning_rate=2.0, model__n_estimators=35; accuracy: (test=nan) precision: (test=nan) total time=   5.3s\n",
            "[CV 4/5] END corr_selector__threshold=0.55, model__algorithm=SAMME.R, model__learning_rate=2.0, model__n_estimators=27; accuracy: (test=nan) precision: (test=nan) total time=   5.6s\n",
            "[CV 2/5] END corr_selector__threshold=0.55, model__algorithm=SAMME.R, model__learning_rate=2.0, model__n_estimators=42; accuracy: (test=nan) precision: (test=nan) total time=   5.1s\n",
            "[CV 4/5] END corr_selector__threshold=0.55, model__algorithm=SAMME.R, model__learning_rate=1.625, model__n_estimators=50; accuracy: (test=nan) precision: (test=nan) total time=   6.4s\n",
            "[CV 5/5] END corr_selector__threshold=0.55, model__algorithm=SAMME.R, model__learning_rate=2.0, model__n_estimators=20; accuracy: (test=nan) precision: (test=nan) total time=   6.7s\n",
            "[CV 1/5] END corr_selector__threshold=0.55, model__algorithm=SAMME.R, model__learning_rate=2.0, model__n_estimators=50; accuracy: (test=nan) precision: (test=nan) total time=   6.0s\n",
            "[CV 4/5] END corr_selector__threshold=0.55, model__algorithm=SAMME.R, model__learning_rate=2.0, model__n_estimators=35; accuracy: (test=nan) precision: (test=nan) total time=   6.8s\n",
            "[CV 3/5] END corr_selector__threshold=0.55, model__algorithm=SAMME.R, model__learning_rate=2.0, model__n_estimators=35; accuracy: (test=nan) precision: (test=nan) total time=   7.0s\n",
            "[CV 3/5] END corr_selector__threshold=0.65, model__algorithm=SAMME, model__learning_rate=0.5, model__n_estimators=20; accuracy: (test=0.709) precision: (test=0.691) total time=  29.0s\n",
            "[CV 5/5] END corr_selector__threshold=0.65, model__algorithm=SAMME, model__learning_rate=0.5, model__n_estimators=20; accuracy: (test=0.718) precision: (test=0.711) total time=  29.1s\n",
            "[CV 4/5] END corr_selector__threshold=0.65, model__algorithm=SAMME, model__learning_rate=0.5, model__n_estimators=20; accuracy: (test=0.711) precision: (test=0.716) total time=  30.2s\n",
            "[CV 2/5] END corr_selector__threshold=0.65, model__algorithm=SAMME, model__learning_rate=0.5, model__n_estimators=20; accuracy: (test=0.720) precision: (test=0.714) total time=  30.5s\n",
            "[CV 1/5] END corr_selector__threshold=0.65, model__algorithm=SAMME, model__learning_rate=0.5, model__n_estimators=20; accuracy: (test=0.706) precision: (test=0.692) total time=  31.4s\n",
            "[CV 4/5] END corr_selector__threshold=0.65, model__algorithm=SAMME, model__learning_rate=0.875, model__n_estimators=20; accuracy: (test=0.739) precision: (test=0.729) total time=  26.4s\n",
            "[CV 2/5] END corr_selector__threshold=0.65, model__algorithm=SAMME, model__learning_rate=0.875, model__n_estimators=20; accuracy: (test=0.733) precision: (test=0.727) total time=  27.5s\n",
            "[CV 3/5] END corr_selector__threshold=0.65, model__algorithm=SAMME, model__learning_rate=0.5, model__n_estimators=27; accuracy: (test=0.739) precision: (test=0.723) total time=  31.1s\n",
            "[CV 3/5] END corr_selector__threshold=0.65, model__algorithm=SAMME, model__learning_rate=0.5, model__n_estimators=35; accuracy: (test=0.750) precision: (test=0.733) total time=  31.1s\n",
            "[CV 5/5] END corr_selector__threshold=0.65, model__algorithm=SAMME, model__learning_rate=0.875, model__n_estimators=20; accuracy: (test=0.734) precision: (test=0.726) total time=  26.8s\n",
            "[CV 4/5] END corr_selector__threshold=0.65, model__algorithm=SAMME, model__learning_rate=0.5, model__n_estimators=27; accuracy: (test=0.723) precision: (test=0.707) total time=  31.7s\n",
            "[CV 3/5] END corr_selector__threshold=0.65, model__algorithm=SAMME, model__learning_rate=0.875, model__n_estimators=20; accuracy: (test=0.753) precision: (test=0.741) total time=  27.5s\n",
            "[CV 2/5] END corr_selector__threshold=0.65, model__algorithm=SAMME, model__learning_rate=0.5, model__n_estimators=27; accuracy: (test=0.717) precision: (test=0.707) total time=  32.2s\n",
            "[CV 5/5] END corr_selector__threshold=0.65, model__algorithm=SAMME, model__learning_rate=0.5, model__n_estimators=27; accuracy: (test=0.745) precision: (test=0.735) total time=  32.0s\n",
            "[CV 1/5] END corr_selector__threshold=0.65, model__algorithm=SAMME, model__learning_rate=0.5, model__n_estimators=27; accuracy: (test=0.739) precision: (test=0.727) total time=  33.1s\n",
            "[CV 1/5] END corr_selector__threshold=0.65, model__algorithm=SAMME, model__learning_rate=0.875, model__n_estimators=27; accuracy: (test=0.759) precision: (test=0.744) total time=  27.8s\n",
            "[CV 4/5] END corr_selector__threshold=0.65, model__algorithm=SAMME, model__learning_rate=0.5, model__n_estimators=35; accuracy: (test=0.748) precision: (test=0.743) total time=  32.8s\n",
            "[CV 2/5] END corr_selector__threshold=0.65, model__algorithm=SAMME, model__learning_rate=0.5, model__n_estimators=35; accuracy: (test=0.736) precision: (test=0.721) total time=  33.0s\n",
            "[CV 1/5] END corr_selector__threshold=0.65, model__algorithm=SAMME, model__learning_rate=0.5, model__n_estimators=35; accuracy: (test=0.742) precision: (test=0.726) total time=  33.7s\n",
            "[CV 1/5] END corr_selector__threshold=0.65, model__algorithm=SAMME, model__learning_rate=0.875, model__n_estimators=20; accuracy: (test=0.753) precision: (test=0.744) total time=  30.8s\n",
            "[CV 5/5] END corr_selector__threshold=0.65, model__algorithm=SAMME, model__learning_rate=0.5, model__n_estimators=35; accuracy: (test=0.759) precision: (test=0.750) total time=  33.7s\n",
            "[CV 2/5] END corr_selector__threshold=0.65, model__algorithm=SAMME, model__learning_rate=0.5, model__n_estimators=50; accuracy: (test=0.760) precision: (test=0.748) total time=  33.9s\n",
            "[CV 4/5] END corr_selector__threshold=0.65, model__algorithm=SAMME, model__learning_rate=0.5, model__n_estimators=42; accuracy: (test=0.755) precision: (test=0.748) total time=  34.8s\n",
            "[CV 4/5] END corr_selector__threshold=0.65, model__algorithm=SAMME, model__learning_rate=0.5, model__n_estimators=50; accuracy: (test=0.769) precision: (test=0.764) total time=  34.2s\n",
            "[CV 2/5] END corr_selector__threshold=0.65, model__algorithm=SAMME, model__learning_rate=0.5, model__n_estimators=42; accuracy: (test=0.759) precision: (test=0.752) total time=  35.9s\n",
            "[CV 3/5] END corr_selector__threshold=0.65, model__algorithm=SAMME, model__learning_rate=0.5, model__n_estimators=50; accuracy: (test=0.778) precision: (test=0.760) total time=  35.5s\n",
            "[CV 5/5] END corr_selector__threshold=0.65, model__algorithm=SAMME, model__learning_rate=0.5, model__n_estimators=42; accuracy: (test=0.763) precision: (test=0.744) total time=  35.9s\n",
            "[CV 1/5] END corr_selector__threshold=0.65, model__algorithm=SAMME, model__learning_rate=0.5, model__n_estimators=50; accuracy: (test=0.771) precision: (test=0.760) total time=  35.9s\n",
            "[CV 3/5] END corr_selector__threshold=0.65, model__algorithm=SAMME, model__learning_rate=0.5, model__n_estimators=42; accuracy: (test=0.762) precision: (test=0.742) total time=  36.4s\n",
            "[CV 1/5] END corr_selector__threshold=0.65, model__algorithm=SAMME, model__learning_rate=0.5, model__n_estimators=42; accuracy: (test=0.747) precision: (test=0.728) total time=  36.9s\n",
            "[CV 5/5] END corr_selector__threshold=0.65, model__algorithm=SAMME, model__learning_rate=0.5, model__n_estimators=50; accuracy: (test=0.774) precision: (test=0.760) total time=  36.4s\n",
            "[CV 2/5] END corr_selector__threshold=0.65, model__algorithm=SAMME, model__learning_rate=0.875, model__n_estimators=27; accuracy: (test=0.765) precision: (test=0.761) total time=  27.7s\n",
            "[CV 4/5] END corr_selector__threshold=0.65, model__algorithm=SAMME, model__learning_rate=0.875, model__n_estimators=27; accuracy: (test=0.763) precision: (test=0.767) total time=  29.2s\n",
            "[CV 3/5] END corr_selector__threshold=0.65, model__algorithm=SAMME, model__learning_rate=0.875, model__n_estimators=27; accuracy: (test=0.759) precision: (test=0.740) total time=  30.2s\n",
            "[CV 5/5] END corr_selector__threshold=0.65, model__algorithm=SAMME, model__learning_rate=0.875, model__n_estimators=27; accuracy: (test=0.753) precision: (test=0.735) total time=  31.3s\n",
            "[CV 1/5] END corr_selector__threshold=0.65, model__algorithm=SAMME, model__learning_rate=0.875, model__n_estimators=35; accuracy: (test=0.776) precision: (test=0.766) total time=  30.4s\n",
            "[CV 3/5] END corr_selector__threshold=0.65, model__algorithm=SAMME, model__learning_rate=0.875, model__n_estimators=35; accuracy: (test=0.779) precision: (test=0.765) total time=  30.3s\n",
            "[CV 2/5] END corr_selector__threshold=0.65, model__algorithm=SAMME, model__learning_rate=0.875, model__n_estimators=35; accuracy: (test=0.772) precision: (test=0.775) total time=  31.1s\n",
            "[CV 2/5] END corr_selector__threshold=0.65, model__algorithm=SAMME, model__learning_rate=1.25, model__n_estimators=20; accuracy: (test=0.740) precision: (test=0.733) total time=  27.3s\n",
            "[CV 4/5] END corr_selector__threshold=0.65, model__algorithm=SAMME, model__learning_rate=0.875, model__n_estimators=35; accuracy: (test=0.771) precision: (test=0.766) total time=  31.5s\n",
            "[CV 1/5] END corr_selector__threshold=0.65, model__algorithm=SAMME, model__learning_rate=1.25, model__n_estimators=20; accuracy: (test=0.761) precision: (test=0.752) total time=  28.6s\n",
            "[CV 3/5] END corr_selector__threshold=0.65, model__algorithm=SAMME, model__learning_rate=1.25, model__n_estimators=20; accuracy: (test=0.763) precision: (test=0.784) total time=  28.0s\n",
            "[CV 3/5] END corr_selector__threshold=0.65, model__algorithm=SAMME, model__learning_rate=0.875, model__n_estimators=42; accuracy: (test=0.788) precision: (test=0.773) total time=  32.6s\n",
            "[CV 1/5] END corr_selector__threshold=0.65, model__algorithm=SAMME, model__learning_rate=0.875, model__n_estimators=42; accuracy: (test=0.789) precision: (test=0.779) total time=  33.0s\n",
            "[CV 5/5] END corr_selector__threshold=0.65, model__algorithm=SAMME, model__learning_rate=0.875, model__n_estimators=35; accuracy: (test=0.783) precision: (test=0.782) total time=  33.2s\n",
            "[CV 4/5] END corr_selector__threshold=0.65, model__algorithm=SAMME, model__learning_rate=1.25, model__n_estimators=20; accuracy: (test=0.751) precision: (test=0.774) total time=  27.9s\n",
            "[CV 4/5] END corr_selector__threshold=0.65, model__algorithm=SAMME, model__learning_rate=0.875, model__n_estimators=42; accuracy: (test=0.782) precision: (test=0.778) total time=  33.1s\n",
            "[CV 5/5] END corr_selector__threshold=0.65, model__algorithm=SAMME, model__learning_rate=0.875, model__n_estimators=42; accuracy: (test=0.791) precision: (test=0.790) total time=  33.4s\n",
            "[CV 2/5] END corr_selector__threshold=0.65, model__algorithm=SAMME, model__learning_rate=0.875, model__n_estimators=42; accuracy: (test=0.781) precision: (test=0.776) total time=  33.9s\n",
            "[CV 5/5] END corr_selector__threshold=0.65, model__algorithm=SAMME, model__learning_rate=1.25, model__n_estimators=20; accuracy: (test=0.763) precision: (test=0.782) total time=  28.5s\n",
            "[CV 3/5] END corr_selector__threshold=0.65, model__algorithm=SAMME, model__learning_rate=0.875, model__n_estimators=50; accuracy: (test=0.800) precision: (test=0.804) total time=  33.1s\n",
            "[CV 5/5] END corr_selector__threshold=0.65, model__algorithm=SAMME, model__learning_rate=0.875, model__n_estimators=50; accuracy: (test=0.796) precision: (test=0.785) total time=  32.9s\n",
            "[CV 5/5] END corr_selector__threshold=0.65, model__algorithm=SAMME, model__learning_rate=1.25, model__n_estimators=27; accuracy: (test=0.780) precision: (test=0.800) total time=  28.7s\n",
            "[CV 4/5] END corr_selector__threshold=0.65, model__algorithm=SAMME, model__learning_rate=0.875, model__n_estimators=50; accuracy: (test=0.790) precision: (test=0.785) total time=  33.8s\n",
            "[CV 1/5] END corr_selector__threshold=0.65, model__algorithm=SAMME, model__learning_rate=0.875, model__n_estimators=50; accuracy: (test=0.798) precision: (test=0.789) total time=  35.1s\n",
            "[CV 3/5] END corr_selector__threshold=0.65, model__algorithm=SAMME, model__learning_rate=1.25, model__n_estimators=27; accuracy: (test=0.782) precision: (test=0.812) total time=  29.9s\n",
            "[CV 2/5] END corr_selector__threshold=0.65, model__algorithm=SAMME, model__learning_rate=0.875, model__n_estimators=50; accuracy: (test=0.790) precision: (test=0.787) total time=  35.8s\n",
            "[CV 1/5] END corr_selector__threshold=0.65, model__algorithm=SAMME, model__learning_rate=1.25, model__n_estimators=27; accuracy: (test=0.786) precision: (test=0.796) total time=  31.2s\n",
            "[CV 4/5] END corr_selector__threshold=0.65, model__algorithm=SAMME, model__learning_rate=1.25, model__n_estimators=27; accuracy: (test=0.773) precision: (test=0.811) total time=  31.8s\n",
            "[CV 2/5] END corr_selector__threshold=0.65, model__algorithm=SAMME, model__learning_rate=1.25, model__n_estimators=27; accuracy: (test=0.758) precision: (test=0.782) total time=  32.1s\n",
            "[CV 1/5] END corr_selector__threshold=0.65, model__algorithm=SAMME, model__learning_rate=1.25, model__n_estimators=35; accuracy: (test=0.792) precision: (test=0.793) total time=  31.3s\n",
            "[CV 2/5] END corr_selector__threshold=0.65, model__algorithm=SAMME, model__learning_rate=1.25, model__n_estimators=35; accuracy: (test=0.783) precision: (test=0.805) total time=  30.8s\n"
          ]
        }
      ],
      "source": [
        "ada_pipe = create_pipe('AdaBoost')\n",
        "ada_results_df_v1 = get_grid_results_df(ada_pipe,'ada_results_df_v1', dir, \n",
        "                                             param_grid=ada_params,\n",
        "                                             verbosity=3)\n"
      ]
    },
    {
      "cell_type": "markdown",
      "metadata": {},
      "source": [
        "Let's see what the top scores are."
      ]
    },
    {
      "cell_type": "code",
      "execution_count": 24,
      "metadata": {},
      "outputs": [
        {
          "name": "stdout",
          "output_type": "stream",
          "text": [
            "---  Score Counts  ---\n",
            "Precision: 0.8737315821516992, Accuracy: 0.8571224639110847\n",
            "Count: 1\n",
            "\n",
            "Precision: 0.8715598612273361, Accuracy: 0.8505849610338364\n",
            "Count: 1\n",
            "\n",
            "Precision: 0.871110904500443, Accuracy: 0.8542265339844135\n",
            "Count: 1\n",
            "\n",
            "Precision: 0.8702183448458646, Accuracy: 0.8482624954786097\n",
            "Count: 1\n",
            "\n",
            "---  Score Stats  ---\n",
            "Most Common: Precision: -1\n",
            "             Accuracy: -1\n",
            "             Count: 72\n",
            "Max Score: Precision: 0.8737315821516992\n",
            "           Accuracy: 0.8571224639110847\n",
            "           Count: 1\n",
            "Max Precision: 0.8737315821516992\n",
            "Max Accuracy: 0.8572946220117721\n"
          ]
        }
      ],
      "source": [
        "present_score_counts(ada_results_df_v1)\n",
        "best_score = score_stats(ada_results_df_v1)"
      ]
    },
    {
      "cell_type": "markdown",
      "metadata": {},
      "source": [
        "Let's look at the parameters associated with the top 5 scores."
      ]
    },
    {
      "cell_type": "code",
      "execution_count": 25,
      "metadata": {},
      "outputs": [
        {
          "name": "stdout",
          "output_type": "stream",
          "text": [
            "Score: (0.8737315821516992, 0.8571224639110847)\n",
            "model__n_estimators: 50, Count: 1\n",
            "model__learning_rate: 1.1, Count: 1\n",
            "model__algorithm: SAMME.R, Count: 1\n",
            "corr_selector__threshold: 0.79, Count: 1\n",
            "Score: (0.8715598612273361, 0.8505849610338364)\n",
            "model__n_estimators: 50, Count: 1\n",
            "model__learning_rate: 1.4, Count: 1\n",
            "model__algorithm: SAMME.R, Count: 1\n",
            "corr_selector__threshold: 0.79, Count: 1\n",
            "Score: (0.871110904500443, 0.8542265339844135)\n",
            "model__n_estimators: 44, Count: 1\n",
            "model__learning_rate: 1.1, Count: 1\n",
            "model__algorithm: SAMME.R, Count: 1\n",
            "corr_selector__threshold: 0.79, Count: 1\n",
            "Score: (0.8702183448458646, 0.8482624954786097)\n",
            "model__n_estimators: 44, Count: 1\n",
            "model__learning_rate: 1.4, Count: 1\n",
            "model__algorithm: SAMME.R, Count: 1\n",
            "corr_selector__threshold: 0.79, Count: 1\n",
            "Score: (0.8697431824167033, 0.8511012133767387)\n",
            "model__n_estimators: 50, Count: 2\n",
            "model__learning_rate: 1.1, Count: 2\n",
            "model__algorithm: SAMME.R, Count: 2\n",
            "corr_selector__threshold: 0.87, Count: 1\n",
            "corr_selector__threshold: 0.95, Count: 1\n"
          ]
        }
      ],
      "source": [
        "from src.model_eval import collect_like_estimators\n",
        "\n",
        "def top_n(results_df,num=5,exclude=None):\n",
        "    estimators_by_score = collect_like_estimators(results_df)\n",
        "    scores = list(estimators_by_score.keys())\n",
        "    top = sorted(scores,reverse=True)[:num]\n",
        "    for score in top:\n",
        "        print(f\"Score: {score}\")\n",
        "        present_param_counts(results_df, score, exclude)\n",
        "\n",
        "top_n(ada_results_df_v1)"
      ]
    },
    {
      "cell_type": "markdown",
      "metadata": {},
      "source": [
        "This gives us an idea of how to narrow down our hyperparameters.\n",
        "* We will focus on a range estimators from 40-70\n",
        "* We will use the algorithm `'SAMME.R'`.\n",
        "* We will focus on a range of learning rate of 0.9 to 1.6\n",
        "* We will focus on a range of correlation threshold from 0.77 to 0.95"
      ]
    },
    {
      "cell_type": "code",
      "execution_count": 26,
      "metadata": {},
      "outputs": [],
      "source": [
        "thresholds = divide_range(0.77,0.95,5)\n",
        "ada_pipe.set_params(model__algorithm='SAMME.R')\n",
        "ada_params_v2 = [{'corr_selector__threshold': thresholds,\n",
        "'model__n_estimators':[int(i) for i in divide_range(40,70,5)],\n",
        "'model__learning_rate': divide_range(0.9,1.6,5),}]"
      ]
    },
    {
      "cell_type": "code",
      "execution_count": 27,
      "metadata": {},
      "outputs": [],
      "source": [
        "ada_results_df_v2 = get_grid_results_df(ada_pipe,'ada_results_df_v2',\n",
        "                                             dir, param_grid=ada_params_v2,\n",
        "                                             verbosity=3)"
      ]
    },
    {
      "cell_type": "markdown",
      "metadata": {},
      "source": [
        "Let's see what the top scores are."
      ]
    },
    {
      "cell_type": "code",
      "execution_count": 28,
      "metadata": {},
      "outputs": [
        {
          "name": "stdout",
          "output_type": "stream",
          "text": [
            "---  Score Counts  ---\n",
            "Precision: 0.8781658063833186, Accuracy: 0.8609360469895762\n",
            "Count: 2\n",
            "\n",
            "Precision: 0.8778065356002938, Accuracy: 0.8612800919075335\n",
            "Count: 2\n",
            "\n",
            "Precision: 0.8776557534098555, Accuracy: 0.8600758524875867\n",
            "Count: 2\n",
            "\n",
            "Precision: 0.8774026088524034, Accuracy: 0.858470109499852\n",
            "Count: 2\n",
            "\n",
            "---  Score Stats  ---\n",
            "Most Common: Precision: 0.8586301541127146\n",
            "             Accuracy: 0.8456532134753871\n",
            "             Count: 4\n",
            "Max Score: Precision: 0.8781658063833186\n",
            "           Accuracy: 0.8609360469895762\n",
            "           Count: 2\n",
            "Max Precision: 0.8781658063833186\n",
            "Max Accuracy: 0.8616242354740061\n"
          ]
        }
      ],
      "source": [
        "present_score_counts(ada_results_df_v2)\n",
        "best_score = score_stats(ada_results_df_v2)"
      ]
    },
    {
      "cell_type": "markdown",
      "metadata": {},
      "source": [
        "Let's look at the parameters associated with the top 5 scores."
      ]
    },
    {
      "cell_type": "code",
      "execution_count": 29,
      "metadata": {},
      "outputs": [
        {
          "name": "stdout",
          "output_type": "stream",
          "text": [
            "Score: (0.8781658063833186, 0.8609360469895762)\n",
            "model__n_estimators: 70, Count: 2\n",
            "model__learning_rate: 1.18, Count: 2\n",
            "model__algorithm: SAMME.R, Count: 2\n",
            "corr_selector__threshold: 0.77, Count: 1\n",
            "corr_selector__threshold: 0.806, Count: 1\n",
            "Score: (0.8778065356002938, 0.8612800919075335)\n",
            "model__n_estimators: 70, Count: 2\n",
            "model__learning_rate: 1.04, Count: 2\n",
            "model__algorithm: SAMME.R, Count: 2\n",
            "corr_selector__threshold: 0.77, Count: 1\n",
            "corr_selector__threshold: 0.806, Count: 1\n",
            "Score: (0.8776557534098555, 0.8600758524875867)\n",
            "model__n_estimators: 64, Count: 2\n",
            "model__learning_rate: 1.18, Count: 2\n",
            "model__algorithm: SAMME.R, Count: 2\n",
            "corr_selector__threshold: 0.77, Count: 1\n",
            "corr_selector__threshold: 0.806, Count: 1\n",
            "Score: (0.8774026088524034, 0.858470109499852)\n",
            "model__n_estimators: 70, Count: 2\n",
            "model__learning_rate: 1.32, Count: 2\n",
            "model__algorithm: SAMME.R, Count: 2\n",
            "corr_selector__threshold: 0.77, Count: 1\n",
            "corr_selector__threshold: 0.806, Count: 1\n",
            "Score: (0.8762517429489284, 0.8603625374042286)\n",
            "model__n_estimators: 64, Count: 2\n",
            "model__learning_rate: 1.04, Count: 2\n",
            "model__algorithm: SAMME.R, Count: 2\n",
            "corr_selector__threshold: 0.77, Count: 1\n",
            "corr_selector__threshold: 0.806, Count: 1\n",
            "Score: (0.8761069005724895, 0.8581260851336687)\n",
            "model__n_estimators: 58, Count: 2\n",
            "model__learning_rate: 1.18, Count: 2\n",
            "model__algorithm: SAMME.R, Count: 2\n",
            "corr_selector__threshold: 0.77, Count: 1\n",
            "corr_selector__threshold: 0.806, Count: 1\n"
          ]
        }
      ],
      "source": [
        "top_n(ada_results_df_v2,6)"
      ]
    },
    {
      "cell_type": "markdown",
      "metadata": {},
      "source": [
        "It seems that an increase in the number of estimators improves performance, so we will slide the window we look at up a bit. Unfortunately, this will increase the fit time. We will take the average of the correlation thresholds. We feel we didn't cast a wide enough net with respect to learning rate, so we will look at a larger window for this parameter as well."
      ]
    },
    {
      "cell_type": "code",
      "execution_count": 30,
      "metadata": {},
      "outputs": [],
      "source": [
        "ada_pipe.set_params(corr_selector__threshold=0.785)\n",
        "ada_params_v3 = [{'model__n_estimators':[int(i) for i in divide_range(60,90,5)],\n",
        "    'model__learning_rate': divide_range(1.1,5,5),}]\n",
        "\n",
        "ada_results_df_v3 = get_grid_results_df(ada_pipe,'ada_results_df_v3',\n",
        "                                             dir, param_grid=ada_params_v3,\n",
        "                                             verbosity=3)"
      ]
    },
    {
      "cell_type": "code",
      "execution_count": 31,
      "metadata": {},
      "outputs": [
        {
          "name": "stdout",
          "output_type": "stream",
          "text": [
            "---  Score Counts  ---\n",
            "Precision: 0.8795073416589505, Accuracy: 0.8629717783039033\n",
            "Count: 1\n",
            "\n",
            "Precision: 0.8791597605984037, Accuracy: 0.8619968884614121\n",
            "Count: 1\n",
            "\n",
            "Precision: 0.8787641714687415, Accuracy: 0.8617101665515767\n",
            "Count: 1\n",
            "\n",
            "Precision: 0.8776698890961192, Accuracy: 0.8605919404162968\n",
            "Count: 1\n",
            "\n",
            "---  Score Stats  ---\n",
            "Most Common: Precision: 0.4341568547564283\n",
            "             Accuracy: 0.3400903949228898\n",
            "             Count: 18\n",
            "Max Score: Precision: 0.8795073416589505\n",
            "           Accuracy: 0.8629717783039033\n",
            "           Count: 1\n",
            "Max Precision: 0.8795073416589505\n",
            "Max Accuracy: 0.8629717783039033\n"
          ]
        }
      ],
      "source": [
        "present_score_counts(ada_results_df_v3)\n",
        "best_score = score_stats(ada_results_df_v3)"
      ]
    },
    {
      "cell_type": "markdown",
      "metadata": {},
      "source": [
        "The scores did improve, but not significantly. If the improvement is due to values for learning rate and estimators being outside of our earlier ranges, then we will have to continue searching."
      ]
    },
    {
      "cell_type": "code",
      "execution_count": 32,
      "metadata": {},
      "outputs": [
        {
          "name": "stdout",
          "output_type": "stream",
          "text": [
            "Score: (0.8795073416589505, 0.8629717783039033)\n",
            "model__n_estimators: 90, Count: 1\n",
            "model__learning_rate: 1.1, Count: 1\n",
            "model__algorithm: SAMME.R, Count: 1\n",
            "corr_selector__threshold: 0.785, Count: 1\n",
            "Score: (0.8791597605984037, 0.8619968884614121)\n",
            "model__n_estimators: 84, Count: 1\n",
            "model__learning_rate: 1.1, Count: 1\n",
            "model__algorithm: SAMME.R, Count: 1\n",
            "corr_selector__threshold: 0.785, Count: 1\n",
            "Score: (0.8787641714687415, 0.8617101665515767)\n",
            "model__n_estimators: 78, Count: 1\n",
            "model__learning_rate: 1.1, Count: 1\n",
            "model__algorithm: SAMME.R, Count: 1\n",
            "corr_selector__threshold: 0.785, Count: 1\n",
            "Score: (0.8776698890961192, 0.8605919404162968)\n",
            "model__n_estimators: 66, Count: 1\n",
            "model__learning_rate: 1.1, Count: 1\n",
            "model__algorithm: SAMME.R, Count: 1\n",
            "corr_selector__threshold: 0.785, Count: 1\n",
            "Score: (0.8775918870218895, 0.8609072950577094)\n",
            "model__n_estimators: 72, Count: 1\n",
            "model__learning_rate: 1.1, Count: 1\n",
            "model__algorithm: SAMME.R, Count: 1\n",
            "corr_selector__threshold: 0.785, Count: 1\n"
          ]
        }
      ],
      "source": [
        "top_n(ada_results_df_v3)"
      ]
    },
    {
      "cell_type": "markdown",
      "metadata": {},
      "source": [
        "So the number of estimators jumped a fair bit. In the case of the Logistic Regression model, we got many many high performing sets of parameters. This made it difficult to focus on a few small neighborhoods (in the parameter space) of high performing sets of parameters. Our learning rate has stabilized, so we can focus on tuning it more carefully."
      ]
    },
    {
      "cell_type": "code",
      "execution_count": 33,
      "metadata": {},
      "outputs": [],
      "source": [
        "ada_params_v4 = [{'model__n_estimators':[int(i) for i in divide_range(75,100,5)],\n",
        "'model__learning_rate': divide_range(1.05,1.15)}]\n",
        "\n",
        "ada_results_df_v4 = get_grid_results_df(ada_pipe,'ada_results_df_v4',\n",
        "                                             dir, param_grid=ada_params_v4,\n",
        "                                             verbosity=3)"
      ]
    },
    {
      "cell_type": "code",
      "execution_count": 34,
      "metadata": {},
      "outputs": [
        {
          "name": "stdout",
          "output_type": "stream",
          "text": [
            "---  Score Counts  ---\n",
            "Precision: 0.8814253559391133, Accuracy: 0.8642047285521686\n",
            "Count: 1\n",
            "\n",
            "Precision: 0.8813170270135815, Accuracy: 0.8640040363684193\n",
            "Count: 1\n",
            "\n",
            "Precision: 0.8810905251394029, Accuracy: 0.8635452550064121\n",
            "Count: 1\n",
            "\n",
            "Precision: 0.8809914508725031, Accuracy: 0.8642334681529709\n",
            "Count: 1\n",
            "\n",
            "---  Score Stats  ---\n",
            "Most Common: Precision: 0.8778421580902369\n",
            "             Accuracy: 0.8612513687481502\n",
            "             Count: 1\n",
            "Max Score: Precision: 0.8814253559391133\n",
            "           Accuracy: 0.8642047285521686\n",
            "           Count: 1\n",
            "Max Precision: 0.8814253559391133\n",
            "Max Accuracy: 0.8642334681529709\n"
          ]
        }
      ],
      "source": [
        "present_score_counts(ada_results_df_v4)\n",
        "best_score = score_stats(ada_results_df_v4)"
      ]
    },
    {
      "cell_type": "code",
      "execution_count": 35,
      "metadata": {},
      "outputs": [
        {
          "name": "stdout",
          "output_type": "stream",
          "text": [
            "Score: (0.8814253559391133, 0.8642047285521686)\n",
            "model__n_estimators: 100, Count: 1\n",
            "model__learning_rate: 1.1, Count: 1\n",
            "model__algorithm: SAMME.R, Count: 1\n",
            "corr_selector__threshold: 0.785, Count: 1\n",
            "Score: (0.8813170270135815, 0.8640040363684193)\n",
            "model__n_estimators: 95, Count: 1\n",
            "model__learning_rate: 1.05, Count: 1\n",
            "model__algorithm: SAMME.R, Count: 1\n",
            "corr_selector__threshold: 0.785, Count: 1\n",
            "Score: (0.8810905251394029, 0.8635452550064121)\n",
            "model__n_estimators: 95, Count: 1\n",
            "model__learning_rate: 1.075, Count: 1\n",
            "model__algorithm: SAMME.R, Count: 1\n",
            "corr_selector__threshold: 0.785, Count: 1\n",
            "Score: (0.8809914508725031, 0.8642334681529709)\n",
            "model__n_estimators: 100, Count: 1\n",
            "model__learning_rate: 1.15, Count: 1\n",
            "model__algorithm: SAMME.R, Count: 1\n",
            "corr_selector__threshold: 0.785, Count: 1\n",
            "Score: (0.8809162905873291, 0.8638320426819244)\n",
            "model__n_estimators: 95, Count: 1\n",
            "model__learning_rate: 1.15, Count: 1\n",
            "model__algorithm: SAMME.R, Count: 1\n",
            "corr_selector__threshold: 0.785, Count: 1\n"
          ]
        }
      ],
      "source": [
        "top_n(ada_results_df_v4)"
      ]
    },
    {
      "cell_type": "markdown",
      "metadata": {},
      "source": [
        "We are closing in on a learning rate of 1.1. Perhaps we need to slide our number of estimators up a bit higher. While we haven't settled on a number of estimators, we have at least settled on a learning rate. This means that the parameter grid has shrunk."
      ]
    },
    {
      "cell_type": "code",
      "execution_count": 36,
      "metadata": {},
      "outputs": [],
      "source": [
        "ada_params_v5 = [{'model__n_estimators':[int(i) for i in divide_range(95,125,10)],\n",
        "'model__learning_rate': [1.08,1.1,1.12],}]\n",
        "\n",
        "ada_results_df_v5 = get_grid_results_df(ada_pipe,'ada_results_df_v5',\n",
        "                                             dir, param_grid=ada_params_v5,\n",
        "                                             verbosity=3)"
      ]
    },
    {
      "cell_type": "code",
      "execution_count": 37,
      "metadata": {},
      "outputs": [
        {
          "name": "stdout",
          "output_type": "stream",
          "text": [
            "---  Score Counts  ---\n",
            "Precision: 0.8815191703525593, Accuracy: 0.8645201818420967\n",
            "Count: 1\n",
            "\n",
            "Precision: 0.8815010258845912, Accuracy: 0.8643194773272829\n",
            "Count: 1\n",
            "\n",
            "Precision: 0.8814859714051714, Accuracy: 0.8645488556772222\n",
            "Count: 1\n",
            "\n",
            "Precision: 0.8814721006584776, Accuracy: 0.8646062074578277\n",
            "Count: 1\n",
            "\n",
            "---  Score Stats  ---\n",
            "Most Common: Precision: 0.8802556012391856\n",
            "             Accuracy: 0.8628284091282759\n",
            "             Count: 1\n",
            "Max Score: Precision: 0.8815191703525593\n",
            "           Accuracy: 0.8645201818420967\n",
            "           Count: 1\n",
            "Max Precision: 0.8815191703525593\n",
            "Max Accuracy: 0.8646062074578277\n",
            "---  Score Counts  ---\n",
            "Precision: 0.8814253559391133, Accuracy: 0.8642047285521686\n",
            "Count: 1\n",
            "\n",
            "Precision: 0.8813170270135815, Accuracy: 0.8640040363684193\n",
            "Count: 1\n",
            "\n",
            "---  Score Counts  ---\n",
            "Precision: 0.8815191703525593, Accuracy: 0.8645201818420967\n",
            "Count: 1\n",
            "\n",
            "Precision: 0.8815010258845912, Accuracy: 0.8643194773272829\n",
            "Count: 1\n",
            "\n"
          ]
        }
      ],
      "source": [
        "present_score_counts(ada_results_df_v5)\n",
        "best_score = score_stats(ada_results_df_v5)\n",
        "present_score_counts(ada_results_df_v4,2)\n",
        "present_score_counts(ada_results_df_v5,2)"
      ]
    },
    {
      "cell_type": "markdown",
      "metadata": {},
      "source": [
        "The performance is about the same. Let's look at the parameters."
      ]
    },
    {
      "cell_type": "code",
      "execution_count": 38,
      "metadata": {},
      "outputs": [
        {
          "name": "stdout",
          "output_type": "stream",
          "text": [
            "Score: (0.8815191703525593, 0.8645201818420967)\n",
            "model__n_estimators: 125, Count: 1\n",
            "model__learning_rate: 1.12, Count: 1\n",
            "Score: (0.8815010258845912, 0.8643194773272829)\n",
            "model__n_estimators: 125, Count: 1\n",
            "model__learning_rate: 1.08, Count: 1\n",
            "Score: (0.8814859714051714, 0.8645488556772222)\n",
            "model__n_estimators: 122, Count: 1\n",
            "model__learning_rate: 1.12, Count: 1\n",
            "Score: (0.8814721006584776, 0.8646062074578277)\n",
            "model__n_estimators: 119, Count: 1\n",
            "model__learning_rate: 1.12, Count: 1\n",
            "Score: (0.8812508989725275, 0.86440548239124)\n",
            "model__n_estimators: 113, Count: 1\n",
            "model__learning_rate: 1.1, Count: 1\n"
          ]
        }
      ],
      "source": [
        "standard_exclude = ['model__base_estimator',\n",
        "           'corr_selector__threshold','model__algorithm']\n",
        "top_n(ada_results_df_v5,exclude=standard_exclude)\n"
      ]
    },
    {
      "cell_type": "markdown",
      "metadata": {},
      "source": [
        "We will use 125 estimators and a learning rate of 1.12. Now to tune the Decision tree specific hyperparameters. The hyperparameters we will concern ourself with and their default values are:\n",
        "* `min_samples_split`: 2\n",
        "* `min_samples_leaf`: 1"
      ]
    },
    {
      "cell_type": "markdown",
      "metadata": {},
      "source": []
    },
    {
      "cell_type": "code",
      "execution_count": 39,
      "metadata": {},
      "outputs": [],
      "source": [
        "from sklearn.tree import DecisionTreeClassifier\n",
        "\n",
        "\n",
        "ada_params = {'base_estimator': DecisionTreeClassifier(random_state=42),\n",
        "            'n_estimators': 125,\n",
        "            'learning_rate': 1.12,\n",
        "            'algorithm':'SAMME.R'}\n",
        "dt_params = {'min_samples_split': [int(i) for i in divide_range(2,10,3)],\n",
        "              'min_samples_leaf': [int(i) for i in divide_range(1,5,3)]}\n",
        "dt_params = {\"model__base_estimator__\"+key:value \n",
        "                 for key,value in dt_params.items()}"
      ]
    },
    {
      "cell_type": "code",
      "execution_count": 40,
      "metadata": {},
      "outputs": [
        {
          "name": "stdout",
          "output_type": "stream",
          "text": [
            "### Beginning grid search for AdaBoost ###\n",
            "Fitting 5 folds for each of 16 candidates, totalling 80 fits\n",
            "[CV 2/5] END model__base_estimator__min_samples_leaf=1, model__base_estimator__min_samples_split=2; accuracy: (test=0.807) precision: (test=0.831) total time= 2.5min\n",
            "[CV 2/5] END model__base_estimator__min_samples_leaf=2, model__base_estimator__min_samples_split=2; accuracy: (test=0.810) precision: (test=0.832) total time= 2.5min\n",
            "[CV 2/5] END model__base_estimator__min_samples_leaf=1, model__base_estimator__min_samples_split=7; accuracy: (test=0.807) precision: (test=0.833) total time= 2.5min\n",
            "[CV 2/5] END model__base_estimator__min_samples_leaf=2, model__base_estimator__min_samples_split=4; accuracy: (test=0.810) precision: (test=0.832) total time= 2.5min\n",
            "[CV 2/5] END model__base_estimator__min_samples_leaf=1, model__base_estimator__min_samples_split=4; accuracy: (test=0.807) precision: (test=0.831) total time= 2.5min\n",
            "[CV 3/5] END model__base_estimator__min_samples_leaf=1, model__base_estimator__min_samples_split=2; accuracy: (test=0.825) precision: (test=0.846) total time= 2.6min\n",
            "[CV 3/5] END model__base_estimator__min_samples_leaf=2, model__base_estimator__min_samples_split=2; accuracy: (test=0.823) precision: (test=0.846) total time= 2.6min\n",
            "[CV 2/5] END model__base_estimator__min_samples_leaf=1, model__base_estimator__min_samples_split=10; accuracy: (test=0.810) precision: (test=0.833) total time= 2.6min\n",
            "[CV 3/5] END model__base_estimator__min_samples_leaf=1, model__base_estimator__min_samples_split=7; accuracy: (test=0.823) precision: (test=0.845) total time= 2.7min\n",
            "[CV 3/5] END model__base_estimator__min_samples_leaf=2, model__base_estimator__min_samples_split=4; accuracy: (test=0.823) precision: (test=0.846) total time= 2.7min\n",
            "[CV 3/5] END model__base_estimator__min_samples_leaf=1, model__base_estimator__min_samples_split=4; accuracy: (test=0.822) precision: (test=0.843) total time= 2.8min\n",
            "[CV 3/5] END model__base_estimator__min_samples_leaf=1, model__base_estimator__min_samples_split=10; accuracy: (test=0.815) precision: (test=0.839) total time= 2.8min\n",
            "[CV 4/5] END model__base_estimator__min_samples_leaf=1, model__base_estimator__min_samples_split=7; accuracy: (test=0.828) precision: (test=0.855) total time= 4.1min\n",
            "[CV 4/5] END model__base_estimator__min_samples_leaf=1, model__base_estimator__min_samples_split=10; accuracy: (test=0.827) precision: (test=0.855) total time= 4.2min\n",
            "[CV 4/5] END model__base_estimator__min_samples_leaf=1, model__base_estimator__min_samples_split=4; accuracy: (test=0.828) precision: (test=0.853) total time= 4.5min\n",
            "[CV 5/5] END model__base_estimator__min_samples_leaf=1, model__base_estimator__min_samples_split=10; accuracy: (test=0.830) precision: (test=0.853) total time= 4.9min\n",
            "[CV 2/5] END model__base_estimator__min_samples_leaf=2, model__base_estimator__min_samples_split=7; accuracy: (test=0.807) precision: (test=0.831) total time= 2.2min\n",
            "[CV 2/5] END model__base_estimator__min_samples_leaf=2, model__base_estimator__min_samples_split=10; accuracy: (test=0.803) precision: (test=0.829) total time= 2.1min\n",
            "[CV 1/5] END model__base_estimator__min_samples_leaf=1, model__base_estimator__min_samples_split=7; accuracy: (test=0.820) precision: (test=0.848) total time= 5.1min\n",
            "[CV 2/5] END model__base_estimator__min_samples_leaf=3, model__base_estimator__min_samples_split=2; accuracy: (test=0.804) precision: (test=0.831) total time= 2.1min\n",
            "[CV 1/5] END model__base_estimator__min_samples_leaf=1, model__base_estimator__min_samples_split=10; accuracy: (test=0.820) precision: (test=0.844) total time= 5.2min\n",
            "[CV 3/5] END model__base_estimator__min_samples_leaf=2, model__base_estimator__min_samples_split=10; accuracy: (test=0.818) precision: (test=0.844) total time= 2.3min\n",
            "[CV 3/5] END model__base_estimator__min_samples_leaf=2, model__base_estimator__min_samples_split=7; accuracy: (test=0.818) precision: (test=0.841) total time= 2.5min\n",
            "[CV 3/5] END model__base_estimator__min_samples_leaf=3, model__base_estimator__min_samples_split=2; accuracy: (test=0.823) precision: (test=0.848) total time= 2.3min\n",
            "[CV 1/5] END model__base_estimator__min_samples_leaf=2, model__base_estimator__min_samples_split=7; accuracy: (test=0.822) precision: (test=0.845) total time= 5.6min\n",
            "[CV 5/5] END model__base_estimator__min_samples_leaf=2, model__base_estimator__min_samples_split=2; accuracy: (test=0.839) precision: (test=0.859) total time= 6.0min\n",
            "[CV 4/5] END model__base_estimator__min_samples_leaf=2, model__base_estimator__min_samples_split=2; accuracy: (test=0.825) precision: (test=0.850) total time= 6.1min\n",
            "[CV 5/5] END model__base_estimator__min_samples_leaf=2, model__base_estimator__min_samples_split=4; accuracy: (test=0.839) precision: (test=0.859) total time= 6.2min\n",
            "[CV 4/5] END model__base_estimator__min_samples_leaf=2, model__base_estimator__min_samples_split=4; accuracy: (test=0.825) precision: (test=0.850) total time= 6.4min\n",
            "[CV 4/5] END model__base_estimator__min_samples_leaf=1, model__base_estimator__min_samples_split=2; accuracy: (test=0.828) precision: (test=0.856) total time= 6.4min\n",
            "[CV 5/5] END model__base_estimator__min_samples_leaf=1, model__base_estimator__min_samples_split=7; accuracy: (test=0.832) precision: (test=0.850) total time= 6.9min\n",
            "[CV 4/5] END model__base_estimator__min_samples_leaf=2, model__base_estimator__min_samples_split=10; accuracy: (test=0.828) precision: (test=0.854) total time= 4.0min\n",
            "[CV 2/5] END model__base_estimator__min_samples_leaf=3, model__base_estimator__min_samples_split=4; accuracy: (test=0.804) precision: (test=0.831) total time= 2.1min\n",
            "[CV 4/5] END model__base_estimator__min_samples_leaf=2, model__base_estimator__min_samples_split=7; accuracy: (test=0.822) precision: (test=0.848) total time= 4.4min\n",
            "[CV 5/5] END model__base_estimator__min_samples_leaf=1, model__base_estimator__min_samples_split=2; accuracy: (test=0.821) precision: (test=0.843) total time= 7.3min\n",
            "[CV 3/5] END model__base_estimator__min_samples_leaf=3, model__base_estimator__min_samples_split=4; accuracy: (test=0.823) precision: (test=0.848) total time= 2.3min\n",
            "[CV 1/5] END model__base_estimator__min_samples_leaf=1, model__base_estimator__min_samples_split=4; accuracy: (test=0.814) precision: (test=0.841) total time= 7.4min\n",
            "[CV 2/5] END model__base_estimator__min_samples_leaf=3, model__base_estimator__min_samples_split=7; accuracy: (test=0.806) precision: (test=0.832) total time= 2.2min\n",
            "[CV 5/5] END model__base_estimator__min_samples_leaf=1, model__base_estimator__min_samples_split=4; accuracy: (test=0.827) precision: (test=0.847) total time= 7.6min\n",
            "[CV 1/5] END model__base_estimator__min_samples_leaf=2, model__base_estimator__min_samples_split=4; accuracy: (test=0.824) precision: (test=0.848) total time= 7.9min\n",
            "[CV 3/5] END model__base_estimator__min_samples_leaf=3, model__base_estimator__min_samples_split=7; accuracy: (test=0.821) precision: (test=0.841) total time= 2.5min\n",
            "[CV 1/5] END model__base_estimator__min_samples_leaf=2, model__base_estimator__min_samples_split=2; accuracy: (test=0.824) precision: (test=0.848) total time= 8.1min\n",
            "[CV 4/5] END model__base_estimator__min_samples_leaf=3, model__base_estimator__min_samples_split=2; accuracy: (test=0.827) precision: (test=0.856) total time= 3.8min\n",
            "[CV 1/5] END model__base_estimator__min_samples_leaf=1, model__base_estimator__min_samples_split=2; accuracy: (test=0.823) precision: (test=0.850) total time= 8.3min\n",
            "[CV 5/5] END model__base_estimator__min_samples_leaf=2, model__base_estimator__min_samples_split=7; accuracy: (test=0.824) precision: (test=0.849) total time= 5.5min\n",
            "[CV 2/5] END model__base_estimator__min_samples_leaf=3, model__base_estimator__min_samples_split=10; accuracy: (test=0.808) precision: (test=0.833) total time= 2.1min\n",
            "[CV 1/5] END model__base_estimator__min_samples_leaf=2, model__base_estimator__min_samples_split=10; accuracy: (test=0.817) precision: (test=0.844) total time= 5.8min\n",
            "[CV 1/5] END model__base_estimator__min_samples_leaf=3, model__base_estimator__min_samples_split=2; accuracy: (test=0.824) precision: (test=0.847) total time= 5.6min\n",
            "[CV 4/5] END model__base_estimator__min_samples_leaf=3, model__base_estimator__min_samples_split=4; accuracy: (test=0.827) precision: (test=0.856) total time= 3.7min\n",
            "[CV 3/5] END model__base_estimator__min_samples_leaf=3, model__base_estimator__min_samples_split=10; accuracy: (test=0.817) precision: (test=0.839) total time= 2.5min\n",
            "[CV 2/5] END model__base_estimator__min_samples_leaf=5, model__base_estimator__min_samples_split=2; accuracy: (test=0.804) precision: (test=0.833) total time= 1.9min\n",
            "[CV 1/5] END model__base_estimator__min_samples_leaf=3, model__base_estimator__min_samples_split=7; accuracy: (test=0.830) precision: (test=0.853) total time= 4.0min\n",
            "[CV 3/5] END model__base_estimator__min_samples_leaf=5, model__base_estimator__min_samples_split=2; accuracy: (test=0.818) precision: (test=0.843) total time= 2.3min\n",
            "[CV 2/5] END model__base_estimator__min_samples_leaf=5, model__base_estimator__min_samples_split=4; accuracy: (test=0.804) precision: (test=0.833) total time= 1.9min\n",
            "[CV 5/5] END model__base_estimator__min_samples_leaf=3, model__base_estimator__min_samples_split=7; accuracy: (test=0.830) precision: (test=0.853) total time= 4.3min\n",
            "[CV 3/5] END model__base_estimator__min_samples_leaf=5, model__base_estimator__min_samples_split=4; accuracy: (test=0.818) precision: (test=0.843) total time= 2.3min\n",
            "[CV 1/5] END model__base_estimator__min_samples_leaf=3, model__base_estimator__min_samples_split=4; accuracy: (test=0.824) precision: (test=0.847) total time= 5.1min\n",
            "[CV 4/5] END model__base_estimator__min_samples_leaf=3, model__base_estimator__min_samples_split=7; accuracy: (test=0.821) precision: (test=0.849) total time= 4.5min\n",
            "[CV 2/5] END model__base_estimator__min_samples_leaf=5, model__base_estimator__min_samples_split=7; accuracy: (test=0.804) precision: (test=0.833) total time= 2.0min\n",
            "[CV 4/5] END model__base_estimator__min_samples_leaf=3, model__base_estimator__min_samples_split=10; accuracy: (test=0.827) precision: (test=0.854) total time= 3.7min\n",
            "[CV 3/5] END model__base_estimator__min_samples_leaf=5, model__base_estimator__min_samples_split=7; accuracy: (test=0.818) precision: (test=0.843) total time= 2.1min\n",
            "[CV 2/5] END model__base_estimator__min_samples_leaf=5, model__base_estimator__min_samples_split=10; accuracy: (test=0.804) precision: (test=0.833) total time= 1.7min\n",
            "[CV 5/5] END model__base_estimator__min_samples_leaf=3, model__base_estimator__min_samples_split=2; accuracy: (test=0.830) precision: (test=0.851) total time= 6.0min\n",
            "[CV 5/5] END model__base_estimator__min_samples_leaf=2, model__base_estimator__min_samples_split=10; accuracy: (test=0.828) precision: (test=0.853) total time= 7.3min\n",
            "[CV 3/5] END model__base_estimator__min_samples_leaf=5, model__base_estimator__min_samples_split=10; accuracy: (test=0.818) precision: (test=0.843) total time= 1.9min\n",
            "[CV 4/5] END model__base_estimator__min_samples_leaf=5, model__base_estimator__min_samples_split=2; accuracy: (test=0.828) precision: (test=0.859) total time= 3.4min\n",
            "[CV 5/5] END model__base_estimator__min_samples_leaf=3, model__base_estimator__min_samples_split=4; accuracy: (test=0.830) precision: (test=0.851) total time= 5.6min\n",
            "[CV 5/5] END model__base_estimator__min_samples_leaf=3, model__base_estimator__min_samples_split=10; accuracy: (test=0.832) precision: (test=0.853) total time= 4.2min\n",
            "[CV 1/5] END model__base_estimator__min_samples_leaf=3, model__base_estimator__min_samples_split=10; accuracy: (test=0.822) precision: (test=0.847) total time= 4.9min\n",
            "[CV 4/5] END model__base_estimator__min_samples_leaf=5, model__base_estimator__min_samples_split=4; accuracy: (test=0.828) precision: (test=0.859) total time= 3.2min\n",
            "[CV 1/5] END model__base_estimator__min_samples_leaf=5, model__base_estimator__min_samples_split=2; accuracy: (test=0.817) precision: (test=0.843) total time= 4.2min\n",
            "[CV 4/5] END model__base_estimator__min_samples_leaf=5, model__base_estimator__min_samples_split=7; accuracy: (test=0.828) precision: (test=0.859) total time= 2.6min\n",
            "[CV 1/5] END model__base_estimator__min_samples_leaf=5, model__base_estimator__min_samples_split=4; accuracy: (test=0.817) precision: (test=0.843) total time= 3.7min\n",
            "[CV 4/5] END model__base_estimator__min_samples_leaf=5, model__base_estimator__min_samples_split=10; accuracy: (test=0.828) precision: (test=0.859) total time= 2.3min\n",
            "[CV 1/5] END model__base_estimator__min_samples_leaf=5, model__base_estimator__min_samples_split=7; accuracy: (test=0.817) precision: (test=0.843) total time= 3.2min\n",
            "[CV 5/5] END model__base_estimator__min_samples_leaf=5, model__base_estimator__min_samples_split=2; accuracy: (test=0.827) precision: (test=0.851) total time= 3.8min\n",
            "[CV 1/5] END model__base_estimator__min_samples_leaf=5, model__base_estimator__min_samples_split=10; accuracy: (test=0.817) precision: (test=0.843) total time= 2.7min\n",
            "[CV 5/5] END model__base_estimator__min_samples_leaf=5, model__base_estimator__min_samples_split=4; accuracy: (test=0.827) precision: (test=0.851) total time= 3.3min\n",
            "[CV 5/5] END model__base_estimator__min_samples_leaf=5, model__base_estimator__min_samples_split=7; accuracy: (test=0.827) precision: (test=0.851) total time= 2.8min\n",
            "[CV 5/5] END model__base_estimator__min_samples_leaf=5, model__base_estimator__min_samples_split=10; accuracy: (test=0.827) precision: (test=0.851) total time= 2.3min\n"
          ]
        }
      ],
      "source": [
        "ada_pipe = create_pipe('AdaBoost', params=ada_params)\n",
        "ada_pipe.set_params(corr_selector__threshold=0.785)\n",
        "ada_dt_results_df_v1 = get_grid_results_df(ada_pipe,'ada_dt_results_df_v1_5',\n",
        "                                             dir, param_grid=dt_params,\n",
        "                                             verbosity=3)\n"
      ]
    },
    {
      "cell_type": "code",
      "execution_count": 43,
      "metadata": {},
      "outputs": [
        {
          "name": "stdout",
          "output_type": "stream",
          "text": [
            "Score: (0.8471237046502468, 0.8241197510769129)\n",
            "model__base_estimator__min_samples_split: 2, Count: 1\n",
            "model__base_estimator__min_samples_split: 4, Count: 1\n",
            "model__base_estimator__min_samples_leaf: 2, Count: 2\n",
            "Score: (0.8465033467988666, 0.8216251315313536)\n",
            "model__base_estimator__min_samples_split: 2, Count: 1\n",
            "model__base_estimator__min_samples_split: 4, Count: 1\n",
            "model__base_estimator__min_samples_leaf: 3, Count: 2\n",
            "Score: (0.8462474708159778, 0.8219406588076682)\n",
            "model__base_estimator__min_samples_split: 7, Count: 1\n",
            "model__base_estimator__min_samples_leaf: 1, Count: 1\n",
            "Score: (0.8458076720348162, 0.8186432376442735)\n",
            "model__base_estimator__min_samples_split: 2, Count: 1\n",
            "model__base_estimator__min_samples_split: 4, Count: 1\n",
            "model__base_estimator__min_samples_split: 7, Count: 1\n",
            "model__base_estimator__min_samples_split: 10, Count: 1\n",
            "model__base_estimator__min_samples_leaf: 5, Count: 4\n",
            "Score: (0.8457575388927921, 0.8213382041037782)\n",
            "model__base_estimator__min_samples_split: 7, Count: 1\n",
            "model__base_estimator__min_samples_leaf: 3, Count: 1\n"
          ]
        }
      ],
      "source": [
        "top_n(ada_dt_results_df_v1)"
      ]
    },
    {
      "cell_type": "markdown",
      "metadata": {},
      "source": [
        "This is performing worse than the default parameters."
      ]
    },
    {
      "cell_type": "code",
      "execution_count": 43,
      "metadata": {},
      "outputs": [
        {
          "name": "stdout",
          "output_type": "stream",
          "text": [
            "### Beginning grid search for AdaBoost ###\n",
            "Fitting 5 folds for each of 16 candidates, totalling 80 fits\n",
            "[CV 1/5] END corr_selector__threshold=0.785, model__algorithm=SAMME.R, model__base_estimator=DecisionTreeClassifier(max_depth=5, min_samples_leaf=2, random_state=42), model__base_estimator__max_depth=10, model__base_estimator__min_samples_leaf=1, model__base_estimator__min_samples_split=7, model__learning_rate=1.12, model__n_estimators=125; accuracy: (test=0.842) precision: (test=0.861) total time= 3.4min\n",
            "[CV 5/5] END corr_selector__threshold=0.785, model__algorithm=SAMME.R, model__base_estimator=DecisionTreeClassifier(max_depth=5, min_samples_leaf=2, random_state=42), model__base_estimator__max_depth=10, model__base_estimator__min_samples_leaf=1, model__base_estimator__min_samples_split=7, model__learning_rate=1.12, model__n_estimators=125; accuracy: (test=0.846) precision: (test=0.865) total time= 3.4min\n",
            "[CV 2/5] END corr_selector__threshold=0.785, model__algorithm=SAMME.R, model__base_estimator=DecisionTreeClassifier(max_depth=5, min_samples_leaf=2, random_state=42), model__base_estimator__max_depth=10, model__base_estimator__min_samples_leaf=1, model__base_estimator__min_samples_split=7, model__learning_rate=1.12, model__n_estimators=125; accuracy: (test=0.831) precision: (test=0.851) total time= 3.4min\n",
            "[CV 4/5] END corr_selector__threshold=0.785, model__algorithm=SAMME.R, model__base_estimator=DecisionTreeClassifier(max_depth=5, min_samples_leaf=2, random_state=42), model__base_estimator__max_depth=10, model__base_estimator__min_samples_leaf=1, model__base_estimator__min_samples_split=10, model__learning_rate=1.12, model__n_estimators=125; accuracy: (test=0.836) precision: (test=0.857) total time= 3.5min\n",
            "[CV 3/5] END corr_selector__threshold=0.785, model__algorithm=SAMME.R, model__base_estimator=DecisionTreeClassifier(max_depth=5, min_samples_leaf=2, random_state=42), model__base_estimator__max_depth=10, model__base_estimator__min_samples_leaf=1, model__base_estimator__min_samples_split=7, model__learning_rate=1.12, model__n_estimators=125; accuracy: (test=0.833) precision: (test=0.850) total time= 3.5min\n",
            "[CV 3/5] END corr_selector__threshold=0.785, model__algorithm=SAMME.R, model__base_estimator=DecisionTreeClassifier(max_depth=5, min_samples_leaf=2, random_state=42), model__base_estimator__max_depth=10, model__base_estimator__min_samples_leaf=1, model__base_estimator__min_samples_split=4, model__learning_rate=1.12, model__n_estimators=125; accuracy: (test=0.839) precision: (test=0.854) total time= 3.5min\n",
            "[CV 5/5] END corr_selector__threshold=0.785, model__algorithm=SAMME.R, model__base_estimator=DecisionTreeClassifier(max_depth=5, min_samples_leaf=2, random_state=42), model__base_estimator__max_depth=10, model__base_estimator__min_samples_leaf=1, model__base_estimator__min_samples_split=2, model__learning_rate=1.12, model__n_estimators=125; accuracy: (test=0.846) precision: (test=0.865) total time= 3.5min\n",
            "[CV 5/5] END corr_selector__threshold=0.785, model__algorithm=SAMME.R, model__base_estimator=DecisionTreeClassifier(max_depth=5, min_samples_leaf=2, random_state=42), model__base_estimator__max_depth=10, model__base_estimator__min_samples_leaf=1, model__base_estimator__min_samples_split=4, model__learning_rate=1.12, model__n_estimators=125; accuracy: (test=0.847) precision: (test=0.865) total time= 3.5min\n",
            "[CV 3/5] END corr_selector__threshold=0.785, model__algorithm=SAMME.R, model__base_estimator=DecisionTreeClassifier(max_depth=5, min_samples_leaf=2, random_state=42), model__base_estimator__max_depth=10, model__base_estimator__min_samples_leaf=2, model__base_estimator__min_samples_split=4, model__learning_rate=1.12, model__n_estimators=125; accuracy: (test=0.840) precision: (test=0.853) total time= 3.5min\n",
            "[CV 2/5] END corr_selector__threshold=0.785, model__algorithm=SAMME.R, model__base_estimator=DecisionTreeClassifier(max_depth=5, min_samples_leaf=2, random_state=42), model__base_estimator__max_depth=10, model__base_estimator__min_samples_leaf=1, model__base_estimator__min_samples_split=2, model__learning_rate=1.12, model__n_estimators=125; accuracy: (test=0.833) precision: (test=0.850) total time= 3.5min\n",
            "[CV 4/5] END corr_selector__threshold=0.785, model__algorithm=SAMME.R, model__base_estimator=DecisionTreeClassifier(max_depth=5, min_samples_leaf=2, random_state=42), model__base_estimator__max_depth=10, model__base_estimator__min_samples_leaf=1, model__base_estimator__min_samples_split=2, model__learning_rate=1.12, model__n_estimators=125; accuracy: (test=0.842) precision: (test=0.857) total time= 3.5min\n",
            "[CV 2/5] END corr_selector__threshold=0.785, model__algorithm=SAMME.R, model__base_estimator=DecisionTreeClassifier(max_depth=5, min_samples_leaf=2, random_state=42), model__base_estimator__max_depth=10, model__base_estimator__min_samples_leaf=1, model__base_estimator__min_samples_split=4, model__learning_rate=1.12, model__n_estimators=125; accuracy: (test=0.827) precision: (test=0.845) total time= 3.5min\n",
            "[CV 1/5] END corr_selector__threshold=0.785, model__algorithm=SAMME.R, model__base_estimator=DecisionTreeClassifier(max_depth=5, min_samples_leaf=2, random_state=42), model__base_estimator__max_depth=10, model__base_estimator__min_samples_leaf=1, model__base_estimator__min_samples_split=4, model__learning_rate=1.12, model__n_estimators=125; accuracy: (test=0.835) precision: (test=0.855) total time= 3.5min\n",
            "[CV 1/5] END corr_selector__threshold=0.785, model__algorithm=SAMME.R, model__base_estimator=DecisionTreeClassifier(max_depth=5, min_samples_leaf=2, random_state=42), model__base_estimator__max_depth=10, model__base_estimator__min_samples_leaf=1, model__base_estimator__min_samples_split=10, model__learning_rate=1.12, model__n_estimators=125; accuracy: (test=0.834) precision: (test=0.854) total time= 3.5min\n",
            "[CV 2/5] END corr_selector__threshold=0.785, model__algorithm=SAMME.R, model__base_estimator=DecisionTreeClassifier(max_depth=5, min_samples_leaf=2, random_state=42), model__base_estimator__max_depth=10, model__base_estimator__min_samples_leaf=2, model__base_estimator__min_samples_split=2, model__learning_rate=1.12, model__n_estimators=125; accuracy: (test=0.836) precision: (test=0.851) total time= 3.5min\n",
            "[CV 4/5] END corr_selector__threshold=0.785, model__algorithm=SAMME.R, model__base_estimator=DecisionTreeClassifier(max_depth=5, min_samples_leaf=2, random_state=42), model__base_estimator__max_depth=10, model__base_estimator__min_samples_leaf=1, model__base_estimator__min_samples_split=7, model__learning_rate=1.12, model__n_estimators=125; accuracy: (test=0.844) precision: (test=0.862) total time= 3.5min\n",
            "[CV 5/5] END corr_selector__threshold=0.785, model__algorithm=SAMME.R, model__base_estimator=DecisionTreeClassifier(max_depth=5, min_samples_leaf=2, random_state=42), model__base_estimator__max_depth=10, model__base_estimator__min_samples_leaf=1, model__base_estimator__min_samples_split=10, model__learning_rate=1.12, model__n_estimators=125; accuracy: (test=0.847) precision: (test=0.864) total time= 3.5min\n",
            "[CV 5/5] END corr_selector__threshold=0.785, model__algorithm=SAMME.R, model__base_estimator=DecisionTreeClassifier(max_depth=5, min_samples_leaf=2, random_state=42), model__base_estimator__max_depth=10, model__base_estimator__min_samples_leaf=2, model__base_estimator__min_samples_split=4, model__learning_rate=1.12, model__n_estimators=125; accuracy: (test=0.846) precision: (test=0.866) total time= 3.5min\n",
            "[CV 5/5] END corr_selector__threshold=0.785, model__algorithm=SAMME.R, model__base_estimator=DecisionTreeClassifier(max_depth=5, min_samples_leaf=2, random_state=42), model__base_estimator__max_depth=10, model__base_estimator__min_samples_leaf=2, model__base_estimator__min_samples_split=2, model__learning_rate=1.12, model__n_estimators=125; accuracy: (test=0.846) precision: (test=0.866) total time= 3.5min\n",
            "[CV 3/5] END corr_selector__threshold=0.785, model__algorithm=SAMME.R, model__base_estimator=DecisionTreeClassifier(max_depth=5, min_samples_leaf=2, random_state=42), model__base_estimator__max_depth=10, model__base_estimator__min_samples_leaf=2, model__base_estimator__min_samples_split=2, model__learning_rate=1.12, model__n_estimators=125; accuracy: (test=0.840) precision: (test=0.853) total time= 3.5min\n",
            "[CV 3/5] END corr_selector__threshold=0.785, model__algorithm=SAMME.R, model__base_estimator=DecisionTreeClassifier(max_depth=5, min_samples_leaf=2, random_state=42), model__base_estimator__max_depth=10, model__base_estimator__min_samples_leaf=1, model__base_estimator__min_samples_split=2, model__learning_rate=1.12, model__n_estimators=125; accuracy: (test=0.835) precision: (test=0.853) total time= 3.5min\n",
            "[CV 4/5] END corr_selector__threshold=0.785, model__algorithm=SAMME.R, model__base_estimator=DecisionTreeClassifier(max_depth=5, min_samples_leaf=2, random_state=42), model__base_estimator__max_depth=10, model__base_estimator__min_samples_leaf=1, model__base_estimator__min_samples_split=4, model__learning_rate=1.12, model__n_estimators=125; accuracy: (test=0.848) precision: (test=0.867) total time= 3.6min\n",
            "[CV 2/5] END corr_selector__threshold=0.785, model__algorithm=SAMME.R, model__base_estimator=DecisionTreeClassifier(max_depth=5, min_samples_leaf=2, random_state=42), model__base_estimator__max_depth=10, model__base_estimator__min_samples_leaf=1, model__base_estimator__min_samples_split=10, model__learning_rate=1.12, model__n_estimators=125; accuracy: (test=0.834) precision: (test=0.852) total time= 3.6min\n",
            "[CV 4/5] END corr_selector__threshold=0.785, model__algorithm=SAMME.R, model__base_estimator=DecisionTreeClassifier(max_depth=5, min_samples_leaf=2, random_state=42), model__base_estimator__max_depth=10, model__base_estimator__min_samples_leaf=2, model__base_estimator__min_samples_split=2, model__learning_rate=1.12, model__n_estimators=125; accuracy: (test=0.841) precision: (test=0.862) total time= 3.6min\n",
            "[CV 1/5] END corr_selector__threshold=0.785, model__algorithm=SAMME.R, model__base_estimator=DecisionTreeClassifier(max_depth=5, min_samples_leaf=2, random_state=42), model__base_estimator__max_depth=10, model__base_estimator__min_samples_leaf=1, model__base_estimator__min_samples_split=2, model__learning_rate=1.12, model__n_estimators=125; accuracy: (test=0.837) precision: (test=0.857) total time= 3.6min\n",
            "[CV 3/5] END corr_selector__threshold=0.785, model__algorithm=SAMME.R, model__base_estimator=DecisionTreeClassifier(max_depth=5, min_samples_leaf=2, random_state=42), model__base_estimator__max_depth=10, model__base_estimator__min_samples_leaf=1, model__base_estimator__min_samples_split=10, model__learning_rate=1.12, model__n_estimators=125; accuracy: (test=0.837) precision: (test=0.855) total time= 3.6min\n",
            "[CV 4/5] END corr_selector__threshold=0.785, model__algorithm=SAMME.R, model__base_estimator=DecisionTreeClassifier(max_depth=5, min_samples_leaf=2, random_state=42), model__base_estimator__max_depth=10, model__base_estimator__min_samples_leaf=2, model__base_estimator__min_samples_split=4, model__learning_rate=1.12, model__n_estimators=125; accuracy: (test=0.841) precision: (test=0.862) total time= 3.6min\n",
            "[CV 1/5] END corr_selector__threshold=0.785, model__algorithm=SAMME.R, model__base_estimator=DecisionTreeClassifier(max_depth=5, min_samples_leaf=2, random_state=42), model__base_estimator__max_depth=10, model__base_estimator__min_samples_leaf=2, model__base_estimator__min_samples_split=4, model__learning_rate=1.12, model__n_estimators=125; accuracy: (test=0.834) precision: (test=0.854) total time= 3.6min\n",
            "[CV 2/5] END corr_selector__threshold=0.785, model__algorithm=SAMME.R, model__base_estimator=DecisionTreeClassifier(max_depth=5, min_samples_leaf=2, random_state=42), model__base_estimator__max_depth=10, model__base_estimator__min_samples_leaf=2, model__base_estimator__min_samples_split=4, model__learning_rate=1.12, model__n_estimators=125; accuracy: (test=0.836) precision: (test=0.851) total time= 3.6min\n",
            "[CV 1/5] END corr_selector__threshold=0.785, model__algorithm=SAMME.R, model__base_estimator=DecisionTreeClassifier(max_depth=5, min_samples_leaf=2, random_state=42), model__base_estimator__max_depth=10, model__base_estimator__min_samples_leaf=2, model__base_estimator__min_samples_split=2, model__learning_rate=1.12, model__n_estimators=125; accuracy: (test=0.834) precision: (test=0.854) total time= 3.7min\n",
            "[CV 1/5] END corr_selector__threshold=0.785, model__algorithm=SAMME.R, model__base_estimator=DecisionTreeClassifier(max_depth=5, min_samples_leaf=2, random_state=42), model__base_estimator__max_depth=10, model__base_estimator__min_samples_leaf=2, model__base_estimator__min_samples_split=7, model__learning_rate=1.12, model__n_estimators=125; accuracy: (test=0.839) precision: (test=0.859) total time= 3.8min\n"
          ]
        },
        {
          "ename": "KeyboardInterrupt",
          "evalue": "",
          "output_type": "error",
          "traceback": [
            "\u001b[0;31m---------------------------------------------------------------------------\u001b[0m",
            "\u001b[0;31mFileNotFoundError\u001b[0m                         Traceback (most recent call last)",
            "Cell \u001b[0;32mIn[7], line 6\u001b[0m, in \u001b[0;36mget_grid_results_df\u001b[0;34m(pipe, name, dir, param_grid, verbosity)\u001b[0m\n\u001b[1;32m      5\u001b[0m \u001b[38;5;28;01mtry\u001b[39;00m:\n\u001b[0;32m----> 6\u001b[0m     results_df \u001b[38;5;241m=\u001b[39m \u001b[43mget_df\u001b[49m\u001b[43m(\u001b[49m\u001b[43mname\u001b[49m\u001b[43m,\u001b[49m\u001b[43m \u001b[49m\u001b[38;5;28;43mdir\u001b[39;49m\u001b[43m)\u001b[49m\n\u001b[1;32m      7\u001b[0m \u001b[38;5;28;01mexcept\u001b[39;00m \u001b[38;5;167;01mFileNotFoundError\u001b[39;00m:\n",
            "File \u001b[0;32m/workspace/pp5-ml-dashboard/src/utils.py:23\u001b[0m, in \u001b[0;36mget_df\u001b[0;34m(name, dir)\u001b[0m\n\u001b[1;32m     22\u001b[0m file_path \u001b[38;5;241m=\u001b[39m \u001b[38;5;28mdir\u001b[39m \u001b[38;5;241m+\u001b[39m \u001b[38;5;124m'\u001b[39m\u001b[38;5;124m/\u001b[39m\u001b[38;5;124m'\u001b[39m \u001b[38;5;241m+\u001b[39m name \u001b[38;5;241m+\u001b[39m \u001b[38;5;124m'\u001b[39m\u001b[38;5;124m.csv\u001b[39m\u001b[38;5;124m'\u001b[39m\n\u001b[0;32m---> 23\u001b[0m df \u001b[38;5;241m=\u001b[39m \u001b[43mpd\u001b[49m\u001b[38;5;241;43m.\u001b[39;49m\u001b[43mread_csv\u001b[49m\u001b[43m(\u001b[49m\u001b[43mfile_path\u001b[49m\u001b[43m)\u001b[49m\n\u001b[1;32m     24\u001b[0m \u001b[38;5;28;01mreturn\u001b[39;00m df\n",
            "File \u001b[0;32m/workspace/.pip-modules/lib/python3.8/site-packages/pandas/util/_decorators.py:311\u001b[0m, in \u001b[0;36mdeprecate_nonkeyword_arguments.<locals>.decorate.<locals>.wrapper\u001b[0;34m(*args, **kwargs)\u001b[0m\n\u001b[1;32m    306\u001b[0m     warnings\u001b[38;5;241m.\u001b[39mwarn(\n\u001b[1;32m    307\u001b[0m         msg\u001b[38;5;241m.\u001b[39mformat(arguments\u001b[38;5;241m=\u001b[39marguments),\n\u001b[1;32m    308\u001b[0m         \u001b[38;5;167;01mFutureWarning\u001b[39;00m,\n\u001b[1;32m    309\u001b[0m         stacklevel\u001b[38;5;241m=\u001b[39mstacklevel,\n\u001b[1;32m    310\u001b[0m     )\n\u001b[0;32m--> 311\u001b[0m \u001b[38;5;28;01mreturn\u001b[39;00m \u001b[43mfunc\u001b[49m\u001b[43m(\u001b[49m\u001b[38;5;241;43m*\u001b[39;49m\u001b[43margs\u001b[49m\u001b[43m,\u001b[49m\u001b[43m \u001b[49m\u001b[38;5;241;43m*\u001b[39;49m\u001b[38;5;241;43m*\u001b[39;49m\u001b[43mkwargs\u001b[49m\u001b[43m)\u001b[49m\n",
            "File \u001b[0;32m/workspace/.pip-modules/lib/python3.8/site-packages/pandas/io/parsers/readers.py:680\u001b[0m, in \u001b[0;36mread_csv\u001b[0;34m(filepath_or_buffer, sep, delimiter, header, names, index_col, usecols, squeeze, prefix, mangle_dupe_cols, dtype, engine, converters, true_values, false_values, skipinitialspace, skiprows, skipfooter, nrows, na_values, keep_default_na, na_filter, verbose, skip_blank_lines, parse_dates, infer_datetime_format, keep_date_col, date_parser, dayfirst, cache_dates, iterator, chunksize, compression, thousands, decimal, lineterminator, quotechar, quoting, doublequote, escapechar, comment, encoding, encoding_errors, dialect, error_bad_lines, warn_bad_lines, on_bad_lines, delim_whitespace, low_memory, memory_map, float_precision, storage_options)\u001b[0m\n\u001b[1;32m    678\u001b[0m kwds\u001b[38;5;241m.\u001b[39mupdate(kwds_defaults)\n\u001b[0;32m--> 680\u001b[0m \u001b[38;5;28;01mreturn\u001b[39;00m \u001b[43m_read\u001b[49m\u001b[43m(\u001b[49m\u001b[43mfilepath_or_buffer\u001b[49m\u001b[43m,\u001b[49m\u001b[43m \u001b[49m\u001b[43mkwds\u001b[49m\u001b[43m)\u001b[49m\n",
            "File \u001b[0;32m/workspace/.pip-modules/lib/python3.8/site-packages/pandas/io/parsers/readers.py:575\u001b[0m, in \u001b[0;36m_read\u001b[0;34m(filepath_or_buffer, kwds)\u001b[0m\n\u001b[1;32m    574\u001b[0m \u001b[38;5;66;03m# Create the parser.\u001b[39;00m\n\u001b[0;32m--> 575\u001b[0m parser \u001b[38;5;241m=\u001b[39m \u001b[43mTextFileReader\u001b[49m\u001b[43m(\u001b[49m\u001b[43mfilepath_or_buffer\u001b[49m\u001b[43m,\u001b[49m\u001b[43m \u001b[49m\u001b[38;5;241;43m*\u001b[39;49m\u001b[38;5;241;43m*\u001b[39;49m\u001b[43mkwds\u001b[49m\u001b[43m)\u001b[49m\n\u001b[1;32m    577\u001b[0m \u001b[38;5;28;01mif\u001b[39;00m chunksize \u001b[38;5;129;01mor\u001b[39;00m iterator:\n",
            "File \u001b[0;32m/workspace/.pip-modules/lib/python3.8/site-packages/pandas/io/parsers/readers.py:933\u001b[0m, in \u001b[0;36mTextFileReader.__init__\u001b[0;34m(self, f, engine, **kwds)\u001b[0m\n\u001b[1;32m    932\u001b[0m \u001b[38;5;28mself\u001b[39m\u001b[38;5;241m.\u001b[39mhandles: IOHandles \u001b[38;5;241m|\u001b[39m \u001b[38;5;28;01mNone\u001b[39;00m \u001b[38;5;241m=\u001b[39m \u001b[38;5;28;01mNone\u001b[39;00m\n\u001b[0;32m--> 933\u001b[0m \u001b[38;5;28mself\u001b[39m\u001b[38;5;241m.\u001b[39m_engine \u001b[38;5;241m=\u001b[39m \u001b[38;5;28;43mself\u001b[39;49m\u001b[38;5;241;43m.\u001b[39;49m\u001b[43m_make_engine\u001b[49m\u001b[43m(\u001b[49m\u001b[43mf\u001b[49m\u001b[43m,\u001b[49m\u001b[43m \u001b[49m\u001b[38;5;28;43mself\u001b[39;49m\u001b[38;5;241;43m.\u001b[39;49m\u001b[43mengine\u001b[49m\u001b[43m)\u001b[49m\n",
            "File \u001b[0;32m/workspace/.pip-modules/lib/python3.8/site-packages/pandas/io/parsers/readers.py:1217\u001b[0m, in \u001b[0;36mTextFileReader._make_engine\u001b[0;34m(self, f, engine)\u001b[0m\n\u001b[1;32m   1214\u001b[0m \u001b[38;5;66;03m# error: No overload variant of \"get_handle\" matches argument types\u001b[39;00m\n\u001b[1;32m   1215\u001b[0m \u001b[38;5;66;03m# \"Union[str, PathLike[str], ReadCsvBuffer[bytes], ReadCsvBuffer[str]]\"\u001b[39;00m\n\u001b[1;32m   1216\u001b[0m \u001b[38;5;66;03m# , \"str\", \"bool\", \"Any\", \"Any\", \"Any\", \"Any\", \"Any\"\u001b[39;00m\n\u001b[0;32m-> 1217\u001b[0m \u001b[38;5;28mself\u001b[39m\u001b[38;5;241m.\u001b[39mhandles \u001b[38;5;241m=\u001b[39m \u001b[43mget_handle\u001b[49m\u001b[43m(\u001b[49m\u001b[43m  \u001b[49m\u001b[38;5;66;43;03m# type: ignore[call-overload]\u001b[39;49;00m\n\u001b[1;32m   1218\u001b[0m \u001b[43m    \u001b[49m\u001b[43mf\u001b[49m\u001b[43m,\u001b[49m\n\u001b[1;32m   1219\u001b[0m \u001b[43m    \u001b[49m\u001b[43mmode\u001b[49m\u001b[43m,\u001b[49m\n\u001b[1;32m   1220\u001b[0m \u001b[43m    \u001b[49m\u001b[43mencoding\u001b[49m\u001b[38;5;241;43m=\u001b[39;49m\u001b[38;5;28;43mself\u001b[39;49m\u001b[38;5;241;43m.\u001b[39;49m\u001b[43moptions\u001b[49m\u001b[38;5;241;43m.\u001b[39;49m\u001b[43mget\u001b[49m\u001b[43m(\u001b[49m\u001b[38;5;124;43m\"\u001b[39;49m\u001b[38;5;124;43mencoding\u001b[39;49m\u001b[38;5;124;43m\"\u001b[39;49m\u001b[43m,\u001b[49m\u001b[43m \u001b[49m\u001b[38;5;28;43;01mNone\u001b[39;49;00m\u001b[43m)\u001b[49m\u001b[43m,\u001b[49m\n\u001b[1;32m   1221\u001b[0m \u001b[43m    \u001b[49m\u001b[43mcompression\u001b[49m\u001b[38;5;241;43m=\u001b[39;49m\u001b[38;5;28;43mself\u001b[39;49m\u001b[38;5;241;43m.\u001b[39;49m\u001b[43moptions\u001b[49m\u001b[38;5;241;43m.\u001b[39;49m\u001b[43mget\u001b[49m\u001b[43m(\u001b[49m\u001b[38;5;124;43m\"\u001b[39;49m\u001b[38;5;124;43mcompression\u001b[39;49m\u001b[38;5;124;43m\"\u001b[39;49m\u001b[43m,\u001b[49m\u001b[43m \u001b[49m\u001b[38;5;28;43;01mNone\u001b[39;49;00m\u001b[43m)\u001b[49m\u001b[43m,\u001b[49m\n\u001b[1;32m   1222\u001b[0m \u001b[43m    \u001b[49m\u001b[43mmemory_map\u001b[49m\u001b[38;5;241;43m=\u001b[39;49m\u001b[38;5;28;43mself\u001b[39;49m\u001b[38;5;241;43m.\u001b[39;49m\u001b[43moptions\u001b[49m\u001b[38;5;241;43m.\u001b[39;49m\u001b[43mget\u001b[49m\u001b[43m(\u001b[49m\u001b[38;5;124;43m\"\u001b[39;49m\u001b[38;5;124;43mmemory_map\u001b[39;49m\u001b[38;5;124;43m\"\u001b[39;49m\u001b[43m,\u001b[49m\u001b[43m \u001b[49m\u001b[38;5;28;43;01mFalse\u001b[39;49;00m\u001b[43m)\u001b[49m\u001b[43m,\u001b[49m\n\u001b[1;32m   1223\u001b[0m \u001b[43m    \u001b[49m\u001b[43mis_text\u001b[49m\u001b[38;5;241;43m=\u001b[39;49m\u001b[43mis_text\u001b[49m\u001b[43m,\u001b[49m\n\u001b[1;32m   1224\u001b[0m \u001b[43m    \u001b[49m\u001b[43merrors\u001b[49m\u001b[38;5;241;43m=\u001b[39;49m\u001b[38;5;28;43mself\u001b[39;49m\u001b[38;5;241;43m.\u001b[39;49m\u001b[43moptions\u001b[49m\u001b[38;5;241;43m.\u001b[39;49m\u001b[43mget\u001b[49m\u001b[43m(\u001b[49m\u001b[38;5;124;43m\"\u001b[39;49m\u001b[38;5;124;43mencoding_errors\u001b[39;49m\u001b[38;5;124;43m\"\u001b[39;49m\u001b[43m,\u001b[49m\u001b[43m \u001b[49m\u001b[38;5;124;43m\"\u001b[39;49m\u001b[38;5;124;43mstrict\u001b[39;49m\u001b[38;5;124;43m\"\u001b[39;49m\u001b[43m)\u001b[49m\u001b[43m,\u001b[49m\n\u001b[1;32m   1225\u001b[0m \u001b[43m    \u001b[49m\u001b[43mstorage_options\u001b[49m\u001b[38;5;241;43m=\u001b[39;49m\u001b[38;5;28;43mself\u001b[39;49m\u001b[38;5;241;43m.\u001b[39;49m\u001b[43moptions\u001b[49m\u001b[38;5;241;43m.\u001b[39;49m\u001b[43mget\u001b[49m\u001b[43m(\u001b[49m\u001b[38;5;124;43m\"\u001b[39;49m\u001b[38;5;124;43mstorage_options\u001b[39;49m\u001b[38;5;124;43m\"\u001b[39;49m\u001b[43m,\u001b[49m\u001b[43m \u001b[49m\u001b[38;5;28;43;01mNone\u001b[39;49;00m\u001b[43m)\u001b[49m\u001b[43m,\u001b[49m\n\u001b[1;32m   1226\u001b[0m \u001b[43m\u001b[49m\u001b[43m)\u001b[49m\n\u001b[1;32m   1227\u001b[0m \u001b[38;5;28;01massert\u001b[39;00m \u001b[38;5;28mself\u001b[39m\u001b[38;5;241m.\u001b[39mhandles \u001b[38;5;129;01mis\u001b[39;00m \u001b[38;5;129;01mnot\u001b[39;00m \u001b[38;5;28;01mNone\u001b[39;00m\n",
            "File \u001b[0;32m/workspace/.pip-modules/lib/python3.8/site-packages/pandas/io/common.py:789\u001b[0m, in \u001b[0;36mget_handle\u001b[0;34m(path_or_buf, mode, encoding, compression, memory_map, is_text, errors, storage_options)\u001b[0m\n\u001b[1;32m    787\u001b[0m \u001b[38;5;28;01mif\u001b[39;00m ioargs\u001b[38;5;241m.\u001b[39mencoding \u001b[38;5;129;01mand\u001b[39;00m \u001b[38;5;124m\"\u001b[39m\u001b[38;5;124mb\u001b[39m\u001b[38;5;124m\"\u001b[39m \u001b[38;5;129;01mnot\u001b[39;00m \u001b[38;5;129;01min\u001b[39;00m ioargs\u001b[38;5;241m.\u001b[39mmode:\n\u001b[1;32m    788\u001b[0m     \u001b[38;5;66;03m# Encoding\u001b[39;00m\n\u001b[0;32m--> 789\u001b[0m     handle \u001b[38;5;241m=\u001b[39m \u001b[38;5;28;43mopen\u001b[39;49m\u001b[43m(\u001b[49m\n\u001b[1;32m    790\u001b[0m \u001b[43m        \u001b[49m\u001b[43mhandle\u001b[49m\u001b[43m,\u001b[49m\n\u001b[1;32m    791\u001b[0m \u001b[43m        \u001b[49m\u001b[43mioargs\u001b[49m\u001b[38;5;241;43m.\u001b[39;49m\u001b[43mmode\u001b[49m\u001b[43m,\u001b[49m\n\u001b[1;32m    792\u001b[0m \u001b[43m        \u001b[49m\u001b[43mencoding\u001b[49m\u001b[38;5;241;43m=\u001b[39;49m\u001b[43mioargs\u001b[49m\u001b[38;5;241;43m.\u001b[39;49m\u001b[43mencoding\u001b[49m\u001b[43m,\u001b[49m\n\u001b[1;32m    793\u001b[0m \u001b[43m        \u001b[49m\u001b[43merrors\u001b[49m\u001b[38;5;241;43m=\u001b[39;49m\u001b[43merrors\u001b[49m\u001b[43m,\u001b[49m\n\u001b[1;32m    794\u001b[0m \u001b[43m        \u001b[49m\u001b[43mnewline\u001b[49m\u001b[38;5;241;43m=\u001b[39;49m\u001b[38;5;124;43m\"\u001b[39;49m\u001b[38;5;124;43m\"\u001b[39;49m\u001b[43m,\u001b[49m\n\u001b[1;32m    795\u001b[0m \u001b[43m    \u001b[49m\u001b[43m)\u001b[49m\n\u001b[1;32m    796\u001b[0m \u001b[38;5;28;01melse\u001b[39;00m:\n\u001b[1;32m    797\u001b[0m     \u001b[38;5;66;03m# Binary mode\u001b[39;00m\n",
            "\u001b[0;31mFileNotFoundError\u001b[0m: [Errno 2] No such file or directory: '/workspace/pp5-ml-dashboard/outputs/experiment_results/tuning/grids/ada_dt_results_df_v1_10_.csv'",
            "\nDuring handling of the above exception, another exception occurred:\n",
            "\u001b[0;31mKeyboardInterrupt\u001b[0m                         Traceback (most recent call last)",
            "Cell \u001b[0;32mIn[43], line 2\u001b[0m\n\u001b[1;32m      1\u001b[0m ada_params[\u001b[38;5;124m\"\u001b[39m\u001b[38;5;124mmodel__base_estimator__max_depth\u001b[39m\u001b[38;5;124m\"\u001b[39m] \u001b[38;5;241m=\u001b[39m [\u001b[38;5;241m10\u001b[39m]\n\u001b[0;32m----> 2\u001b[0m ada_dt_results_df_v1_10 \u001b[38;5;241m=\u001b[39m \u001b[43mget_grid_results_df\u001b[49m\u001b[43m(\u001b[49m\u001b[43mada_pipe\u001b[49m\u001b[43m,\u001b[49m\u001b[38;5;124;43m'\u001b[39;49m\u001b[38;5;124;43mada_dt_results_df_v1_10_\u001b[39;49m\u001b[38;5;124;43m'\u001b[39;49m\u001b[43m,\u001b[49m\n\u001b[1;32m      3\u001b[0m \u001b[43m                                             \u001b[49m\u001b[38;5;28;43mdir\u001b[39;49m\u001b[43m,\u001b[49m\u001b[43m \u001b[49m\u001b[43mparam_grid\u001b[49m\u001b[38;5;241;43m=\u001b[39;49m\u001b[43mada_params\u001b[49m\u001b[43m,\u001b[49m\n\u001b[1;32m      4\u001b[0m \u001b[43m                                             \u001b[49m\u001b[43mverbosity\u001b[49m\u001b[38;5;241;43m=\u001b[39;49m\u001b[38;5;241;43m3\u001b[39;49m\u001b[43m)\u001b[49m\n",
            "Cell \u001b[0;32mIn[7], line 8\u001b[0m, in \u001b[0;36mget_grid_results_df\u001b[0;34m(pipe, name, dir, param_grid, verbosity)\u001b[0m\n\u001b[1;32m      6\u001b[0m     results_df \u001b[38;5;241m=\u001b[39m get_df(name, \u001b[38;5;28mdir\u001b[39m)\n\u001b[1;32m      7\u001b[0m \u001b[38;5;28;01mexcept\u001b[39;00m \u001b[38;5;167;01mFileNotFoundError\u001b[39;00m:\n\u001b[0;32m----> 8\u001b[0m     pipe_grid_search \u001b[38;5;241m=\u001b[39m \u001b[43mgrid_search\u001b[49m\u001b[43m(\u001b[49m\n\u001b[1;32m      9\u001b[0m \u001b[43m        \u001b[49m\u001b[43mX_TrainSet\u001b[49m\u001b[43m,\u001b[49m\u001b[43m \u001b[49m\u001b[43mY_TrainSet\u001b[49m\u001b[43m,\u001b[49m\u001b[43m \u001b[49m\u001b[43mpipe\u001b[49m\u001b[43m,\u001b[49m\u001b[43m \u001b[49m\u001b[43mparam_grid\u001b[49m\u001b[38;5;241;43m=\u001b[39;49m\u001b[43mparam_grid\u001b[49m\u001b[43m,\u001b[49m\u001b[43m \u001b[49m\u001b[43mverbosity\u001b[49m\u001b[38;5;241;43m=\u001b[39;49m\u001b[43mverbosity\u001b[49m\n\u001b[1;32m     10\u001b[0m \u001b[43m    \u001b[49m\u001b[43m)\u001b[49m\n\u001b[1;32m     11\u001b[0m     results_df \u001b[38;5;241m=\u001b[39m pd\u001b[38;5;241m.\u001b[39mDataFrame(pipe_grid_search\u001b[38;5;241m.\u001b[39mcv_results_)\n\u001b[1;32m     12\u001b[0m     save_df(results_df, name, \u001b[38;5;28mdir\u001b[39m)\n",
            "Cell \u001b[0;32mIn[5], line 19\u001b[0m, in \u001b[0;36mgrid_search\u001b[0;34m(X_train, y_train, pipe, param_grid, verbosity)\u001b[0m\n\u001b[1;32m     11\u001b[0m \u001b[38;5;28mprint\u001b[39m(\u001b[38;5;124mf\u001b[39m\u001b[38;5;124m\"\u001b[39m\u001b[38;5;124m### Beginning grid search for \u001b[39m\u001b[38;5;132;01m{\u001b[39;00mpipe\u001b[38;5;241m.\u001b[39mname\u001b[38;5;132;01m}\u001b[39;00m\u001b[38;5;124m ###\u001b[39m\u001b[38;5;124m\"\u001b[39m) \n\u001b[1;32m     12\u001b[0m grid\u001b[38;5;241m=\u001b[39mGridSearchCV(estimator\u001b[38;5;241m=\u001b[39mpipe,\n\u001b[1;32m     13\u001b[0m                 param_grid\u001b[38;5;241m=\u001b[39mparam_grid,\n\u001b[1;32m     14\u001b[0m                 cv\u001b[38;5;241m=\u001b[39m\u001b[38;5;241m5\u001b[39m,\n\u001b[0;32m   (...)\u001b[0m\n\u001b[1;32m     17\u001b[0m                 scoring\u001b[38;5;241m=\u001b[39m[\u001b[38;5;124m'\u001b[39m\u001b[38;5;124maccuracy\u001b[39m\u001b[38;5;124m'\u001b[39m,\u001b[38;5;124m'\u001b[39m\u001b[38;5;124mprecision\u001b[39m\u001b[38;5;124m'\u001b[39m],\n\u001b[1;32m     18\u001b[0m                 refit\u001b[38;5;241m=\u001b[39m\u001b[38;5;124m'\u001b[39m\u001b[38;5;124mprecision\u001b[39m\u001b[38;5;124m'\u001b[39m)\n\u001b[0;32m---> 19\u001b[0m \u001b[43mgrid\u001b[49m\u001b[38;5;241;43m.\u001b[39;49m\u001b[43mfit\u001b[49m\u001b[43m(\u001b[49m\u001b[43mX_train\u001b[49m\u001b[43m,\u001b[49m\u001b[43my_train\u001b[49m\u001b[43m)\u001b[49m\n\u001b[1;32m     20\u001b[0m \u001b[38;5;28;01mreturn\u001b[39;00m grid\n",
            "File \u001b[0;32m/workspace/.pip-modules/lib/python3.8/site-packages/sklearn/utils/validation.py:63\u001b[0m, in \u001b[0;36m_deprecate_positional_args.<locals>._inner_deprecate_positional_args.<locals>.inner_f\u001b[0;34m(*args, **kwargs)\u001b[0m\n\u001b[1;32m     61\u001b[0m extra_args \u001b[38;5;241m=\u001b[39m \u001b[38;5;28mlen\u001b[39m(args) \u001b[38;5;241m-\u001b[39m \u001b[38;5;28mlen\u001b[39m(all_args)\n\u001b[1;32m     62\u001b[0m \u001b[38;5;28;01mif\u001b[39;00m extra_args \u001b[38;5;241m<\u001b[39m\u001b[38;5;241m=\u001b[39m \u001b[38;5;241m0\u001b[39m:\n\u001b[0;32m---> 63\u001b[0m     \u001b[38;5;28;01mreturn\u001b[39;00m \u001b[43mf\u001b[49m\u001b[43m(\u001b[49m\u001b[38;5;241;43m*\u001b[39;49m\u001b[43margs\u001b[49m\u001b[43m,\u001b[49m\u001b[43m \u001b[49m\u001b[38;5;241;43m*\u001b[39;49m\u001b[38;5;241;43m*\u001b[39;49m\u001b[43mkwargs\u001b[49m\u001b[43m)\u001b[49m\n\u001b[1;32m     65\u001b[0m \u001b[38;5;66;03m# extra_args > 0\u001b[39;00m\n\u001b[1;32m     66\u001b[0m args_msg \u001b[38;5;241m=\u001b[39m [\u001b[38;5;124m'\u001b[39m\u001b[38;5;132;01m{}\u001b[39;00m\u001b[38;5;124m=\u001b[39m\u001b[38;5;132;01m{}\u001b[39;00m\u001b[38;5;124m'\u001b[39m\u001b[38;5;241m.\u001b[39mformat(name, arg)\n\u001b[1;32m     67\u001b[0m             \u001b[38;5;28;01mfor\u001b[39;00m name, arg \u001b[38;5;129;01min\u001b[39;00m \u001b[38;5;28mzip\u001b[39m(kwonly_args[:extra_args],\n\u001b[1;32m     68\u001b[0m                                  args[\u001b[38;5;241m-\u001b[39mextra_args:])]\n",
            "File \u001b[0;32m/workspace/.pip-modules/lib/python3.8/site-packages/sklearn/model_selection/_search.py:841\u001b[0m, in \u001b[0;36mBaseSearchCV.fit\u001b[0;34m(self, X, y, groups, **fit_params)\u001b[0m\n\u001b[1;32m    835\u001b[0m     results \u001b[38;5;241m=\u001b[39m \u001b[38;5;28mself\u001b[39m\u001b[38;5;241m.\u001b[39m_format_results(\n\u001b[1;32m    836\u001b[0m         all_candidate_params, n_splits, all_out,\n\u001b[1;32m    837\u001b[0m         all_more_results)\n\u001b[1;32m    839\u001b[0m     \u001b[38;5;28;01mreturn\u001b[39;00m results\n\u001b[0;32m--> 841\u001b[0m \u001b[38;5;28;43mself\u001b[39;49m\u001b[38;5;241;43m.\u001b[39;49m\u001b[43m_run_search\u001b[49m\u001b[43m(\u001b[49m\u001b[43mevaluate_candidates\u001b[49m\u001b[43m)\u001b[49m\n\u001b[1;32m    843\u001b[0m \u001b[38;5;66;03m# multimetric is determined here because in the case of a callable\u001b[39;00m\n\u001b[1;32m    844\u001b[0m \u001b[38;5;66;03m# self.scoring the return type is only known after calling\u001b[39;00m\n\u001b[1;32m    845\u001b[0m first_test_score \u001b[38;5;241m=\u001b[39m all_out[\u001b[38;5;241m0\u001b[39m][\u001b[38;5;124m'\u001b[39m\u001b[38;5;124mtest_scores\u001b[39m\u001b[38;5;124m'\u001b[39m]\n",
            "File \u001b[0;32m/workspace/.pip-modules/lib/python3.8/site-packages/sklearn/model_selection/_search.py:1296\u001b[0m, in \u001b[0;36mGridSearchCV._run_search\u001b[0;34m(self, evaluate_candidates)\u001b[0m\n\u001b[1;32m   1294\u001b[0m \u001b[38;5;28;01mdef\u001b[39;00m \u001b[38;5;21m_run_search\u001b[39m(\u001b[38;5;28mself\u001b[39m, evaluate_candidates):\n\u001b[1;32m   1295\u001b[0m \u001b[38;5;250m    \u001b[39m\u001b[38;5;124;03m\"\"\"Search all candidates in param_grid\"\"\"\u001b[39;00m\n\u001b[0;32m-> 1296\u001b[0m     \u001b[43mevaluate_candidates\u001b[49m\u001b[43m(\u001b[49m\u001b[43mParameterGrid\u001b[49m\u001b[43m(\u001b[49m\u001b[38;5;28;43mself\u001b[39;49m\u001b[38;5;241;43m.\u001b[39;49m\u001b[43mparam_grid\u001b[49m\u001b[43m)\u001b[49m\u001b[43m)\u001b[49m\n",
            "File \u001b[0;32m/workspace/.pip-modules/lib/python3.8/site-packages/sklearn/model_selection/_search.py:795\u001b[0m, in \u001b[0;36mBaseSearchCV.fit.<locals>.evaluate_candidates\u001b[0;34m(candidate_params, cv, more_results)\u001b[0m\n\u001b[1;32m    790\u001b[0m \u001b[38;5;28;01mif\u001b[39;00m \u001b[38;5;28mself\u001b[39m\u001b[38;5;241m.\u001b[39mverbose \u001b[38;5;241m>\u001b[39m \u001b[38;5;241m0\u001b[39m:\n\u001b[1;32m    791\u001b[0m     \u001b[38;5;28mprint\u001b[39m(\u001b[38;5;124m\"\u001b[39m\u001b[38;5;124mFitting \u001b[39m\u001b[38;5;132;01m{0}\u001b[39;00m\u001b[38;5;124m folds for each of \u001b[39m\u001b[38;5;132;01m{1}\u001b[39;00m\u001b[38;5;124m candidates,\u001b[39m\u001b[38;5;124m\"\u001b[39m\n\u001b[1;32m    792\u001b[0m           \u001b[38;5;124m\"\u001b[39m\u001b[38;5;124m totalling \u001b[39m\u001b[38;5;132;01m{2}\u001b[39;00m\u001b[38;5;124m fits\u001b[39m\u001b[38;5;124m\"\u001b[39m\u001b[38;5;241m.\u001b[39mformat(\n\u001b[1;32m    793\u001b[0m               n_splits, n_candidates, n_candidates \u001b[38;5;241m*\u001b[39m n_splits))\n\u001b[0;32m--> 795\u001b[0m out \u001b[38;5;241m=\u001b[39m \u001b[43mparallel\u001b[49m\u001b[43m(\u001b[49m\u001b[43mdelayed\u001b[49m\u001b[43m(\u001b[49m\u001b[43m_fit_and_score\u001b[49m\u001b[43m)\u001b[49m\u001b[43m(\u001b[49m\u001b[43mclone\u001b[49m\u001b[43m(\u001b[49m\u001b[43mbase_estimator\u001b[49m\u001b[43m)\u001b[49m\u001b[43m,\u001b[49m\n\u001b[1;32m    796\u001b[0m \u001b[43m                                       \u001b[49m\u001b[43mX\u001b[49m\u001b[43m,\u001b[49m\u001b[43m \u001b[49m\u001b[43my\u001b[49m\u001b[43m,\u001b[49m\n\u001b[1;32m    797\u001b[0m \u001b[43m                                       \u001b[49m\u001b[43mtrain\u001b[49m\u001b[38;5;241;43m=\u001b[39;49m\u001b[43mtrain\u001b[49m\u001b[43m,\u001b[49m\u001b[43m \u001b[49m\u001b[43mtest\u001b[49m\u001b[38;5;241;43m=\u001b[39;49m\u001b[43mtest\u001b[49m\u001b[43m,\u001b[49m\n\u001b[1;32m    798\u001b[0m \u001b[43m                                       \u001b[49m\u001b[43mparameters\u001b[49m\u001b[38;5;241;43m=\u001b[39;49m\u001b[43mparameters\u001b[49m\u001b[43m,\u001b[49m\n\u001b[1;32m    799\u001b[0m \u001b[43m                                       \u001b[49m\u001b[43msplit_progress\u001b[49m\u001b[38;5;241;43m=\u001b[39;49m\u001b[43m(\u001b[49m\n\u001b[1;32m    800\u001b[0m \u001b[43m                                           \u001b[49m\u001b[43msplit_idx\u001b[49m\u001b[43m,\u001b[49m\n\u001b[1;32m    801\u001b[0m \u001b[43m                                           \u001b[49m\u001b[43mn_splits\u001b[49m\u001b[43m)\u001b[49m\u001b[43m,\u001b[49m\n\u001b[1;32m    802\u001b[0m \u001b[43m                                       \u001b[49m\u001b[43mcandidate_progress\u001b[49m\u001b[38;5;241;43m=\u001b[39;49m\u001b[43m(\u001b[49m\n\u001b[1;32m    803\u001b[0m \u001b[43m                                           \u001b[49m\u001b[43mcand_idx\u001b[49m\u001b[43m,\u001b[49m\n\u001b[1;32m    804\u001b[0m \u001b[43m                                           \u001b[49m\u001b[43mn_candidates\u001b[49m\u001b[43m)\u001b[49m\u001b[43m,\u001b[49m\n\u001b[1;32m    805\u001b[0m \u001b[43m                                       \u001b[49m\u001b[38;5;241;43m*\u001b[39;49m\u001b[38;5;241;43m*\u001b[39;49m\u001b[43mfit_and_score_kwargs\u001b[49m\u001b[43m)\u001b[49m\n\u001b[1;32m    806\u001b[0m \u001b[43m               \u001b[49m\u001b[38;5;28;43;01mfor\u001b[39;49;00m\u001b[43m \u001b[49m\u001b[43m(\u001b[49m\u001b[43mcand_idx\u001b[49m\u001b[43m,\u001b[49m\u001b[43m \u001b[49m\u001b[43mparameters\u001b[49m\u001b[43m)\u001b[49m\u001b[43m,\u001b[49m\n\u001b[1;32m    807\u001b[0m \u001b[43m                   \u001b[49m\u001b[43m(\u001b[49m\u001b[43msplit_idx\u001b[49m\u001b[43m,\u001b[49m\u001b[43m \u001b[49m\u001b[43m(\u001b[49m\u001b[43mtrain\u001b[49m\u001b[43m,\u001b[49m\u001b[43m \u001b[49m\u001b[43mtest\u001b[49m\u001b[43m)\u001b[49m\u001b[43m)\u001b[49m\u001b[43m \u001b[49m\u001b[38;5;129;43;01min\u001b[39;49;00m\u001b[43m \u001b[49m\u001b[43mproduct\u001b[49m\u001b[43m(\u001b[49m\n\u001b[1;32m    808\u001b[0m \u001b[43m                   \u001b[49m\u001b[38;5;28;43menumerate\u001b[39;49m\u001b[43m(\u001b[49m\u001b[43mcandidate_params\u001b[49m\u001b[43m)\u001b[49m\u001b[43m,\u001b[49m\n\u001b[1;32m    809\u001b[0m \u001b[43m                   \u001b[49m\u001b[38;5;28;43menumerate\u001b[39;49m\u001b[43m(\u001b[49m\u001b[43mcv\u001b[49m\u001b[38;5;241;43m.\u001b[39;49m\u001b[43msplit\u001b[49m\u001b[43m(\u001b[49m\u001b[43mX\u001b[49m\u001b[43m,\u001b[49m\u001b[43m \u001b[49m\u001b[43my\u001b[49m\u001b[43m,\u001b[49m\u001b[43m \u001b[49m\u001b[43mgroups\u001b[49m\u001b[43m)\u001b[49m\u001b[43m)\u001b[49m\u001b[43m)\u001b[49m\u001b[43m)\u001b[49m\n\u001b[1;32m    811\u001b[0m \u001b[38;5;28;01mif\u001b[39;00m \u001b[38;5;28mlen\u001b[39m(out) \u001b[38;5;241m<\u001b[39m \u001b[38;5;241m1\u001b[39m:\n\u001b[1;32m    812\u001b[0m     \u001b[38;5;28;01mraise\u001b[39;00m \u001b[38;5;167;01mValueError\u001b[39;00m(\u001b[38;5;124m'\u001b[39m\u001b[38;5;124mNo fits were performed. \u001b[39m\u001b[38;5;124m'\u001b[39m\n\u001b[1;32m    813\u001b[0m                      \u001b[38;5;124m'\u001b[39m\u001b[38;5;124mWas the CV iterator empty? \u001b[39m\u001b[38;5;124m'\u001b[39m\n\u001b[1;32m    814\u001b[0m                      \u001b[38;5;124m'\u001b[39m\u001b[38;5;124mWere there no candidates?\u001b[39m\u001b[38;5;124m'\u001b[39m)\n",
            "File \u001b[0;32m/workspace/.pip-modules/lib/python3.8/site-packages/joblib/parallel.py:2007\u001b[0m, in \u001b[0;36mParallel.__call__\u001b[0;34m(self, iterable)\u001b[0m\n\u001b[1;32m   2001\u001b[0m \u001b[38;5;66;03m# The first item from the output is blank, but it makes the interpreter\u001b[39;00m\n\u001b[1;32m   2002\u001b[0m \u001b[38;5;66;03m# progress until it enters the Try/Except block of the generator and\u001b[39;00m\n\u001b[1;32m   2003\u001b[0m \u001b[38;5;66;03m# reaches the first `yield` statement. This starts the asynchronous\u001b[39;00m\n\u001b[1;32m   2004\u001b[0m \u001b[38;5;66;03m# dispatch of the tasks to the workers.\u001b[39;00m\n\u001b[1;32m   2005\u001b[0m \u001b[38;5;28mnext\u001b[39m(output)\n\u001b[0;32m-> 2007\u001b[0m \u001b[38;5;28;01mreturn\u001b[39;00m output \u001b[38;5;28;01mif\u001b[39;00m \u001b[38;5;28mself\u001b[39m\u001b[38;5;241m.\u001b[39mreturn_generator \u001b[38;5;28;01melse\u001b[39;00m \u001b[38;5;28;43mlist\u001b[39;49m\u001b[43m(\u001b[49m\u001b[43moutput\u001b[49m\u001b[43m)\u001b[49m\n",
            "File \u001b[0;32m/workspace/.pip-modules/lib/python3.8/site-packages/joblib/parallel.py:1650\u001b[0m, in \u001b[0;36mParallel._get_outputs\u001b[0;34m(self, iterator, pre_dispatch)\u001b[0m\n\u001b[1;32m   1647\u001b[0m     \u001b[38;5;28;01myield\u001b[39;00m\n\u001b[1;32m   1649\u001b[0m     \u001b[38;5;28;01mwith\u001b[39;00m \u001b[38;5;28mself\u001b[39m\u001b[38;5;241m.\u001b[39m_backend\u001b[38;5;241m.\u001b[39mretrieval_context():\n\u001b[0;32m-> 1650\u001b[0m         \u001b[38;5;28;01myield from\u001b[39;00m \u001b[38;5;28mself\u001b[39m\u001b[38;5;241m.\u001b[39m_retrieve()\n\u001b[1;32m   1652\u001b[0m \u001b[38;5;28;01mexcept\u001b[39;00m \u001b[38;5;167;01mGeneratorExit\u001b[39;00m:\n\u001b[1;32m   1653\u001b[0m     \u001b[38;5;66;03m# The generator has been garbage collected before being fully\u001b[39;00m\n\u001b[1;32m   1654\u001b[0m     \u001b[38;5;66;03m# consumed. This aborts the remaining tasks if possible and warn\u001b[39;00m\n\u001b[1;32m   1655\u001b[0m     \u001b[38;5;66;03m# the user if necessary.\u001b[39;00m\n\u001b[1;32m   1656\u001b[0m     \u001b[38;5;28mself\u001b[39m\u001b[38;5;241m.\u001b[39m_exception \u001b[38;5;241m=\u001b[39m \u001b[38;5;28;01mTrue\u001b[39;00m\n",
            "File \u001b[0;32m/workspace/.pip-modules/lib/python3.8/site-packages/joblib/parallel.py:1762\u001b[0m, in \u001b[0;36mParallel._retrieve\u001b[0;34m(self)\u001b[0m\n\u001b[1;32m   1757\u001b[0m \u001b[38;5;66;03m# If the next job is not ready for retrieval yet, we just wait for\u001b[39;00m\n\u001b[1;32m   1758\u001b[0m \u001b[38;5;66;03m# async callbacks to progress.\u001b[39;00m\n\u001b[1;32m   1759\u001b[0m \u001b[38;5;28;01mif\u001b[39;00m ((\u001b[38;5;28mlen\u001b[39m(\u001b[38;5;28mself\u001b[39m\u001b[38;5;241m.\u001b[39m_jobs) \u001b[38;5;241m==\u001b[39m \u001b[38;5;241m0\u001b[39m) \u001b[38;5;129;01mor\u001b[39;00m\n\u001b[1;32m   1760\u001b[0m     (\u001b[38;5;28mself\u001b[39m\u001b[38;5;241m.\u001b[39m_jobs[\u001b[38;5;241m0\u001b[39m]\u001b[38;5;241m.\u001b[39mget_status(\n\u001b[1;32m   1761\u001b[0m         timeout\u001b[38;5;241m=\u001b[39m\u001b[38;5;28mself\u001b[39m\u001b[38;5;241m.\u001b[39mtimeout) \u001b[38;5;241m==\u001b[39m TASK_PENDING)):\n\u001b[0;32m-> 1762\u001b[0m     \u001b[43mtime\u001b[49m\u001b[38;5;241;43m.\u001b[39;49m\u001b[43msleep\u001b[49m\u001b[43m(\u001b[49m\u001b[38;5;241;43m0.01\u001b[39;49m\u001b[43m)\u001b[49m\n\u001b[1;32m   1763\u001b[0m     \u001b[38;5;28;01mcontinue\u001b[39;00m\n\u001b[1;32m   1765\u001b[0m \u001b[38;5;66;03m# We need to be careful: the job list can be filling up as\u001b[39;00m\n\u001b[1;32m   1766\u001b[0m \u001b[38;5;66;03m# we empty it and Python list are not thread-safe by\u001b[39;00m\n\u001b[1;32m   1767\u001b[0m \u001b[38;5;66;03m# default hence the use of the lock\u001b[39;00m\n",
            "\u001b[0;31mKeyboardInterrupt\u001b[0m: "
          ]
        }
      ],
      "source": [
        "ada_params[\"model__base_estimator__max_depth\"] = [10]\n",
        "ada_dt_results_df_v1_10 = get_grid_results_df(ada_pipe,'ada_dt_results_df_v1_10_',\n",
        "                                             dir, param_grid=ada_params,\n",
        "                                             verbosity=3)"
      ]
    },
    {
      "cell_type": "code",
      "execution_count": 39,
      "metadata": {},
      "outputs": [
        {
          "name": "stdout",
          "output_type": "stream",
          "text": [
            "---  Score Counts  ---\n",
            "Precision: 0.8637159009070066, Accuracy: 0.836162408339088\n",
            "Count: 4\n",
            "\n",
            "Precision: 0.8630923358743281, Accuracy: 0.8356176054717043\n",
            "Count: 1\n",
            "\n",
            "Precision: 0.8627457251289586, Accuracy: 0.836678492157443\n",
            "Count: 1\n",
            "\n",
            "Precision: 0.862013626646332, Accuracy: 0.83487224606228\n",
            "Count: 2\n",
            "\n",
            "---  Score Stats  ---\n",
            "Most Common: Precision: 0.8637159009070066\n",
            "             Accuracy: 0.836162408339088\n",
            "             Count: 4\n",
            "Max Score: Precision: 0.8637159009070066\n",
            "           Accuracy: 0.836162408339088\n",
            "           Count: 4\n",
            "Max Precision: 0.8637159009070066\n",
            "Max Accuracy: 0.836678492157443\n"
          ]
        }
      ],
      "source": [
        "present_score_counts(ada_dt_results_df_v1_5)\n",
        "best_score_5 = score_stats(ada_dt_results_df_v1_5)\n",
        "present_score_counts(ada_dt_results_df_v1_10)\n",
        "best_score_10 = score_stats(ada_dt_results_df_v1_10)"
      ]
    },
    {
      "cell_type": "markdown",
      "metadata": {},
      "source": [
        "There are many choices of parameters with the best score. Remember, we have fixed several hyperparameters already, so we will exclude them."
      ]
    },
    {
      "cell_type": "code",
      "execution_count": 40,
      "metadata": {},
      "outputs": [
        {
          "name": "stdout",
          "output_type": "stream",
          "text": [
            "model__base_estimator__min_samples_split: 2, Count: 1\n",
            "model__base_estimator__min_samples_split: 4, Count: 1\n",
            "model__base_estimator__min_samples_split: 7, Count: 1\n",
            "model__base_estimator__min_samples_split: 10, Count: 1\n",
            "model__base_estimator__min_samples_leaf: 5, Count: 4\n"
          ]
        }
      ],
      "source": [
        "standard_exclude = ['model__base_estimator',\n",
        "           'model__n_estimators','corr_selector__threshold',\n",
        "           'model__learning_rate','model__algorithm']\n",
        "exclude = standard_exclude + ['model__base_estimator__max_depth']\n",
        "present_param_counts(ada_dt_results_df_v1, best_score, exclude)"
      ]
    },
    {
      "cell_type": "markdown",
      "metadata": {},
      "source": [
        "It seems we have only learned that `min_samples_leaf` being 5 is a decent hyperparameter. Let's try some other values for `max_depth` and see how the results compare."
      ]
    },
    {
      "cell_type": "code",
      "execution_count": 41,
      "metadata": {},
      "outputs": [],
      "source": [
        "ada_params[\"model__base_estimator__max_depth\"] = [10,20]\n",
        "ada_dt_results_df_v1_10_20 = get_grid_results_df(ada_pipe,'ada_dt_results_df_v1_10_20',\n",
        "                                             dir, param_grid=ada_params,\n",
        "                                             verbosity=3)\n"
      ]
    },
    {
      "cell_type": "code",
      "execution_count": 42,
      "metadata": {},
      "outputs": [
        {
          "name": "stdout",
          "output_type": "stream",
          "text": [
            "---  Score Counts  ---\n",
            "Precision: 0.8646618680321028, Accuracy: 0.854255142053862\n",
            "Count: 1\n",
            "\n",
            "Precision: 0.8633051747789265, Accuracy: 0.855832153661504\n",
            "Count: 1\n",
            "\n",
            "Precision: 0.8627878490164538, Accuracy: 0.8566637853079477\n",
            "Count: 1\n",
            "\n",
            "Precision: 0.8622545494609278, Accuracy: 0.8566637647561738\n",
            "Count: 1\n",
            "\n",
            "---  Score Stats  ---\n",
            "Most Common: Precision: 0.8573080662106897\n",
            "             Accuracy: 0.8430727491697084\n",
            "             Count: 4\n",
            "Max Score: Precision: 0.8646618680321028\n",
            "           Accuracy: 0.854255142053862\n",
            "           Count: 1\n",
            "Max Precision: 0.8646618680321028\n",
            "Max Accuracy: 0.8571798280227549\n"
          ]
        }
      ],
      "source": [
        "present_score_counts(ada_dt_results_df_v1_10_20)\n",
        "best_score = score_stats(ada_dt_results_df_v1_10_20)"
      ]
    },
    {
      "cell_type": "markdown",
      "metadata": {},
      "source": [
        "The top performers in this grid search outperformed the top performers when the `max_depth` was set to 5. So we will no longer use that value (which means it will take longer to train the models)."
      ]
    },
    {
      "cell_type": "code",
      "execution_count": 43,
      "metadata": {},
      "outputs": [
        {
          "name": "stdout",
          "output_type": "stream",
          "text": [
            "Score: (0.8646618680321028, 0.854255142053862)\n",
            "model__base_estimator__min_samples_split: 2, Count: 1\n",
            "model__base_estimator__min_samples_leaf: 1, Count: 1\n",
            "model__base_estimator__max_depth: 20, Count: 1\n",
            "Score: (0.8633051747789265, 0.855832153661504)\n",
            "model__base_estimator__min_samples_split: 4, Count: 1\n",
            "model__base_estimator__min_samples_leaf: 1, Count: 1\n",
            "model__base_estimator__max_depth: 20, Count: 1\n",
            "Score: (0.8627878490164538, 0.8566637853079477)\n",
            "model__base_estimator__min_samples_split: 7, Count: 1\n",
            "model__base_estimator__min_samples_leaf: 1, Count: 1\n",
            "model__base_estimator__max_depth: 20, Count: 1\n",
            "Score: (0.8622545494609278, 0.8566637647561738)\n",
            "model__base_estimator__min_samples_split: 7, Count: 1\n",
            "model__base_estimator__min_samples_leaf: 3, Count: 1\n",
            "model__base_estimator__max_depth: 20, Count: 1\n",
            "Score: (0.861991008224668, 0.8558895465456577)\n",
            "model__base_estimator__min_samples_split: 2, Count: 1\n",
            "model__base_estimator__min_samples_split: 4, Count: 1\n",
            "model__base_estimator__min_samples_leaf: 2, Count: 2\n",
            "model__base_estimator__max_depth: 20, Count: 2\n"
          ]
        }
      ],
      "source": [
        "top_n(ada_dt_results_df_v1_10_20, exclude=standard_exclude)"
      ]
    },
    {
      "cell_type": "markdown",
      "metadata": {},
      "source": [
        "For the next pass, we will fix the `max_depth` at 20 and see if we can't learn anything more about what the `min_samples_leaf` and `min_samples_split` parameters should be."
      ]
    },
    {
      "cell_type": "code",
      "execution_count": 44,
      "metadata": {},
      "outputs": [],
      "source": [
        "ada_params['model__base_estimator__min_samples_leaf'] = [1,2,3,5]\n",
        "ada_params['model__base_estimator__min_samples_split'] = [2]#4,7,10]\n",
        "ada_params['model__base_estimator__max_depth'] = [20]\n",
        "\n",
        "ada_dt_results_df_v2_20_2 = get_grid_results_df(ada_pipe,'ada_dt_results_df_v2_20_2',\n",
        "                                             dir, param_grid=ada_params,\n",
        "                                             verbosity=3)\n",
        "\n",
        "ada_params['model__base_estimator__min_samples_split'] = [4]#,7,10]\n",
        "\n",
        "ada_dt_results_df_v2_20_4 = get_grid_results_df(ada_pipe,'ada_dt_results_df_v2_20_4',\n",
        "                                             dir, param_grid=ada_params,\n",
        "                                             verbosity=3)\n",
        "\n",
        "ada_params['model__base_estimator__min_samples_split'] = [7]\n",
        "\n",
        "ada_dt_results_df_v2_20_7 = get_grid_results_df(ada_pipe,'ada_dt_results_df_v2_20_7',\n",
        "                                             dir, param_grid=ada_params,\n",
        "                                             verbosity=3)\n",
        "\n",
        "ada_params['model__base_estimator__min_samples_split'] = [10]\n",
        "\n",
        "ada_dt_results_df_v2_20_10 = get_grid_results_df(ada_pipe,'ada_dt_results_df_v2_20_10',\n",
        "                                             dir, param_grid=ada_params,\n",
        "                                             verbosity=3)\n"
      ]
    },
    {
      "cell_type": "code",
      "execution_count": 45,
      "metadata": {},
      "outputs": [
        {
          "name": "stdout",
          "output_type": "stream",
          "text": [
            "---  Score Counts  ---\n",
            "Precision: 0.8641704889968495, Accuracy: 0.8496101575087962\n",
            "Count: 1\n",
            "\n",
            "Precision: 0.8637161315700354, Accuracy: 0.8525061367597251\n",
            "Count: 1\n",
            "\n",
            "Precision: 0.8634434325246634, Accuracy: 0.8526495059353524\n",
            "Count: 1\n",
            "\n",
            "Precision: 0.8624377086686301, Accuracy: 0.8500689470915128\n",
            "Count: 1\n",
            "\n",
            "---  Score Stats  ---\n",
            "Most Common: Precision: 0.8637161315700354\n",
            "             Accuracy: 0.8525061367597251\n",
            "             Count: 1\n",
            "Max Score: Precision: 0.8641704889968495\n",
            "           Accuracy: 0.8496101575087962\n",
            "           Count: 1\n",
            "Max Precision: 0.8641704889968495\n",
            "Max Accuracy: 0.8526495059353524\n",
            "Score: (0.8641704889968495, 0.8496101575087962)\n",
            "model__base_estimator__min_samples_split: 2, Count: 1\n",
            "model__base_estimator__min_samples_leaf: 5, Count: 1\n",
            "Score: (0.8637161315700354, 0.8525061367597251)\n",
            "model__base_estimator__min_samples_split: 2, Count: 1\n",
            "model__base_estimator__min_samples_leaf: 1, Count: 1\n",
            "Score: (0.8634434325246634, 0.8526495059353524)\n",
            "model__base_estimator__min_samples_split: 2, Count: 1\n",
            "model__base_estimator__min_samples_leaf: 2, Count: 1\n",
            "Score: (0.8624377086686301, 0.8500689470915128)\n",
            "model__base_estimator__min_samples_split: 2, Count: 1\n",
            "model__base_estimator__min_samples_leaf: 3, Count: 1\n"
          ]
        }
      ],
      "source": [
        "# min_sample_splits = 2\n",
        "present_score_counts(ada_dt_results_df_v2_20_2)\n",
        "best_score = score_stats(ada_dt_results_df_v2_20_2)\n",
        "\n",
        "top_n(ada_dt_results_df_v2_20_2, exclude=exclude)"
      ]
    },
    {
      "cell_type": "code",
      "execution_count": null,
      "metadata": {},
      "outputs": [
        {
          "name": "stdout",
          "output_type": "stream",
          "text": [
            "---  Score Counts  ---\n",
            "Precision: 0.8645257853006113, Accuracy: 0.8530796751175561\n",
            "Count: 1\n",
            "\n",
            "Precision: 0.8641704889968495, Accuracy: 0.8496101575087962\n",
            "Count: 1\n",
            "\n",
            "Precision: 0.8634434325246634, Accuracy: 0.8526495059353524\n",
            "Count: 1\n",
            "\n",
            "Precision: 0.8624377086686301, Accuracy: 0.8500689470915128\n",
            "Count: 1\n",
            "\n",
            "---  Score Stats  ---\n",
            "Most Common: Precision: 0.8645257853006113\n",
            "             Accuracy: 0.8530796751175561\n",
            "             Count: 1\n",
            "Max Score: Precision: 0.8645257853006113\n",
            "           Accuracy: 0.8530796751175561\n",
            "           Count: 1\n",
            "Max Precision: 0.8645257853006113\n",
            "Max Accuracy: 0.8530796751175561\n"
          ]
        }
      ],
      "source": [
        "# min_sample_splits = 4\n",
        "present_score_counts(ada_dt_results_df_v2_20_4)\n",
        "best_score = score_stats(ada_dt_results_df_v2_20_4)"
      ]
    },
    {
      "cell_type": "markdown",
      "metadata": {},
      "source": []
    },
    {
      "cell_type": "markdown",
      "metadata": {},
      "source": [
        "The training time is growing rapidly with the max_depth parameter of the Decision trees. We will stick to a few relatively small values for this parameter while we continue to tune the others."
      ]
    },
    {
      "cell_type": "markdown",
      "metadata": {},
      "source": [
        "In order to get intermediate results, we will train the AdaBoost model with different base estimators separately."
      ]
    }
  ],
  "metadata": {
    "accelerator": "GPU",
    "colab": {
      "name": "Data Practitioner Jupyter Notebook.ipynb",
      "provenance": [],
      "toc_visible": true
    },
    "interpreter": {
      "hash": "8b8334dab9339717f727a1deaf837b322d7a41c20d15cc86be99a8e69ceec8ce"
    },
    "kernelspec": {
      "display_name": "Python 3.8.12 64-bit ('3.8.12': pyenv)",
      "name": "python3"
    },
    "language_info": {
      "codemirror_mode": {
        "name": "ipython",
        "version": 3
      },
      "file_extension": ".py",
      "mimetype": "text/x-python",
      "name": "python",
      "nbconvert_exporter": "python",
      "pygments_lexer": "ipython3",
      "version": "3.8.18"
    },
    "orig_nbformat": 2
  },
  "nbformat": 4,
  "nbformat_minor": 2
}
