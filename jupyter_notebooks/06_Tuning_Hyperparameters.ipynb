{
  "cells": [
    {
      "cell_type": "markdown",
      "metadata": {
        "id": "0aStgWSO0E0E"
      },
      "source": [
        "# **Tuning Hyperparameters**"
      ]
    },
    {
      "cell_type": "markdown",
      "metadata": {
        "id": "1eLEkw5O0ECa"
      },
      "source": [
        "## Objectives\n",
        "\n",
        "* We will tune the hyperparameters of for Logistic Regression and an Adaptive Boost model.\n",
        "\n",
        "## Inputs\n",
        "\n",
        "* Training and Testing data sets from notebook 04.\n",
        "* Insights developed in the previous notebook.\n",
        "\n",
        "## Outputs\n",
        "\n",
        "* We will have saved models with tuned hyper parameters at the end of this notebook.\n",
        "\n",
        "## Additional Comments\n",
        "\n",
        "* We are making some philosophical assumptions about the nature of hyperparameters. The basic assumption is that the performance of a model trained with hyperparameters that are \"near enough\" to each other will perform \"similarly enough.\" This is the idea that the performance of the model depends _continuously_ on the hyperparameters. We in fact assume a certain amount of regularity of this dependence. In partial differential equations (pdes), the kind of behavior we are assuming is characteristic of elliptic pdes. We do not have a technical reason for believing this. We assume this is an active area of research for various models, but in general it is outside the scope of this project. It does influence our decision in how we go about searching for good hyperparameters.\n"
      ]
    },
    {
      "cell_type": "markdown",
      "metadata": {
        "id": "9uWZXH9LwoQg"
      },
      "source": [
        "---"
      ]
    },
    {
      "cell_type": "markdown",
      "metadata": {},
      "source": [
        "# Change working directory\n",
        "We need to change the working directory from its current folder to its parent folder\n",
        "* We access the current directory with os.getcwd()"
      ]
    },
    {
      "cell_type": "code",
      "execution_count": 1,
      "metadata": {},
      "outputs": [
        {
          "name": "stdout",
          "output_type": "stream",
          "text": [
            "/workspace/pp5-ml-dashboard\n"
          ]
        }
      ],
      "source": [
        "import os\n",
        "\n",
        "home_dir = '/workspace/pp5-ml-dashboard'\n",
        "os.chdir(home_dir)\n",
        "current_dir = os.getcwd()\n",
        "print(current_dir)"
      ]
    },
    {
      "cell_type": "markdown",
      "metadata": {},
      "source": [
        "We now load our training and test sets, as well as some of the packages that we will be using."
      ]
    },
    {
      "cell_type": "code",
      "execution_count": 2,
      "metadata": {},
      "outputs": [],
      "source": [
        "import numpy as np\n",
        "import pandas as pd\n",
        "import seaborn as sns\n",
        "import matplotlib.pyplot as plt\n",
        "import plotly.express as px\n",
        "from src.utils import get_df, save_df\n",
        "\n",
        "train_dir = 'datasets/train/csv'\n",
        "X_TrainSet = get_df('X_TrainSet',train_dir)\n",
        "Y_TrainSet = get_df('Y_TrainSet',train_dir)\n",
        "\n",
        "test_dir = 'datasets/test/csv'\n",
        "X_TestSet = get_df('X_TestSet',test_dir)\n",
        "Y_TestSet = get_df('Y_TestSet',test_dir)"
      ]
    },
    {
      "cell_type": "markdown",
      "metadata": {},
      "source": [
        "## Section 1: Pipeline and Grid Search set up\n",
        "We recall the code for building our pipelines and the grid search that we performed in the last notebook. Note that some of the constants have changed. \n",
        "\n",
        "We have modified the pipeline to see how feateure selection impacts the performance. Note that setting `thresh=1` essentially removes the `'corr_selector'` step from the pipeline. We will eventually remove this step from the pipeline once we have selected a value for `thresh`."
      ]
    },
    {
      "cell_type": "code",
      "execution_count": 3,
      "metadata": {},
      "outputs": [],
      "source": [
        "from sklearn.preprocessing import StandardScaler\n",
        "from feature_engine import transformation as vt\n",
        "from feature_engine.selection import DropFeatures, SmartCorrelatedSelection\n",
        "from sklearn.pipeline import Pipeline\n",
        "\n",
        "\n",
        "# Constants needed for feature engineering\n",
        "TO_DROP = ['ftm_away', 'plus_minus_home', 'fg3m_away', 'pts_away', 'play_off',\n",
        "           'fgm_away', 'pts_home', 'fg3m_home', 'ftm_home', 'fgm_home',\n",
        "           'season']\n",
        "THRESH = 0.6\n",
        "TRANSFORMS = {'box_cox':(vt.BoxCoxTransformer,False),\n",
        "              'yeo_johnson':(vt.YeoJohnsonTransformer,False)}\n",
        "TRANSFORM_ASSIGNMENTS = {\n",
        "    'yeo_johnson': ['dreb_away', 'blk_home', 'oreb_away', 'fta_away',\n",
        "                    'dreb_home', 'ast_home', 'stl_away', 'stl_home',\n",
        "                    'reb_away', 'oreb_home', 'pf_away', 'pf_home'],\n",
        "    'box_cox': ['ast_away', 'fta_home']\n",
        "                            }\n",
        "\n",
        "\n",
        "def base_pipeline(thresh=THRESH):\n",
        "    pipeline = Pipeline([\n",
        "        ('dropper', DropFeatures(features_to_drop=TO_DROP)),\n",
        "        ('corr_selector', SmartCorrelatedSelection(method=\"pearson\",\n",
        "                                                   threshold=thresh,\n",
        "                                                   selection_method=\"variance\")\n",
        "                                                   )\n",
        "                        ])\n",
        "    return pipeline\n",
        "\n",
        "    \n",
        "def add_transformations(pipeline, transform_assignments):\n",
        "    # This needs to be called after the above is fit so that the correlation selector has that attr\n",
        "    dropping = pipeline['corr_selector'].features_to_drop_\n",
        "    \n",
        "    new_assignments = { key: [val for val in value if val not in dropping] \n",
        "                       for key,value in transform_assignments.items()}\n",
        "    for transform, targets in new_assignments.items():\n",
        "        if not targets:\n",
        "            continue\n",
        "        pipeline.steps.append(\n",
        "            (transform, TRANSFORMS[transform][0](variables=targets))\n",
        "            )\n",
        "    pipeline.steps.append(('scaler', StandardScaler()))\n",
        "    return pipeline"
      ]
    },
    {
      "cell_type": "code",
      "execution_count": 4,
      "metadata": {},
      "outputs": [],
      "source": [
        "from sklearn.feature_selection import SelectFromModel\n",
        "\n",
        "# ML algorithms\n",
        "from sklearn.linear_model import LogisticRegression\n",
        "from sklearn.ensemble import AdaBoostClassifier\n",
        "\n",
        "\n",
        "MODELS = {\n",
        "    'LogisticRegression': LogisticRegression,\n",
        "    'AdaBoost': AdaBoostClassifier,\n",
        "}\n",
        "\n",
        "def create_pipe(model_name, random_state=42, params={}):\n",
        "    model = MODELS[model_name](random_state=random_state,**params)\n",
        "    base_pipe = base_pipeline()\n",
        "    base_pipe.fit(X_TrainSet)\n",
        "    pipe= add_transformations(base_pipe,TRANSFORM_ASSIGNMENTS)\n",
        "    pipe.steps.append((\"feat_selection\", SelectFromModel(model)))\n",
        "    pipe.steps.append(('model',model))\n",
        "    pipe.name = model_name\n",
        "    return pipe\n"
      ]
    },
    {
      "cell_type": "markdown",
      "metadata": {},
      "source": [
        "Next, we have the code for our grid search. As we will be treating `thresh` as a hyperparameter, it will be slightly different."
      ]
    },
    {
      "cell_type": "code",
      "execution_count": 5,
      "metadata": {},
      "outputs": [],
      "source": [
        "from sklearn.model_selection import GridSearchCV\n",
        "# to suppress warnings\n",
        "import warnings\n",
        "warnings.filterwarnings(\"ignore\", category=FutureWarning)\n",
        "import logging\n",
        "logging.captureWarnings(True)\n",
        "os.environ['PYTHONWARNINGS']='ignore'\n",
        "\n",
        "\n",
        "def grid_search(X_train, y_train,pipe,param_grid={},verbosity=1):\n",
        "    print(f\"### Beginning grid search for {pipe.name} ###\") \n",
        "    grid=GridSearchCV(estimator=pipe,\n",
        "                    param_grid=param_grid,\n",
        "                    cv=5,\n",
        "                    n_jobs=-2,\n",
        "                    verbose=verbosity,\n",
        "                    scoring=['accuracy','precision'],\n",
        "                    refit='precision')\n",
        "    grid.fit(X_train,y_train)\n",
        "    return grid\n"
      ]
    },
    {
      "cell_type": "markdown",
      "metadata": {},
      "source": [
        "## Section 2: Logistic Regression\n",
        "Logistic Regression models have many hyperparameters. We will focus on:\n",
        "* `penalty` is a regularization parameter.\n",
        "* `solver` specifies the type of algorithm used.\n",
        "* `C` controls the strength of the penalty.\n",
        "\n",
        "Not all penalties work for each solver.\n",
        "\n",
        "These will be our initial choice for hyperparameters. They will help us narrow down our search and find other ranges to test."
      ]
    },
    {
      "cell_type": "code",
      "execution_count": 6,
      "metadata": {},
      "outputs": [],
      "source": [
        "thresholds = [round(0.1*i,2) for i in range(5,11)]\n",
        "C = [10**(2*i+1) for i in range(-2,2)]\n",
        "solver = ['newton-cg', 'newton-cholesky', 'lbfgs', 'liblinear', 'sag', 'saga']\n",
        "penalty = ['none', 'l1', 'l2', 'elasticnet']\n",
        "param_grid = [\n",
        "            {'C':C,\n",
        "             'solver':['lbfgs','newton-cg','newton-cholesky','sag'],\n",
        "             'penalty':['l2',None]},\n",
        "            {'C':C,\n",
        "             'solver':['liblinear'],\n",
        "             'penalty':['l1','l2']},\n",
        "            {'C':C,\n",
        "             'solver':['saga'],\n",
        "             'penalty':['l1','l2',None,'elasticnet']}\n",
        "              ]\n",
        "logistic_param_grid = [{'model__'+key:value \n",
        "                                for key,value in param_dict.items()}\n",
        "                                for param_dict in param_grid]\n",
        "for params in logistic_param_grid:\n",
        "    params['corr_selector__threshold']=thresholds\n"
      ]
    },
    {
      "cell_type": "markdown",
      "metadata": {},
      "source": [
        "Now we are ready to do the grid search. We expect this to go well since Logistic Regression was our best performing model without any tuning. This initial training will help us establish a range to further tune the hyperparamters in."
      ]
    },
    {
      "cell_type": "code",
      "execution_count": 7,
      "metadata": {},
      "outputs": [],
      "source": [
        "from src.utils import save_df, get_df\n",
        "\n",
        "\n",
        "def get_grid_results_df(pipe, name, dir, param_grid={}, verbosity=2):\n",
        "    try:\n",
        "        results_df = get_df(name, dir)\n",
        "    except FileNotFoundError:\n",
        "        pipe_grid_search = grid_search(\n",
        "            X_TrainSet, Y_TrainSet, pipe, param_grid=param_grid, verbosity=verbosity\n",
        "        )\n",
        "        results_df = pd.DataFrame(pipe_grid_search.cv_results_)\n",
        "        save_df(results_df, name, dir)\n",
        "        # this normalizes the types\n",
        "        results_df = get_df(name, dir)\n",
        "    return results_df\n",
        "\n",
        "\n",
        "logistic_pipe = create_pipe(\"LogisticRegression\")\n",
        "results_name = \"logistic_grid_results_v1\"\n",
        "dir = \"experiment_results/tuning/grids\"\n",
        "\n",
        "logistic_results_df_v1 = get_grid_results_df(\n",
        "    logistic_pipe, results_name, dir, param_grid=logistic_param_grid\n",
        ")"
      ]
    },
    {
      "cell_type": "markdown",
      "metadata": {},
      "source": [
        "\n",
        "Let's look at what the best choices are at this stage."
      ]
    },
    {
      "cell_type": "code",
      "execution_count": 8,
      "metadata": {},
      "outputs": [
        {
          "name": "stdout",
          "output_type": "stream",
          "text": [
            "Best parameters for current model:\n",
            "threshold: 0.8\n",
            "C: 0.001\n",
            "penalty: None\n",
            "solver: lbfgs\n",
            "Avg. Precision: 88.70480236491775%.\n",
            "Avg. Accuracy: 87.18030112459309%.\n",
            "\n",
            "threshold: 0.8\n",
            "C: 0.001\n",
            "penalty: None\n",
            "solver: newton-cg\n",
            "Avg. Precision: 88.70480236491775%.\n",
            "Avg. Accuracy: 87.18030112459309%.\n",
            "\n",
            "threshold: 0.8\n",
            "C: 0.001\n",
            "penalty: None\n",
            "solver: newton-cholesky\n",
            "Avg. Precision: 88.70480236491775%.\n",
            "Avg. Accuracy: 87.18030112459309%.\n",
            "\n"
          ]
        }
      ],
      "source": [
        "from src.model_eval import get_best_params_df\n",
        "\n",
        "get_best_params_df(logistic_results_df_v1)"
      ]
    },
    {
      "cell_type": "markdown",
      "metadata": {},
      "source": [
        "Clearly, the best correlation threshold is 0.8. The models have the same scores. Lets collect all of the parameters that have the same scores. We order the scores not by count but by score."
      ]
    },
    {
      "cell_type": "code",
      "execution_count": 9,
      "metadata": {},
      "outputs": [
        {
          "name": "stdout",
          "output_type": "stream",
          "text": [
            "---  Score Counts  ---\n",
            "Precision: 0.8870480236491776, Accuracy: 0.8718030112459308\n",
            "Count: 34\n",
            "\n",
            "Precision: 0.887042467962182, Accuracy: 0.8717743374108053\n",
            "Count: 2\n",
            "\n",
            "Precision: 0.8870152603635608, Accuracy: 0.8718030194666403\n",
            "Count: 1\n",
            "\n",
            "Precision: 0.8869924718004393, Accuracy: 0.8718890245305975\n",
            "Count: 1\n",
            "\n",
            "---  Score Stats  ---\n",
            "Most Common: Precision: -1\n",
            "             Accuracy: -1\n",
            "             Count: 76\n",
            "Max Score: Precision: 0.8870480236491776\n",
            "           Accuracy: 0.8718030112459308\n",
            "           Count: 34\n",
            "Max Precision: 0.8870480236491776\n",
            "Max Accuracy: 0.871917694255368\n"
          ]
        }
      ],
      "source": [
        "from src.model_eval import present_score_counts, score_stats\n",
        "\n",
        "\n",
        "present_score_counts(logistic_results_df_v1)\n",
        "best_score = score_stats(logistic_results_df_v1)\n"
      ]
    },
    {
      "cell_type": "markdown",
      "metadata": {},
      "source": [
        "The most common scores are `nan` (we changed the score to be -1 if a `nan` value was showing up). This happens when a choice of parameters does not work well together. We won't worry about this as we are able to get quite good precision and accuracy with this first pass. Note that the best accuracy score is not far from the accuracy of the model with the best precision.\n",
        "\n",
        "34 different choices of parameters had the best performance. We would like to see what these estimators had in common and look at neighborhoods around these parameters to see if we can improve the performance before moving on to the next model."
      ]
    },
    {
      "cell_type": "code",
      "execution_count": 10,
      "metadata": {},
      "outputs": [
        {
          "name": "stdout",
          "output_type": "stream",
          "text": [
            "model__solver: saga, Count: 8\n",
            "model__solver: lbfgs, Count: 6\n",
            "model__solver: newton-cg, Count: 6\n",
            "model__solver: newton-cholesky, Count: 6\n",
            "model__solver: sag, Count: 5\n",
            "model__solver: liblinear, Count: 3\n",
            "model__penalty: None, Count: 20\n",
            "model__penalty: l2, Count: 10\n",
            "model__penalty: l1, Count: 4\n",
            "model__C: 1000, Count: 13\n",
            "model__C: 10, Count: 11\n",
            "model__C: 0.001, Count: 5\n",
            "model__C: 0.1, Count: 5\n",
            "corr_selector__threshold: 0.8, Count: 34\n"
          ]
        }
      ],
      "source": [
        "from src.model_eval import present_param_counts\n",
        "\n",
        "present_param_counts(logistic_results_df_v1, best_score)"
      ]
    },
    {
      "cell_type": "markdown",
      "metadata": {},
      "source": [
        "We will make the following modifications to `logistic_param_grid`:\n",
        "* remove `'liblinear'` and `'sag'` as they were used the least,\n",
        "* pick a neighborhood around 0.8 for correlation threshold,\n",
        "* focus on penalties `'l2'` and `'None'`\n",
        "* focus on the range 1 to 1000 for `C`\n",
        "\n",
        "We will see if focusing gives us any improvement in score."
      ]
    },
    {
      "cell_type": "code",
      "execution_count": 11,
      "metadata": {},
      "outputs": [],
      "source": [
        "from src.utils import divide_range\n",
        "\n",
        "thresholds = divide_range(0.75,0.85,5)\n",
        "C = divide_range(1,1000,6)\n",
        "logistic_param_grid_v2=[{'model__C': C,\n",
        "  'model__solver': ['lbfgs', 'newton-cg', 'newton-cholesky','saga'],\n",
        "  'model__penalty': ['l2', None],\n",
        "  'corr_selector__threshold': thresholds}]"
      ]
    },
    {
      "cell_type": "code",
      "execution_count": 12,
      "metadata": {},
      "outputs": [],
      "source": [
        "logistic_results_df_v2 = get_grid_results_df(logistic_pipe,\n",
        "                                             'logistic_results_df_v2', dir, \n",
        "                                             param_grid=logistic_param_grid_v2,\n",
        "                                             verbosity=3)"
      ]
    },
    {
      "cell_type": "markdown",
      "metadata": {},
      "source": [
        "Let's proceed by doing the analysis we did above of the results of this grid search."
      ]
    },
    {
      "cell_type": "code",
      "execution_count": 13,
      "metadata": {},
      "outputs": [
        {
          "name": "stdout",
          "output_type": "stream",
          "text": [
            "Best parameters for current model:\n",
            "threshold: 0.77\n",
            "C: 1.0\n",
            "penalty: None\n",
            "solver: lbfgs\n",
            "Avg. Precision: 88.70480236491775%.\n",
            "Avg. Accuracy: 87.18030112459309%.\n",
            "\n",
            "threshold: 0.77\n",
            "C: 1.0\n",
            "penalty: None\n",
            "solver: newton-cg\n",
            "Avg. Precision: 88.70480236491775%.\n",
            "Avg. Accuracy: 87.18030112459309%.\n",
            "\n",
            "threshold: 0.77\n",
            "C: 1.0\n",
            "penalty: None\n",
            "solver: newton-cholesky\n",
            "Avg. Precision: 88.70480236491775%.\n",
            "Avg. Accuracy: 87.18030112459309%.\n",
            "\n"
          ]
        }
      ],
      "source": [
        "get_best_params_df(logistic_results_df_v2)"
      ]
    },
    {
      "cell_type": "markdown",
      "metadata": {},
      "source": [
        "Again, very similar scores. So let's analyze the scores that showed up as we did before."
      ]
    },
    {
      "cell_type": "code",
      "execution_count": 14,
      "metadata": {},
      "outputs": [
        {
          "name": "stdout",
          "output_type": "stream",
          "text": [
            "---  Score Counts  ---\n",
            "Precision: 0.8870480236491776, Accuracy: 0.8718030112459308\n",
            "Count: 156\n",
            "\n",
            "Precision: 0.8868889708447109, Accuracy: 0.871716997961264\n",
            "Count: 3\n",
            "\n",
            "Precision: 0.8868481163465816, Accuracy: 0.8716883282364934\n",
            "Count: 9\n",
            "\n",
            "Precision: 0.8753149006289227, Accuracy: 0.8584414808786294\n",
            "Count: 78\n",
            "\n",
            "---  Score Stats  ---\n",
            "Most Common: Precision: 0.8870480236491776\n",
            "             Accuracy: 0.8718030112459308\n",
            "             Count: 156\n",
            "Max Score: Precision: 0.8870480236491776\n",
            "           Accuracy: 0.8718030112459308\n",
            "           Count: 156\n",
            "Max Precision: 0.8870480236491776\n",
            "Max Accuracy: 0.8718030112459308\n"
          ]
        }
      ],
      "source": [
        "present_score_counts(logistic_results_df_v2)\n",
        "best_score = score_stats(logistic_results_df_v2)"
      ]
    },
    {
      "cell_type": "markdown",
      "metadata": {},
      "source": [
        "Our most common score is our best score. It seems like we have chosen a good range of parameters since many of the combinations yield good results."
      ]
    },
    {
      "cell_type": "code",
      "execution_count": 15,
      "metadata": {},
      "outputs": [
        {
          "name": "stdout",
          "output_type": "stream",
          "text": [
            "model__solver: lbfgs, Count: 39\n",
            "model__solver: newton-cg, Count: 39\n",
            "model__solver: newton-cholesky, Count: 39\n",
            "model__solver: saga, Count: 39\n",
            "model__penalty: None, Count: 84\n",
            "model__penalty: l2, Count: 72\n",
            "model__C: 167.5, Count: 24\n",
            "model__C: 334.0, Count: 24\n",
            "model__C: 500.5, Count: 24\n",
            "model__C: 667.0, Count: 24\n",
            "model__C: 833.5, Count: 24\n",
            "model__C: 1000.0, Count: 24\n",
            "model__C: 1.0, Count: 12\n",
            "corr_selector__threshold: 0.77, Count: 52\n",
            "corr_selector__threshold: 0.79, Count: 52\n",
            "corr_selector__threshold: 0.8099999999999999, Count: 52\n"
          ]
        }
      ],
      "source": [
        "present_param_counts(logistic_results_df_v2, best_score)"
      ]
    },
    {
      "cell_type": "markdown",
      "metadata": {},
      "source": [
        "All of the choices of parameters seem to be performing equally well, with insignificant exceptions. We will have to look at other metrics to determine distinguish between these choices of parameters. Things such as training time statistics, and standard deviation of the scores."
      ]
    },
    {
      "cell_type": "code",
      "execution_count": 16,
      "metadata": {},
      "outputs": [
        {
          "name": "stdout",
          "output_type": "stream",
          "text": [
            "std_test_precision: 0.0054844417109899\n",
            "std_test_accuracy: 0.004118208175772\n",
            "count: 156\n"
          ]
        }
      ],
      "source": [
        "best_results = logistic_results_df_v2.query(f'mean_test_precision == {best_score[0]} and mean_test_accuracy == {best_score[1]}')\n",
        "std_score_counts = {}\n",
        "\n",
        "for _, row in best_results.iterrows():\n",
        "    std_score = (row['std_test_precision'], row['std_test_accuracy'])\n",
        "    if std_score in std_score_counts:\n",
        "        std_score_counts[std_score] += 1\n",
        "    else:\n",
        "        std_score_counts[std_score] = 1\n",
        "for key, value in std_score_counts.items():\n",
        "    print(f\"std_test_precision: {key[0]}\"\n",
        "          f\"\\nstd_test_accuracy: {key[1]}\"\n",
        "          f\"\\ncount: {value}\")"
      ]
    },
    {
      "cell_type": "markdown",
      "metadata": {},
      "source": [
        "So standard deviation will not help us distinguish either. This is annoying, but good. We will see how the models perform on the test data set.\n",
        "\n",
        "Note: If you are tinkering and running cells multiple times, we recommend commenting out the code in the following three cells. They take a bit even after they have already been run the first time since we aren't saving the large number of pipelines and models."
      ]
    },
    {
      "cell_type": "code",
      "execution_count": 17,
      "metadata": {},
      "outputs": [
        {
          "data": {
            "text/plain": [
              "'\\nbest_pipes = []\\nfor param_dict in best_params:\\n    base_pipe = create_pipe(\\'LogisticRegression\\')\\n    pipe = base_pipe.set_params(**param_dict)\\n    pipe.param_dict = param_dict\\n    best_pipes.append(pipe)\\n\\nmodel_params = {key.split(\\'__\\')[0]:key.split(\\'__\\')[1]\\n                for key in best_params[0].keys()}\\ncount = 0\\nfor pipe in best_pipes:\\n    print(f\"Pipe {count}:\")\\n    for step in pipe.get_params()[\\'steps\\']:\\n        if step[0] in model_params:\\n            param = model_params[step[0]]\\n            value = step[1].get_params()[param]\\n            print(f\"{step[0]}\"\\n                  f\"\\n{param}: {value}\")\\n    print()\\n    count += 1\\n    if count>=2:\\n        break\\n'"
            ]
          },
          "execution_count": 17,
          "metadata": {},
          "output_type": "execute_result"
        }
      ],
      "source": [
        "import ast\n",
        "\n",
        "def parameter_dicts(results_df, best_score):\n",
        "    relevant = results_df.query(f'mean_test_precision == {best_score[0]} and mean_test_accuracy == {best_score[1]}')\n",
        "    param_dicts = [ast.literal_eval(param_dict) for param_dict in relevant['params'].values]\n",
        "    return param_dicts\n",
        "\n",
        "best_params = parameter_dicts(logistic_results_df_v2, best_score)\n",
        "'''\n",
        "best_pipes = []\n",
        "for param_dict in best_params:\n",
        "    base_pipe = create_pipe('LogisticRegression')\n",
        "    pipe = base_pipe.set_params(**param_dict)\n",
        "    pipe.param_dict = param_dict\n",
        "    best_pipes.append(pipe)\n",
        "\n",
        "model_params = {key.split('__')[0]:key.split('__')[1]\n",
        "                for key in best_params[0].keys()}\n",
        "count = 0\n",
        "for pipe in best_pipes:\n",
        "    print(f\"Pipe {count}:\")\n",
        "    for step in pipe.get_params()['steps']:\n",
        "        if step[0] in model_params:\n",
        "            param = model_params[step[0]]\n",
        "            value = step[1].get_params()[param]\n",
        "            print(f\"{step[0]}\"\n",
        "                  f\"\\n{param}: {value}\")\n",
        "    print()\n",
        "    count += 1\n",
        "    if count>=2:\n",
        "        break\n",
        "'''"
      ]
    },
    {
      "cell_type": "markdown",
      "metadata": {},
      "source": [
        "We will now train all of the above pipelines and evaluate them on the test dataset."
      ]
    },
    {
      "cell_type": "code",
      "execution_count": 18,
      "metadata": {},
      "outputs": [
        {
          "data": {
            "text/plain": [
              "'count = 0\\nfor pipe in best_pipes:\\n    print(f\"Training pipe {count}:\")\\n    print(pipe.param_dict)\\n    pipe.fit(X_TrainSet, Y_TrainSet)\\n    count+=1\\n    '"
            ]
          },
          "execution_count": 18,
          "metadata": {},
          "output_type": "execute_result"
        }
      ],
      "source": [
        "'''count = 0\n",
        "for pipe in best_pipes:\n",
        "    print(f\"Training pipe {count}:\")\n",
        "    print(pipe.param_dict)\n",
        "    pipe.fit(X_TrainSet, Y_TrainSet)\n",
        "    count+=1\n",
        "    '''"
      ]
    },
    {
      "cell_type": "code",
      "execution_count": 19,
      "metadata": {},
      "outputs": [
        {
          "data": {
            "text/plain": [
              "'\\ndef evaluate_param_on_test_set(pipe,X_test, Y_test):\\n    y_pred = pipe.predict(X_test)\\n    accuracy = accuracy_score(Y_test, y_pred)\\n    precision = precision_score(Y_test, y_pred)\\n    recall = recall_score(Y_test, y_pred)\\n    f1 = f1_score(Y_test, y_pred)\\n    return ((precision, accuracy, recall, f1), pipe.param_dict)\\n\\n\\ndef evaluate_and_sort(fitted_pipes, X_test, Y_test):\\n    evaluations = [evaluate_param_on_test_set(pipe, X_test, Y_test)\\n               for pipe in fitted_pipes]\\n    evaluation_dict = {}\\n    for eval in evaluations:\\n        if eval[0] in evaluation_dict:\\n            evaluation_dict[eval[0]].append(eval[1])\\n        else:\\n            evaluation_dict[eval[0]] = [eval[1]]\\n    sorted_eval_dict = {k:v for k,v in sorted(evaluation_dict.items(),\\n                                         key=lambda item: item[0],\\n                                         reverse=True)}\\n    return sorted_eval_dict\\n\\nsorted_evals = evaluate_and_sort(best_pipes, X_TestSet, Y_TestSet)\\nprint(len(sorted_evals))\\n'"
            ]
          },
          "execution_count": 19,
          "metadata": {},
          "output_type": "execute_result"
        }
      ],
      "source": [
        "from sklearn.metrics import accuracy_score, precision_score, recall_score, f1_score\n",
        "\n",
        "'''\n",
        "def evaluate_param_on_test_set(pipe,X_test, Y_test):\n",
        "    y_pred = pipe.predict(X_test)\n",
        "    accuracy = accuracy_score(Y_test, y_pred)\n",
        "    precision = precision_score(Y_test, y_pred)\n",
        "    recall = recall_score(Y_test, y_pred)\n",
        "    f1 = f1_score(Y_test, y_pred)\n",
        "    return ((precision, accuracy, recall, f1), pipe.param_dict)\n",
        "\n",
        "\n",
        "def evaluate_and_sort(fitted_pipes, X_test, Y_test):\n",
        "    evaluations = [evaluate_param_on_test_set(pipe, X_test, Y_test)\n",
        "               for pipe in fitted_pipes]\n",
        "    evaluation_dict = {}\n",
        "    for eval in evaluations:\n",
        "        if eval[0] in evaluation_dict:\n",
        "            evaluation_dict[eval[0]].append(eval[1])\n",
        "        else:\n",
        "            evaluation_dict[eval[0]] = [eval[1]]\n",
        "    sorted_eval_dict = {k:v for k,v in sorted(evaluation_dict.items(),\n",
        "                                         key=lambda item: item[0],\n",
        "                                         reverse=True)}\n",
        "    return sorted_eval_dict\n",
        "\n",
        "sorted_evals = evaluate_and_sort(best_pipes, X_TestSet, Y_TestSet)\n",
        "print(len(sorted_evals))\n",
        "'''"
      ]
    },
    {
      "cell_type": "markdown",
      "metadata": {},
      "source": [
        "It turns out that all of these best sets of parameters produce models that perform equally well with respect to the standard meterics. We will have to pick one to deploy. We will look at the time it took to score each model during the grid search."
      ]
    },
    {
      "cell_type": "code",
      "execution_count": 20,
      "metadata": {},
      "outputs": [
        {
          "name": "stdout",
          "output_type": "stream",
          "text": [
            "     mean_score_time  std_score_time  \\\n",
            "81          0.322713        0.144490   \n",
            "108         0.377752        0.131118   \n",
            "135         0.378142        0.145327   \n",
            "65          0.383024        0.131624   \n",
            "184         0.399108        0.108866   \n",
            "\n",
            "                                                params  \n",
            "81   {'corr_selector__threshold': 0.77, 'model__C':...  \n",
            "108  {'corr_selector__threshold': 0.77, 'model__C':...  \n",
            "135  {'corr_selector__threshold': 0.79, 'model__C':...  \n",
            "65   {'corr_selector__threshold': 0.77, 'model__C':...  \n",
            "184  {'corr_selector__threshold': 0.809999999999999...  \n",
            "{'corr_selector__threshold': 0.77, 'model__C': 500.5, 'model__penalty': 'l2', 'model__solver': 'newton-cg'}\n"
          ]
        }
      ],
      "source": [
        "time_results = best_results.filter(['mean_score_time','std_score_time','params'])\n",
        "\n",
        "time_results = time_results.sort_values(by=['mean_score_time','std_score_time'])\n",
        "print(time_results.head())\n",
        "params_choice = time_results.iloc[0]['params']\n",
        "print(params_choice)\n"
      ]
    },
    {
      "cell_type": "markdown",
      "metadata": {},
      "source": [
        "We have the following choice of hyperparameters:\n",
        "* correlation threshold: 0.77\n",
        "* `C`: 500.5\n",
        "* solver method: newton-cg\n",
        "* penalty function: l2\n",
        "\n",
        "Let's train the model and then look at the classification report. We don't need to list the penalty function since l2 is the default penalty function."
      ]
    },
    {
      "cell_type": "code",
      "execution_count": 39,
      "metadata": {},
      "outputs": [
        {
          "name": "stdout",
          "output_type": "stream",
          "text": [
            "#### Train Set #### \n",
            "\n",
            "---  Confusion Matrix  ---\n",
            "                Actual loss Actual win\n",
            "Prediction loss       11253       2436\n",
            "Prediction win         2022      19165\n",
            "\n",
            "\n",
            "---  Classification Report  ---\n",
            "              precision    recall  f1-score   support\n",
            "\n",
            "        loss       0.85      0.82      0.83     13689\n",
            "         win       0.89      0.90      0.90     21187\n",
            "\n",
            "    accuracy                           0.87     34876\n",
            "   macro avg       0.87      0.86      0.87     34876\n",
            "weighted avg       0.87      0.87      0.87     34876\n",
            " \n",
            "\n",
            "#### Test Set ####\n",
            "\n",
            "---  Confusion Matrix  ---\n",
            "                Actual loss Actual win\n",
            "Prediction loss        2839        652\n",
            "Prediction win          487       4741\n",
            "\n",
            "\n",
            "---  Classification Report  ---\n",
            "              precision    recall  f1-score   support\n",
            "\n",
            "        loss       0.85      0.81      0.83      3491\n",
            "         win       0.88      0.91      0.89      5228\n",
            "\n",
            "    accuracy                           0.87      8719\n",
            "   macro avg       0.87      0.86      0.86      8719\n",
            "weighted avg       0.87      0.87      0.87      8719\n",
            " \n",
            "\n"
          ]
        }
      ],
      "source": [
        "from src.model_eval import clf_performance\n",
        "\n",
        "model_params = {'C':500.5, 'solver': 'newton-cg'}\n",
        "\n",
        "logistic_pipe = create_pipe(model_name='LogisticRegression', params=model_params)\n",
        "logistic_pipe.set_params(corr_selector__threshold=0.77)\n",
        "logistic_pipe.fit(X_TrainSet, Y_TrainSet)\n",
        "\n",
        "clf_performance(X_TrainSet, Y_TrainSet, X_TestSet, Y_TestSet, logistic_pipe, label_map=['loss','win'])"
      ]
    },
    {
      "cell_type": "markdown",
      "metadata": {},
      "source": [
        "The performance on the training and test data is similar which means that our model is generalizing well. We are hapy with these scores.\n",
        "\n",
        "Let's now see the importance of the different features according to our final model."
      ]
    },
    {
      "cell_type": "code",
      "execution_count": 22,
      "metadata": {},
      "outputs": [
        {
          "name": "stdout",
          "output_type": "stream",
          "text": [
            "* These are the 8 most important features in descending order. The model was trained on them: \n",
            "['dreb_home', 'dreb_away', 'tov_away', 'tov_home', 'fta_home', 'fta_away', 'ast_home', 'ast_away']\n",
            "fta_home 5.888622613874195\n",
            "dreb_home 13.25997735369944\n",
            "ast_home 5.295534596542505\n",
            "tov_home -6.872948857799825\n",
            "fta_away -5.44340841168103\n",
            "dreb_away -13.186693674418812\n",
            "ast_away -4.631033401411432\n",
            "tov_away 7.690179676996232\n"
          ]
        },
        {
          "data": {
            "image/png": "[encoded data removed]",
            "text/plain": [
              "<Figure size 640x480 with 1 Axes>"
            ]
          },
          "metadata": {},
          "output_type": "display_data"
        }
      ],
      "source": [
        "from src.noteboook_functions import feature_importance_logistic_regression\n",
        "\n",
        "\n",
        "feature_importance_logistic_regression(logistic_pipe, 'model', X_TrainSet, TO_DROP)"
      ]
    },
    {
      "cell_type": "markdown",
      "metadata": {},
      "source": [
        "According to our logistic model, defensive rebounds and turn overs are the most important features for predicting who will win when point related features are removed.\n"
      ]
    },
    {
      "cell_type": "code",
      "execution_count": 40,
      "metadata": {},
      "outputs": [],
      "source": [
        "stats = ['dreb','tov','ast','fta']\n",
        "home_features = [term+'_home' for term in stats]\n",
        "away_features = [term+'_away' for term in stats]\n",
        "features = home_features + away_features\n",
        "to_drop = [feature for feature in X_TrainSet.columns \n",
        "           if feature not in features]\n",
        "\n",
        "TRANSFORMS = {'box_cox':(vt.BoxCoxTransformer,False),\n",
        "              'yeo_johnson':(vt.YeoJohnsonTransformer,False)}\n",
        "TRANSFORM_ASSIGNMENTS = {\n",
        "    'yeo_johnson': ['dreb_away', 'blk_home', 'oreb_away', 'fta_away',\n",
        "                    'dreb_home', 'ast_home', 'stl_away', 'stl_home',\n",
        "                    'reb_away', 'oreb_home', 'pf_away', 'pf_home'],\n",
        "    'box_cox': ['ast_away', 'fta_home']\n",
        "                            }\n",
        "\n",
        "\n",
        "new_assignments = { key: [val for val in value if val not in to_drop] \n",
        "                       for key,value in TRANSFORM_ASSIGNMENTS.items()}\n",
        "   \n",
        "final_logistic_pipe = Pipeline([\n",
        "        ('dropper', DropFeatures(features_to_drop=TO_DROP))])\n",
        "        \n",
        "for transform, targets in new_assignments.items():\n",
        "    if not targets:\n",
        "        continue\n",
        "    final_logistic_pipe.steps.append(\n",
        "            (transform, TRANSFORMS[transform][0](variables=targets))\n",
        "            )\n",
        "final_logistic_pipe.steps.append(('scaler', StandardScaler()))\n",
        "final_logistic_pipe.steps.append(('model',LogisticRegression(C=500.5, \n",
        "                                        solver='newton-cg', random_state=42)))"
      ]
    },
    {
      "cell_type": "markdown",
      "metadata": {},
      "source": [
        "Now we fit and evaluate it."
      ]
    },
    {
      "cell_type": "code",
      "execution_count": 42,
      "metadata": {},
      "outputs": [
        {
          "name": "stdout",
          "output_type": "stream",
          "text": [
            "#### Train Set #### \n",
            "\n",
            "---  Confusion Matrix  ---\n",
            "                Actual loss Actual win\n",
            "Prediction loss       11401       2288\n",
            "Prediction win         1921      19266\n",
            "\n",
            "\n",
            "---  Classification Report  ---\n",
            "              precision    recall  f1-score   support\n",
            "\n",
            "        loss       0.86      0.83      0.84     13689\n",
            "         win       0.89      0.91      0.90     21187\n",
            "\n",
            "    accuracy                           0.88     34876\n",
            "   macro avg       0.87      0.87      0.87     34876\n",
            "weighted avg       0.88      0.88      0.88     34876\n",
            " \n",
            "\n",
            "#### Test Set ####\n",
            "\n",
            "---  Confusion Matrix  ---\n",
            "                Actual loss Actual win\n",
            "Prediction loss        2886        605\n",
            "Prediction win          450       4778\n",
            "\n",
            "\n",
            "---  Classification Report  ---\n",
            "              precision    recall  f1-score   support\n",
            "\n",
            "        loss       0.87      0.83      0.85      3491\n",
            "         win       0.89      0.91      0.90      5228\n",
            "\n",
            "    accuracy                           0.88      8719\n",
            "   macro avg       0.88      0.87      0.87      8719\n",
            "weighted avg       0.88      0.88      0.88      8719\n",
            " \n",
            "\n"
          ]
        }
      ],
      "source": [
        "final_logistic_pipe.fit(X_TrainSet, Y_TrainSet)\n",
        "clf_performance(X_TrainSet, Y_TrainSet, X_TestSet, Y_TestSet, final_logistic_pipe, label_map=['loss','win'])"
      ]
    },
    {
      "cell_type": "markdown",
      "metadata": {},
      "source": [
        "Unsurprisingly, the performance remains quite good. Now on to AdaBoost."
      ]
    },
    {
      "cell_type": "markdown",
      "metadata": {},
      "source": [
        "### Section 3: AdaBoost\n",
        "We will now do a grid search with AdaBoost. After an initial search to determine a range, we will investigate more closely.\n",
        "\n",
        "With AdaBoost, there are two types of parameters. We have parameters for AdaBoost.\n",
        "\n",
        "AdaBoost has the following hyperparameters.\n",
        "* `n_estimators` the max number of estimators\n",
        "* `learning_rate` which weights the estimators\n",
        "* `algorithm` of which there are two choices"
      ]
    },
    {
      "cell_type": "code",
      "execution_count": 23,
      "metadata": {},
      "outputs": [],
      "source": [
        "from src.utils import divide_range\n",
        "\n",
        "\n",
        "ada_params = [{'corr_selector__threshold': divide_range(0.55,0.95,3),\n",
        "'model__n_estimators':[int(i) for i in divide_range(20,50,3)],\n",
        "'model__learning_rate': divide_range(0.5,2,3),\n",
        "'model__algorithm':['SAMME', 'SAMME.R']\n",
        "}]\n"
      ]
    },
    {
      "cell_type": "code",
      "execution_count": 24,
      "metadata": {},
      "outputs": [],
      "source": [
        "ada_pipe = create_pipe('AdaBoost')\n",
        "ada_results_df_v1 = get_grid_results_df(ada_pipe,'ada_results_df_v1', dir, \n",
        "                                             param_grid=ada_params)\n"
      ]
    },
    {
      "cell_type": "markdown",
      "metadata": {},
      "source": [
        "Let's see what the top scores are."
      ]
    },
    {
      "cell_type": "code",
      "execution_count": 25,
      "metadata": {},
      "outputs": [
        {
          "name": "stdout",
          "output_type": "stream",
          "text": [
            "---  Score Counts  ---\n",
            "Precision: 0.8664772614234539, Accuracy: 0.8500976538094769\n",
            "Count: 1\n",
            "\n",
            "Precision: 0.8659743228971937, Accuracy: 0.8490653957449608\n",
            "Count: 1\n",
            "\n",
            "Precision: 0.8656983077474066, Accuracy: 0.8444489904968597\n",
            "Count: 1\n",
            "\n",
            "Precision: 0.8622546188710796, Accuracy: 0.8413808901384368\n",
            "Count: 1\n",
            "\n",
            "---  Score Stats  ---\n",
            "Most Common: Precision: -1\n",
            "             Accuracy: -1\n",
            "             Count: 32\n",
            "Max Score: Precision: 0.8664772614234539\n",
            "           Accuracy: 0.8500976538094769\n",
            "           Count: 1\n",
            "Max Precision: 0.8664772614234539\n",
            "Max Accuracy: 0.8500976538094769\n"
          ]
        }
      ],
      "source": [
        "present_score_counts(ada_results_df_v1)\n",
        "best_score_v1 = score_stats(ada_results_df_v1)"
      ]
    },
    {
      "cell_type": "markdown",
      "metadata": {},
      "source": [
        "Let's look at the parameters associated with the top 5 scores."
      ]
    },
    {
      "cell_type": "code",
      "execution_count": 26,
      "metadata": {},
      "outputs": [
        {
          "name": "stdout",
          "output_type": "stream",
          "text": [
            "Score: (0.8664772614234539, 0.8500976538094769)\n",
            "model__n_estimators: 50, Count: 1\n",
            "model__learning_rate: 1.0, Count: 1\n",
            "model__algorithm: SAMME.R, Count: 1\n",
            "corr_selector__threshold: 0.95, Count: 1\n",
            "Score: (0.8659743228971937, 0.8490653957449608)\n",
            "model__n_estimators: 50, Count: 1\n",
            "model__learning_rate: 1.0, Count: 1\n",
            "model__algorithm: SAMME.R, Count: 1\n",
            "corr_selector__threshold: 0.817, Count: 1\n",
            "Score: (0.8656983077474066, 0.8444489904968597)\n",
            "model__n_estimators: 50, Count: 1\n",
            "model__learning_rate: 1.5, Count: 1\n",
            "model__algorithm: SAMME.R, Count: 1\n",
            "corr_selector__threshold: 0.95, Count: 1\n",
            "Score: (0.8622546188710796, 0.8413808901384368)\n",
            "model__n_estimators: 50, Count: 1\n",
            "model__learning_rate: 1.5, Count: 1\n",
            "model__algorithm: SAMME.R, Count: 1\n",
            "corr_selector__threshold: 0.817, Count: 1\n",
            "Score: (0.8620041964216935, 0.8457393665121172)\n",
            "model__n_estimators: 40, Count: 1\n",
            "model__learning_rate: 1.0, Count: 1\n",
            "model__algorithm: SAMME.R, Count: 1\n",
            "corr_selector__threshold: 0.95, Count: 1\n"
          ]
        }
      ],
      "source": [
        "from src.model_eval import collect_like_estimators\n",
        "\n",
        "def top_n(results_df,num=5,exclude=None):\n",
        "    estimators_by_score = collect_like_estimators(results_df)\n",
        "    scores = list(estimators_by_score.keys())\n",
        "    top = sorted(scores,reverse=True)[:num]\n",
        "    for score in top:\n",
        "        print(f\"Score: {score}\")\n",
        "        present_param_counts(results_df, score, exclude)\n",
        "\n",
        "top_n(ada_results_df_v1)"
      ]
    },
    {
      "cell_type": "markdown",
      "metadata": {},
      "source": [
        "This gives us an idea of how to narrow down our hyperparameters.\n",
        "* More estimators is better.\n",
        "* We will use the algorithm `'SAMME.R'`.\n",
        "* Learning rate near 1 is good\n",
        "* We will focus on a range of correlation threshold from 0.8 to 0.95"
      ]
    },
    {
      "cell_type": "code",
      "execution_count": 27,
      "metadata": {},
      "outputs": [],
      "source": [
        "ada_pipe.set_params(model__algorithm='SAMME.R')\n",
        "ada_params_v2 = [{'corr_selector__threshold': divide_range(0.8,0.95,3),\n",
        "'model__n_estimators':[int(i) for i in divide_range(40,80,3)],\n",
        "'model__learning_rate': divide_range(0.8,1.5,3),}]"
      ]
    },
    {
      "cell_type": "code",
      "execution_count": 28,
      "metadata": {},
      "outputs": [],
      "source": [
        "ada_results_df_v2 = get_grid_results_df(ada_pipe,'ada_results_df_v2',\n",
        "                                             dir, param_grid=ada_params_v2,\n",
        "                                             verbosity=3)"
      ]
    },
    {
      "cell_type": "markdown",
      "metadata": {},
      "source": [
        "Parameters are for the models with the top scores."
      ]
    },
    {
      "cell_type": "code",
      "execution_count": 29,
      "metadata": {},
      "outputs": [
        {
          "name": "stdout",
          "output_type": "stream",
          "text": [
            "Score: (0.878885158961508, 0.8621116618986552)\n",
            "model__n_estimators: 80, Count: 1\n",
            "model__learning_rate: 1.033, Count: 1\n",
            "corr_selector__threshold: 0.8, Count: 1\n",
            "Score: (0.877798938119638, 0.8596457244089312)\n",
            "model__n_estimators: 80, Count: 1\n",
            "model__learning_rate: 1.267, Count: 1\n",
            "corr_selector__threshold: 0.8, Count: 1\n",
            "Score: (0.8770133758415453, 0.8586708016836013)\n",
            "model__n_estimators: 66, Count: 1\n",
            "model__learning_rate: 1.267, Count: 1\n",
            "corr_selector__threshold: 0.8, Count: 1\n",
            "Score: (0.8769633783106618, 0.85941638716254)\n",
            "model__n_estimators: 80, Count: 1\n",
            "model__learning_rate: 1.5, Count: 1\n",
            "corr_selector__threshold: 0.8, Count: 1\n",
            "Score: (0.8768317562019001, 0.8636600078918812)\n",
            "model__n_estimators: 80, Count: 1\n",
            "model__learning_rate: 0.8, Count: 1\n",
            "corr_selector__threshold: 0.8, Count: 1\n",
            "Score: (0.8767883630046563, 0.8609933782184077)\n",
            "model__n_estimators: 66, Count: 1\n",
            "model__learning_rate: 1.033, Count: 1\n",
            "corr_selector__threshold: 0.8, Count: 1\n"
          ]
        }
      ],
      "source": [
        "top_n(ada_results_df_v2,6)"
      ]
    },
    {
      "cell_type": "markdown",
      "metadata": {},
      "source": [
        "It seems that an increase in the number of estimators improves performance, so we will slide our window up a bit. Unfortunately, this will increase the fit time. We will narrow the focus for the correlation threshold even further. We feel we didn't cast a wide enough net with respect to learning rate, so we will look at a larger window for this parameter as well."
      ]
    },
    {
      "cell_type": "code",
      "execution_count": 30,
      "metadata": {},
      "outputs": [],
      "source": [
        "ada_params_v3 = [{'corr_selector__threshold': divide_range(0.75,0.85,2),\n",
        "    'model__n_estimators':[int(i) for i in divide_range(70,95,2)],\n",
        "    'model__learning_rate': divide_range(1,1.4,2),}]\n",
        "\n",
        "ada_results_df_v3 = get_grid_results_df(ada_pipe,'ada_results_df_v3',\n",
        "                                             dir, param_grid=ada_params_v3,\n",
        "                                             verbosity=3)"
      ]
    },
    {
      "cell_type": "code",
      "execution_count": 31,
      "metadata": {},
      "outputs": [
        {
          "name": "stdout",
          "output_type": "stream",
          "text": [
            "Score: (0.8803990370217539, 0.8644915080069712)\n",
            "model__n_estimators: 95, Count: 1\n",
            "model__learning_rate: 1.0, Count: 1\n",
            "corr_selector__threshold: 0.8, Count: 1\n",
            "Score: (0.8796066554195157, 0.8615381851961461)\n",
            "model__n_estimators: 95, Count: 1\n",
            "model__learning_rate: 1.4, Count: 1\n",
            "corr_selector__threshold: 0.8, Count: 1\n",
            "Score: (0.8792885994909596, 0.8619969213442504)\n",
            "model__n_estimators: 95, Count: 1\n",
            "model__learning_rate: 1.2, Count: 1\n",
            "corr_selector__threshold: 0.8, Count: 1\n",
            "Score: (0.8789665965602946, 0.8628858677781066)\n",
            "model__n_estimators: 82, Count: 1\n",
            "model__learning_rate: 1.0, Count: 1\n",
            "corr_selector__threshold: 0.8, Count: 1\n",
            "Score: (0.8787931333372656, 0.8612800960178882)\n",
            "model__n_estimators: 82, Count: 1\n",
            "model__learning_rate: 1.2, Count: 1\n",
            "corr_selector__threshold: 0.8, Count: 1\n"
          ]
        }
      ],
      "source": [
        "top_n(ada_results_df_v3)"
      ]
    },
    {
      "cell_type": "markdown",
      "metadata": {},
      "source": [
        "The scores did improve, but not significantly. If the improvement is due to values for learning rate and estimators being outside of our earlier ranges, then we will have to continue searching."
      ]
    },
    {
      "cell_type": "code",
      "execution_count": 32,
      "metadata": {},
      "outputs": [],
      "source": [
        "ada_pipe.set_params(corr_selector__threshold=0.8)\n",
        "ada_params_v4 = [{'model__n_estimators':[int(i) for i in divide_range(85,100,3)],\n",
        "    'model__learning_rate': divide_range(1,1.4,3),}]\n",
        "\n",
        "ada_results_df_v4 = get_grid_results_df(ada_pipe,'ada_results_df_v4',\n",
        "                                             dir, param_grid=ada_params_v4,\n",
        "                                             verbosity=3)"
      ]
    },
    {
      "cell_type": "code",
      "execution_count": 33,
      "metadata": {},
      "outputs": [
        {
          "name": "stdout",
          "output_type": "stream",
          "text": [
            "Score: (0.8807316624040382, 0.8649502605964947)\n",
            "model__n_estimators: 100, Count: 1\n",
            "model__learning_rate: 1.0, Count: 1\n",
            "Score: (0.8803990370217539, 0.8644915080069712)\n",
            "model__n_estimators: 95, Count: 1\n",
            "model__learning_rate: 1.0, Count: 1\n",
            "Score: (0.8800809495175151, 0.863545345434218)\n",
            "model__n_estimators: 100, Count: 1\n",
            "model__learning_rate: 1.133, Count: 1\n",
            "Score: (0.8799229144579022, 0.8634879278879353)\n",
            "model__n_estimators: 90, Count: 1\n",
            "model__learning_rate: 1.0, Count: 1\n",
            "Score: (0.8798438080654913, 0.8626850646147777)\n",
            "model__n_estimators: 90, Count: 1\n",
            "model__learning_rate: 1.133, Count: 1\n"
          ]
        }
      ],
      "source": [
        "top_n(ada_results_df_v4)"
      ]
    },
    {
      "cell_type": "code",
      "execution_count": 34,
      "metadata": {},
      "outputs": [],
      "source": [
        "ada_params_v5 = [{'model__n_estimators':[int(i) for i in divide_range(90,110,3)],\n",
        "    'model__learning_rate': divide_range(1,1.2,3),}]\n",
        "\n",
        "ada_results_df_v5 = get_grid_results_df(ada_pipe,'ada_results_df_v5',\n",
        "                                             dir, param_grid=ada_params_v5,\n",
        "                                             verbosity=3)"
      ]
    },
    {
      "cell_type": "code",
      "execution_count": 35,
      "metadata": {},
      "outputs": [
        {
          "name": "stdout",
          "output_type": "stream",
          "text": [
            "Score: (0.8817674563402231, 0.8651796882706915)\n",
            "model__n_estimators: 110, Count: 1\n",
            "model__learning_rate: 1.133, Count: 1\n",
            "Score: (0.8813343098897812, 0.8642333941665843)\n",
            "model__n_estimators: 110, Count: 1\n",
            "model__learning_rate: 1.067, Count: 1\n",
            "Score: (0.8812142711278724, 0.864892949919437)\n",
            "model__n_estimators: 110, Count: 1\n",
            "model__learning_rate: 1.0, Count: 1\n",
            "Score: (0.8808039129441457, 0.8641761533655584)\n",
            "model__n_estimators: 103, Count: 1\n",
            "model__learning_rate: 1.133, Count: 1\n",
            "Score: (0.8807565163099091, 0.8638606548617276)\n",
            "model__n_estimators: 103, Count: 1\n",
            "model__learning_rate: 1.067, Count: 1\n"
          ]
        }
      ],
      "source": [
        "top_n(ada_results_df_v5)"
      ]
    },
    {
      "cell_type": "markdown",
      "metadata": {},
      "source": [
        "We will take the parameters of the top performer in this last pass.\n",
        "* estimators: 110\n",
        "* learning rate: 1.133\n",
        "* correlation threshold: 0.8\n",
        "* algorithm: SAMME.R\n",
        "\n",
        "Now we need to evaluate our model on the test data."
      ]
    },
    {
      "cell_type": "code",
      "execution_count": 36,
      "metadata": {},
      "outputs": [
        {
          "name": "stdout",
          "output_type": "stream",
          "text": [
            "#### Train Set #### \n",
            "\n",
            "---  Confusion Matrix  ---\n",
            "                Actual loss Actual win\n",
            "Prediction loss       11184       2505\n",
            "Prediction win         2124      19063\n",
            "\n",
            "\n",
            "---  Classification Report  ---\n",
            "              precision    recall  f1-score   support\n",
            "\n",
            "        loss       0.84      0.82      0.83     13689\n",
            "         win       0.88      0.90      0.89     21187\n",
            "\n",
            "    accuracy                           0.87     34876\n",
            "   macro avg       0.86      0.86      0.86     34876\n",
            "weighted avg       0.87      0.87      0.87     34876\n",
            " \n",
            "\n",
            "#### Test Set ####\n",
            "\n",
            "---  Confusion Matrix  ---\n",
            "                Actual loss Actual win\n",
            "Prediction loss        2831        660\n",
            "Prediction win          530       4698\n",
            "\n",
            "\n",
            "---  Classification Report  ---\n",
            "              precision    recall  f1-score   support\n",
            "\n",
            "        loss       0.84      0.81      0.83      3491\n",
            "         win       0.88      0.90      0.89      5228\n",
            "\n",
            "    accuracy                           0.86      8719\n",
            "   macro avg       0.86      0.85      0.86      8719\n",
            "weighted avg       0.86      0.86      0.86      8719\n",
            " \n",
            "\n"
          ]
        }
      ],
      "source": [
        "params={'n_estimators': 110, 'learning_rate': 1.133, 'algorithm': 'SAMME.R'}\n",
        "\n",
        "ada_pipe = create_pipe(model_name='AdaBoost', params=params)\n",
        "ada_pipe.set_params(corr_selector__threshold=0.8)\n",
        "ada_pipe.fit(X_TrainSet, Y_TrainSet)\n",
        "\n",
        "clf_performance(X_TrainSet, Y_TrainSet, X_TestSet, Y_TestSet, ada_pipe, label_map=['loss','win'])"
      ]
    },
    {
      "cell_type": "markdown",
      "metadata": {},
      "source": [
        "The performance on the training and test sets are very similar. This model is also generalizing well. Now to see about important features."
      ]
    },
    {
      "cell_type": "code",
      "execution_count": 38,
      "metadata": {},
      "outputs": [
        {
          "name": "stdout",
          "output_type": "stream",
          "text": [
            "* These are the 8 most important features in descending order. The model was trained on them: \n",
            "['dreb_home', 'dreb_away', 'tov_home', 'tov_away', 'ast_away', 'fta_home', 'ast_home', 'fta_away']\n"
          ]
        },
        {
          "data": {
            "image/png": "[encoded data removed]",
            "text/plain": [
              "<Figure size 640x480 with 1 Axes>"
            ]
          },
          "metadata": {},
          "output_type": "display_data"
        }
      ],
      "source": [
        "from src.noteboook_functions import feature_importance_tree_based_models, find_features\n",
        "\n",
        "\n",
        "kept, _ = find_features(X_TrainSet, ada_pipe, TO_DROP)\n",
        "X = X_TrainSet.filter(kept)\n",
        "ada_model = ada_pipe['model']\n",
        "feature_importance_tree_based_models(model=ada_model, columns=X.columns)"
      ]
    },
    {
      "cell_type": "markdown",
      "metadata": {},
      "source": [
        "This model also finds that the most important predictor of winning is defensive rebounds and turnovers.\n",
        "\n",
        "Now we will fit our pipeline after dropping all but the above features. This will be our final model."
      ]
    },
    {
      "cell_type": "code",
      "execution_count": 43,
      "metadata": {},
      "outputs": [
        {
          "name": "stdout",
          "output_type": "stream",
          "text": [
            "#### Train Set #### \n",
            "\n",
            "---  Confusion Matrix  ---\n",
            "                Actual loss Actual win\n",
            "Prediction loss       11304       2385\n",
            "Prediction win         1997      19190\n",
            "\n",
            "\n",
            "---  Classification Report  ---\n",
            "              precision    recall  f1-score   support\n",
            "\n",
            "        loss       0.85      0.83      0.84     13689\n",
            "         win       0.89      0.91      0.90     21187\n",
            "\n",
            "    accuracy                           0.87     34876\n",
            "   macro avg       0.87      0.87      0.87     34876\n",
            "weighted avg       0.87      0.87      0.87     34876\n",
            " \n",
            "\n",
            "#### Test Set ####\n",
            "\n",
            "---  Confusion Matrix  ---\n",
            "                Actual loss Actual win\n",
            "Prediction loss        2843        648\n",
            "Prediction win          517       4711\n",
            "\n",
            "\n",
            "---  Classification Report  ---\n",
            "              precision    recall  f1-score   support\n",
            "\n",
            "        loss       0.85      0.81      0.83      3491\n",
            "         win       0.88      0.90      0.89      5228\n",
            "\n",
            "    accuracy                           0.87      8719\n",
            "   macro avg       0.86      0.86      0.86      8719\n",
            "weighted avg       0.87      0.87      0.87      8719\n",
            " \n",
            "\n"
          ]
        }
      ],
      "source": [
        "stats = ['dreb','tov','ast','fta']\n",
        "home_features = [term+'_home' for term in stats]\n",
        "away_features = [term+'_away' for term in stats]\n",
        "features = home_features + away_features\n",
        "to_drop = [feature for feature in X_TrainSet.columns \n",
        "           if feature not in features]\n",
        "\n",
        "TRANSFORMS = {'box_cox':(vt.BoxCoxTransformer,False),\n",
        "              'yeo_johnson':(vt.YeoJohnsonTransformer,False)}\n",
        "TRANSFORM_ASSIGNMENTS = {\n",
        "    'yeo_johnson': ['dreb_away', 'blk_home', 'oreb_away', 'fta_away',\n",
        "                    'dreb_home', 'ast_home', 'stl_away', 'stl_home',\n",
        "                    'reb_away', 'oreb_home', 'pf_away', 'pf_home'],\n",
        "    'box_cox': ['ast_away', 'fta_home']\n",
        "                            }\n",
        "\n",
        "\n",
        "new_assignments = { key: [val for val in value if val not in to_drop] \n",
        "                       for key,value in TRANSFORM_ASSIGNMENTS.items()}\n",
        "   \n",
        "final_ada_pipe = Pipeline([\n",
        "        ('dropper', DropFeatures(features_to_drop=TO_DROP))])\n",
        "        \n",
        "for transform, targets in new_assignments.items():\n",
        "    if not targets:\n",
        "        continue\n",
        "    final_logistic_pipe.steps.append(\n",
        "            (transform, TRANSFORMS[transform][0](variables=targets))\n",
        "            )\n",
        "final_ada_pipe.steps.append(('scaler', StandardScaler()))\n",
        "final_ada_pipe.steps.append(('model',AdaBoostClassifier(n_estimators=110, \n",
        "                                    learning_rate=1.133, algorithm='SAMME.R', \n",
        "                                    random_state=42)))\n",
        "\n",
        "\n",
        "final_ada_pipe.fit(X_TrainSet, Y_TrainSet)\n",
        "clf_performance(X_TrainSet, Y_TrainSet, X_TestSet, Y_TestSet, final_ada_pipe, label_map=['loss','win'])"
      ]
    },
    {
      "cell_type": "markdown",
      "metadata": {},
      "source": [
        "Our Logistic Regression performs a bit better. But both models meet our criteria of 75% average precision and 70% accuracy.\n",
        "\n",
        "\n",
        "## Conclusion\n",
        "We have constructed two models that exceed our business requirements. On unseen data, they score:\n",
        "* Logistic Regression:\n",
        "* * Avg. Precision:\n",
        "* * Accuracy:\n",
        "* Adaptive Boost:\n",
        "* * Avg. Precision: 86.5%\n",
        "* * Accuracy: 87%\n",
        "\n",
        "Let's finish by saving our models."
      ]
    },
    {
      "cell_type": "code",
      "execution_count": 44,
      "metadata": {},
      "outputs": [
        {
          "data": {
            "text/plain": [
              "['outputs/ml_pipeline/predict_home_wins/v1/ada_pipeline.pkl']"
            ]
          },
          "execution_count": 44,
          "metadata": {},
          "output_type": "execute_result"
        }
      ],
      "source": [
        "# taken from Churnometer walkthrough project\n",
        "import joblib\n",
        "\n",
        "version = 'v1'\n",
        "file_path = f'outputs/ml_pipeline/predict_home_wins/{version}'\n",
        "\n",
        "try:\n",
        "  os.makedirs(name=file_path)\n",
        "except Exception as e:\n",
        "  print(e)\n",
        "\n",
        "joblib.dump(value=final_logistic_pipe, filename=f\"{file_path}/logistic_pipeline.pkl\")\n",
        "joblib.dump(value=final_ada_pipe, filename=f\"{file_path}/ada_pipeline.pkl\")"
      ]
    },
    {
      "cell_type": "markdown",
      "metadata": {},
      "source": [
        "\n",
        "\n",
        "## Next Steps\n",
        "In the next notebook we will do some clustering analysis of our data."
      ]
    },
    {
      "cell_type": "code",
      "execution_count": null,
      "metadata": {},
      "outputs": [],
      "source": [
        "import "
      ]
    },
    {
      "cell_type": "code",
      "execution_count": null,
      "metadata": {},
      "outputs": [],
      "source": []
    }
  ],
  "metadata": {
    "accelerator": "GPU",
    "colab": {
      "name": "Data Practitioner Jupyter Notebook.ipynb",
      "provenance": [],
      "toc_visible": true
    },
    "interpreter": {
      "hash": "8b8334dab9339717f727a1deaf837b322d7a41c20d15cc86be99a8e69ceec8ce"
    },
    "kernelspec": {
      "display_name": "Python 3.8.12 64-bit ('3.8.12': pyenv)",
      "name": "python3"
    },
    "language_info": {
      "codemirror_mode": {
        "name": "ipython",
        "version": 3
      },
      "file_extension": ".py",
      "mimetype": "text/x-python",
      "name": "python",
      "nbconvert_exporter": "python",
      "pygments_lexer": "ipython3",
      "version": "3.8.18"
    },
    "orig_nbformat": 2
  },
  "nbformat": 4,
  "nbformat_minor": 2
}
