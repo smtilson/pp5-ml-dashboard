{
  "cells": [
    {
      "cell_type": "markdown",
      "metadata": {
        "id": "0aStgWSO0E0E"
      },
      "source": [
        "# **Model and Feature Selection**"
      ]
    },
    {
      "cell_type": "markdown",
      "metadata": {
        "id": "1eLEkw5O0ECa"
      },
      "source": [
        "## Objectives\n",
        "* Grid search to determine best candidate models.\n",
        "\n",
        "* Validate or invalidate Hypothesis 1.\n",
        "\n",
        "## Inputs\n",
        "* Train and test datasets from the last notebook.\n",
        "\n",
        "* Pipeline that was developed in the last notebook.\n",
        "\n",
        "## Outputs\n",
        "* A choice of classification model that we will further tune and evaluate.\n",
        "\n",
        "## Additional Comments\n",
        "* We have chosen to do classification rather than regression."
      ]
    },
    {
      "cell_type": "markdown",
      "metadata": {
        "id": "9uWZXH9LwoQg"
      },
      "source": [
        "---"
      ]
    },
    {
      "cell_type": "markdown",
      "metadata": {
        "id": "cqP-UeN-z3i2"
      },
      "source": [
        "#### Change working directory"
      ]
    },
    {
      "cell_type": "code",
      "execution_count": 1,
      "metadata": {},
      "outputs": [
        {
          "name": "stdout",
          "output_type": "stream",
          "text": [
            "/workspace/pp5-ml-dashboard\n"
          ]
        }
      ],
      "source": [
        "import os\n",
        "\n",
        "home_dir = \"/workspace/pp5-ml-dashboard\"\n",
        "os.chdir(home_dir)\n",
        "current_dir = os.getcwd()\n",
        "print(current_dir)"
      ]
    },
    {
      "cell_type": "markdown",
      "metadata": {},
      "source": [
        "We now load our training and test sets, as well as some of the packages that we will be using."
      ]
    },
    {
      "cell_type": "code",
      "execution_count": 2,
      "metadata": {},
      "outputs": [],
      "source": [
        "import pandas as pd\n",
        "import seaborn as sns\n",
        "import matplotlib.pyplot as plt\n",
        "from src.utils import get_df, save_df\n",
        "\n",
        "train_dir = \"datasets/train/classification\"\n",
        "X_TrainSet = get_df(\"X_TrainSet\", train_dir)\n",
        "y_TrainSet = get_df(\"y_TrainSet\", train_dir)\n",
        "\n",
        "test_dir = \"datasets/test/classification\"\n",
        "X_TestSet = get_df(\"X_TestSet\", test_dir)\n",
        "y_TestSet = get_df(\"y_TestSet\", test_dir)\n",
        "all_columns = list(X_TrainSet.columns)"
      ]
    },
    {
      "cell_type": "markdown",
      "metadata": {},
      "source": [
        "\n",
        "---\n",
        "\n",
        "## Section 1: Full Pipeline\n",
        "We will build the full pipeline here. It will accept parameters so that we can tune it. We also declare some constants that we established in the last notebook."
      ]
    },
    {
      "cell_type": "code",
      "execution_count": 3,
      "metadata": {},
      "outputs": [],
      "source": [
        "from sklearn.preprocessing import StandardScaler\n",
        "from feature_engine import transformation as vt\n",
        "from feature_engine.selection import DropFeatures, SmartCorrelatedSelection\n",
        "from sklearn.pipeline import Pipeline\n",
        "\n",
        "\n",
        "# Constants needed for feature engineering\n",
        "META = [\"season\", \"play_off\"]\n",
        "TRIVIAL = [\"pts_home\", \"pts_away\", \"plus_minus_home\"]\n",
        "THRESH = 0.6\n",
        "TRANSFORMS = {\n",
        "    \"log_e\": (vt.LogTransformer, False),\n",
        "    \"log_10\": (vt.LogTransformer, \"10\"),\n",
        "    \"reciprocal\": (vt.ReciprocalTransformer, False),\n",
        "    \"power\": (vt.PowerTransformer, False),\n",
        "    \"box_cox\": (vt.BoxCoxTransformer, False),\n",
        "    \"yeo_johnson\": (vt.YeoJohnsonTransformer, False),\n",
        "}\n",
        "TRANSFORM_ASSIGNMENTS = {\n",
        "    \"yeo_johnson\": [\n",
        "        \"dreb_away\",\n",
        "        \"blk_home\",\n",
        "        \"oreb_away\",\n",
        "        \"fta_away\",\n",
        "        \"dreb_home\",\n",
        "        \"ast_home\",\n",
        "        \"stl_away\",\n",
        "        \"pts_away\",\n",
        "        \"stl_home\",\n",
        "        \"reb_away\",\n",
        "        \"pts_home\",\n",
        "        \"fgm_away\",\n",
        "        \"oreb_home\",\n",
        "        \"pf_away\",\n",
        "        \"pf_home\",\n",
        "    ],\n",
        "    \"box_cox\": [\"ast_away\", \"fta_home\"],\n",
        "}\n",
        "\n",
        "\n",
        "def base_pipeline(to_drop=None):\n",
        "    if not to_drop:\n",
        "        to_drop = META\n",
        "    else:\n",
        "        to_drop.extend(META)\n",
        "    to_drop = list(set(to_drop))\n",
        "    pipeline = Pipeline(\n",
        "        [\n",
        "            (\"dropper\", DropFeatures(features_to_drop=to_drop)),\n",
        "            (\n",
        "                \"corr_selector\",\n",
        "                SmartCorrelatedSelection(\n",
        "                    method=\"pearson\", threshold=THRESH, selection_method=\"variance\"\n",
        "                ),\n",
        "            ),\n",
        "        ]\n",
        "    )\n",
        "    pipeline.to_drop = to_drop\n",
        "    return pipeline\n",
        "\n",
        "\n",
        "def add_transformations(pipeline, transform_assignments):\n",
        "    # This needs to be called after the above is fit so that the correlation selector has that attr\n",
        "    to_drop = pipeline.to_drop\n",
        "    dropping = set(to_drop + pipeline[\"corr_selector\"].features_to_drop_)\n",
        "\n",
        "    new_assignments = {\n",
        "        key: [val for val in value if val not in dropping]\n",
        "        for key, value in transform_assignments.items()\n",
        "    }\n",
        "    for transform, targets in new_assignments.items():\n",
        "        if not targets:\n",
        "            continue\n",
        "        pipeline.steps.append((transform, TRANSFORMS[transform][0](variables=targets)))\n",
        "    pipeline.steps.append((\"scaler\", StandardScaler()))\n",
        "    return pipeline"
      ]
    },
    {
      "cell_type": "markdown",
      "metadata": {},
      "source": [
        "We add the last two steps of the pipeline, the feature selection and the model itself. We do this in a separate step since it depends on the model.\n",
        "\n",
        "After a first pass, we will see that our models only use the features in `TRIVIAL`. These features make the classification problem too ... trivial as the winner of the game can be computed directly from features."
      ]
    },
    {
      "cell_type": "code",
      "execution_count": 4,
      "metadata": {},
      "outputs": [],
      "source": [
        "from sklearn.feature_selection import SelectFromModel\n",
        "\n",
        "# ML algorithms\n",
        "from sklearn.linear_model import LogisticRegression\n",
        "from sklearn.tree import DecisionTreeClassifier\n",
        "from sklearn.ensemble import RandomForestClassifier\n",
        "from sklearn.ensemble import GradientBoostingClassifier\n",
        "from sklearn.ensemble import ExtraTreesClassifier\n",
        "from sklearn.ensemble import AdaBoostClassifier\n",
        "from xgboost import XGBClassifier\n",
        "\n",
        "MODELS = {\n",
        "    \"LogisticRegression\": LogisticRegression,\n",
        "    \"DecisionTree\": DecisionTreeClassifier,\n",
        "    \"RandomForest\": RandomForestClassifier,\n",
        "    \"GradientBoosting\": GradientBoostingClassifier,\n",
        "    \"ExtraTrees\": ExtraTreesClassifier,\n",
        "    \"AdaBoost\": AdaBoostClassifier,\n",
        "    \"XGBoost\": XGBClassifier,\n",
        "}\n",
        "\n",
        "\n",
        "def add_feat_selection_n_model(pipeline, model_name, random_state=42):\n",
        "    model = MODELS[model_name](random_state=random_state)\n",
        "    pipeline.steps.append((\"feat_selection\", SelectFromModel(model)))\n",
        "    pipeline.steps.append((model_name, model))\n",
        "    return pipeline"
      ]
    },
    {
      "cell_type": "markdown",
      "metadata": {},
      "source": [
        "Let us now create our list of models that we are going to train."
      ]
    },
    {
      "cell_type": "code",
      "execution_count": 5,
      "metadata": {},
      "outputs": [],
      "source": [
        "def create_pipelines(to_drop=None):\n",
        "    PIPELINES = {}\n",
        "    for model_name in MODELS:\n",
        "        base_pipe = base_pipeline(to_drop)\n",
        "        base_pipe.fit(X_TrainSet)\n",
        "        pipe_w_transforms = add_transformations(base_pipe, TRANSFORM_ASSIGNMENTS)\n",
        "        PIPELINES[model_name] = add_feat_selection_n_model(\n",
        "            pipe_w_transforms, model_name\n",
        "        )\n",
        "    return PIPELINES\n",
        "\n",
        "\n",
        "PIPELINES = create_pipelines()"
      ]
    },
    {
      "cell_type": "markdown",
      "metadata": {
        "id": "-mavJ8DibrcQ"
      },
      "source": [
        "## Section 2: Cross Validation Search\n",
        "We are going to perform multiple grid searchs as we refine our selection of features. The final grid search will determine the best model for our data, which we will tune in the next notebook."
      ]
    },
    {
      "cell_type": "markdown",
      "metadata": {},
      "source": [
        "Hypothesis 1 is that the models will gravitate strongly towards the features related to points. In order of estimated impact, they are:\n",
        "* `'plus_minus'`\n",
        "* `'pts'`\n",
        "* `'fgm'`, `'fg3m'`, `'ftm'`\n",
        "\n",
        "We will start by training our model on all of these features. To test this hypothesis, we will remove one collection of features at a time until we are left with no features that help you directly determine the winner. We will check which features the models use along the way to see if we can validate our hypothesis. We expect that the earlier models will be able to predict the outcome of the games flawlessly.\n",
        "\n",
        "We won't be passing any parameters as we will tune the hyperparameters in the following notebook.\n",
        "\n",
        "Note: we are silencing warnings below. These warnings generate  hundreds of lines and no exceptions are raised."
      ]
    },
    {
      "cell_type": "code",
      "execution_count": 6,
      "metadata": {},
      "outputs": [],
      "source": [
        "from sklearn.model_selection import GridSearchCV\n",
        "\n",
        "# to suppress warnings\n",
        "import warnings\n",
        "import logging\n",
        "\n",
        "warnings.filterwarnings(\"ignore\", category=FutureWarning)\n",
        "logging.captureWarnings(True)\n",
        "os.environ[\"PYTHONWARNINGS\"] = \"ignore\"\n",
        "\n",
        "\n",
        "def grid_search(X_train, y_train, pipelines, param_grid={}):\n",
        "    GRIDS = {}\n",
        "    count = 0\n",
        "    for pipe_name, pipe in pipelines.items():\n",
        "        print(f\"### Beginning grid search for {pipe_name} ###\")\n",
        "        grid = GridSearchCV(\n",
        "            estimator=pipe,\n",
        "            param_grid=param_grid,\n",
        "            cv=5,\n",
        "            n_jobs=-2,\n",
        "            verbose=3,\n",
        "            scoring=[\"accuracy\", \"precision\"],\n",
        "            refit=\"precision\",\n",
        "        )\n",
        "        grid.fit(X_train, y_train)\n",
        "        GRIDS[pipe_name] = grid\n",
        "        count += 1\n",
        "        print(f\"Finished with model {count}.\")\n",
        "        print(f\"{len(pipelines.keys())-count} models remaining.\")\n",
        "    return GRIDS"
      ]
    },
    {
      "cell_type": "markdown",
      "metadata": {},
      "source": [
        "### All features\n",
        "We will now do a grid search using all features. We will then look at which features the models found most important."
      ]
    },
    {
      "cell_type": "code",
      "execution_count": 7,
      "metadata": {},
      "outputs": [
        {
          "name": "stdout",
          "output_type": "stream",
          "text": [
            "### Beginning grid search for LogisticRegression ###\n",
            "Fitting 5 folds for each of 1 candidates, totalling 5 fits\n"
          ]
        },
        {
          "name": "stdout",
          "output_type": "stream",
          "text": [
            "[CV 3/5] END . accuracy: (test=1.000) precision: (test=1.000) total time=   1.1s\n",
            "[CV 4/5] END . accuracy: (test=1.000) precision: (test=1.000) total time=   1.2s\n",
            "[CV 1/5] END . accuracy: (test=1.000) precision: (test=1.000) total time=   1.1s\n",
            "[CV 2/5] END . accuracy: (test=1.000) precision: (test=1.000) total time=   1.2s\n",
            "[CV 5/5] END . accuracy: (test=1.000) precision: (test=1.000) total time=   1.1s\n",
            "Finished with model 1.\n",
            "6 models remaining.\n",
            "### Beginning grid search for DecisionTree ###\n",
            "Fitting 5 folds for each of 1 candidates, totalling 5 fits\n",
            "[CV 5/5] END . accuracy: (test=1.000) precision: (test=1.000) total time=   0.9s\n",
            "[CV 2/5] END . accuracy: (test=1.000) precision: (test=1.000) total time=   0.9s\n",
            "[CV 4/5] END . accuracy: (test=1.000) precision: (test=1.000) total time=   1.0s\n",
            "[CV 3/5] END . accuracy: (test=1.000) precision: (test=1.000) total time=   0.9s\n",
            "[CV 1/5] END . accuracy: (test=1.000) precision: (test=1.000) total time=   0.9s\n",
            "Finished with model 2.\n",
            "5 models remaining.\n",
            "### Beginning grid search for RandomForest ###\n",
            "Fitting 5 folds for each of 1 candidates, totalling 5 fits\n",
            "[CV 5/5] END . accuracy: (test=1.000) precision: (test=1.000) total time=   4.8s\n",
            "[CV 1/5] END . accuracy: (test=1.000) precision: (test=1.000) total time=   4.6s\n",
            "[CV 2/5] END . accuracy: (test=1.000) precision: (test=1.000) total time=   4.9s\n",
            "[CV 3/5] END . accuracy: (test=1.000) precision: (test=1.000) total time=   4.8s\n",
            "[CV 4/5] END . accuracy: (test=1.000) precision: (test=1.000) total time=   4.8s\n",
            "Finished with model 3.\n",
            "4 models remaining.\n",
            "### Beginning grid search for GradientBoosting ###\n",
            "Fitting 5 folds for each of 1 candidates, totalling 5 fits\n",
            "[CV 1/5] END . accuracy: (test=1.000) precision: (test=1.000) total time=   8.7s\n",
            "[CV 2/5] END . accuracy: (test=1.000) precision: (test=1.000) total time=   8.7s\n",
            "[CV 4/5] END . accuracy: (test=1.000) precision: (test=1.000) total time=   8.7s\n",
            "[CV 5/5] END . accuracy: (test=1.000) precision: (test=1.000) total time=   8.8s\n",
            "[CV 3/5] END . accuracy: (test=1.000) precision: (test=1.000) total time=   8.9s\n",
            "Finished with model 4.\n",
            "3 models remaining.\n",
            "### Beginning grid search for ExtraTrees ###\n",
            "Fitting 5 folds for each of 1 candidates, totalling 5 fits\n",
            "[CV 4/5] END . accuracy: (test=1.000) precision: (test=1.000) total time=   5.4s\n",
            "[CV 3/5] END . accuracy: (test=1.000) precision: (test=1.000) total time=   5.4s\n",
            "[CV 5/5] END . accuracy: (test=1.000) precision: (test=1.000) total time=   5.5s\n",
            "[CV 2/5] END . accuracy: (test=1.000) precision: (test=1.000) total time=   5.5s\n",
            "[CV 1/5] END . accuracy: (test=1.000) precision: (test=1.000) total time=   5.5s\n",
            "Finished with model 5.\n",
            "2 models remaining.\n",
            "### Beginning grid search for AdaBoost ###\n",
            "Fitting 5 folds for each of 1 candidates, totalling 5 fits\n",
            "[CV 5/5] END . accuracy: (test=1.000) precision: (test=1.000) total time=   1.1s\n",
            "[CV 2/5] END . accuracy: (test=1.000) precision: (test=1.000) total time=   1.3s\n",
            "[CV 4/5] END . accuracy: (test=1.000) precision: (test=1.000) total time=   1.4s\n",
            "[CV 1/5] END . accuracy: (test=1.000) precision: (test=1.000) total time=   1.3s\n",
            "[CV 3/5] END . accuracy: (test=1.000) precision: (test=1.000) total time=   1.3s\n",
            "Finished with model 6.\n",
            "1 models remaining.\n",
            "### Beginning grid search for XGBoost ###\n",
            "Fitting 5 folds for each of 1 candidates, totalling 5 fits\n",
            "[CV 2/5] END . accuracy: (test=1.000) precision: (test=1.000) total time=   1.1s\n",
            "[CV 1/5] END . accuracy: (test=1.000) precision: (test=1.000) total time=   1.1s\n",
            "[CV 3/5] END . accuracy: (test=1.000) precision: (test=1.000) total time=   1.2s\n",
            "[CV 4/5] END . accuracy: (test=1.000) precision: (test=1.000) total time=   1.2s\n",
            "[CV 5/5] END . accuracy: (test=1.000) precision: (test=1.000) total time=   1.2s\n",
            "Finished with model 7.\n",
            "0 models remaining.\n"
          ]
        }
      ],
      "source": [
        "GRIDS = grid_search(X_TrainSet, y_TrainSet, PIPELINES)"
      ]
    },
    {
      "cell_type": "markdown",
      "metadata": {},
      "source": [
        "We see from the above that the models are \"flawless.\" We will use the following code to generate reports for evaluating our models. You can pass one of the resulting pipelines to `'clf_performance'` or the whole grid to `'grid_search_report_best'` if you like."
      ]
    },
    {
      "cell_type": "code",
      "execution_count": 10,
      "metadata": {},
      "outputs": [
        {
          "name": "stdout",
          "output_type": "stream",
          "text": [
            "dict_keys(['LogisticRegression', 'DecisionTree', 'RandomForest', 'GradientBoosting', 'ExtraTrees', 'AdaBoost', 'XGBoost'])\n",
            "Best LogisticRegression model: Avg. Precision: 100.0%.\n",
            "                               Avg. Accuracy: 100.0%.\n",
            "\n",
            "Best DecisionTree model: Avg. Precision: 100.0%.\n",
            "                         Avg. Accuracy: 100.0%.\n",
            "\n",
            "Best RandomForest model: Avg. Precision: 100.0%.\n",
            "                         Avg. Accuracy: 100.0%.\n",
            "\n",
            "Best GradientBoosting model: Avg. Precision: 100.0%.\n",
            "                             Avg. Accuracy: 100.0%.\n",
            "\n",
            "Best ExtraTrees model: Avg. Precision: 100.0%.\n",
            "                       Avg. Accuracy: 100.0%.\n",
            "\n",
            "Best AdaBoost model: Avg. Precision: 100.0%.\n",
            "                     Avg. Accuracy: 100.0%.\n",
            "\n",
            "Best XGBoost model: Avg. Precision: 100.0%.\n",
            "                    Avg. Accuracy: 100.0%.\n",
            "\n"
          ]
        }
      ],
      "source": [
        "from src.model_eval import clf_performance, get_best_scores, grid_search_report_best\n",
        "\n",
        "print(GRIDS.keys())\n",
        "\n",
        "\n",
        "def extract_best_estimator(grid_collection, model_name):\n",
        "    return grid_collection[model_name].best_estimator_\n",
        "\n",
        "\n",
        "def get_best_scores(grid_collection):\n",
        "    for name, grid in grid_collection.items():\n",
        "        res = (\n",
        "            pd.DataFrame(grid.cv_results_)\n",
        "            .sort_values(\n",
        "                by=[\"mean_test_precision\", \"mean_test_accuracy\"], ascending=False\n",
        "            )\n",
        "            .filter([\"params\", \"mean_test_precision\", \"mean_test_accuracy\"])\n",
        "            .values\n",
        "        )\n",
        "        intro = f\"Best {name} model:\"\n",
        "        print(f\"{intro} Avg. Precision: {res[0][1]*100}%.\")\n",
        "        print(f\"{len(intro)*' '} Avg. Accuracy: {res[0][2]*100}%.\")\n",
        "        print()\n",
        "\n",
        "\n",
        "get_best_scores(GRIDS)\n",
        "\n",
        "#grid_search_report_best(GRIDS,X_TrainSet,y_TrainSet,X_TestSet,y_TestSet,['loss','win'])"
      ]
    },
    {
      "cell_type": "markdown",
      "metadata": {},
      "source": [
        "Simply uncomment out the last line to look at a report for the best estimator of each type of model. There were 2 incorrect predictions, both made by the `ExtraTrees` model. This is as we expected. Let's inspect which features the models were trained on and which features the models dropped\n",
        "\n",
        "Note that the plus/minus score and actual scores were still retained.\n",
        "In the end, each model was only trained an the following features."
      ]
    },
    {
      "cell_type": "code",
      "execution_count": 15,
      "metadata": {},
      "outputs": [
        {
          "name": "stdout",
          "output_type": "stream",
          "text": [
            "LogisticRegression used:\n",
            "['pts_home', 'plus_minus_home', 'pts_away']\n",
            "\n",
            "DecisionTree used:\n",
            "['plus_minus_home']\n",
            "\n",
            "RandomForest used:\n",
            "['pts_home', 'plus_minus_home', 'pts_away']\n",
            "\n",
            "GradientBoosting used:\n",
            "['plus_minus_home']\n",
            "\n",
            "ExtraTrees used:\n",
            "['pts_home', 'plus_minus_home', 'pts_away']\n",
            "\n",
            "AdaBoost used:\n",
            "['plus_minus_home']\n",
            "\n",
            "XGBoost used:\n",
            "['plus_minus_home']\n",
            "\n",
            "All models used: \n",
            "{'plus_minus_home'}.\n",
            "All models dropped: \n",
            "{'ftm_home', 'dreb_away', 'fg3a_away', 'tov_home', 'tov_away', 'fg3m_away', 'ftm_away', 'oreb_away', 'ast_away', 'fgm_home', 'fga_away', 'stl_home', 'pf_away', 'reb_home', 'oreb_home', 'reb_away', 'fg3a_home', 'pf_home', 'blk_away', 'blk_home', 'stl_away', 'ast_home', 'fgm_away', 'dreb_home', 'fg3m_home', 'fta_home', 'fta_away', 'fga_home'}.\n",
            "\n",
            "The SmartCorrelatedSelection step dropped:\n",
            "['fgm_home', 'fg3m_home', 'ftm_home', 'dreb_home', 'ast_home', 'stl_home', 'pf_home', 'fgm_away', 'fg3a_away', 'ftm_away', 'dreb_away', 'ast_away', 'stl_away', 'pf_away'].\n"
          ]
        }
      ],
      "source": [
        "def find_features(X_train, fitted_pipe, initial_drop):\n",
        "    total = len(X_train.columns)\n",
        "    corr_dropped = list(fitted_pipe[\"corr_selector\"].features_to_drop_)\n",
        "    auto_dropped = initial_drop + corr_dropped\n",
        "    cols = [col for col in X_train.columns if col not in auto_dropped]\n",
        "\n",
        "    features = fitted_pipe[\"feat_selection\"].get_support()\n",
        "    X = X_train.filter(cols)\n",
        "    if len(X.columns) != features.shape[0]:\n",
        "        raise ValueError\n",
        "    feat_selected_dropped = []\n",
        "    feat_selected = []\n",
        "    for index, col in enumerate(X.columns):\n",
        "        if not features[index]:\n",
        "            X.drop(col, axis=1, inplace=True)\n",
        "            feat_selected_dropped.append(col)\n",
        "        else:\n",
        "            feat_selected.append(col)\n",
        "    dropped = set(auto_dropped + feat_selected_dropped)\n",
        "    kept = set(X.columns)\n",
        "    if set.intersection(dropped, kept):\n",
        "        raise ValueError(str(set.intersection(dropped, kept)))\n",
        "    missing = [col for col in X_train.columns \n",
        "               if col not in set.union(dropped, kept)]\n",
        "    if missing:\n",
        "        raise ValueError(str(missing))\n",
        "    if total != len(kept) + len(dropped):\n",
        "        raise ValueError(str(total - len(kept) - len(dropped)))\n",
        "    return list(X.columns), auto_dropped + feat_selected_dropped\n",
        "\n",
        "\n",
        "def find_overlaps(best_pipes, initial_drop):\n",
        "    list_of_feat_sets = [\n",
        "        set(find_features(X_TrainSet, pipe, initial_drop)[0])\n",
        "        for pipe in best_pipes.values()\n",
        "    ]\n",
        "    overlap_kept = set.intersection(*list_of_feat_sets)\n",
        "    list_of_not_feat_sets = [\n",
        "        set(find_features(X_TrainSet, pipe, initial_drop)[1])\n",
        "        for pipe in best_pipes.values()\n",
        "    ]\n",
        "    overlap_dropped = set.intersection(*list_of_not_feat_sets)\n",
        "    overlap_dropped = set.difference(overlap_dropped, set(META))\n",
        "    return overlap_kept, overlap_dropped\n",
        "\n",
        "\n",
        "def drop_report(grid_collection, X, initial_drop):\n",
        "    best_pipes = {name: grid.best_estimator_ \n",
        "                  for name, grid in grid_collection.items()}\n",
        "    for pipe_name, pipe in best_pipes.items():\n",
        "        print(pipe_name, \"used:\")\n",
        "        kept, _ = find_features(X, pipe, initial_drop)\n",
        "        print(kept)\n",
        "        sample_pipe = pipe\n",
        "        print()\n",
        "\n",
        "    overlap_kept, overlap_dropped = find_overlaps(best_pipes, initial_drop)\n",
        "    print(f\"All models used: \\n{overlap_kept}.\")\n",
        "    print(f\"All models dropped: \\n{overlap_dropped}.\")\n",
        "    print()\n",
        "    print(\n",
        "        f\"The SmartCorrelatedSelection step dropped:\"\n",
        "        f\"\\n{sample_pipe['corr_selector'].features_to_drop_}.\"\n",
        "    )\n",
        "\n",
        "\n",
        "drop_report(GRIDS, X_TrainSet, META)"
      ]
    },
    {
      "cell_type": "markdown",
      "metadata": {},
      "source": [
        "This a large step towards validating our first hypothesis. Let's remove `'plus_minus_home'` and see how this impacts the models.\n",
        "\n",
        "\n",
        "### Removing plus/minus score"
      ]
    },
    {
      "cell_type": "code",
      "execution_count": 12,
      "metadata": {},
      "outputs": [
        {
          "name": "stdout",
          "output_type": "stream",
          "text": [
            "### Beginning grid search for LogisticRegression ###\n",
            "Fitting 5 folds for each of 1 candidates, totalling 5 fits\n",
            "[CV 2/5] END . accuracy: (test=1.000) precision: (test=1.000) total time=   1.0s\n",
            "[CV 5/5] END . accuracy: (test=1.000) precision: (test=1.000) total time=   1.1s\n",
            "[CV 4/5] END . accuracy: (test=1.000) precision: (test=1.000) total time=   1.0s\n",
            "[CV 1/5] END . accuracy: (test=1.000) precision: (test=1.000) total time=   1.0s\n",
            "[CV 3/5] END . accuracy: (test=1.000) precision: (test=1.000) total time=   0.9s\n",
            "Finished with model 1.\n",
            "6 models remaining.\n",
            "### Beginning grid search for DecisionTree ###\n",
            "Fitting 5 folds for each of 1 candidates, totalling 5 fits\n",
            "[CV 4/5] END . accuracy: (test=0.999) precision: (test=0.999) total time=   1.1s\n",
            "[CV 3/5] END . accuracy: (test=0.999) precision: (test=1.000) total time=   1.1s\n",
            "[CV 1/5] END . accuracy: (test=1.000) precision: (test=1.000) total time=   1.1s\n",
            "[CV 2/5] END . accuracy: (test=0.999) precision: (test=1.000) total time=   1.1s\n",
            "[CV 5/5] END . accuracy: (test=1.000) precision: (test=1.000) total time=   1.1s\n",
            "Finished with model 2.\n",
            "5 models remaining.\n",
            "### Beginning grid search for RandomForest ###\n",
            "Fitting 5 folds for each of 1 candidates, totalling 5 fits\n",
            "[CV 1/5] END . accuracy: (test=1.000) precision: (test=1.000) total time=   8.3s\n",
            "[CV 2/5] END . accuracy: (test=1.000) precision: (test=1.000) total time=   8.4s\n",
            "[CV 5/5] END . accuracy: (test=1.000) precision: (test=1.000) total time=   8.5s\n",
            "[CV 3/5] END . accuracy: (test=1.000) precision: (test=1.000) total time=   8.7s\n",
            "[CV 4/5] END . accuracy: (test=0.999) precision: (test=0.999) total time=   8.8s\n",
            "Finished with model 3.\n",
            "4 models remaining.\n",
            "### Beginning grid search for GradientBoosting ###\n",
            "Fitting 5 folds for each of 1 candidates, totalling 5 fits\n",
            "[CV 1/5] END . accuracy: (test=0.999) precision: (test=0.999) total time=  12.6s\n",
            "[CV 2/5] END . accuracy: (test=0.999) precision: (test=0.999) total time=  12.7s\n",
            "[CV 5/5] END . accuracy: (test=1.000) precision: (test=1.000) total time=  12.8s\n",
            "[CV 4/5] END . accuracy: (test=0.998) precision: (test=0.999) total time=  12.7s\n",
            "[CV 3/5] END . accuracy: (test=0.999) precision: (test=0.999) total time=  13.0s\n",
            "Finished with model 4.\n",
            "3 models remaining.\n",
            "### Beginning grid search for ExtraTrees ###\n",
            "Fitting 5 folds for each of 1 candidates, totalling 5 fits\n",
            "[CV 3/5] END . accuracy: (test=1.000) precision: (test=1.000) total time=   6.9s\n",
            "[CV 1/5] END . accuracy: (test=1.000) precision: (test=1.000) total time=   7.2s\n",
            "[CV 4/5] END . accuracy: (test=1.000) precision: (test=1.000) total time=   7.3s\n",
            "[CV 2/5] END . accuracy: (test=1.000) precision: (test=1.000) total time=   7.3s\n",
            "[CV 5/5] END . accuracy: (test=1.000) precision: (test=1.000) total time=   7.5s\n",
            "Finished with model 5.\n",
            "2 models remaining.\n",
            "### Beginning grid search for AdaBoost ###\n",
            "Fitting 5 folds for each of 1 candidates, totalling 5 fits\n",
            "[CV 1/5] END . accuracy: (test=0.988) precision: (test=0.985) total time=   4.0s\n",
            "[CV 2/5] END . accuracy: (test=0.986) precision: (test=0.990) total time=   3.9s\n",
            "[CV 5/5] END . accuracy: (test=0.988) precision: (test=0.989) total time=   3.9s\n",
            "[CV 3/5] END . accuracy: (test=0.989) precision: (test=0.989) total time=   3.9s\n",
            "[CV 4/5] END . accuracy: (test=0.987) precision: (test=0.986) total time=   4.0s\n",
            "Finished with model 6.\n",
            "1 models remaining.\n",
            "### Beginning grid search for XGBoost ###\n",
            "Fitting 5 folds for each of 1 candidates, totalling 5 fits\n",
            "[CV 1/5] END . accuracy: (test=1.000) precision: (test=1.000) total time=   1.5s\n",
            "[CV 2/5] END . accuracy: (test=0.999) precision: (test=0.999) total time=   1.5s\n",
            "[CV 3/5] END . accuracy: (test=0.998) precision: (test=0.998) total time=   1.5s\n",
            "[CV 4/5] END . accuracy: (test=0.999) precision: (test=0.999) total time=   1.6s\n",
            "[CV 5/5] END . accuracy: (test=1.000) precision: (test=1.000) total time=   1.5s\n",
            "Finished with model 7.\n",
            "0 models remaining.\n"
          ]
        }
      ],
      "source": [
        "PIPELINES_wo_pm = create_pipelines(to_drop=[\"plus_minus_home\"])\n",
        "GRIDS_wo_pm = grid_search(X_TrainSet, y_TrainSet, PIPELINES_wo_pm)"
      ]
    },
    {
      "cell_type": "markdown",
      "metadata": {},
      "source": [
        "This grid search took noticeably longer than the other one. Unsurprisingly, these models also performed extremely well. `AdaBoost` was the 'worst' performing model."
      ]
    },
    {
      "cell_type": "code",
      "execution_count": 13,
      "metadata": {},
      "outputs": [
        {
          "name": "stdout",
          "output_type": "stream",
          "text": [
            "Best LogisticRegression model: Avg. Precision: 100.0%.\n",
            "                               Avg. Accuracy: 100.0%.\n",
            "\n",
            "Best DecisionTree model: Avg. Precision: 99.94809538713346%.\n",
            "                         Avg. Accuracy: 99.9455205353326%.\n",
            "\n",
            "Best RandomForest model: Avg. Precision: 99.96697000239465%.\n",
            "                         Avg. Accuracy: 99.96845919239748%.\n",
            "\n",
            "Best GradientBoosting model: Avg. Precision: 99.91977346807073%.\n",
            "                             Avg. Accuracy: 99.91398096083654%.\n",
            "\n",
            "Best ExtraTrees model: Avg. Precision: 99.98584349176355%.\n",
            "                       Avg. Accuracy: 99.9885308769853%.\n",
            "\n",
            "Best AdaBoost model: Avg. Precision: 98.77393315282352%.\n",
            "                     Avg. Accuracy: 98.75272393212981%.\n",
            "\n",
            "Best XGBoost model: Avg. Precision: 99.9245127201237%.\n",
            "                    Avg. Accuracy: 99.92544926178027%.\n",
            "\n",
            "### Best AdaBoost model ###\n",
            "#### Train Set #### \n",
            "\n",
            "---  Confusion Matrix  ---\n",
            "                Actual loss Actual win\n",
            "Prediction loss       13341        348\n",
            "Prediction win           42      21145\n",
            "\n",
            "\n",
            "---  Classification Report  ---\n",
            "              precision    recall  f1-score   support\n",
            "\n",
            "        loss       1.00      0.97      0.99     13689\n",
            "         win       0.98      1.00      0.99     21187\n",
            "\n",
            "    accuracy                           0.99     34876\n",
            "   macro avg       0.99      0.99      0.99     34876\n",
            "weighted avg       0.99      0.99      0.99     34876\n",
            " \n",
            "\n",
            "#### Test Set ####\n",
            "\n",
            "---  Confusion Matrix  ---\n",
            "                Actual loss Actual win\n",
            "Prediction loss        3398         93\n",
            "Prediction win           12       5216\n",
            "\n",
            "\n",
            "---  Classification Report  ---\n",
            "              precision    recall  f1-score   support\n",
            "\n",
            "        loss       1.00      0.97      0.98      3491\n",
            "         win       0.98      1.00      0.99      5228\n",
            "\n",
            "    accuracy                           0.99      8719\n",
            "   macro avg       0.99      0.99      0.99      8719\n",
            "weighted avg       0.99      0.99      0.99      8719\n",
            " \n",
            "\n"
          ]
        }
      ],
      "source": [
        "get_best_scores(GRIDS_wo_pm)\n",
        "\n",
        "print(\"### Best AdaBoost model ###\")\n",
        "clf_performance(\n",
        "    X_TrainSet,\n",
        "    y_TrainSet,\n",
        "    X_TestSet,\n",
        "    y_TestSet,\n",
        "    GRIDS_wo_pm[\"AdaBoost\"].best_estimator_,\n",
        "    [\"loss\", \"win\"],\n",
        ")"
      ]
    },
    {
      "cell_type": "markdown",
      "metadata": {},
      "source": [
        "Let's see what features were removed and what our models were trained on."
      ]
    },
    {
      "cell_type": "code",
      "execution_count": 14,
      "metadata": {},
      "outputs": [
        {
          "name": "stdout",
          "output_type": "stream",
          "text": [
            "LogisticRegression used:\n",
            "['pts_home', 'pts_away']\n",
            "\n",
            "DecisionTree used:\n",
            "['pts_home', 'pts_away']\n",
            "\n",
            "RandomForest used:\n",
            "['pts_home', 'pts_away']\n",
            "\n",
            "GradientBoosting used:\n",
            "['pts_home', 'pts_away']\n",
            "\n",
            "ExtraTrees used:\n",
            "['pts_home', 'pts_away']\n",
            "\n",
            "AdaBoost used:\n",
            "['pts_home', 'pts_away']\n",
            "\n",
            "XGBoost used:\n",
            "['pts_home', 'pts_away']\n",
            "\n",
            "All models used: \n",
            "{'pts_away', 'pts_home'}.\n",
            "All models dropped: \n",
            "{'ftm_home', 'dreb_away', 'fg3a_away', 'tov_home', 'tov_away', 'fg3m_away', 'ftm_away', 'oreb_away', 'plus_minus_home', 'ast_away', 'fgm_home', 'fga_away', 'stl_home', 'pf_away', 'reb_home', 'oreb_home', 'reb_away', 'fg3a_home', 'pf_home', 'blk_away', 'blk_home', 'stl_away', 'ast_home', 'fgm_away', 'dreb_home', 'fg3m_home', 'fta_home', 'fta_away', 'fga_home'}.\n",
            "\n",
            "The SmartCorrelatedSelection step dropped:\n",
            "['fgm_home', 'fg3m_home', 'ftm_home', 'dreb_home', 'ast_home', 'stl_home', 'pf_home', 'fgm_away', 'fg3a_away', 'ftm_away', 'dreb_away', 'ast_away', 'stl_away', 'pf_away'].\n"
          ]
        }
      ],
      "source": [
        "initial_drop_wo_pm = [\"plus_minus_home\"] + META\n",
        "drop_report(GRIDS_wo_pm, X_TrainSet, initial_drop_wo_pm)"
      ]
    },
    {
      "cell_type": "markdown",
      "metadata": {},
      "source": [
        "As expected, they focused completely on the points scored by each team. Despite this, there were some models that made incorrect predictions. Let's go further and remove the points each team scored.\n",
        "\n",
        "### Remove points\n",
        "Now we remove the scores that each team got and run the search again."
      ]
    },
    {
      "cell_type": "code",
      "execution_count": 16,
      "metadata": {},
      "outputs": [
        {
          "name": "stdout",
          "output_type": "stream",
          "text": [
            "### Beginning grid search for LogisticRegression ###\n",
            "Fitting 5 folds for each of 1 candidates, totalling 5 fits\n",
            "[CV 1/5] END . accuracy: (test=0.926) precision: (test=0.941) total time=   0.7s\n",
            "[CV 2/5] END . accuracy: (test=0.918) precision: (test=0.929) total time=   0.7s\n",
            "[CV 3/5] END . accuracy: (test=0.930) precision: (test=0.935) total time=   0.7s\n",
            "[CV 4/5] END . accuracy: (test=0.925) precision: (test=0.937) total time=   0.8s\n",
            "[CV 5/5] END . accuracy: (test=0.924) precision: (test=0.934) total time=   0.8s\n",
            "Finished with model 1.\n",
            "6 models remaining.\n",
            "### Beginning grid search for DecisionTree ###\n",
            "Fitting 5 folds for each of 1 candidates, totalling 5 fits\n",
            "[CV 1/5] END . accuracy: (test=0.846) precision: (test=0.878) total time=   1.1s\n",
            "[CV 3/5] END . accuracy: (test=0.842) precision: (test=0.870) total time=   1.2s\n",
            "[CV 2/5] END . accuracy: (test=0.839) precision: (test=0.873) total time=   1.2s\n",
            "[CV 5/5] END . accuracy: (test=0.851) precision: (test=0.881) total time=   1.2s\n",
            "[CV 4/5] END . accuracy: (test=0.845) precision: (test=0.875) total time=   1.2s\n",
            "Finished with model 2.\n",
            "5 models remaining.\n",
            "### Beginning grid search for RandomForest ###\n",
            "Fitting 5 folds for each of 1 candidates, totalling 5 fits\n",
            "[CV 2/5] END . accuracy: (test=0.875) precision: (test=0.894) total time=  12.2s\n",
            "[CV 3/5] END . accuracy: (test=0.883) precision: (test=0.894) total time=  12.2s\n",
            "[CV 1/5] END . accuracy: (test=0.881) precision: (test=0.903) total time=  12.3s\n",
            "[CV 4/5] END . accuracy: (test=0.883) precision: (test=0.902) total time=  12.4s\n",
            "[CV 5/5] END . accuracy: (test=0.894) precision: (test=0.909) total time=  12.6s\n",
            "Finished with model 3.\n",
            "4 models remaining.\n",
            "### Beginning grid search for GradientBoosting ###\n",
            "Fitting 5 folds for each of 1 candidates, totalling 5 fits\n",
            "[CV 4/5] END . accuracy: (test=0.894) precision: (test=0.898) total time=  13.1s\n",
            "[CV 5/5] END . accuracy: (test=0.895) precision: (test=0.891) total time=  13.2s\n",
            "[CV 3/5] END . accuracy: (test=0.888) precision: (test=0.883) total time=  13.2s\n",
            "[CV 2/5] END . accuracy: (test=0.885) precision: (test=0.886) total time=  13.2s\n",
            "[CV 1/5] END . accuracy: (test=0.893) precision: (test=0.897) total time=  13.2s\n",
            "Finished with model 4.\n",
            "3 models remaining.\n",
            "### Beginning grid search for ExtraTrees ###\n",
            "Fitting 5 folds for each of 1 candidates, totalling 5 fits\n",
            "[CV 2/5] END . accuracy: (test=0.877) precision: (test=0.885) total time=  11.2s\n",
            "[CV 3/5] END . accuracy: (test=0.886) precision: (test=0.889) total time=  11.3s\n",
            "[CV 1/5] END . accuracy: (test=0.887) precision: (test=0.902) total time=  11.4s\n",
            "[CV 4/5] END . accuracy: (test=0.887) precision: (test=0.894) total time=  11.4s\n",
            "[CV 5/5] END . accuracy: (test=0.888) precision: (test=0.893) total time=  11.4s\n",
            "Finished with model 5.\n",
            "2 models remaining.\n",
            "### Beginning grid search for AdaBoost ###\n",
            "Fitting 5 folds for each of 1 candidates, totalling 5 fits\n",
            "[CV 2/5] END . accuracy: (test=0.881) precision: (test=0.895) total time=   4.1s\n",
            "[CV 4/5] END . accuracy: (test=0.891) precision: (test=0.903) total time=   4.1s\n",
            "[CV 3/5] END . accuracy: (test=0.888) precision: (test=0.896) total time=   4.2s\n",
            "[CV 1/5] END . accuracy: (test=0.888) precision: (test=0.903) total time=   4.3s\n",
            "[CV 5/5] END . accuracy: (test=0.900) precision: (test=0.908) total time=   3.9s\n",
            "Finished with model 6.\n",
            "1 models remaining.\n",
            "### Beginning grid search for XGBoost ###\n",
            "Fitting 5 folds for each of 1 candidates, totalling 5 fits\n",
            "[CV 3/5] END . accuracy: (test=0.894) precision: (test=0.903) total time=   1.8s\n",
            "[CV 1/5] END . accuracy: (test=0.899) precision: (test=0.916) total time=   1.8s\n",
            "[CV 2/5] END . accuracy: (test=0.888) precision: (test=0.904) total time=   1.8s\n",
            "[CV 5/5] END . accuracy: (test=0.900) precision: (test=0.911) total time=   1.9s\n",
            "[CV 4/5] END . accuracy: (test=0.895) precision: (test=0.913) total time=   1.9s\n",
            "Finished with model 7.\n",
            "0 models remaining.\n"
          ]
        }
      ],
      "source": [
        "PIPELINES_wo_pts = create_pipelines(to_drop=TRIVIAL)\n",
        "GRIDS_wo_pts = grid_search(X_TrainSet, y_TrainSet, PIPELINES_wo_pts)"
      ]
    },
    {
      "cell_type": "markdown",
      "metadata": {},
      "source": [
        "This made it slightly more challenging for the models. Don't forget that they still had access to made field goals, free throws, and 3 pointers. They could compute the score form this information. From earlier models, we know that the Smart Correlated Selector often threw out some of these features as they were highly correlated with attempted shots as well as total points. Lets see what the best performance was and which features the models trained on."
      ]
    },
    {
      "cell_type": "code",
      "execution_count": 17,
      "metadata": {},
      "outputs": [
        {
          "name": "stdout",
          "output_type": "stream",
          "text": [
            "Best LogisticRegression model: Avg. Precision: 93.52878382209546%.\n",
            "                               Avg. Accuracy: 92.46759519581731%.\n",
            "\n",
            "Best DecisionTree model: Avg. Precision: 87.54237760880497%.\n",
            "                         Avg. Accuracy: 84.47069193712802%.\n",
            "\n",
            "Best RandomForest model: Avg. Precision: 90.02650778547618%.\n",
            "                         Avg. Accuracy: 88.32435467429548%.\n",
            "\n",
            "Best GradientBoosting model: Avg. Precision: 89.1064473985692%.\n",
            "                             Avg. Accuracy: 89.10138272335668%.\n",
            "\n",
            "Best ExtraTrees model: Avg. Precision: 89.26430022591%.\n",
            "                       Avg. Accuracy: 88.51358472263327%.\n",
            "\n",
            "Best AdaBoost model: Avg. Precision: 90.0707350925453%.\n",
            "                     Avg. Accuracy: 88.98096618000066%.\n",
            "\n",
            "Best XGBoost model: Avg. Precision: 90.96801229981472%.\n",
            "                    Avg. Accuracy: 89.50853474071883%.\n",
            "\n"
          ]
        }
      ],
      "source": [
        "get_best_scores(GRIDS_wo_pts)"
      ]
    },
    {
      "cell_type": "markdown",
      "metadata": {},
      "source": [
        "The Decision Tree model was the worst and the Logistic Regression was the best. Let's look at the reports of each."
      ]
    },
    {
      "cell_type": "code",
      "execution_count": 18,
      "metadata": {},
      "outputs": [
        {
          "name": "stdout",
          "output_type": "stream",
          "text": [
            "LogisticRegression\n",
            "#### Train Set #### \n",
            "\n",
            "---  Confusion Matrix  ---\n",
            "                Actual loss Actual win\n",
            "Prediction loss       12305       1384\n",
            "Prediction win         1236      19951\n",
            "\n",
            "\n",
            "---  Classification Report  ---\n",
            "              precision    recall  f1-score   support\n",
            "\n",
            "        loss       0.91      0.90      0.90     13689\n",
            "         win       0.94      0.94      0.94     21187\n",
            "\n",
            "    accuracy                           0.92     34876\n",
            "   macro avg       0.92      0.92      0.92     34876\n",
            "weighted avg       0.92      0.92      0.92     34876\n",
            " \n",
            "\n",
            "#### Test Set ####\n",
            "\n",
            "---  Confusion Matrix  ---\n",
            "                Actual loss Actual win\n",
            "Prediction loss        3142        349\n",
            "Prediction win          308       4920\n",
            "\n",
            "\n",
            "---  Classification Report  ---\n",
            "              precision    recall  f1-score   support\n",
            "\n",
            "        loss       0.91      0.90      0.91      3491\n",
            "         win       0.93      0.94      0.94      5228\n",
            "\n",
            "    accuracy                           0.92      8719\n",
            "   macro avg       0.92      0.92      0.92      8719\n",
            "weighted avg       0.92      0.92      0.92      8719\n",
            " \n",
            "\n",
            "DecisionTree\n",
            "#### Train Set #### \n",
            "\n",
            "---  Confusion Matrix  ---\n",
            "                Actual loss Actual win\n",
            "Prediction loss       13668         21\n",
            "Prediction win          328      20859\n",
            "\n",
            "\n",
            "---  Classification Report  ---\n",
            "              precision    recall  f1-score   support\n",
            "\n",
            "        loss       0.98      1.00      0.99     13689\n",
            "         win       1.00      0.98      0.99     21187\n",
            "\n",
            "    accuracy                           0.99     34876\n",
            "   macro avg       0.99      0.99      0.99     34876\n",
            "weighted avg       0.99      0.99      0.99     34876\n",
            " \n",
            "\n",
            "#### Test Set ####\n",
            "\n",
            "---  Confusion Matrix  ---\n",
            "                Actual loss Actual win\n",
            "Prediction loss        2787        704\n",
            "Prediction win          646       4582\n",
            "\n",
            "\n",
            "---  Classification Report  ---\n",
            "              precision    recall  f1-score   support\n",
            "\n",
            "        loss       0.81      0.80      0.81      3491\n",
            "         win       0.87      0.88      0.87      5228\n",
            "\n",
            "    accuracy                           0.85      8719\n",
            "   macro avg       0.84      0.84      0.84      8719\n",
            "weighted avg       0.84      0.85      0.84      8719\n",
            " \n",
            "\n"
          ]
        }
      ],
      "source": [
        "target_names = [\"LogisticRegression\", \"DecisionTree\"]\n",
        "two_grids = {name: grid for name, grid in GRIDS_wo_pts.items() \n",
        "             if name in target_names}\n",
        "grid_search_report_best(\n",
        "    two_grids, X_TrainSet, y_TrainSet, X_TestSet, y_TestSet, [\"loss\", \"win\"]\n",
        ")"
      ]
    },
    {
      "cell_type": "markdown",
      "metadata": {},
      "source": [
        "These are both very good models. The `DecisionTree` model has an average precision of 84% and an accuracy of 85%. This is well above the desired 75% and 70%, respectively."
      ]
    },
    {
      "cell_type": "code",
      "execution_count": 19,
      "metadata": {},
      "outputs": [
        {
          "name": "stdout",
          "output_type": "stream",
          "text": [
            "LogisticRegression used:\n",
            "['fgm_home', 'fg3a_home', 'fta_home', 'fgm_away', 'fg3m_away', 'fta_away']\n",
            "\n",
            "DecisionTree used:\n",
            "['fgm_home', 'fta_home', 'fgm_away', 'fta_away']\n",
            "\n",
            "RandomForest used:\n",
            "['fgm_home', 'fta_home', 'fgm_away', 'fta_away']\n",
            "\n",
            "GradientBoosting used:\n",
            "['fgm_home', 'fta_home', 'fgm_away', 'fta_away']\n",
            "\n",
            "ExtraTrees used:\n",
            "['fgm_home', 'fta_home', 'reb_home', 'fgm_away', 'fta_away', 'reb_away']\n",
            "\n",
            "AdaBoost used:\n",
            "['fgm_home', 'fta_home', 'fgm_away', 'fta_away']\n",
            "\n",
            "XGBoost used:\n",
            "['fgm_home', 'fta_home', 'fgm_away', 'fta_away']\n",
            "\n",
            "All models used: \n",
            "{'fgm_home', 'fta_home', 'fgm_away', 'fta_away'}.\n",
            "All models dropped: \n",
            "{'ftm_home', 'dreb_away', 'fg3a_away', 'tov_home', 'tov_away', 'ftm_away', 'oreb_away', 'plus_minus_home', 'ast_away', 'fga_away', 'pf_away', 'pts_home', 'oreb_home', 'pts_away', 'pf_home', 'blk_away', 'blk_home', 'stl_away', 'ast_home', 'dreb_home', 'fg3m_home', 'stl_home', 'fga_home'}.\n",
            "\n",
            "The SmartCorrelatedSelection step dropped:\n",
            "['fg3m_home', 'ftm_home', 'dreb_home', 'ast_home', 'stl_home', 'pf_home', 'fg3a_away', 'ftm_away', 'dreb_away', 'ast_away', 'stl_away', 'pf_away'].\n"
          ]
        }
      ],
      "source": [
        "initial_drop_wo_pts = TRIVIAL + META\n",
        "drop_report(GRIDS_wo_pts, X_TrainSet, initial_drop_wo_pts)"
      ]
    },
    {
      "cell_type": "code",
      "execution_count": 20,
      "metadata": {},
      "outputs": [
        {
          "name": "stdout",
          "output_type": "stream",
          "text": [
            "DecisionTree\n",
            "* These are the 4 most important features in descending order. The model was trained on them: \n",
            "['fgm_away', 'fgm_home', 'fta_home', 'fta_away']\n"
          ]
        },
        {
          "data": {
            "image/png": "[encoded data removed]",
            "text/plain": [
              "<Figure size 640x480 with 1 Axes>"
            ]
          },
          "metadata": {},
          "output_type": "display_data"
        },
        {
          "name": "stdout",
          "output_type": "stream",
          "text": [
            "RandomForest\n",
            "* These are the 4 most important features in descending order. The model was trained on them: \n",
            "['fgm_away', 'fgm_home', 'fta_home', 'fta_away']\n"
          ]
        },
        {
          "data": {
            "image/png": "[encoded data removed]",
            "text/plain": [
              "<Figure size 640x480 with 1 Axes>"
            ]
          },
          "metadata": {},
          "output_type": "display_data"
        },
        {
          "name": "stdout",
          "output_type": "stream",
          "text": [
            "GradientBoosting\n",
            "* These are the 4 most important features in descending order. The model was trained on them: \n",
            "['fgm_away', 'fgm_home', 'fta_home', 'fta_away']\n"
          ]
        },
        {
          "data": {
            "image/png": "[encoded data removed]",
            "text/plain": [
              "<Figure size 640x480 with 1 Axes>"
            ]
          },
          "metadata": {},
          "output_type": "display_data"
        },
        {
          "name": "stdout",
          "output_type": "stream",
          "text": [
            "ExtraTrees\n",
            "* These are the 6 most important features in descending order. The model was trained on them: \n",
            "['fgm_home', 'fgm_away', 'fta_home', 'fta_away', 'reb_home', 'reb_away']\n"
          ]
        },
        {
          "data": {
            "image/png": "[encoded data removed]",
            "text/plain": [
              "<Figure size 640x480 with 1 Axes>"
            ]
          },
          "metadata": {},
          "output_type": "display_data"
        },
        {
          "name": "stdout",
          "output_type": "stream",
          "text": [
            "AdaBoost\n",
            "* These are the 4 most important features in descending order. The model was trained on them: \n",
            "['fgm_home', 'fgm_away', 'fta_home', 'fta_away']\n"
          ]
        },
        {
          "data": {
            "image/png": "[encoded data removed]",
            "text/plain": [
              "<Figure size 640x480 with 1 Axes>"
            ]
          },
          "metadata": {},
          "output_type": "display_data"
        },
        {
          "name": "stdout",
          "output_type": "stream",
          "text": [
            "XGBoost\n",
            "* These are the 4 most important features in descending order. The model was trained on them: \n",
            "['fgm_away', 'fgm_home', 'fta_home', 'fta_away']\n"
          ]
        },
        {
          "data": {
            "image/png": "[encoded data removed]",
            "text/plain": [
              "<Figure size 640x480 with 1 Axes>"
            ]
          },
          "metadata": {},
          "output_type": "display_data"
        }
      ],
      "source": [
        "# This code is from Unit 04 of the Scikit-Learn lessons\n",
        "def feature_importance_tree_based_models(model, columns):\n",
        "    df_feature_importance = pd.DataFrame(\n",
        "        data={\"Features\": columns, \"Importance\": model.feature_importances_}\n",
        "    ).sort_values(by=\"Importance\", ascending=False)\n",
        "\n",
        "    best_features = df_feature_importance[\"Features\"].to_list()\n",
        "\n",
        "    # Most important features statement and plot\n",
        "    print(\n",
        "        f\"* These are the {len(best_features)} most important features in \"\n",
        "        f\"descending order. The model was trained on them: \\n\"\n",
        "        f\"{df_feature_importance['Features'].to_list()}\"\n",
        "    )\n",
        "\n",
        "    df_feature_importance.plot(kind=\"bar\", x=\"Features\", y=\"Importance\")\n",
        "    plt.show()\n",
        "\n",
        "\n",
        "def important_feature_report(grid_collection, X_train, initial_drop):\n",
        "    best_pipes = {name: grid.best_estimator_ \n",
        "                  for name, grid in grid_collection.items()}\n",
        "    for pipe_name, pipe in best_pipes.items():\n",
        "        if pipe_name == \"LogisticRegression\":\n",
        "            continue\n",
        "        print(pipe_name)\n",
        "        kept, _ = find_features(X_train, pipe, initial_drop)\n",
        "        X = X_train.filter(kept)\n",
        "        feature_importance_tree_based_models(model=pipe[pipe_name],\n",
        "                                             columns=X.columns)\n",
        "\n",
        "\n",
        "important_feature_report(GRIDS_wo_pts, X_TrainSet, initial_drop_wo_pts)"
      ]
    },
    {
      "cell_type": "markdown",
      "metadata": {},
      "source": [
        "To find the most important features for the Logistic Regression model we will multiply the standard deviation of the columns by their respective coefficients."
      ]
    },
    {
      "cell_type": "code",
      "execution_count": 21,
      "metadata": {},
      "outputs": [
        {
          "name": "stdout",
          "output_type": "stream",
          "text": [
            "* These are the 6 most important features in descending order. The model was trained on them: \n",
            "['fgm_home', 'fgm_away', 'fta_home', 'fta_away', 'fg3a_home', 'fg3m_away']\n",
            "fgm_home 35.29704299198302\n",
            "fg3a_home 16.411633955088863\n",
            "fta_home 28.895623256664123\n",
            "fgm_away -31.17097493298188\n",
            "fg3m_away -8.047351906196003\n",
            "fta_away -25.92118500828864\n"
          ]
        },
        {
          "data": {
            "image/png": "[encoded data removed]",
            "text/plain": [
              "<Figure size 640x480 with 1 Axes>"
            ]
          },
          "metadata": {},
          "output_type": "display_data"
        }
      ],
      "source": [
        "logistic_pipe = GRIDS_wo_pts[\"LogisticRegression\"].best_estimator_\n",
        "\n",
        "\n",
        "# This is an adapted version of the above function.\n",
        "def feature_importance_logistic_regression(pipe, X_TrainSet, initial_drop):\n",
        "    coefficients = pipe[\"LogisticRegression\"].coef_[0]\n",
        "    features, _ = find_features(X_TrainSet, logistic_pipe, initial_drop)\n",
        "    importance_list = [\n",
        "        (feature, X_TrainSet[feature].std() * coeff)\n",
        "        for feature, coeff in zip(features, coefficients)\n",
        "    ]\n",
        "    df_feature_importance = pd.DataFrame(\n",
        "        data={\n",
        "            \"Features\": [term[0] for term in importance_list],\n",
        "            \"Importance\": [abs(term[1]) for term in importance_list],\n",
        "        }\n",
        "    ).sort_values(by=\"Importance\", ascending=False)\n",
        "\n",
        "    best_features = df_feature_importance[\"Features\"].to_list()\n",
        "\n",
        "    # Most important features statement and plot\n",
        "    print(\n",
        "        f\"* These are the {len(best_features)} most important features in \"\n",
        "        f\"descending order. The model was trained on them: \\n\"\n",
        "        f\"{df_feature_importance['Features'].to_list()}\"\n",
        "    )\n",
        "\n",
        "    df_feature_importance.plot(kind=\"bar\", x=\"Features\", y=\"Importance\")\n",
        "\n",
        "    for feature, coefficient in zip(features, coefficients):\n",
        "        std = X_TrainSet[feature].std()\n",
        "        print(feature, std * coefficient)\n",
        "\n",
        "feature_importance_logistic_regression(logistic_pipe, X_TrainSet,\n",
        "                                       initial_drop_wo_pts)"
      ]
    },
    {
      "cell_type": "markdown",
      "metadata": {},
      "source": [
        "The most import features were made field goals. It is interesting that the made field goals of the away team was more important so often.\n",
        "\n",
        "This analysis, determining what features the models gravitate towards, validates Hypothesis 1.\n",
        "\n",
        "Let's remove all of the features that allow the models to directly compute part of the score and see how this impacts our models.\n",
        "\n",
        "### Remove made shots"
      ]
    },
    {
      "cell_type": "code",
      "execution_count": 22,
      "metadata": {},
      "outputs": [
        {
          "name": "stdout",
          "output_type": "stream",
          "text": [
            "### Beginning grid search for LogisticRegression ###\n",
            "Fitting 5 folds for each of 1 candidates, totalling 5 fits\n",
            "[CV 1/5] END . accuracy: (test=0.848) precision: (test=0.865) total time=   1.0s\n",
            "[CV 5/5] END . accuracy: (test=0.854) precision: (test=0.870) total time=   1.0s\n",
            "[CV 2/5] END . accuracy: (test=0.841) precision: (test=0.858) total time=   1.1s\n",
            "[CV 4/5] END . accuracy: (test=0.849) precision: (test=0.869) total time=   1.1s\n",
            "[CV 3/5] END . accuracy: (test=0.846) precision: (test=0.861) total time=   1.1s\n",
            "Finished with model 1.\n",
            "6 models remaining.\n",
            "### Beginning grid search for DecisionTree ###\n",
            "Fitting 5 folds for each of 1 candidates, totalling 5 fits\n",
            "[CV 5/5] END . accuracy: (test=0.711) precision: (test=0.768) total time=   1.4s\n",
            "[CV 3/5] END . accuracy: (test=0.686) precision: (test=0.744) total time=   1.4s\n",
            "[CV 2/5] END . accuracy: (test=0.697) precision: (test=0.752) total time=   1.4s\n",
            "[CV 1/5] END . accuracy: (test=0.687) precision: (test=0.746) total time=   1.4s\n",
            "[CV 4/5] END . accuracy: (test=0.701) precision: (test=0.754) total time=   1.4s\n",
            "Finished with model 2.\n",
            "5 models remaining.\n",
            "### Beginning grid search for RandomForest ###\n",
            "Fitting 5 folds for each of 1 candidates, totalling 5 fits\n",
            "[CV 2/5] END . accuracy: (test=0.779) precision: (test=0.800) total time=  12.7s\n",
            "[CV 5/5] END . accuracy: (test=0.779) precision: (test=0.807) total time=  12.8s\n",
            "[CV 3/5] END . accuracy: (test=0.777) precision: (test=0.798) total time=  13.0s\n",
            "[CV 4/5] END . accuracy: (test=0.768) precision: (test=0.795) total time=  13.0s\n",
            "[CV 1/5] END . accuracy: (test=0.774) precision: (test=0.806) total time=  13.1s\n",
            "Finished with model 3.\n",
            "4 models remaining.\n",
            "### Beginning grid search for GradientBoosting ###\n",
            "Fitting 5 folds for each of 1 candidates, totalling 5 fits\n",
            "[CV 5/5] END . accuracy: (test=0.769) precision: (test=0.785) total time=  13.2s\n",
            "[CV 1/5] END . accuracy: (test=0.758) precision: (test=0.780) total time=  13.5s\n",
            "[CV 4/5] END . accuracy: (test=0.765) precision: (test=0.785) total time=  13.6s\n",
            "[CV 3/5] END . accuracy: (test=0.761) precision: (test=0.776) total time=  13.7s\n",
            "[CV 2/5] END . accuracy: (test=0.790) precision: (test=0.801) total time=  14.1s\n",
            "Finished with model 4.\n",
            "3 models remaining.\n",
            "### Beginning grid search for ExtraTrees ###\n",
            "Fitting 5 folds for each of 1 candidates, totalling 5 fits\n",
            "[CV 3/5] END . accuracy: (test=0.701) precision: (test=0.747) total time=  11.8s\n",
            "[CV 5/5] END . accuracy: (test=0.705) precision: (test=0.751) total time=  11.7s\n",
            "[CV 4/5] END . accuracy: (test=0.701) precision: (test=0.746) total time=  11.9s\n",
            "[CV 2/5] END . accuracy: (test=0.704) precision: (test=0.749) total time=  11.9s\n",
            "[CV 1/5] END . accuracy: (test=0.705) precision: (test=0.752) total time=  11.7s\n",
            "Finished with model 5.\n",
            "2 models remaining.\n",
            "### Beginning grid search for AdaBoost ###\n",
            "Fitting 5 folds for each of 1 candidates, totalling 5 fits\n",
            "[CV 1/5] END . accuracy: (test=0.820) precision: (test=0.829) total time=   4.0s\n",
            "[CV 3/5] END . accuracy: (test=0.829) precision: (test=0.834) total time=   4.1s\n",
            "[CV 5/5] END . accuracy: (test=0.834) precision: (test=0.839) total time=   3.9s\n",
            "[CV 2/5] END . accuracy: (test=0.819) precision: (test=0.826) total time=   4.2s\n",
            "[CV 4/5] END . accuracy: (test=0.823) precision: (test=0.831) total time=   4.2s\n",
            "Finished with model 6.\n",
            "1 models remaining.\n",
            "### Beginning grid search for XGBoost ###\n",
            "Fitting 5 folds for each of 1 candidates, totalling 5 fits\n",
            "[CV 2/5] END . accuracy: (test=0.764) precision: (test=0.787) total time=   1.6s\n",
            "[CV 1/5] END . accuracy: (test=0.759) precision: (test=0.787) total time=   1.8s\n",
            "[CV 3/5] END . accuracy: (test=0.772) precision: (test=0.795) total time=   1.7s\n",
            "[CV 4/5] END . accuracy: (test=0.767) precision: (test=0.790) total time=   1.7s\n",
            "[CV 5/5] END . accuracy: (test=0.778) precision: (test=0.799) total time=   1.8s\n",
            "Finished with model 7.\n",
            "0 models remaining.\n"
          ]
        }
      ],
      "source": [
        "made_shots = [\"ftm\", \"fgm\", \"fg3m\"]\n",
        "home_shots = [shot + \"_home\" for shot in made_shots]\n",
        "away_shots = [shot + \"_away\" for shot in made_shots]\n",
        "initial_drop_wo_made_shots = TRIVIAL + home_shots + away_shots\n",
        "\n",
        "PIPELINES_wo_made_shots = create_pipelines(initial_drop_wo_made_shots)\n",
        "GRIDS_wo_made_shots = grid_search(X_TrainSet, y_TrainSet, \n",
        "                                  PIPELINES_wo_made_shots)"
      ]
    },
    {
      "cell_type": "markdown",
      "metadata": {},
      "source": [
        "We have not yet begun to tune the hyperparameters and we are already exceeding our goals for Business Requirement 2. Logistic Regression continues to perform well and Decision Trees continue to lag behind. Still, this analysis validates Hypothesis 3 given how well our models are performing."
      ]
    },
    {
      "cell_type": "code",
      "execution_count": 23,
      "metadata": {},
      "outputs": [
        {
          "name": "stdout",
          "output_type": "stream",
          "text": [
            "Best LogisticRegression model: Avg. Precision: 86.45458705012929%.\n",
            "                               Avg. Accuracy: 84.7688948900069%.\n",
            "\n",
            "Best DecisionTree model: Avg. Precision: 75.26401267227706%.\n",
            "                         Avg. Accuracy: 69.6238375916609%.\n",
            "\n",
            "Best RandomForest model: Avg. Precision: 80.10759657425007%.\n",
            "                         Avg. Accuracy: 77.53756617671237%.\n",
            "\n",
            "Best GradientBoosting model: Avg. Precision: 78.53503147654462%.\n",
            "                             Avg. Accuracy: 76.86377585413172%.\n",
            "\n",
            "Best ExtraTrees model: Avg. Precision: 74.9100302514023%.\n",
            "                       Avg. Accuracy: 70.31195743316563%.\n",
            "\n",
            "Best AdaBoost model: Avg. Precision: 83.17321719573727%.\n",
            "                     Avg. Accuracy: 82.51521201210089%.\n",
            "\n",
            "Best XGBoost model: Avg. Precision: 79.17513212775506%.\n",
            "                    Avg. Accuracy: 76.8178956627536%.\n",
            "\n"
          ]
        }
      ],
      "source": [
        "get_best_scores(GRIDS_wo_made_shots)"
      ]
    },
    {
      "cell_type": "code",
      "execution_count": 24,
      "metadata": {},
      "outputs": [
        {
          "name": "stdout",
          "output_type": "stream",
          "text": [
            "LogisticRegression\n",
            "#### Train Set #### \n",
            "\n",
            "---  Confusion Matrix  ---\n",
            "                Actual loss Actual win\n",
            "Prediction loss       10740       2949\n",
            "Prediction win         2354      18833\n",
            "\n",
            "\n",
            "---  Classification Report  ---\n",
            "              precision    recall  f1-score   support\n",
            "\n",
            "        loss       0.82      0.78      0.80     13689\n",
            "         win       0.86      0.89      0.88     21187\n",
            "\n",
            "    accuracy                           0.85     34876\n",
            "   macro avg       0.84      0.84      0.84     34876\n",
            "weighted avg       0.85      0.85      0.85     34876\n",
            " \n",
            "\n",
            "#### Test Set ####\n",
            "\n",
            "---  Confusion Matrix  ---\n",
            "                Actual loss Actual win\n",
            "Prediction loss        2707        784\n",
            "Prediction win          569       4659\n",
            "\n",
            "\n",
            "---  Classification Report  ---\n",
            "              precision    recall  f1-score   support\n",
            "\n",
            "        loss       0.83      0.78      0.80      3491\n",
            "         win       0.86      0.89      0.87      5228\n",
            "\n",
            "    accuracy                           0.84      8719\n",
            "   macro avg       0.84      0.83      0.84      8719\n",
            "weighted avg       0.84      0.84      0.84      8719\n",
            " \n",
            "\n",
            "DecisionTree\n",
            "#### Train Set #### \n",
            "\n",
            "---  Confusion Matrix  ---\n",
            "                Actual loss Actual win\n",
            "Prediction loss       13689          0\n",
            "Prediction win            0      21187\n",
            "\n",
            "\n",
            "---  Classification Report  ---\n",
            "              precision    recall  f1-score   support\n",
            "\n",
            "        loss       1.00      1.00      1.00     13689\n",
            "         win       1.00      1.00      1.00     21187\n",
            "\n",
            "    accuracy                           1.00     34876\n",
            "   macro avg       1.00      1.00      1.00     34876\n",
            "weighted avg       1.00      1.00      1.00     34876\n",
            " \n",
            "\n",
            "#### Test Set ####\n",
            "\n",
            "---  Confusion Matrix  ---\n",
            "                Actual loss Actual win\n",
            "Prediction loss        2184       1307\n",
            "Prediction win         1327       3901\n",
            "\n",
            "\n",
            "---  Classification Report  ---\n",
            "              precision    recall  f1-score   support\n",
            "\n",
            "        loss       0.62      0.63      0.62      3491\n",
            "         win       0.75      0.75      0.75      5228\n",
            "\n",
            "    accuracy                           0.70      8719\n",
            "   macro avg       0.69      0.69      0.69      8719\n",
            "weighted avg       0.70      0.70      0.70      8719\n",
            " \n",
            "\n"
          ]
        }
      ],
      "source": [
        "print(\"LogisticRegression\")\n",
        "clf_performance(\n",
        "    X_TrainSet,\n",
        "    y_TrainSet,\n",
        "    X_TestSet,\n",
        "    y_TestSet,\n",
        "    GRIDS_wo_made_shots[\"LogisticRegression\"].best_estimator_,\n",
        "    [\"loss\", \"win\"],\n",
        ")\n",
        "print(\"DecisionTree\")\n",
        "clf_performance(\n",
        "    X_TrainSet,\n",
        "    y_TrainSet,\n",
        "    X_TestSet,\n",
        "    y_TestSet,\n",
        "    GRIDS_wo_made_shots[\"DecisionTree\"].best_estimator_,\n",
        "    [\"loss\", \"win\"],\n",
        ")"
      ]
    },
    {
      "cell_type": "markdown",
      "metadata": {},
      "source": [
        "The Decision Tree model overfit the data. It seems clear that the Logistic Regression models are best suited for our data.\n",
        "\n",
        "Let's see which features were used and then which were found most important."
      ]
    },
    {
      "cell_type": "code",
      "execution_count": 25,
      "metadata": {},
      "outputs": [
        {
          "name": "stdout",
          "output_type": "stream",
          "text": [
            "DecisionTree\n",
            "* These are the 6 most important features in descending order. The model was trained on them: \n",
            "['ast_home', 'ast_away', 'fta_home', 'fta_away', 'reb_home', 'reb_away']\n"
          ]
        },
        {
          "data": {
            "image/png": "[encoded data removed]",
            "text/plain": [
              "<Figure size 640x480 with 1 Axes>"
            ]
          },
          "metadata": {},
          "output_type": "display_data"
        },
        {
          "name": "stdout",
          "output_type": "stream",
          "text": [
            "RandomForest\n",
            "* These are the 6 most important features in descending order. The model was trained on them: \n",
            "['ast_home', 'ast_away', 'fta_home', 'fta_away', 'reb_home', 'reb_away']\n"
          ]
        },
        {
          "data": {
            "image/png": "[encoded data removed]",
            "text/plain": [
              "<Figure size 640x480 with 1 Axes>"
            ]
          },
          "metadata": {},
          "output_type": "display_data"
        },
        {
          "name": "stdout",
          "output_type": "stream",
          "text": [
            "GradientBoosting\n",
            "* These are the 5 most important features in descending order. The model was trained on them: \n",
            "['ast_home', 'ast_away', 'reb_away', 'reb_home', 'fta_home']\n"
          ]
        },
        {
          "data": {
            "image/png": "[encoded data removed]",
            "text/plain": [
              "<Figure size 640x480 with 1 Axes>"
            ]
          },
          "metadata": {},
          "output_type": "display_data"
        },
        {
          "name": "stdout",
          "output_type": "stream",
          "text": [
            "ExtraTrees\n",
            "* These are the 4 most important features in descending order. The model was trained on them: \n",
            "['reb_home', 'reb_away', 'ast_home', 'ast_away']\n"
          ]
        },
        {
          "data": {
            "image/png": "[encoded data removed]",
            "text/plain": [
              "<Figure size 640x480 with 1 Axes>"
            ]
          },
          "metadata": {},
          "output_type": "display_data"
        },
        {
          "name": "stdout",
          "output_type": "stream",
          "text": [
            "AdaBoost\n",
            "* These are the 6 most important features in descending order. The model was trained on them: \n",
            "['reb_home', 'reb_away', 'oreb_home', 'oreb_away', 'tov_away', 'tov_home']\n"
          ]
        },
        {
          "data": {
            "image/png": "[encoded data removed]",
            "text/plain": [
              "<Figure size 640x480 with 1 Axes>"
            ]
          },
          "metadata": {},
          "output_type": "display_data"
        },
        {
          "name": "stdout",
          "output_type": "stream",
          "text": [
            "XGBoost\n",
            "* These are the 6 most important features in descending order. The model was trained on them: \n",
            "['ast_home', 'ast_away', 'reb_away', 'reb_home', 'fta_home', 'tov_away']\n"
          ]
        },
        {
          "data": {
            "image/png": "[encoded data removed]",
            "text/plain": [
              "<Figure size 640x480 with 1 Axes>"
            ]
          },
          "metadata": {},
          "output_type": "display_data"
        }
      ],
      "source": [
        "important_feature_report(GRIDS_wo_made_shots, X_TrainSet, \n",
        "                         initial_drop_wo_made_shots)"
      ]
    },
    {
      "cell_type": "markdown",
      "metadata": {},
      "source": [
        "Extra Trees and Ada Boost found rebounds to be most valuable. The other tree based methods found assists to be most important. This makes sense as assists can be used as a proxy for made shots and rebounds can be used as a proxy for possession time.\n",
        "\n",
        "Let's look at the Logistic Regression model."
      ]
    },
    {
      "cell_type": "code",
      "execution_count": 26,
      "metadata": {},
      "outputs": [
        {
          "name": "stdout",
          "output_type": "stream",
          "text": [
            "* These are the 6 most important features in descending order. The model was trained on them: \n",
            "['reb_home', 'reb_away', 'oreb_home', 'oreb_away', 'tov_away', 'tov_home']\n",
            "oreb_home -9.799613055145972\n",
            "reb_home 21.18806287996657\n",
            "tov_home -7.282148799745536\n",
            "oreb_away 9.345846508096676\n",
            "reb_away -20.347138956447978\n",
            "tov_away 8.144363006867227\n"
          ]
        },
        {
          "data": {
            "image/png": "[encoded data removed]",
            "text/plain": [
              "<Figure size 640x480 with 1 Axes>"
            ]
          },
          "metadata": {},
          "output_type": "display_data"
        }
      ],
      "source": [
        "logistic_pipe = GRIDS_wo_made_shots[\"LogisticRegression\"].best_estimator_\n",
        "feature_importance_logistic_regression(\n",
        "    logistic_pipe, X_TrainSet, initial_drop_wo_made_shots\n",
        ")"
      ]
    },
    {
      "cell_type": "markdown",
      "metadata": {},
      "source": [
        "So the Logistic Regression model valued rebounds very highly. Very interesting. We have found that both assists and rebounds are very valuable basketball statistics when made shots, the most obvious statistics, are removed from the analysis. Further, the models were still quite successful (without any tuning!!). This also addresses Business requirement 1 and Hytpothesis 2.\n",
        "\n",
        "It is clear that we will tune the Logistic Regression model in the next notebook. But what other models should we tune? Let's look at the full reports on all of the models."
      ]
    },
    {
      "cell_type": "code",
      "execution_count": 29,
      "metadata": {},
      "outputs": [
        {
          "name": "stdout",
          "output_type": "stream",
          "text": [
            "LogisticRegression\n",
            "#### Train Set #### \n",
            "\n",
            "---  Confusion Matrix  ---\n",
            "                Actual loss Actual win\n",
            "Prediction loss       10740       2949\n",
            "Prediction win         2354      18833\n",
            "\n",
            "\n",
            "---  Classification Report  ---\n",
            "              precision    recall  f1-score   support\n",
            "\n",
            "        loss       0.82      0.78      0.80     13689\n",
            "         win       0.86      0.89      0.88     21187\n",
            "\n",
            "    accuracy                           0.85     34876\n",
            "   macro avg       0.84      0.84      0.84     34876\n",
            "weighted avg       0.85      0.85      0.85     34876\n",
            " \n",
            "\n",
            "#### Test Set ####\n",
            "\n",
            "---  Confusion Matrix  ---\n",
            "                Actual loss Actual win\n",
            "Prediction loss        2707        784\n",
            "Prediction win          569       4659\n",
            "\n",
            "\n",
            "---  Classification Report  ---\n",
            "              precision    recall  f1-score   support\n",
            "\n",
            "        loss       0.83      0.78      0.80      3491\n",
            "         win       0.86      0.89      0.87      5228\n",
            "\n",
            "    accuracy                           0.84      8719\n",
            "   macro avg       0.84      0.83      0.84      8719\n",
            "weighted avg       0.84      0.84      0.84      8719\n",
            " \n",
            "\n",
            "DecisionTree\n",
            "#### Train Set #### \n",
            "\n",
            "---  Confusion Matrix  ---\n",
            "                Actual loss Actual win\n",
            "Prediction loss       13689          0\n",
            "Prediction win            0      21187\n",
            "\n",
            "\n",
            "---  Classification Report  ---\n",
            "              precision    recall  f1-score   support\n",
            "\n",
            "        loss       1.00      1.00      1.00     13689\n",
            "         win       1.00      1.00      1.00     21187\n",
            "\n",
            "    accuracy                           1.00     34876\n",
            "   macro avg       1.00      1.00      1.00     34876\n",
            "weighted avg       1.00      1.00      1.00     34876\n",
            " \n",
            "\n",
            "#### Test Set ####\n",
            "\n",
            "---  Confusion Matrix  ---\n",
            "                Actual loss Actual win\n",
            "Prediction loss        2184       1307\n",
            "Prediction win         1327       3901\n",
            "\n",
            "\n",
            "---  Classification Report  ---\n",
            "              precision    recall  f1-score   support\n",
            "\n",
            "        loss       0.62      0.63      0.62      3491\n",
            "         win       0.75      0.75      0.75      5228\n",
            "\n",
            "    accuracy                           0.70      8719\n",
            "   macro avg       0.69      0.69      0.69      8719\n",
            "weighted avg       0.70      0.70      0.70      8719\n",
            " \n",
            "\n",
            "RandomForest\n",
            "#### Train Set #### \n",
            "\n",
            "---  Confusion Matrix  ---\n",
            "                Actual loss Actual win\n",
            "Prediction loss       13689          0\n",
            "Prediction win            0      21187\n",
            "\n",
            "\n",
            "---  Classification Report  ---\n",
            "              precision    recall  f1-score   support\n",
            "\n",
            "        loss       1.00      1.00      1.00     13689\n",
            "         win       1.00      1.00      1.00     21187\n",
            "\n",
            "    accuracy                           1.00     34876\n",
            "   macro avg       1.00      1.00      1.00     34876\n",
            "weighted avg       1.00      1.00      1.00     34876\n",
            " \n",
            "\n",
            "#### Test Set ####\n",
            "\n",
            "---  Confusion Matrix  ---\n",
            "                Actual loss Actual win\n",
            "Prediction loss        2394       1097\n",
            "Prediction win          856       4372\n",
            "\n",
            "\n",
            "---  Classification Report  ---\n",
            "              precision    recall  f1-score   support\n",
            "\n",
            "        loss       0.74      0.69      0.71      3491\n",
            "         win       0.80      0.84      0.82      5228\n",
            "\n",
            "    accuracy                           0.78      8719\n",
            "   macro avg       0.77      0.76      0.76      8719\n",
            "weighted avg       0.77      0.78      0.77      8719\n",
            " \n",
            "\n",
            "GradientBoosting\n",
            "#### Train Set #### \n",
            "\n",
            "---  Confusion Matrix  ---\n",
            "                Actual loss Actual win\n",
            "Prediction loss        8768       4921\n",
            "Prediction win         3076      18111\n",
            "\n",
            "\n",
            "---  Classification Report  ---\n",
            "              precision    recall  f1-score   support\n",
            "\n",
            "        loss       0.74      0.64      0.69     13689\n",
            "         win       0.79      0.85      0.82     21187\n",
            "\n",
            "    accuracy                           0.77     34876\n",
            "   macro avg       0.76      0.75      0.75     34876\n",
            "weighted avg       0.77      0.77      0.77     34876\n",
            " \n",
            "\n",
            "#### Test Set ####\n",
            "\n",
            "---  Confusion Matrix  ---\n",
            "                Actual loss Actual win\n",
            "Prediction loss        2206       1285\n",
            "Prediction win          786       4442\n",
            "\n",
            "\n",
            "---  Classification Report  ---\n",
            "              precision    recall  f1-score   support\n",
            "\n",
            "        loss       0.74      0.63      0.68      3491\n",
            "         win       0.78      0.85      0.81      5228\n",
            "\n",
            "    accuracy                           0.76      8719\n",
            "   macro avg       0.76      0.74      0.75      8719\n",
            "weighted avg       0.76      0.76      0.76      8719\n",
            " \n",
            "\n",
            "ExtraTrees\n",
            "#### Train Set #### \n",
            "\n",
            "---  Confusion Matrix  ---\n",
            "                Actual loss Actual win\n",
            "Prediction loss       13602         87\n",
            "Prediction win          943      20244\n",
            "\n",
            "\n",
            "---  Classification Report  ---\n",
            "              precision    recall  f1-score   support\n",
            "\n",
            "        loss       0.94      0.99      0.96     13689\n",
            "         win       1.00      0.96      0.98     21187\n",
            "\n",
            "    accuracy                           0.97     34876\n",
            "   macro avg       0.97      0.97      0.97     34876\n",
            "weighted avg       0.97      0.97      0.97     34876\n",
            " \n",
            "\n",
            "#### Test Set ####\n",
            "\n",
            "---  Confusion Matrix  ---\n",
            "                Actual loss Actual win\n",
            "Prediction loss        2113       1378\n",
            "Prediction win         1168       4060\n",
            "\n",
            "\n",
            "---  Classification Report  ---\n",
            "              precision    recall  f1-score   support\n",
            "\n",
            "        loss       0.64      0.61      0.62      3491\n",
            "         win       0.75      0.78      0.76      5228\n",
            "\n",
            "    accuracy                           0.71      8719\n",
            "   macro avg       0.70      0.69      0.69      8719\n",
            "weighted avg       0.71      0.71      0.71      8719\n",
            " \n",
            "\n",
            "AdaBoost\n",
            "#### Train Set #### \n",
            "\n",
            "---  Confusion Matrix  ---\n",
            "                Actual loss Actual win\n",
            "Prediction loss        9876       3813\n",
            "Prediction win         2259      18928\n",
            "\n",
            "\n",
            "---  Classification Report  ---\n",
            "              precision    recall  f1-score   support\n",
            "\n",
            "        loss       0.81      0.72      0.76     13689\n",
            "         win       0.83      0.89      0.86     21187\n",
            "\n",
            "    accuracy                           0.83     34876\n",
            "   macro avg       0.82      0.81      0.81     34876\n",
            "weighted avg       0.83      0.83      0.82     34876\n",
            " \n",
            "\n",
            "#### Test Set ####\n",
            "\n",
            "---  Confusion Matrix  ---\n",
            "                Actual loss Actual win\n",
            "Prediction loss        2504        987\n",
            "Prediction win          547       4681\n",
            "\n",
            "\n",
            "---  Classification Report  ---\n",
            "              precision    recall  f1-score   support\n",
            "\n",
            "        loss       0.82      0.72      0.77      3491\n",
            "         win       0.83      0.90      0.86      5228\n",
            "\n",
            "    accuracy                           0.82      8719\n",
            "   macro avg       0.82      0.81      0.81      8719\n",
            "weighted avg       0.82      0.82      0.82      8719\n",
            " \n",
            "\n",
            "XGBoost\n",
            "#### Train Set #### \n",
            "\n",
            "---  Confusion Matrix  ---\n",
            "                Actual loss Actual win\n",
            "Prediction loss        9725       3964\n",
            "Prediction win         2648      18539\n",
            "\n",
            "\n",
            "---  Classification Report  ---\n",
            "              precision    recall  f1-score   support\n",
            "\n",
            "        loss       0.79      0.71      0.75     13689\n",
            "         win       0.82      0.88      0.85     21187\n",
            "\n",
            "    accuracy                           0.81     34876\n",
            "   macro avg       0.80      0.79      0.80     34876\n",
            "weighted avg       0.81      0.81      0.81     34876\n",
            " \n",
            "\n",
            "#### Test Set ####\n",
            "\n",
            "---  Confusion Matrix  ---\n",
            "                Actual loss Actual win\n",
            "Prediction loss        2295       1196\n",
            "Prediction win          863       4365\n",
            "\n",
            "\n",
            "---  Classification Report  ---\n",
            "              precision    recall  f1-score   support\n",
            "\n",
            "        loss       0.73      0.66      0.69      3491\n",
            "         win       0.78      0.83      0.81      5228\n",
            "\n",
            "    accuracy                           0.76      8719\n",
            "   macro avg       0.76      0.75      0.75      8719\n",
            "weighted avg       0.76      0.76      0.76      8719\n",
            " \n",
            "\n"
          ]
        }
      ],
      "source": [
        "grid_search_report_best(\n",
        "    GRIDS_wo_made_shots, X_TrainSet, y_TrainSet, X_TestSet, y_TestSet, [\"loss\", \"win\"]\n",
        ")"
      ]
    },
    {
      "cell_type": "markdown",
      "metadata": {},
      "source": [
        "We want average precision to be above 75% and accuracy to be above 70%, and we only care about these scores on the test set. Also, recall that if the model performs much better on the training data, then it is overfit and will generalize poorly to unseen data.\n",
        "\n",
        "* The Logistic Regression has an average precision of 84.5% and an accuracy of 84%. It performs almost identically on the training set, so it is not overfit.\n",
        "* The Decision tree performs perfectly on the training set and then just fine on the test set. Thus it is overfit.\n",
        "* The Random forest is also overfit for the same reason, even though it performs better than the Decision tree.\n",
        "* The Gradient boosting model has an average precision of 76% and an accuracy of 76%. It is not overfit. \n",
        "* The Extra Trees is overfit.\n",
        "* The AdaBoost model has an average precision of 82.5% and an accuracy of 82%. It performs nearly identically on the training set.\n",
        "* The XGBoosting model has an average precision of 75.5% and an accuracy of 76%.\n",
        "\n",
        "We will move forward looking at the Logistic Regression and AdaBoost models. We will save these two models for the next notebook."
      ]
    },
    {
      "cell_type": "code",
      "execution_count": 28,
      "metadata": {},
      "outputs": [
        {
          "data": {
            "text/plain": [
              "['outputs/ml_pipeline/predict_home_wins/v0/ada_pipeline.pkl']"
            ]
          },
          "execution_count": 28,
          "metadata": {},
          "output_type": "execute_result"
        }
      ],
      "source": [
        "import joblib\n",
        "\n",
        "\n",
        "logistic_pipe = GRIDS_wo_made_shots[\"LogisticRegression\"].best_estimator_\n",
        "ada_pipe = GRIDS_wo_made_shots[\"AdaBoost\"].best_estimator_\n",
        "\n",
        "version = \"v0\"\n",
        "file_path = f\"outputs/ml_pipeline/predict_home_wins/{version}\"\n",
        "try:\n",
        "    os.makedirs(name=file_path)\n",
        "except Exception as e:\n",
        "    print(e)\n",
        "\n",
        "joblib.dump(logistic_pipe, filename=f\"{file_path}/logistic_pipeline.pkl\")\n",
        "joblib.dump(ada_pipe, filename=f\"{file_path}/ada_pipeline.pkl\")"
      ]
    },
    {
      "cell_type": "markdown",
      "metadata": {},
      "source": [
        "\n",
        "## Conclusions\n",
        "\n",
        "* We have validated Hypothesis 1,  that the models will gravitate towards point related statistics when they are available.\n",
        "* We found that total rebounds and assists are valuable statistics when point related statistics are unavailable. This is likely since an assist means the team made a shot and a rebound indicates possession of the ball. Also, defensive rebounds are more common than offensive rebounds. From the correlation matrices, we can compute that the correlation coefficient of rebounds with defensive rebounds is approximately 0.75 while the correlation of rebounds with offensive rebounds is approximately 0.54\n",
        "* We have selected the Logistic Regression and Adaptive Boost models to move forward with.\n",
        "\n",
        "## Next Steps\n",
        "In the next notebook we will tune the hyperparameters of these models."
      ]
    }
  ],
  "metadata": {
    "accelerator": "GPU",
    "colab": {
      "name": "Data Practitioner Jupyter Notebook.ipynb",
      "provenance": [],
      "toc_visible": true
    },
    "interpreter": {
      "hash": "8b8334dab9339717f727a1deaf837b322d7a41c20d15cc86be99a8e69ceec8ce"
    },
    "kernelspec": {
      "display_name": "Python 3.8.12 64-bit ('3.8.12': pyenv)",
      "name": "python3"
    },
    "language_info": {
      "codemirror_mode": {
        "name": "ipython",
        "version": 3
      },
      "file_extension": ".py",
      "mimetype": "text/x-python",
      "name": "python",
      "nbconvert_exporter": "python",
      "pygments_lexer": "ipython3",
      "version": "3.8.18"
    },
    "orig_nbformat": 2
  },
  "nbformat": 4,
  "nbformat_minor": 2
}
