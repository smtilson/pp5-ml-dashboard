{
  "cells": [
    {
      "cell_type": "markdown",
      "metadata": {
        "id": "0aStgWSO0E0E"
      },
      "source": [
        "# Playground\n",
        "The purpose of this notebook is to do some exploration of the data.\n"
      ]
    },
    {
      "cell_type": "markdown",
      "metadata": {
        "id": "1eLEkw5O0ECa"
      },
      "source": [
        "## Objectives\n",
        "\n",
        "The objective of this notebook is to get a feel for the different data sets. Potentially to fasten them together into the data that will be used in the end.\n",
        "\n",
        "## Inputs\n",
        "\n",
        "* The data needed for this notebook is in the raw_data/csv folder, it consists of different csv files gotten from Kaggle. I should add the relevant reference for it.\n",
        "\n",
        "https://www.kaggle.com/datasets/wyattowalsh/basketball\n",
        "\n",
        "## Outputs\n",
        "\n",
        "The output, what should this be? Some dataframes and information abotu the data. Maybe the data frames will be partially cleaned versions of the data set as well.\n",
        "\n",
        "## Additional Comments\n",
        "\n",
        "This is an exploratory notebook. A playground or sandbox if you will.\n",
        "\n"
      ]
    },
    {
      "cell_type": "markdown",
      "metadata": {
        "id": "9uWZXH9LwoQg"
      },
      "source": [
        "---"
      ]
    },
    {
      "cell_type": "markdown",
      "metadata": {
        "id": "cqP-UeN-z3i2"
      },
      "source": [
        "# Change working directory"
      ]
    },
    {
      "cell_type": "markdown",
      "metadata": {
        "id": "aOGIGS-uz3i2"
      },
      "source": [
        "We need to change the working directory from its current folder to its parent folder\n",
        "* We access the current directory with os.getcwd()"
      ]
    },
    {
      "cell_type": "code",
      "execution_count": 3,
      "metadata": {
        "id": "wZfF_j-Bz3i4",
        "outputId": "66943449-1436-4c3d-85c7-b85f9f78349b"
      },
      "outputs": [
        {
          "data": {
            "text/plain": [
              "'/workspace/pp5-ml-dashboard/jupyter_notebooks'"
            ]
          },
          "execution_count": 3,
          "metadata": {},
          "output_type": "execute_result"
        }
      ],
      "source": [
        "import os\n",
        "current_dir = os.getcwd()\n",
        "current_dir"
      ]
    },
    {
      "cell_type": "markdown",
      "metadata": {
        "id": "9MWW8E7lz3i7"
      },
      "source": [
        "We want to make the parent of the current directory the new current directory\n",
        "* os.path.dirname() gets the parent directory\n",
        "* os.chir() defines the new current directory"
      ]
    },
    {
      "cell_type": "code",
      "execution_count": 4,
      "metadata": {
        "id": "TwHsQRWjz3i9",
        "outputId": "86849db3-cd2f-4cc5-ebb8-2d0caafa1a2c"
      },
      "outputs": [
        {
          "name": "stdout",
          "output_type": "stream",
          "text": [
            "You set a new current directory\n",
            "/workspace/pp5-ml-dashboard\n"
          ]
        }
      ],
      "source": [
        "os.chdir(os.path.dirname(current_dir))\n",
        "print(\"You set a new current directory\")\n",
        "print(os.getcwd())"
      ]
    },
    {
      "cell_type": "markdown",
      "metadata": {
        "id": "M_xPk_Ijz3i-"
      },
      "source": [
        "Confirm the new current directory"
      ]
    },
    {
      "cell_type": "code",
      "execution_count": 5,
      "metadata": {
        "id": "vz3S-_kjz3jA",
        "outputId": "00b79ae4-75d0-4a96-d193-ac9ef9847ea2"
      },
      "outputs": [
        {
          "data": {
            "text/plain": [
              "'/workspace/pp5-ml-dashboard'"
            ]
          },
          "execution_count": 5,
          "metadata": {},
          "output_type": "execute_result"
        }
      ],
      "source": [
        "current_dir = os.getcwd()\n",
        "current_dir"
      ]
    },
    {
      "cell_type": "markdown",
      "metadata": {
        "id": "-mavJ8DibrcQ"
      },
      "source": [
        "# Section 1"
      ]
    },
    {
      "cell_type": "markdown",
      "metadata": {},
      "source": [
        "Section 1 content"
      ]
    },
    {
      "cell_type": "code",
      "execution_count": 6,
      "metadata": {},
      "outputs": [],
      "source": [
        "import numpy as np\n",
        "import pandas as pd\n",
        "import seaborn as sns\n",
        "import matplotlib.pyplot as plt"
      ]
    },
    {
      "cell_type": "markdown",
      "metadata": {},
      "source": [
        "We import the necessary packages."
      ]
    },
    {
      "cell_type": "markdown",
      "metadata": {
        "id": "ZY3l0-AxO93d"
      },
      "source": [
        "---"
      ]
    },
    {
      "cell_type": "markdown",
      "metadata": {
        "id": "uFQo3ycuO-v6"
      },
      "source": [
        "# Section 2"
      ]
    },
    {
      "cell_type": "markdown",
      "metadata": {},
      "source": [
        "Section 2 content"
      ]
    },
    {
      "cell_type": "code",
      "execution_count": 7,
      "metadata": {},
      "outputs": [],
      "source": [
        "from utils import get_df\n",
        "\n",
        "games = get_df('game')\n",
        "line_scores = get_df('line_score')\n",
        "other_stats = get_df('other_stats')\n",
        "team_info_common = get_df('team_info_common')"
      ]
    },
    {
      "cell_type": "markdown",
      "metadata": {},
      "source": [
        "Get basic data on these, such as `head()`, `describe()`, `info()`.\n",
        "\n",
        "Also, check for duplicates, count NaN values and think about how to impute the relevant things."
      ]
    },
    {
      "cell_type": "code",
      "execution_count": 9,
      "metadata": {},
      "outputs": [
        {
          "name": "stdout",
          "output_type": "stream",
          "text": [
            "<class 'pandas.core.frame.DataFrame'>\n",
            "RangeIndex: 65698 entries, 0 to 65697\n",
            "Data columns (total 55 columns):\n",
            " #   Column                  Non-Null Count  Dtype  \n",
            "---  ------                  --------------  -----  \n",
            " 0   season_id               65698 non-null  int64  \n",
            " 1   team_id_home            65698 non-null  int64  \n",
            " 2   team_abbreviation_home  65698 non-null  object \n",
            " 3   team_name_home          65698 non-null  object \n",
            " 4   game_id                 65698 non-null  int64  \n",
            " 5   game_date               65698 non-null  object \n",
            " 6   matchup_home            65698 non-null  object \n",
            " 7   wl_home                 65696 non-null  object \n",
            " 8   min                     65698 non-null  int64  \n",
            " 9   fgm_home                65685 non-null  float64\n",
            " 10  fga_home                50251 non-null  float64\n",
            " 11  fg_pct_home             50208 non-null  float64\n",
            " 12  fg3m_home               52480 non-null  float64\n",
            " 13  fg3a_home               47015 non-null  float64\n",
            " 14  fg3_pct_home            46624 non-null  float64\n",
            " 15  ftm_home                65682 non-null  float64\n",
            " 16  fta_home                62694 non-null  float64\n",
            " 17  ft_pct_home             62689 non-null  float64\n",
            " 18  oreb_home               46762 non-null  float64\n",
            " 19  dreb_home               46699 non-null  float64\n",
            " 20  reb_home                49969 non-null  float64\n",
            " 21  ast_home                49893 non-null  float64\n",
            " 22  stl_home                46849 non-null  float64\n",
            " 23  blk_home                47072 non-null  float64\n",
            " 24  tov_home                47014 non-null  float64\n",
            " 25  pf_home                 62842 non-null  float64\n",
            " 26  pts_home                65698 non-null  float64\n",
            " 27  plus_minus_home         65698 non-null  int64  \n",
            " 28  video_available_home    65698 non-null  int64  \n",
            " 29  team_id_away            65698 non-null  int64  \n",
            " 30  team_abbreviation_away  65698 non-null  object \n",
            " 31  team_name_away          65698 non-null  object \n",
            " 32  matchup_away            65698 non-null  object \n",
            " 33  wl_away                 65696 non-null  object \n",
            " 34  fgm_away                65685 non-null  float64\n",
            " 35  fga_away                50251 non-null  float64\n",
            " 36  fg_pct_away             50209 non-null  float64\n",
            " 37  fg3m_away               52480 non-null  float64\n",
            " 38  fg3a_away               47015 non-null  float64\n",
            " 39  fg3_pct_away            46736 non-null  float64\n",
            " 40  ftm_away                65685 non-null  float64\n",
            " 41  fta_away                62694 non-null  float64\n",
            " 42  ft_pct_away             62692 non-null  float64\n",
            " 43  oreb_away               46762 non-null  float64\n",
            " 44  dreb_away               46700 non-null  float64\n",
            " 45  reb_away                49973 non-null  float64\n",
            " 46  ast_away                49897 non-null  float64\n",
            " 47  stl_away                46849 non-null  float64\n",
            " 48  blk_away                47073 non-null  float64\n",
            " 49  tov_away                47013 non-null  float64\n",
            " 50  pf_away                 62847 non-null  float64\n",
            " 51  pts_away                65698 non-null  float64\n",
            " 52  plus_minus_away         65698 non-null  int64  \n",
            " 53  video_available_away    65698 non-null  int64  \n",
            " 54  season_type             65698 non-null  object \n",
            "dtypes: float64(36), int64(9), object(10)\n",
            "memory usage: 27.6+ MB\n"
          ]
        },
        {
          "data": {
            "text/html": [
              "<div>\n",
              "<style scoped>\n",
              "    .dataframe tbody tr th:only-of-type {\n",
              "        vertical-align: middle;\n",
              "    }\n",
              "\n",
              "    .dataframe tbody tr th {\n",
              "        vertical-align: top;\n",
              "    }\n",
              "\n",
              "    .dataframe thead th {\n",
              "        text-align: right;\n",
              "    }\n",
              "</style>\n",
              "<table border=\"1\" class=\"dataframe\">\n",
              "  <thead>\n",
              "    <tr style=\"text-align: right;\">\n",
              "      <th></th>\n",
              "      <th>season_id</th>\n",
              "      <th>team_id_home</th>\n",
              "      <th>team_abbreviation_home</th>\n",
              "      <th>team_name_home</th>\n",
              "      <th>game_id</th>\n",
              "      <th>game_date</th>\n",
              "      <th>matchup_home</th>\n",
              "      <th>wl_home</th>\n",
              "      <th>min</th>\n",
              "      <th>fgm_home</th>\n",
              "      <th>...</th>\n",
              "      <th>reb_away</th>\n",
              "      <th>ast_away</th>\n",
              "      <th>stl_away</th>\n",
              "      <th>blk_away</th>\n",
              "      <th>tov_away</th>\n",
              "      <th>pf_away</th>\n",
              "      <th>pts_away</th>\n",
              "      <th>plus_minus_away</th>\n",
              "      <th>video_available_away</th>\n",
              "      <th>season_type</th>\n",
              "    </tr>\n",
              "  </thead>\n",
              "  <tbody>\n",
              "    <tr>\n",
              "      <th>0</th>\n",
              "      <td>21946</td>\n",
              "      <td>1610610035</td>\n",
              "      <td>HUS</td>\n",
              "      <td>Toronto Huskies</td>\n",
              "      <td>24600001</td>\n",
              "      <td>1946-11-01 00:00:00</td>\n",
              "      <td>HUS vs. NYK</td>\n",
              "      <td>L</td>\n",
              "      <td>0</td>\n",
              "      <td>25.0</td>\n",
              "      <td>...</td>\n",
              "      <td>NaN</td>\n",
              "      <td>NaN</td>\n",
              "      <td>NaN</td>\n",
              "      <td>NaN</td>\n",
              "      <td>NaN</td>\n",
              "      <td>NaN</td>\n",
              "      <td>68.0</td>\n",
              "      <td>2</td>\n",
              "      <td>0</td>\n",
              "      <td>Regular Season</td>\n",
              "    </tr>\n",
              "    <tr>\n",
              "      <th>1</th>\n",
              "      <td>21946</td>\n",
              "      <td>1610610034</td>\n",
              "      <td>BOM</td>\n",
              "      <td>St. Louis Bombers</td>\n",
              "      <td>24600003</td>\n",
              "      <td>1946-11-02 00:00:00</td>\n",
              "      <td>BOM vs. PIT</td>\n",
              "      <td>W</td>\n",
              "      <td>0</td>\n",
              "      <td>20.0</td>\n",
              "      <td>...</td>\n",
              "      <td>NaN</td>\n",
              "      <td>NaN</td>\n",
              "      <td>NaN</td>\n",
              "      <td>NaN</td>\n",
              "      <td>NaN</td>\n",
              "      <td>25.0</td>\n",
              "      <td>51.0</td>\n",
              "      <td>-5</td>\n",
              "      <td>0</td>\n",
              "      <td>Regular Season</td>\n",
              "    </tr>\n",
              "    <tr>\n",
              "      <th>2</th>\n",
              "      <td>21946</td>\n",
              "      <td>1610610032</td>\n",
              "      <td>PRO</td>\n",
              "      <td>Providence Steamrollers</td>\n",
              "      <td>24600002</td>\n",
              "      <td>1946-11-02 00:00:00</td>\n",
              "      <td>PRO vs. BOS</td>\n",
              "      <td>W</td>\n",
              "      <td>0</td>\n",
              "      <td>21.0</td>\n",
              "      <td>...</td>\n",
              "      <td>NaN</td>\n",
              "      <td>NaN</td>\n",
              "      <td>NaN</td>\n",
              "      <td>NaN</td>\n",
              "      <td>NaN</td>\n",
              "      <td>NaN</td>\n",
              "      <td>53.0</td>\n",
              "      <td>-6</td>\n",
              "      <td>0</td>\n",
              "      <td>Regular Season</td>\n",
              "    </tr>\n",
              "    <tr>\n",
              "      <th>3</th>\n",
              "      <td>21946</td>\n",
              "      <td>1610610025</td>\n",
              "      <td>CHS</td>\n",
              "      <td>Chicago Stags</td>\n",
              "      <td>24600004</td>\n",
              "      <td>1946-11-02 00:00:00</td>\n",
              "      <td>CHS vs. NYK</td>\n",
              "      <td>W</td>\n",
              "      <td>0</td>\n",
              "      <td>21.0</td>\n",
              "      <td>...</td>\n",
              "      <td>NaN</td>\n",
              "      <td>NaN</td>\n",
              "      <td>NaN</td>\n",
              "      <td>NaN</td>\n",
              "      <td>NaN</td>\n",
              "      <td>22.0</td>\n",
              "      <td>47.0</td>\n",
              "      <td>-16</td>\n",
              "      <td>0</td>\n",
              "      <td>Regular Season</td>\n",
              "    </tr>\n",
              "    <tr>\n",
              "      <th>4</th>\n",
              "      <td>21946</td>\n",
              "      <td>1610610028</td>\n",
              "      <td>DEF</td>\n",
              "      <td>Detroit Falcons</td>\n",
              "      <td>24600005</td>\n",
              "      <td>1946-11-02 00:00:00</td>\n",
              "      <td>DEF vs. WAS</td>\n",
              "      <td>L</td>\n",
              "      <td>0</td>\n",
              "      <td>10.0</td>\n",
              "      <td>...</td>\n",
              "      <td>NaN</td>\n",
              "      <td>NaN</td>\n",
              "      <td>NaN</td>\n",
              "      <td>NaN</td>\n",
              "      <td>NaN</td>\n",
              "      <td>NaN</td>\n",
              "      <td>50.0</td>\n",
              "      <td>17</td>\n",
              "      <td>0</td>\n",
              "      <td>Regular Season</td>\n",
              "    </tr>\n",
              "  </tbody>\n",
              "</table>\n",
              "<p>5 rows × 55 columns</p>\n",
              "</div>"
            ],
            "text/plain": [
              "   season_id  team_id_home team_abbreviation_home           team_name_home  \\\n",
              "0      21946    1610610035                    HUS          Toronto Huskies   \n",
              "1      21946    1610610034                    BOM        St. Louis Bombers   \n",
              "2      21946    1610610032                    PRO  Providence Steamrollers   \n",
              "3      21946    1610610025                    CHS            Chicago Stags   \n",
              "4      21946    1610610028                    DEF          Detroit Falcons   \n",
              "\n",
              "    game_id            game_date matchup_home wl_home  min  fgm_home  ...  \\\n",
              "0  24600001  1946-11-01 00:00:00  HUS vs. NYK       L    0      25.0  ...   \n",
              "1  24600003  1946-11-02 00:00:00  BOM vs. PIT       W    0      20.0  ...   \n",
              "2  24600002  1946-11-02 00:00:00  PRO vs. BOS       W    0      21.0  ...   \n",
              "3  24600004  1946-11-02 00:00:00  CHS vs. NYK       W    0      21.0  ...   \n",
              "4  24600005  1946-11-02 00:00:00  DEF vs. WAS       L    0      10.0  ...   \n",
              "\n",
              "   reb_away  ast_away  stl_away  blk_away  tov_away  pf_away  pts_away  \\\n",
              "0       NaN       NaN       NaN       NaN       NaN      NaN      68.0   \n",
              "1       NaN       NaN       NaN       NaN       NaN     25.0      51.0   \n",
              "2       NaN       NaN       NaN       NaN       NaN      NaN      53.0   \n",
              "3       NaN       NaN       NaN       NaN       NaN     22.0      47.0   \n",
              "4       NaN       NaN       NaN       NaN       NaN      NaN      50.0   \n",
              "\n",
              "   plus_minus_away  video_available_away     season_type  \n",
              "0                2                     0  Regular Season  \n",
              "1               -5                     0  Regular Season  \n",
              "2               -6                     0  Regular Season  \n",
              "3              -16                     0  Regular Season  \n",
              "4               17                     0  Regular Season  \n",
              "\n",
              "[5 rows x 55 columns]"
            ]
          },
          "execution_count": 9,
          "metadata": {},
          "output_type": "execute_result"
        }
      ],
      "source": [
        "games.info()\n",
        "games.describe()\n",
        "games.head()\n"
      ]
    },
    {
      "cell_type": "code",
      "execution_count": null,
      "metadata": {},
      "outputs": [],
      "source": []
    },
    {
      "cell_type": "code",
      "execution_count": 19,
      "metadata": {},
      "outputs": [
        {
          "ename": "ImportError",
          "evalue": "cannot import name 'get_info_df' from 'utils' (/workspace/pp5-ml-dashboard/utils.py)",
          "output_type": "error",
          "traceback": [
            "\u001b[0;31m---------------------------------------------------------------------------\u001b[0m",
            "\u001b[0;31mImportError\u001b[0m                               Traceback (most recent call last)",
            "Cell \u001b[0;32mIn[19], line 1\u001b[0m\n\u001b[0;32m----> 1\u001b[0m \u001b[38;5;28;01mfrom\u001b[39;00m \u001b[38;5;21;01mutils\u001b[39;00m \u001b[38;5;28;01mimport\u001b[39;00m get_info_df\n\u001b[1;32m      3\u001b[0m \u001b[38;5;28mprint\u001b[39m(get_info_df(other_stats))\n",
            "\u001b[0;31mImportError\u001b[0m: cannot import name 'get_info_df' from 'utils' (/workspace/pp5-ml-dashboard/utils.py)"
          ]
        }
      ],
      "source": [
        "from utils import get_info_df\n",
        "\n",
        "print(get_info_df(other_stats))"
      ]
    },
    {
      "cell_type": "markdown",
      "metadata": {},
      "source": [
        "* You may add as many sections as you want, as long as it supports your project workflow.\n",
        "* All notebook's cells should be run top-down (you can't create a dynamic wherein a given point you need to go back to a previous cell to execute some task, like go back to a previous cell and refresh a variable content)"
      ]
    },
    {
      "cell_type": "markdown",
      "metadata": {},
      "source": [
        "---"
      ]
    },
    {
      "cell_type": "markdown",
      "metadata": {
        "id": "ltNetd085qHf"
      },
      "source": [
        "# Push files to Repo"
      ]
    },
    {
      "cell_type": "markdown",
      "metadata": {},
      "source": [
        "* In case you don't need to push files to Repo, you may replace this section with \"Conclusions and Next Steps\" and state your conclusions and next steps."
      ]
    },
    {
      "cell_type": "code",
      "execution_count": null,
      "metadata": {
        "id": "aKlnIozA4eQO",
        "outputId": "fd09bc1f-adb1-4511-f6ce-492a6af570c0"
      },
      "outputs": [],
      "source": [
        "import os\n",
        "try:\n",
        "  # create here your folder\n",
        "  # os.makedirs(name='')\n",
        "except Exception as e:\n",
        "  print(e)\n"
      ]
    }
  ],
  "metadata": {
    "accelerator": "GPU",
    "colab": {
      "name": "Data Practitioner Jupyter Notebook.ipynb",
      "provenance": [],
      "toc_visible": true
    },
    "interpreter": {
      "hash": "8b8334dab9339717f727a1deaf837b322d7a41c20d15cc86be99a8e69ceec8ce"
    },
    "kernelspec": {
      "display_name": "Python 3.8.12 64-bit ('3.8.12': pyenv)",
      "name": "python3"
    },
    "language_info": {
      "codemirror_mode": {
        "name": "ipython",
        "version": 3
      },
      "file_extension": ".py",
      "mimetype": "text/x-python",
      "name": "python",
      "nbconvert_exporter": "python",
      "pygments_lexer": "ipython3",
      "version": "3.8.18"
    },
    "orig_nbformat": 2
  },
  "nbformat": 4,
  "nbformat_minor": 2
}
